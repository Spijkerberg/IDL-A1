{
  "cells": [
    {
      "cell_type": "markdown",
      "metadata": {
        "id": "rQsW4PP2H5Gd"
      },
      "source": [
        "## Imports"
      ]
    },
    {
      "cell_type": "code",
      "execution_count": 1,
      "metadata": {
        "colab": {
          "base_uri": "https://localhost:8080/"
        },
        "id": "ikD5OltAkJws",
        "outputId": "f47ceaa1-4879-44bf-c077-bace960d33ba"
      },
      "outputs": [
        {
          "output_type": "stream",
          "name": "stdout",
          "text": [
            "Tensorflow version:  2.12.0\n",
            "All devices: \n",
            "\tLogicalDevice(name='/job:worker/replica:0/task:0/device:TPU:0', device_type='TPU')\n",
            "\tLogicalDevice(name='/job:worker/replica:0/task:0/device:TPU:1', device_type='TPU')\n",
            "\tLogicalDevice(name='/job:worker/replica:0/task:0/device:TPU:2', device_type='TPU')\n",
            "\tLogicalDevice(name='/job:worker/replica:0/task:0/device:TPU:3', device_type='TPU')\n",
            "\tLogicalDevice(name='/job:worker/replica:0/task:0/device:TPU:4', device_type='TPU')\n",
            "\tLogicalDevice(name='/job:worker/replica:0/task:0/device:TPU:5', device_type='TPU')\n",
            "\tLogicalDevice(name='/job:worker/replica:0/task:0/device:TPU:6', device_type='TPU')\n",
            "\tLogicalDevice(name='/job:worker/replica:0/task:0/device:TPU:7', device_type='TPU')\n"
          ]
        }
      ],
      "source": [
        "import tensorflow as tf\n",
        "from tensorflow.keras.datasets import mnist\n",
        "from tensorflow.keras.models import Sequential\n",
        "from tensorflow.keras.layers import Dense, Dropout, Flatten, Conv2D, MaxPooling2D, BatchNormalization\n",
        "from tensorflow.keras import Input, Model, backend as K\n",
        "import numpy as np\n",
        "import matplotlib.pyplot as plt\n",
        "print(\"Tensorflow version: \", tf.__version__)\n",
        "from IPython.display import display\n",
        "\n",
        "from __future__ import print_function\n",
        "import keras\n",
        "from keras.datasets import mnist\n",
        "from keras.models import Sequential\n",
        "from keras.layers import Dense, Dropout, Flatten, Conv2D, MaxPooling2D\n",
        "from keras.optimizers import RMSprop\n",
        "from keras import backend as K\n",
        "\n",
        "import time\n",
        "\n",
        "# Needed for saving on drive or locally\n",
        "import pandas as pd\n",
        "from google.colab import drive\n",
        "\n",
        "# Enable the TPU\n",
        "resolver = tf.distribute.cluster_resolver.TPUClusterResolver(tpu='')\n",
        "tf.config.experimental_connect_to_cluster(resolver)\n",
        "# This is the TPU initialization code that has to be at the beginning.\n",
        "tf.tpu.experimental.initialize_tpu_system(resolver)\n",
        "\n",
        "print(\"All devices: \", *tf.config.list_logical_devices(\"TPU\"), sep=\"\\n\\t\")"
      ]
    },
    {
      "cell_type": "markdown",
      "metadata": {
        "id": "6ceudEFhIikX"
      },
      "source": [
        "## MNIST Examples from keras"
      ]
    },
    {
      "cell_type": "code",
      "execution_count": 2,
      "metadata": {
        "id": "lOnGO_kA5f-3"
      },
      "outputs": [],
      "source": [
        "batch_size = 128\n",
        "num_classes = 10 # 0,1,...., 9. The digits\n",
        "epochs = 20 # Number of runs"
      ]
    },
    {
      "cell_type": "markdown",
      "metadata": {
        "id": "MjTifomI53U8"
      },
      "source": [
        "Batch size defines the number of samples that will be propagated through the network. If you have 1050 training samples\n",
        "then our algorithm will take in the training samples in batches, where each batch has the same size. However, it must\n",
        "be the case that the number of samples is divisible by the batch_size, else we have batches with fractional instances,\n",
        "these do not exist.\n",
        "\n",
        "In addition, there are some advantages of using a batch size that is smaller than the total number of training samples:\n",
        "* We require less memory to be used. By training with fewer sampling, the overall training prodedure takes less memory.\n",
        "* Typically, networks train faster with mini-batches as opposed to the entire batch of all instances. This is a consequence of how weights are adjusted after each propagation.\n",
        "\n",
        "Disadvantages:\n",
        "* The smaller the batches, the less accurate the estimate of the gradient will be."
      ]
    },
    {
      "cell_type": "code",
      "execution_count": 6,
      "metadata": {
        "colab": {
          "base_uri": "https://localhost:8080/"
        },
        "id": "3oc105ARlVk7",
        "outputId": "1d73a769-2a9d-4dba-c803-3d4e8233d680"
      },
      "outputs": [
        {
          "output_type": "stream",
          "name": "stdout",
          "text": [
            "60000 train samples\n",
            "10000 test samples\n"
          ]
        }
      ],
      "source": [
        "# the data, split between train and test sets\n",
        "(x_train, y_train), (x_test, y_test) = mnist.load_data()\n",
        "\n",
        "x_train = x_train.reshape(60000, 784)\n",
        "x_test = x_test.reshape(10000, 784)\n",
        "x_train = x_train.astype('float32')\n",
        "x_test = x_test.astype('float32')\n",
        "x_train /= 255\n",
        "x_test /= 255\n",
        "print(x_train.shape[0], 'train samples')\n",
        "print(x_test.shape[0], 'test samples')\n",
        "\n",
        "# convert class vectors to binary class matrices\n",
        "y_train = keras.utils.to_categorical(y_train, num_classes)\n",
        "y_test = keras.utils.to_categorical(y_test, num_classes)"
      ]
    },
    {
      "cell_type": "code",
      "execution_count": 9,
      "metadata": {
        "colab": {
          "base_uri": "https://localhost:8080/"
        },
        "id": "rZB6sJ2Y6GwL",
        "outputId": "a36b1b54-27fc-42a8-9cb8-00790e9146e2"
      },
      "outputs": [
        {
          "output_type": "stream",
          "name": "stdout",
          "text": [
            "Model: \"sequential_4\"\n",
            "_________________________________________________________________\n",
            " Layer (type)                Output Shape              Param #   \n",
            "=================================================================\n",
            " dense_11 (Dense)            (None, 512)               401920    \n",
            "                                                                 \n",
            " dropout_8 (Dropout)         (None, 512)               0         \n",
            "                                                                 \n",
            " dense_12 (Dense)            (None, 512)               262656    \n",
            "                                                                 \n",
            " dropout_9 (Dropout)         (None, 512)               0         \n",
            "                                                                 \n",
            " dense_13 (Dense)            (None, 10)                5130      \n",
            "                                                                 \n",
            "=================================================================\n",
            "Total params: 669,706\n",
            "Trainable params: 669,706\n",
            "Non-trainable params: 0\n",
            "_________________________________________________________________\n",
            "Epoch 1/12\n",
            "235/235 [==============================] - 7s 31ms/step - loss: 0.2983 - accuracy: 0.9070 - val_loss: 0.1292 - val_accuracy: 0.9588\n",
            "Epoch 2/12\n",
            "235/235 [==============================] - 3s 11ms/step - loss: 0.1128 - accuracy: 0.9649 - val_loss: 0.1096 - val_accuracy: 0.9633\n",
            "Epoch 3/12\n",
            "235/235 [==============================] - 3s 11ms/step - loss: 0.0793 - accuracy: 0.9752 - val_loss: 0.0802 - val_accuracy: 0.9743\n",
            "Epoch 4/12\n",
            "235/235 [==============================] - 3s 11ms/step - loss: 0.0591 - accuracy: 0.9811 - val_loss: 0.0642 - val_accuracy: 0.9792\n",
            "Epoch 5/12\n",
            "235/235 [==============================] - 3s 11ms/step - loss: 0.0481 - accuracy: 0.9850 - val_loss: 0.0644 - val_accuracy: 0.9808\n",
            "Epoch 6/12\n",
            "235/235 [==============================] - 3s 11ms/step - loss: 0.0395 - accuracy: 0.9879 - val_loss: 0.0697 - val_accuracy: 0.9788\n",
            "Epoch 7/12\n",
            "235/235 [==============================] - 3s 11ms/step - loss: 0.0339 - accuracy: 0.9889 - val_loss: 0.0803 - val_accuracy: 0.9786\n",
            "Epoch 8/12\n",
            "235/235 [==============================] - 3s 11ms/step - loss: 0.0288 - accuracy: 0.9906 - val_loss: 0.0719 - val_accuracy: 0.9811\n",
            "Epoch 9/12\n",
            "235/235 [==============================] - 3s 11ms/step - loss: 0.0271 - accuracy: 0.9915 - val_loss: 0.0754 - val_accuracy: 0.9812\n",
            "Epoch 10/12\n",
            "235/235 [==============================] - 3s 11ms/step - loss: 0.0214 - accuracy: 0.9931 - val_loss: 0.0744 - val_accuracy: 0.9825\n",
            "Epoch 11/12\n",
            "235/235 [==============================] - 3s 11ms/step - loss: 0.0204 - accuracy: 0.9934 - val_loss: 0.0759 - val_accuracy: 0.9832\n",
            "Epoch 12/12\n",
            "235/235 [==============================] - 3s 11ms/step - loss: 0.0204 - accuracy: 0.9937 - val_loss: 0.0763 - val_accuracy: 0.9823\n",
            "Test loss: 0.07626791298389435\n",
            "Test accuracy: 0.9822999835014343\n"
          ]
        }
      ],
      "source": [
        "# Model initialization and fitting\n",
        "model = Sequential()\n",
        "model.add(Dense(512, activation='relu', input_shape=(784,))) # input layer\n",
        "model.add(Dropout(0.2))\n",
        "model.add(Dense(512, activation='relu')) # layer 1\n",
        "model.add(Dropout(0.2))\n",
        "model.add(Dense(num_classes, activation='softmax') ) # final layer, output\n",
        "\n",
        "model.summary()\n",
        "\n",
        "model.compile(loss='categorical_crossentropy',\n",
        "              optimizer=RMSprop(),\n",
        "              metrics=['accuracy'], steps_per_execution=128)\n",
        "\n",
        "history = model.fit(x_train, y_train,\n",
        "                    batch_size=batch_size,\n",
        "                    epochs=epochs,\n",
        "                    verbose=1,\n",
        "                    validation_data=(x_test, y_test))\n",
        "\n",
        "score = model.evaluate(x_test, y_test, verbose=0)\n",
        "print('Test loss:', score[0])\n",
        "print('Test accuracy:', score[1])"
      ]
    },
    {
      "cell_type": "code",
      "execution_count": null,
      "metadata": {
        "id": "npjFDbY96GbR"
      },
      "outputs": [],
      "source": []
    },
    {
      "cell_type": "code",
      "execution_count": 11,
      "metadata": {
        "id": "SunSSnaqlVnq",
        "outputId": "739d9724-d7a4-435d-8e51-1990b2ef067b",
        "colab": {
          "base_uri": "https://localhost:8080/"
        }
      },
      "outputs": [
        {
          "output_type": "stream",
          "name": "stdout",
          "text": [
            "x_train shape: (60000, 28, 28, 1)\n",
            "60000 train samples\n",
            "10000 test samples\n",
            "Epoch 1/12\n",
            "1875/1875 [==============================] - 36s 18ms/step - loss: 2.2117 - accuracy: 0.2341 - val_loss: 2.0780 - val_accuracy: 0.5652\n",
            "Epoch 2/12\n",
            "1875/1875 [==============================] - 35s 18ms/step - loss: 1.9421 - accuracy: 0.4870 - val_loss: 1.6824 - val_accuracy: 0.7627\n",
            "Epoch 3/12\n",
            "1875/1875 [==============================] - 35s 18ms/step - loss: 1.5482 - accuracy: 0.6172 - val_loss: 1.2208 - val_accuracy: 0.8078\n",
            "Epoch 4/12\n",
            "1875/1875 [==============================] - 35s 18ms/step - loss: 1.2019 - accuracy: 0.6776 - val_loss: 0.8863 - val_accuracy: 0.8341\n",
            "Epoch 5/12\n",
            "1875/1875 [==============================] - 34s 18ms/step - loss: 0.9859 - accuracy: 0.7157 - val_loss: 0.6960 - val_accuracy: 0.8517\n",
            "Epoch 6/12\n",
            "1875/1875 [==============================] - 35s 18ms/step - loss: 0.8464 - accuracy: 0.7499 - val_loss: 0.5828 - val_accuracy: 0.8647\n",
            "Epoch 7/12\n",
            "1875/1875 [==============================] - 35s 19ms/step - loss: 0.7593 - accuracy: 0.7693 - val_loss: 0.5147 - val_accuracy: 0.8744\n",
            "Epoch 8/12\n",
            "1875/1875 [==============================] - 34s 18ms/step - loss: 0.6957 - accuracy: 0.7882 - val_loss: 0.4678 - val_accuracy: 0.8815\n",
            "Epoch 9/12\n",
            "1875/1875 [==============================] - 35s 19ms/step - loss: 0.6511 - accuracy: 0.7998 - val_loss: 0.4337 - val_accuracy: 0.8885\n",
            "Epoch 10/12\n",
            "1875/1875 [==============================] - 35s 19ms/step - loss: 0.6168 - accuracy: 0.8110 - val_loss: 0.4072 - val_accuracy: 0.8929\n",
            "Epoch 11/12\n",
            "1875/1875 [==============================] - 35s 18ms/step - loss: 0.5901 - accuracy: 0.8198 - val_loss: 0.3876 - val_accuracy: 0.8971\n",
            "Epoch 12/12\n",
            "1875/1875 [==============================] - 34s 18ms/step - loss: 0.5672 - accuracy: 0.8267 - val_loss: 0.3713 - val_accuracy: 0.9006\n",
            "Test loss: 0.37132716178894043\n",
            "Test accuracy: 0.900600016117096\n"
          ]
        }
      ],
      "source": [
        "\n",
        "# Change epoch (default)\n",
        "epochs = 12\n",
        "\n",
        "# input image dimensions\n",
        "img_rows, img_cols = 28, 28\n",
        "\n",
        "# the data, split between train and test sets\n",
        "(x_train, y_train), (x_test, y_test) = mnist.load_data()\n",
        "\n",
        "if K.image_data_format() == 'channels_first':\n",
        "    x_train = x_train.reshape(x_train.shape[0], 1, img_rows, img_cols)\n",
        "    x_test = x_test.reshape(x_test.shape[0], 1, img_rows, img_cols)\n",
        "    input_shape = (1, img_rows, img_cols)\n",
        "else:\n",
        "    x_train = x_train.reshape(x_train.shape[0], img_rows, img_cols, 1)\n",
        "    x_test = x_test.reshape(x_test.shape[0], img_rows, img_cols, 1)\n",
        "    input_shape = (img_rows, img_cols, 1)\n",
        "\n",
        "x_train = x_train.astype('float32')\n",
        "x_test = x_test.astype('float32')\n",
        "x_train /= 255\n",
        "x_test /= 255\n",
        "print('x_train shape:', x_train.shape)\n",
        "print(x_train.shape[0], 'train samples')\n",
        "print(x_test.shape[0], 'test samples')\n",
        "\n",
        "# convert class vectors to binary class matrices\n",
        "y_train = keras.utils.to_categorical(y_train, num_classes)\n",
        "y_test = keras.utils.to_categorical(y_test, num_classes)\n",
        "\n",
        "# Create CNN\n",
        "model = Sequential()\n",
        "model.add(Conv2D(32, kernel_size=(3, 3),\n",
        "                 activation='relu',\n",
        "                 input_shape=input_shape))\n",
        "model.add(Conv2D(64, (3, 3), activation='relu'))\n",
        "model.add(MaxPooling2D(pool_size=(2, 2)))\n",
        "model.add(Dropout(0.25))\n",
        "model.add(Flatten())\n",
        "model.add(Dense(128, activation='relu'))\n",
        "model.add(Dropout(0.5))\n",
        "model.add(Dense(num_classes, activation='softmax'))\n",
        "\n",
        "model.compile(loss=keras.losses.categorical_crossentropy,\n",
        "              optimizer=keras.optimizers.Adadelta(),\n",
        "              metrics=['accuracy'])\n",
        "\n",
        "model.fit(x_train, y_train,\n",
        "          # batch_size=batch_size,\n",
        "          epochs=epochs,\n",
        "          verbose=1,\n",
        "          validation_data=(x_test, y_test))\n",
        "score = model.evaluate(x_test, y_test, verbose=0)\n",
        "print('Test loss:', score[0])\n",
        "print('Test accuracy:', score[1])"
      ]
    },
    {
      "cell_type": "code",
      "execution_count": null,
      "metadata": {
        "id": "mfSG-7sElVqW"
      },
      "outputs": [],
      "source": []
    },
    {
      "cell_type": "markdown",
      "metadata": {
        "id": "b2ic28zQHv6H"
      },
      "source": [
        "## MNIST Fashion - Exercise 1.2"
      ]
    },
    {
      "cell_type": "code",
      "execution_count": null,
      "metadata": {
        "id": "c4NxN1sjlVv3",
        "colab": {
          "base_uri": "https://localhost:8080/"
        },
        "outputId": "5ed8b3e0-2ebd-4a41-f08d-45a4c5029bd6"
      },
      "outputs": [
        {
          "output_type": "stream",
          "name": "stdout",
          "text": [
            "Downloading data from https://storage.googleapis.com/tensorflow/tf-keras-datasets/train-labels-idx1-ubyte.gz\n",
            "29515/29515 [==============================] - 0s 0us/step\n",
            "Downloading data from https://storage.googleapis.com/tensorflow/tf-keras-datasets/train-images-idx3-ubyte.gz\n",
            "26421880/26421880 [==============================] - 1s 0us/step\n",
            "Downloading data from https://storage.googleapis.com/tensorflow/tf-keras-datasets/t10k-labels-idx1-ubyte.gz\n",
            "5148/5148 [==============================] - 0s 0us/step\n",
            "Downloading data from https://storage.googleapis.com/tensorflow/tf-keras-datasets/t10k-images-idx3-ubyte.gz\n",
            "4422102/4422102 [==============================] - 0s 0us/step\n"
          ]
        }
      ],
      "source": [
        "# Load in data\n",
        "fashion_mnist = keras.datasets.fashion_mnist\n",
        "(X_train_full, y_train_full), (X_test, y_test) = fashion_mnist.load_data()"
      ]
    },
    {
      "cell_type": "code",
      "source": [
        "y_train_full"
      ],
      "metadata": {
        "id": "4CVeAEd0UCx0",
        "outputId": "b27148ff-8169-493d-bb3b-b8aa9e75d00c",
        "colab": {
          "base_uri": "https://localhost:8080/"
        }
      },
      "execution_count": null,
      "outputs": [
        {
          "output_type": "execute_result",
          "data": {
            "text/plain": [
              "array([9, 0, 0, ..., 3, 0, 5], dtype=uint8)"
            ]
          },
          "metadata": {},
          "execution_count": 31
        }
      ]
    },
    {
      "cell_type": "code",
      "execution_count": null,
      "metadata": {
        "colab": {
          "base_uri": "https://localhost:8080/"
        },
        "id": "ydcSTDXNlVyu",
        "outputId": "2f04d7a8-acdd-42f3-c2fd-df1b27c6c67a"
      },
      "outputs": [
        {
          "data": {
            "text/plain": [
              "(60000, 28, 28)"
            ]
          },
          "execution_count": 84,
          "metadata": {},
          "output_type": "execute_result"
        }
      ],
      "source": [
        "# y_train_full.shape\n",
        "X_train_full.shape"
      ]
    },
    {
      "cell_type": "code",
      "execution_count": null,
      "metadata": {
        "id": "FQfPtDrFlW_e"
      },
      "outputs": [],
      "source": [
        "# X_valid, X_train = X_train_full[:5000] / 255.0, X_train_full[5000:] / 255.0\n",
        "# y_valid, y_train = y_train_full[:5000], y_train_full[5000:]"
      ]
    },
    {
      "cell_type": "code",
      "execution_count": null,
      "metadata": {
        "id": "3BJLIuThlXCM"
      },
      "outputs": [],
      "source": [
        "# For the fashion list we have different labels than the MNIST digits:\n",
        "class_names = [\"T-shirt/top\", \"Trouser\", \"Pullover\", \"Dress\", \"Coat\",\n",
        "                \"Sandal\", \"Shirt\", \"Sneaker\", \"Bag\", \"Ankle boot\"]"
      ]
    },
    {
      "cell_type": "markdown",
      "metadata": {
        "id": "gPhu9yCDMSTS"
      },
      "source": [
        "#### Example of an instance"
      ]
    },
    {
      "cell_type": "code",
      "execution_count": null,
      "metadata": {
        "colab": {
          "base_uri": "https://localhost:8080/"
        },
        "id": "tHMdSDqOlXFE",
        "outputId": "ea127bee-5083-44ce-903b-92c7fe6802b9"
      },
      "outputs": [
        {
          "name": "stdout",
          "output_type": "stream",
          "text": [
            "Dress\n"
          ]
        },
        {
          "data": {
            "image/png": "[encoded data removed]",
            "text/plain": [
              "<Figure size 640x480 with 1 Axes>"
            ]
          },
          "metadata": {},
          "output_type": "display_data"
        }
      ],
      "source": [
        "# Example of instance 4\n",
        "print(class_names[y_train_full[3]])\n",
        "plt.imshow(X_train_full[3,:,:], cmap='gray')\n",
        "plt.show()\n",
        "\n"
      ]
    },
    {
      "cell_type": "markdown",
      "metadata": {
        "id": "p9VXL2NpMYgk"
      },
      "source": [
        "# Back to the exercise:\n",
        "## Build the MLP neural network!\n"
      ]
    },
    {
      "cell_type": "code",
      "execution_count": null,
      "metadata": {
        "id": "q4mm1RwMLKWY"
      },
      "outputs": [],
      "source": [
        "# Build the network layer by layer, in a SEQUENCE -> sequential\n",
        "model = keras.models.Sequential()\n",
        "\n",
        "\"\"\" Add the first layer, the input layer.\n",
        "\n",
        "It converts each input image into a 1D array: if it receives input data X, it\n",
        "computes X.reshape(-1, 1). This layer does not have any parameters; it is just\n",
        "there to do some simple preprocessing. Since it is the first layer in the model, you\n",
        "should specify the input_shape, which doesn’t include the batch size, only the\n",
        "shape of the instances. \"\"\"\n",
        "\n",
        "model.add(keras.layers.Flatten(input_shape=[28, 28], name=\"InputLayer\"))\n",
        "\n",
        "# Add layer with 300 neurons. Each Dense layer manages its own weight matrix, containing all the\n",
        "# connection weights between the neurons and their inputs.\n",
        "\n",
        "model.add(keras.layers.Dense(300, activation=\"relu\", name=\"HiddenLayer1\"))\n",
        "\n",
        "# And another layer, with 100 neurons\n",
        "model.add(keras.layers.Dense(100, activation=\"relu\", name=\"HiddenLayer2\"))\n",
        "\n",
        "# The final layer, the output layer, we have 10 classes, so we need 10 neurons, 1 per class.\n",
        "# We use softmax as all classes are exclusive.\n",
        "\n",
        "\"\"\" The network is configured to output N values, one for each class in the classification\n",
        "task, and the softmax function is used to normalize the outputs, converting them from\n",
        "weighted sum values into probabilities that sum to one. Each value in the output of the\n",
        "softmax function is interpreted as the probability of membership for each class.\"\"\"\n",
        "\n",
        "model.add(keras.layers.Dense(10, activation=\"softmax\", name=\"OutputLayer\"))"
      ]
    },
    {
      "cell_type": "markdown",
      "metadata": {
        "id": "NTVhtIXUUruW"
      },
      "source": [
        "#### Model in one sequence:"
      ]
    },
    {
      "cell_type": "code",
      "execution_count": null,
      "metadata": {
        "id": "QsPDz1t6MlUe"
      },
      "outputs": [],
      "source": [
        "# it is also possible to do it in one go:\n",
        "\"\"\"\n",
        "model = keras.models.Sequential([\n",
        "        keras.layers.Flatten(input_shape=[28, 28]),\n",
        "        keras.layers.Dense(300, activation=\"relu\"),\n",
        "        keras.layers.Dense(100, activation=\"relu\"),\n",
        "        keras.layers.Dense(10, activation=\"softmax\")\n",
        "        ])\n",
        "\"\"\""
      ]
    },
    {
      "cell_type": "markdown",
      "metadata": {
        "id": "VQxZAF47UvDx"
      },
      "source": [
        "#### Visualize our model:"
      ]
    },
    {
      "cell_type": "code",
      "execution_count": null,
      "metadata": {
        "colab": {
          "base_uri": "https://localhost:8080/",
          "height": 801
        },
        "id": "RNmChxexMlSH",
        "outputId": "d3f5a3c7-31bd-47cd-bc64-123c5328dbca"
      },
      "outputs": [
        {
          "data": {
            "image/png": "[encoded data removed]",
            "text/plain": [
              "<IPython.core.display.Image object>"
            ]
          },
          "metadata": {},
          "output_type": "display_data"
        },
        {
          "name": "stdout",
          "output_type": "stream",
          "text": [
            "Model: \"sequential_7\"\n",
            "_________________________________________________________________\n",
            " Layer (type)                Output Shape              Param #   \n",
            "=================================================================\n",
            " InputLayer (Flatten)        (None, 784)               0         \n",
            "                                                                 \n",
            " HiddenLayer1 (Dense)        (None, 300)               235500    \n",
            "                                                                 \n",
            " HiddenLayer2 (Dense)        (None, 100)               30100     \n",
            "                                                                 \n",
            " OutputLayer (Dense)         (None, 10)                1010      \n",
            "                                                                 \n",
            "=================================================================\n",
            "Total params: 266,610\n",
            "Trainable params: 266,610\n",
            "Non-trainable params: 0\n",
            "_________________________________________________________________\n"
          ]
        }
      ],
      "source": [
        "# Image of our model - useful if we have named layers\n",
        "\n",
        "display(keras.utils.plot_model(model, show_layer_activations=True))\n",
        "\n",
        "# Or summary\n",
        "model.summary()\n",
        "\n"
      ]
    },
    {
      "cell_type": "markdown",
      "metadata": {
        "id": "HvpR_QnsVF6H"
      },
      "source": [
        "The output shape can have None. This implies that the batch size can be anything."
      ]
    },
    {
      "cell_type": "markdown",
      "metadata": {
        "id": "wDkPue6AeFBx"
      },
      "source": [
        "### Run the NN:"
      ]
    },
    {
      "cell_type": "code",
      "execution_count": null,
      "metadata": {
        "id": "fy_d-we2MlP-"
      },
      "outputs": [],
      "source": [
        "\"\"\" We have sparse labels (i.e., for each instance, there is just a target\n",
        "class index, from 0 to 9 in this case), and the classes are exclusive.\n",
        "\n",
        "Regarding the optimizer, \"sgd\" means that we will train the model using\n",
        "simple Stochastic Gradient Descent.\n",
        "\n",
        "As we are using a TPU, we can adjust the steps_per_execution. This\n",
        "makes the running and calculating of the weights from our NN sufficiently\n",
        "faster.\n",
        "\"\"\"\n",
        "\n",
        "# Choose an optimizer from keras.optimizers.X\n",
        "opt = keras.optimizers.Adam(learning_rate=0.001)\n",
        "\n",
        "model.compile(loss=\"sparse_categorical_crossentropy\",\n",
        "              optimizer=opt,\n",
        "              metrics=[[\"accuracy\"], [\"mse\"]], steps_per_execution=100)\n",
        "\n",
        "# Training and evaluation - epochs is the number of runs\n",
        "history = model.fit(X_train_full / 255.0, y_train_full, epochs=30,\n",
        "                    validation_split=0.1, batch_size=64, verbose=0) # verbose=0 is stfu"
      ]
    },
    {
      "cell_type": "markdown",
      "metadata": {
        "id": "_nPv0xLnhVLB"
      },
      "source": [
        "#### Plot the curves of loss, accuracy, validation loss and validation accuracy:"
      ]
    },
    {
      "cell_type": "code",
      "execution_count": null,
      "metadata": {
        "id": "_3SPKvZUMlMu"
      },
      "outputs": [],
      "source": [
        "import pandas as pd"
      ]
    },
    {
      "cell_type": "code",
      "execution_count": null,
      "metadata": {
        "colab": {
          "base_uri": "https://localhost:8080/",
          "height": 469
        },
        "id": "G2vBBPA6MlKt",
        "outputId": "e5c1315d-a433-4cbc-f5f1-a95fdc582871"
      },
      "outputs": [
        {
          "data": {
            "image/png": "[encoded data removed]",
            "text/plain": [
              "<Figure size 800x500 with 1 Axes>"
            ]
          },
          "metadata": {},
          "output_type": "display_data"
        },
        {
          "data": {
            "application/vnd.google.colaboratory.intrinsic+json": {
              "type": "string"
            },
            "text/plain": [
              "'the validation curves are close to the training curves, which means\\nthat there is not too much overfitting '"
            ]
          },
          "execution_count": 72,
          "metadata": {},
          "output_type": "execute_result"
        }
      ],
      "source": [
        "pd.DataFrame(history.history).plot(figsize=(8, 5))\n",
        "plt.grid(True)\n",
        "plt.gca().set_ylim(0, 1) # set the vertical range to [0-1]\n",
        "plt.show()\n",
        "\n",
        "\"\"\"the validation curves are close to the training curves, which means\n",
        "that there is not too much overfitting \"\"\""
      ]
    },
    {
      "cell_type": "markdown",
      "metadata": {
        "id": "sfO6sCuDhbBr"
      },
      "source": [
        "## Evaluate the model:"
      ]
    },
    {
      "cell_type": "code",
      "execution_count": null,
      "metadata": {
        "colab": {
          "base_uri": "https://localhost:8080/"
        },
        "id": "y7af-9yElCUX",
        "outputId": "8ab482b6-19ac-41a8-81b0-aad632d80837"
      },
      "outputs": [
        {
          "data": {
            "text/plain": [
              "(10000,)"
            ]
          },
          "execution_count": 75,
          "metadata": {},
          "output_type": "execute_result"
        }
      ],
      "source": [
        "y_test.shape"
      ]
    },
    {
      "cell_type": "code",
      "execution_count": null,
      "metadata": {
        "colab": {
          "base_uri": "https://localhost:8080/"
        },
        "id": "Mz5lA_BOMlHz",
        "outputId": "a604394d-87e7-4374-ae0b-e6614ce6ff62"
      },
      "outputs": [
        {
          "name": "stdout",
          "output_type": "stream",
          "text": [
            "157/157 [==============================] - 0s 3ms/step - loss: 354.4655 - accuracy: 0.8326 - mse: 27.6995\n"
          ]
        },
        {
          "data": {
            "text/plain": [
              "[354.46551513671875, 0.8325999975204468, 27.69953727722168]"
            ]
          },
          "execution_count": 83,
          "metadata": {},
          "output_type": "execute_result"
        }
      ],
      "source": [
        "model.evaluate(X_test, y_test, batch_size=64, verbose=1)"
      ]
    },
    {
      "cell_type": "markdown",
      "metadata": {
        "id": "rSJiy1dyofAN"
      },
      "source": [
        "# Make functions that can make arbitrary Neural Networks. In addition, make a function that can fit the model, as well as another function that can evaluate the model."
      ]
    },
    {
      "cell_type": "code",
      "execution_count": null,
      "metadata": {
        "id": "zIrBmjTiheBP"
      },
      "outputs": [],
      "source": [
        "def make_model(arch, optimizer,\n",
        "               metrics: list = [\"accuracy\"],\n",
        "               steps_per_execution: int = 1,\n",
        "               summary_model: bool = False):\n",
        "\n",
        "  # Create a dictionary of possible layers. In this case we can create any arbitary network\n",
        "  # without having to constantly copy and paste lines.\n",
        "  layer_dict = {\n",
        "        \"dense\": Dense,             # units, activation=None\n",
        "        \"dropout\": Dropout,         # rate, noise_shape=None, seed=None\n",
        "        \"conv\": Conv2D,             # filters, kernel_size, strides=(1, 1), padding=\"valid\", activation=None\n",
        "        \"maxpooling\": MaxPooling2D, # pool_size=(2, 2), strides=None, padding=\"valid\"\n",
        "        \"flatten\": Flatten,\n",
        "        \"BN\": BatchNormalization,\n",
        "  }\n",
        "\n",
        "  ##########################################\n",
        "\n",
        "  # Initiate model\n",
        "  model = keras.models.Sequential()\n",
        "\n",
        "  ## Add input layer\n",
        "  model.add(Input(shape=arch['shape'][0]))\n",
        "\n",
        "  ## Add layers\n",
        "  for layer, kwargs in arch['layers']:\n",
        "    # Use our dictionary to obtain the callable layer and put in the keywords arguments\n",
        "    model.add(layer_dict[layer](**kwargs))\n",
        "\n",
        "  # Output layer\n",
        "  model.add(layer_dict[arch['output'][0]](**arch['output'][1]))\n",
        "\n",
        "  ##########################################\n",
        "\n",
        "  # Print summary if wanted\n",
        "  if summary_model:\n",
        "    model.summary()\n",
        "\n",
        "  model.compile(loss=\"sparse_categorical_crossentropy\",\n",
        "                optimizer=optimizer,\n",
        "                metrics=metrics,\n",
        "                steps_per_execution=steps_per_execution)\n",
        "\n",
        "  # Return model before fitting\n",
        "  return model\n",
        "\n",
        "\n",
        "def fit_model(model, X_train, y_train, scaling,\n",
        "              epochs: int = 30, validation_split: float = 0.1,\n",
        "              batch: int = 64, verbose: int = 0):\n",
        "\n",
        "  history = model.fit(X_train/scaling, y_train, epochs=epochs,\n",
        "                    validation_split = validation_split, batch_size=batch, verbose=verbose) # verbose=0 is stfu\n",
        "\n",
        "  return history\n",
        "\n",
        "\n",
        "def eval_model(model, X_test, y_test, batch, verbose=1):\n",
        "  return model.evaluate(X_test, y_test, batch_size=batch, verbose=verbose)\n",
        "\n"
      ]
    },
    {
      "cell_type": "markdown",
      "source": [
        "# MLP case:"
      ],
      "metadata": {
        "id": "VfI-2bI8RDjX"
      }
    },
    {
      "cell_type": "markdown",
      "metadata": {
        "id": "6IXni7DwSo9y"
      },
      "source": [
        "### Define the multi layer perceptron architecture:"
      ]
    },
    {
      "cell_type": "code",
      "execution_count": null,
      "metadata": {
        "id": "kBmtw0pY07e5"
      },
      "outputs": [],
      "source": [
        "mlp_arch = {\n",
        "    'shape': (28*28, 10), # input, output\n",
        "    'output': ('dense', {'units': 10, 'activation': 'softmax'}), # output layer\n",
        "    'layers': [\n",
        "         ('flatten', {}),\n",
        "        ('dense', {'units':300, 'activation': 'relu'}),\n",
        "        ('dense', {'units':100, 'activation': 'relu'}),\n",
        "        ]\n",
        "}"
      ]
    },
    {
      "cell_type": "markdown",
      "metadata": {
        "id": "o2DyMcjyTB69"
      },
      "source": [
        "### Test run:"
      ]
    },
    {
      "cell_type": "code",
      "execution_count": null,
      "metadata": {
        "colab": {
          "base_uri": "https://localhost:8080/"
        },
        "id": "RtyvL2iCLPfR",
        "outputId": "22ab02bc-5904-4754-d33f-20495c1efee2"
      },
      "outputs": [
        {
          "output_type": "stream",
          "name": "stdout",
          "text": [
            "Model: \"sequential_5\"\n",
            "_________________________________________________________________\n",
            " Layer (type)                Output Shape              Param #   \n",
            "=================================================================\n",
            " flatten_4 (Flatten)         (None, 784)               0         \n",
            "                                                                 \n",
            " dense_12 (Dense)            (None, 300)               235500    \n",
            "                                                                 \n",
            " dense_13 (Dense)            (None, 100)               30100     \n",
            "                                                                 \n",
            " dense_14 (Dense)            (None, 10)                1010      \n",
            "                                                                 \n",
            "=================================================================\n",
            "Total params: 266,610\n",
            "Trainable params: 266,610\n",
            "Non-trainable params: 0\n",
            "_________________________________________________________________\n"
          ]
        }
      ],
      "source": [
        "mod = make_model(mlp_arch, keras.optimizers.Adam(learning_rate=0.001),\n",
        "                 steps_per_execution=100, summary_model=True)\n",
        "\n",
        "# display(keras.utils.plot_model(mod, show_layer_activations=True))"
      ]
    },
    {
      "cell_type": "code",
      "execution_count": null,
      "metadata": {
        "colab": {
          "base_uri": "https://localhost:8080/"
        },
        "id": "_jd2qH-roeSN",
        "outputId": "b87c6942-cd24-4a2b-f433-45a02f3c7f0c"
      },
      "outputs": [
        {
          "output_type": "stream",
          "name": "stdout",
          "text": [
            "Epoch 1/30\n",
            "844/844 [==============================] - 3s 4ms/step - loss: 0.4948 - accuracy: 0.8264 - val_loss: 0.3913 - val_accuracy: 0.8628\n",
            "Epoch 2/30\n",
            "844/844 [==============================] - 1s 2ms/step - loss: 0.3644 - accuracy: 0.8675 - val_loss: 0.3603 - val_accuracy: 0.8677\n",
            "Epoch 3/30\n",
            "844/844 [==============================] - 1s 2ms/step - loss: 0.3270 - accuracy: 0.8797 - val_loss: 0.3504 - val_accuracy: 0.8690\n",
            "Epoch 4/30\n",
            "844/844 [==============================] - 1s 2ms/step - loss: 0.3051 - accuracy: 0.8878 - val_loss: 0.3248 - val_accuracy: 0.8785\n",
            "Epoch 5/30\n",
            "844/844 [==============================] - 1s 2ms/step - loss: 0.2872 - accuracy: 0.8938 - val_loss: 0.3543 - val_accuracy: 0.8682\n",
            "Epoch 6/30\n",
            "844/844 [==============================] - 1s 2ms/step - loss: 0.2696 - accuracy: 0.8995 - val_loss: 0.3282 - val_accuracy: 0.8795\n",
            "Epoch 7/30\n",
            "844/844 [==============================] - 1s 2ms/step - loss: 0.2577 - accuracy: 0.9032 - val_loss: 0.3279 - val_accuracy: 0.8788\n",
            "Epoch 8/30\n",
            "844/844 [==============================] - 1s 2ms/step - loss: 0.2450 - accuracy: 0.9076 - val_loss: 0.3399 - val_accuracy: 0.8832\n",
            "Epoch 9/30\n",
            "844/844 [==============================] - 1s 2ms/step - loss: 0.2356 - accuracy: 0.9112 - val_loss: 0.3230 - val_accuracy: 0.8817\n",
            "Epoch 10/30\n",
            "844/844 [==============================] - 1s 2ms/step - loss: 0.2277 - accuracy: 0.9134 - val_loss: 0.3143 - val_accuracy: 0.8892\n",
            "Epoch 11/30\n",
            "844/844 [==============================] - 1s 2ms/step - loss: 0.2152 - accuracy: 0.9172 - val_loss: 0.3247 - val_accuracy: 0.8872\n",
            "Epoch 12/30\n",
            "844/844 [==============================] - 1s 2ms/step - loss: 0.2078 - accuracy: 0.9212 - val_loss: 0.3071 - val_accuracy: 0.8883\n",
            "Epoch 13/30\n",
            "844/844 [==============================] - 1s 2ms/step - loss: 0.2001 - accuracy: 0.9244 - val_loss: 0.3358 - val_accuracy: 0.8853\n",
            "Epoch 14/30\n",
            "844/844 [==============================] - 1s 2ms/step - loss: 0.1933 - accuracy: 0.9278 - val_loss: 0.3325 - val_accuracy: 0.8880\n",
            "Epoch 15/30\n",
            "844/844 [==============================] - 1s 2ms/step - loss: 0.1834 - accuracy: 0.9310 - val_loss: 0.3132 - val_accuracy: 0.8922\n",
            "Epoch 16/30\n",
            "844/844 [==============================] - 1s 2ms/step - loss: 0.1764 - accuracy: 0.9329 - val_loss: 0.3710 - val_accuracy: 0.8850\n",
            "Epoch 17/30\n",
            "844/844 [==============================] - 1s 2ms/step - loss: 0.1706 - accuracy: 0.9354 - val_loss: 0.3475 - val_accuracy: 0.8898\n",
            "Epoch 18/30\n",
            "844/844 [==============================] - 1s 2ms/step - loss: 0.1674 - accuracy: 0.9360 - val_loss: 0.3521 - val_accuracy: 0.8950\n",
            "Epoch 19/30\n",
            "844/844 [==============================] - 1s 2ms/step - loss: 0.1638 - accuracy: 0.9376 - val_loss: 0.3695 - val_accuracy: 0.8888\n",
            "Epoch 20/30\n",
            "844/844 [==============================] - 1s 2ms/step - loss: 0.1581 - accuracy: 0.9392 - val_loss: 0.3469 - val_accuracy: 0.8910\n",
            "Epoch 21/30\n",
            "844/844 [==============================] - 1s 2ms/step - loss: 0.1515 - accuracy: 0.9424 - val_loss: 0.3358 - val_accuracy: 0.8992\n",
            "Epoch 22/30\n",
            "844/844 [==============================] - 1s 2ms/step - loss: 0.1485 - accuracy: 0.9425 - val_loss: 0.3843 - val_accuracy: 0.8855\n",
            "Epoch 23/30\n",
            "844/844 [==============================] - 1s 2ms/step - loss: 0.1409 - accuracy: 0.9473 - val_loss: 0.3421 - val_accuracy: 0.8945\n",
            "Epoch 24/30\n",
            "844/844 [==============================] - 1s 2ms/step - loss: 0.1375 - accuracy: 0.9476 - val_loss: 0.4233 - val_accuracy: 0.8765\n",
            "Epoch 25/30\n",
            "844/844 [==============================] - 1s 2ms/step - loss: 0.1330 - accuracy: 0.9499 - val_loss: 0.3852 - val_accuracy: 0.8923\n",
            "Epoch 26/30\n",
            "844/844 [==============================] - 1s 2ms/step - loss: 0.1296 - accuracy: 0.9505 - val_loss: 0.3906 - val_accuracy: 0.8922\n",
            "Epoch 27/30\n",
            "844/844 [==============================] - 1s 2ms/step - loss: 0.1262 - accuracy: 0.9516 - val_loss: 0.3971 - val_accuracy: 0.8892\n",
            "Epoch 28/30\n",
            "844/844 [==============================] - 1s 2ms/step - loss: 0.1204 - accuracy: 0.9530 - val_loss: 0.4241 - val_accuracy: 0.8888\n",
            "Epoch 29/30\n",
            "844/844 [==============================] - 1s 2ms/step - loss: 0.1151 - accuracy: 0.9562 - val_loss: 0.4145 - val_accuracy: 0.8925\n",
            "Epoch 30/30\n",
            "844/844 [==============================] - 1s 2ms/step - loss: 0.1160 - accuracy: 0.9549 - val_loss: 0.4278 - val_accuracy: 0.8852\n"
          ]
        }
      ],
      "source": [
        "trainedmodel1 = fit_model(mod, X_train_full.reshape(60000, 784), y_train_full, 255.0,\n",
        "                          verbose=1)\n",
        "\n",
        "# X_train_full.reshape(60000, 784).shape\n"
      ]
    },
    {
      "cell_type": "code",
      "execution_count": null,
      "metadata": {
        "id": "iZvZ3wPZZjKV",
        "colab": {
          "base_uri": "https://localhost:8080/"
        },
        "outputId": "81ff2f51-2312-4d22-ba65-cd7925f7d89d"
      },
      "outputs": [
        {
          "output_type": "execute_result",
          "data": {
            "text/plain": [
              "(60000, 784)"
            ]
          },
          "metadata": {},
          "execution_count": 25
        }
      ],
      "source": [
        "X_train_full.reshape(60000, 784).shape"
      ]
    },
    {
      "cell_type": "markdown",
      "metadata": {
        "id": "ZTnAzV40Zqt-"
      },
      "source": [
        "Evaluate our NN:"
      ]
    },
    {
      "cell_type": "code",
      "execution_count": null,
      "metadata": {
        "id": "sJ0mYZKbyOEm",
        "colab": {
          "base_uri": "https://localhost:8080/"
        },
        "outputId": "79216f22-647d-442c-d177-b8d9b5fa8ede"
      },
      "outputs": [
        {
          "output_type": "stream",
          "name": "stdout",
          "text": [
            "157/157 [==============================] - 1s 4ms/step - loss: 89.0022 - accuracy: 0.8660\n"
          ]
        },
        {
          "output_type": "execute_result",
          "data": {
            "text/plain": [
              "[89.0022201538086, 0.8659999966621399]"
            ]
          },
          "metadata": {},
          "execution_count": 24
        }
      ],
      "source": [
        "eval_model(mod, X_test.reshape(10000, 784), y_test, batch=64, verbose=1)"
      ]
    },
    {
      "cell_type": "markdown",
      "metadata": {
        "id": "ejToyJTfZthC"
      },
      "source": [
        "## Time to scale up, we want to now analyse which optimizer, learning rate, batch size and epoch number give us the highest accuracy for the MNIST fashion dataset, given our MLP."
      ]
    },
    {
      "cell_type": "code",
      "execution_count": null,
      "metadata": {
        "id": "nYunAlCh00_Z"
      },
      "outputs": [],
      "source": [
        "optimizers = [\n",
        "     # Keyword arguments (kwargs) come in dictionaries ('{}')\n",
        "      (keras.optimizers.Adam, {'learning_rate': 0.001}),\n",
        "      # (keras.optimizers.Adam, {learning_rate=0.002}), (keras.optimizers.Adam, {learning_rate=0.003}),\n",
        "      # (keras.optimizers.Adam, {learning_rate=0.004}), (keras.optimizers.Adam, {learning_rate=0.005}),\n",
        "\n",
        "\n",
        "\n",
        "\n",
        "      # (keras.optimizers.Adadelta, {}),\n",
        "      (keras.optimizers.Adagrad, {}),\n",
        "      (keras.optimizers.Adamax, {'learning_rate': 0.001}),# (keras.optimizers.Adamax,  {'learning_rate': 0.002}), #(keras.optimizers.Adamax,  {'learning_rate': 0.003}),\n",
        "      # (keras.optimizers.Ftrl,{}),\n",
        "      (keras.optimizers.Nadam,{}),\n",
        "      (keras.optimizers.RMSprop, {}),\n",
        "      # (keras.optimizers.SGD, {})\n",
        "\n",
        "      ]\n",
        "\n",
        "accuracies = np.empty((0, 4))\n",
        "for optimizer, kwarg in optimizers:\n",
        "  # print(optimizer.__name__, kwarg)\n",
        "  model1 = make_model(mlp_arch, optimizer=optimizer(**kwarg),\n",
        "           steps_per_execution=100, summary_model=False)\n",
        "\n",
        "  fit_model(model1, X_train_full.reshape(60000, 784), y_train_full, 255.0,\n",
        "                          verbose=0)\n",
        "\n",
        "  accuracies = np.append(accuracies, np.array([f\"Name: {optimizer.__name__}\",\n",
        "                                               f\"Kwargs: {kwarg}\", \"Accuracy:\", eval_model(model1, X_test.reshape(10000, 784), y_test, batch=64, verbose=0)[1]]).reshape(1, -1), axis=0)\n",
        "\n",
        "\n",
        "\n",
        "\n"
      ]
    },
    {
      "cell_type": "code",
      "execution_count": null,
      "metadata": {
        "colab": {
          "base_uri": "https://localhost:8080/"
        },
        "id": "w8tf8F3F9u3S",
        "outputId": "452bd544-881d-4e08-ffdb-ab669436f9c1"
      },
      "outputs": [
        {
          "name": "stdout",
          "output_type": "stream",
          "text": [
            "['0.8654000163078308' '0.828000009059906' '0.8636000156402588'\n",
            " '0.8726999759674072' '0.8712000250816345']\n",
            "Best model: Name: Nadam Kwargs: {} Accuracy: 0.8726999759674072\n"
          ]
        }
      ],
      "source": [
        "print(accuracies[:,-1])\n",
        "best = np.argmax(np.array([float(i) for i in accuracies[:,-1]]))\n",
        "print(\"Best model:\", accuracies[:,0][best], accuracies[:,1][best], accuracies[:,2][best], accuracies[:,-1][best])\n",
        "\n",
        "\n",
        "# if we have different models:\n",
        "#display(keras.utils.plot_model(model, show_layer_activations=True))"
      ]
    },
    {
      "cell_type": "markdown",
      "metadata": {
        "id": "W61wWRr5CswH"
      },
      "source": [
        "## Test architectures, optimizers, batch sizes and epochs for any given choice:"
      ]
    },
    {
      "cell_type": "code",
      "execution_count": null,
      "metadata": {
        "id": "hVGLYQVB5umJ"
      },
      "outputs": [],
      "source": [
        "def test_networks(models, optimizers, batch_sizes, epochs):\n",
        "\n",
        "  results = np.empty((0,5))\n",
        "\n",
        "  for model in models:\n",
        "    for optimizer, kwarg in optimizers:\n",
        "      model1 = make_model(model, optimizer=optimizer(**kwarg),\n",
        "           steps_per_execution=100, summary_model=False)\n",
        "\n",
        "      for batch in batch_sizes:\n",
        "        for epoch in epochs:\n",
        "          fit_model(model1, X_train_full.reshape(60000, 784), y_train_full, 255.0, epochs=epoch,\n",
        "                            verbose=0, batch=batch, validation_split=0.1)\n",
        "\n",
        "          accuracy = eval_model(model1, X_test.reshape(10000, 784), y_test, batch=batch, verbose=0)[1]\n",
        "\n",
        "          results = np.append(results, np.array([f\"{optimizer.__name__ = }\", f\"{kwarg = }\",\n",
        "                                                      f\"{batch = }\",f\"{epoch = }\", f\"{accuracy = }\"]).reshape(1, -1), axis=0)\n",
        "\n",
        "\n",
        "    return results"
      ]
    },
    {
      "cell_type": "markdown",
      "source": [
        "### Results of regular MLP architecture:"
      ],
      "metadata": {
        "id": "C1Mra7B41E3i"
      }
    },
    {
      "cell_type": "code",
      "execution_count": null,
      "metadata": {
        "id": "v2s4q1KyLsXx"
      },
      "outputs": [],
      "source": [
        "results1 = test_networks(\n",
        "      [mlp_arch],\n",
        "       [\n",
        "     # Keyword arguments (kwargs) come in dictionaries ('{}')\n",
        "\n",
        "      (keras.optimizers.Adam, {'learning_rate': 0.0005}), #(keras.optimizers.Adam, {'learning_rate': 0.001}), (keras.optimizers.Adam, {'learning_rate':0.002}),\n",
        "      (keras.optimizers.Adadelta, {'learning_rate': 0.001}),\n",
        "      (keras.optimizers.Adagrad, {'learning_rate': 0.001}),\n",
        "      (keras.optimizers.Adamax, {'learning_rate': 0.0005}),# (keras.optimizers.Adamax,  {'learning_rate': 0.001}), (keras.optimizers.Adamax,  {'learning_rate': 0.002}),\n",
        "      # (keras.optimizers.Ftrl,{}),\n",
        "      (keras.optimizers.Nadam,{'learning_rate': 0.0005}),# (keras.optimizers.Nadam,{'learning_rate': 0.001}), (keras.optimizers.Nadam,{'learning_rate': 0.002}),\n",
        "      (keras.optimizers.RMSprop, {'learning_rate': 0.001}),\n",
        "      (keras.optimizers.SGD, {'learning_rate': 0.001})\n",
        "\n",
        "      ],\n",
        "\n",
        "      batch_sizes=[64], epochs = [10]\n",
        "\n",
        ")"
      ]
    },
    {
      "cell_type": "code",
      "execution_count": null,
      "metadata": {
        "colab": {
          "base_uri": "https://localhost:8080/"
        },
        "id": "8kaz7cMNKx5L",
        "outputId": "35ac0f21-a5e3-4dd4-f0f6-5ab8986a61c2"
      },
      "outputs": [
        {
          "name": "stdout",
          "output_type": "stream",
          "text": [
            "Best model: \n",
            "\n",
            "optimizer.__name__ = 'Adam'\n",
            "kwarg = {'learning_rate': 0.0005}\n",
            "batch = 64\n",
            "epoch = 10\n",
            "accuracy = 0.8679999709129333\n"
          ]
        }
      ],
      "source": [
        "# Find the best model:\n",
        "\n",
        "accuracies = [float(i.split('=')[1].strip()) for i in results1[:,-1]]\n",
        "best = np.argmax(np.array([accuracies]))\n",
        "\n",
        "print(\"Best model:\", \"\\n\")\n",
        "for i in np.arange(results1.shape[-1]):\n",
        "  print(results1[:,i][best])\n"
      ]
    },
    {
      "cell_type": "code",
      "execution_count": null,
      "metadata": {
        "colab": {
          "base_uri": "https://localhost:8080/"
        },
        "id": "HVS9vZ-sSyWQ",
        "outputId": "50d5614a-fff1-4ca3-db5e-00caf8df3ffb"
      },
      "outputs": [
        {
          "name": "stdout",
          "output_type": "stream",
          "text": [
            "\n",
            "Model:\n",
            "optimizer.__name__ = 'Adam'\n",
            "kwarg = {'learning_rate': 0.0005}\n",
            "batch = 64\n",
            "epoch = 10\n",
            "accuracy = 0.8679999709129333\n",
            "\n",
            "Model:\n",
            "optimizer.__name__ = 'Nadam'\n",
            "kwarg = {'learning_rate': 0.0005}\n",
            "batch = 64\n",
            "epoch = 10\n",
            "accuracy = 0.8671000003814697\n",
            "\n",
            "Model:\n",
            "optimizer.__name__ = 'RMSprop'\n",
            "kwarg = {'learning_rate': 0.001}\n",
            "batch = 64\n",
            "epoch = 10\n",
            "accuracy = 0.8662999868392944\n",
            "\n",
            "Model:\n",
            "optimizer.__name__ = 'Adamax'\n",
            "kwarg = {'learning_rate': 0.0005}\n",
            "batch = 64\n",
            "epoch = 10\n",
            "accuracy = 0.8436999917030334\n",
            "\n",
            "Model:\n",
            "optimizer.__name__ = 'Adagrad'\n",
            "kwarg = {'learning_rate': 0.001}\n",
            "batch = 64\n",
            "epoch = 10\n",
            "accuracy = 0.8105999827384949\n",
            "\n",
            "Model:\n",
            "optimizer.__name__ = 'SGD'\n",
            "kwarg = {'learning_rate': 0.001}\n",
            "batch = 64\n",
            "epoch = 10\n",
            "accuracy = 0.7811999917030334\n",
            "\n",
            "Model:\n",
            "optimizer.__name__ = 'Adadelta'\n",
            "kwarg = {'learning_rate': 0.001}\n",
            "batch = 64\n",
            "epoch = 10\n",
            "accuracy = 0.7074999809265137\n"
          ]
        }
      ],
      "source": [
        "results = [np.argsort(accuracies)[:][::-1]][0] # [::-1] is for reverse order, such that the highest accuracy is value 1 in the top5\n",
        "\n",
        "for i in results:\n",
        "  print(\"\\nModel:\")\n",
        "  for j in np.arange(results1.shape[-1]):\n",
        "    print(results1[:,j][i])\n"
      ]
    },
    {
      "cell_type": "code",
      "execution_count": null,
      "metadata": {
        "id": "GtV5nJ84TuP8"
      },
      "outputs": [],
      "source": []
    },
    {
      "cell_type": "markdown",
      "metadata": {
        "id": "EkXjxuueAYRh"
      },
      "source": [
        "#### Full output:"
      ]
    },
    {
      "cell_type": "markdown",
      "metadata": {
        "id": "8HFUzYQL_zS5"
      },
      "source": [
        "In addition, the full ouput of results1 was:\n",
        "\n",
        "      [\"optimizer.__name__ = 'RMSprop'\", 'kwarg = {}', 'batch = 32',\n",
        "        'epoch = 30', 'accuracy = 0.8683000206947327']\n",
        "\n",
        "       [\"optimizer.__name__ = 'RMSprop'\", 'kwarg = {}', 'batch = 64',\n",
        "        'epoch = 5', 'accuracy = 0.8709999918937683']\n",
        "\n",
        "       [\"optimizer.__name__ = 'RMSprop'\", 'kwarg = {}', 'batch = 64',\n",
        "        'epoch = 10', 'accuracy = 0.8736000061035156']\n",
        "\n",
        "       [\"optimizer.__name__ = 'RMSprop'\", 'kwarg = {}', 'batch = 64',\n",
        "        'epoch = 20', 'accuracy = 0.8697999715805054']\n",
        "\n",
        "       [\"optimizer.__name__ = 'RMSprop'\", 'kwarg = {}', 'batch = 64',\n",
        "        'epoch = 30', 'accuracy = 0.873199999332428']\n",
        "\n",
        "       [\"optimizer.__name__ = 'RMSprop'\", 'kwarg = {}', 'batch = 128',\n",
        "        'epoch = 5', 'accuracy = 0.8690999746322632']\n",
        "\n",
        "       [\"optimizer.__name__ = 'RMSprop'\", 'kwarg = {}', 'batch = 128',\n",
        "        'epoch = 10', 'accuracy = 0.8729000091552734']\n",
        "\n",
        "       [\"optimizer.__name__ = 'RMSprop'\", 'kwarg = {}', 'batch = 128',\n",
        "        'epoch = 20', 'accuracy = 0.871999979019165']\n",
        "\n",
        "       [\"optimizer.__name__ = 'RMSprop'\", 'kwarg = {}', 'batch = 128',\n",
        "        'epoch = 30', 'accuracy = 0.8683000206947327']\n",
        "\n",
        "       [\"optimizer.__name__ = 'RMSprop'\", 'kwarg = {}', 'batch = 256',\n",
        "        'epoch = 5', 'accuracy = 0.8734999895095825']\n",
        "\n",
        "       [\"optimizer.__name__ = 'RMSprop'\", 'kwarg = {}', 'batch = 256',\n",
        "        'epoch = 10', 'accuracy = 0.8725000023841858']\n",
        "\n",
        "       [\"optimizer.__name__ = 'RMSprop'\", 'kwarg = {}', 'batch = 256',\n",
        "        'epoch = 20', 'accuracy = 0.866599977016449']\n",
        "\n",
        "       [\"optimizer.__name__ = 'RMSprop'\", 'kwarg = {}', 'batch = 256',\n",
        "        'epoch = 30', 'accuracy = 0.8697999715805054']\n",
        "\n",
        "       [\"optimizer.__name__ = 'SGD'\", 'kwarg = {}', 'batch = 32',\n",
        "        'epoch = 5', 'accuracy = 0.8222000002861023']\n",
        "\n",
        "       [\"optimizer.__name__ = 'SGD'\", 'kwarg = {}', 'batch = 32',\n",
        "        'epoch = 10', 'accuracy = 0.8388000130653381']\n",
        "\n",
        "       [\"optimizer.__name__ = 'SGD'\", 'kwarg = {}', 'batch = 32',\n",
        "        'epoch = 20', 'accuracy = 0.8525999784469604']\n",
        "\n",
        "       [\"optimizer.__name__ = 'SGD'\", 'kwarg = {}', 'batch = 32',\n",
        "        'epoch = 30', 'accuracy = 0.8587999939918518']\n",
        "\n",
        "       [\"optimizer.__name__ = 'SGD'\", 'kwarg = {}', 'batch = 64',\n",
        "        'epoch = 5', 'accuracy = 0.843500018119812']\n",
        "\n",
        "       [\"optimizer.__name__ = 'SGD'\", 'kwarg = {}', 'batch = 64',\n",
        "        'epoch = 10', 'accuracy = 0.8406000137329102']\n",
        "\n",
        "       [\"optimizer.__name__ = 'SGD'\", 'kwarg = {}', 'batch = 64',\n",
        "        'epoch = 20', 'accuracy = 0.8314999938011169']\n",
        "\n",
        "       [\"optimizer.__name__ = 'SGD'\", 'kwarg = {}', 'batch = 64',\n",
        "        'epoch = 30', 'accuracy = 0.8364999890327454']\n",
        "\n",
        "       [\"optimizer.__name__ = 'SGD'\", 'kwarg = {}', 'batch = 128',\n",
        "        'epoch = 5', 'accuracy = 0.848800003528595']\n",
        "\n",
        "       [\"optimizer.__name__ = 'SGD'\", 'kwarg = {}', 'batch = 128',\n",
        "        'epoch = 10', 'accuracy = 0.8391000032424927']\n",
        "\n",
        "       [\"optimizer.__name__ = 'SGD'\", 'kwarg = {}', 'batch = 128',\n",
        "        'epoch = 20', 'accuracy = 0.8314999938011169']\n",
        "        \n",
        "       [\"optimizer.__name__ = 'SGD'\", 'kwarg = {}', 'batch = 128',\n",
        "        'epoch = 30', 'accuracy = 0.8317999839782715']\n",
        "        \n",
        "       [\"optimizer.__name__ = 'SGD'\", 'kwarg = {}', 'batch = 256',\n",
        "        'epoch = 5', 'accuracy = 0.8378000259399414']\n",
        "        \n",
        "       [\"optimizer.__name__ = 'SGD'\", 'kwarg = {}', 'batch = 256',\n",
        "        'epoch = 10', 'accuracy = 0.8388000130653381']\n",
        "        \n",
        "       [\"optimizer.__name__ = 'SGD'\", 'kwarg = {}', 'batch = 256',\n",
        "        'epoch = 20', 'accuracy = 0.8361999988555908']\n",
        "        \n",
        "       [\"optimizer.__name__ = 'SGD'\", 'kwarg = {}', 'batch = 256',\n",
        "        'epoch = 30', 'accuracy = 0.8353000283241272']\n",
        "       "
      ]
    },
    {
      "cell_type": "markdown",
      "metadata": {
        "id": "Qp8ktw3f_q1O"
      },
      "source": [
        "#### Let's go again, this time using different epochs and batch sizes:"
      ]
    },
    {
      "cell_type": "code",
      "execution_count": null,
      "metadata": {
        "id": "-KTgLG1xTuMW"
      },
      "outputs": [],
      "source": [
        "def Top5(results):\n",
        "  accuracies = [float(i.split('=')[1].strip()) for i in results[:,-1]]\n",
        "  top5 = [np.argsort(accuracies)[-5:][::-1]][0] # [::-1] is for reverse order, such that the highest accuracy is value 1 in the top5\n",
        "\n",
        "  for i in top5:\n",
        "    print(\"\\nModel:\")\n",
        "    for j in np.arange(results.shape[-1]):\n",
        "      print(results[:,j][i])"
      ]
    },
    {
      "cell_type": "code",
      "execution_count": null,
      "metadata": {
        "colab": {
          "background_save": true
        },
        "id": "Wf2oPDfhTuJw"
      },
      "outputs": [],
      "source": [
        "results2 = test_networks(\n",
        "      [mlp_arch],\n",
        "\n",
        "    [\n",
        "\n",
        "     ## Keyword arguments (kwargs) come in dictionaries ('{}') ##\n",
        "\n",
        "      (keras.optimizers.Adam, {'learning_rate': 0.0005}), (keras.optimizers.Adam, {'learning_rate': 0.001}), (keras.optimizers.Adam, {'learning_rate':0.002}),\n",
        "\n",
        "      (keras.optimizers.Adagrad, {'learning_rate': 0.001}),\n",
        "      (keras.optimizers.Adamax, {'learning_rate': 0.0005}), (keras.optimizers.Adamax,  {'learning_rate': 0.001}), (keras.optimizers.Adamax,  {'learning_rate': 0.002}),\n",
        "      (keras.optimizers.Nadam,{'learning_rate': 0.0005}), (keras.optimizers.Nadam,{'learning_rate': 0.001}), (keras.optimizers.Nadam,{'learning_rate': 0.002}),\n",
        "      (keras.optimizers.RMSprop, {'learning_rate': 0.001}),\n",
        "\n",
        "\n",
        "    ],\n",
        "\n",
        "      batch_sizes=[32, 64, 128, 256], epochs = [5, 10, 20, 30]\n",
        ")"
      ]
    },
    {
      "cell_type": "code",
      "execution_count": null,
      "metadata": {
        "colab": {
          "background_save": true
        },
        "id": "02jEUzDfTuGZ",
        "outputId": "a0662d31-1c08-4e57-ad25-d1746b3c409b"
      },
      "outputs": [
        {
          "name": "stdout",
          "output_type": "stream",
          "text": [
            "\n",
            "Model:\n",
            "optimizer.__name__ = 'Adam'\n",
            "kwarg = {'learning_rate': 0.0005}\n",
            "batch = 32\n",
            "epoch = 10\n",
            "accuracy = 0.8858000040054321\n",
            "\n",
            "Model:\n",
            "optimizer.__name__ = 'Adam'\n",
            "kwarg = {'learning_rate': 0.0005}\n",
            "batch = 256\n",
            "epoch = 30\n",
            "accuracy = 0.8834999799728394\n",
            "\n",
            "Model:\n",
            "optimizer.__name__ = 'Adam'\n",
            "kwarg = {'learning_rate': 0.0005}\n",
            "batch = 128\n",
            "epoch = 10\n",
            "accuracy = 0.8827000260353088\n",
            "\n",
            "Model:\n",
            "optimizer.__name__ = 'Adam'\n",
            "kwarg = {'learning_rate': 0.0005}\n",
            "batch = 256\n",
            "epoch = 20\n",
            "accuracy = 0.8826000094413757\n",
            "\n",
            "Model:\n",
            "optimizer.__name__ = 'Nadam'\n",
            "kwarg = {'learning_rate': 0.0005}\n",
            "batch = 256\n",
            "epoch = 30\n",
            "accuracy = 0.882099986076355\n"
          ]
        }
      ],
      "source": [
        "Top5(results2)"
      ]
    },
    {
      "cell_type": "markdown",
      "source": [
        "### Two scenario's:\n",
        "* remove the 300 nodes layer, rerun the calculation.\n",
        "* also try adding a layers of dropout to the original network. Add dropout between the last layer and the output layer, as well as between the second to last and the last (regular) layer"
      ],
      "metadata": {
        "id": "q8bD6WK--HBa"
      }
    },
    {
      "cell_type": "code",
      "source": [
        "mlp_arch_rmove = {\n",
        "    'shape': (28*28, 10), # input, output\n",
        "    'output': ('dense', {'units': 10, 'activation': 'softmax'}), # output layer\n",
        "    'layers': [\n",
        "         ('flatten', {}),\n",
        "        ('dense', {'units':300, 'activation': 'relu'}),\n",
        "        ]\n",
        "}\n",
        "\n",
        "# dropout\n",
        "mlp_arch_drop = {\n",
        "    'shape': (28*28, 10), # input, output\n",
        "    'output': ('dense', {'units': 10, 'activation': 'softmax'}), # output layer\n",
        "    'layers': [\n",
        "        ('flatten', {}),\n",
        "        ('dense', {'units':300, 'activation': 'relu'}),\n",
        "        ('dropout', {'rate': 0.5}),\n",
        "        ('dense', {'units':100, 'activation': 'relu'}),\n",
        "        ('dropout', {'rate': 0.5}),\n",
        "        ]\n",
        "}\n",
        "\n",
        "\n",
        "# Show models:\n",
        "\n",
        "# display(keras.utils.plot_model(make_model(mlp_arch_rmove, optimizer=keras.optimizers.Adam(),\n",
        "#            steps_per_execution=100, summary_model=True), show_layer_activations=True))\n",
        "\n",
        "# display(keras.utils.plot_model(make_model(mlp_arch_drop, optimizer=keras.optimizers.Adam(),\n",
        "#            steps_per_execution=100, summary_model=True), show_layer_activations=True))"
      ],
      "metadata": {
        "id": "bS0LXhPN-RuB"
      },
      "execution_count": null,
      "outputs": []
    },
    {
      "cell_type": "code",
      "source": [
        "results_mlp_rmoveL = test_networks(\n",
        "      [mlp_arch_rmove],\n",
        "\n",
        "    [\n",
        "      (keras.optimizers.Adam, {'learning_rate': 0.0005}), (keras.optimizers.Adam, {'learning_rate': 0.001}),\n",
        "      (keras.optimizers.Nadam,{'learning_rate': 0.0005}), (keras.optimizers.Nadam,{'learning_rate': 0.001}),\n",
        "    ],\n",
        "\n",
        "      batch_sizes=[32, 64, 128, 256], epochs = [10, 20, 30]\n",
        ")"
      ],
      "metadata": {
        "id": "Q-h3dg8d-nt3"
      },
      "execution_count": null,
      "outputs": []
    },
    {
      "cell_type": "code",
      "source": [
        "Top5(results_mlp_rmoveL)"
      ],
      "metadata": {
        "colab": {
          "base_uri": "https://localhost:8080/"
        },
        "id": "DGkTro1t-uET",
        "outputId": "75bbd9b1-1c00-4397-f61d-47b074628192"
      },
      "execution_count": null,
      "outputs": [
        {
          "output_type": "stream",
          "name": "stdout",
          "text": [
            "\n",
            "Model:\n",
            "optimizer.__name__ = 'Adam'\n",
            "kwarg = {'learning_rate': 0.0005}\n",
            "batch = 128\n",
            "epoch = 20\n",
            "accuracy = 0.8826000094413757\n",
            "\n",
            "Model:\n",
            "optimizer.__name__ = 'Adam'\n",
            "kwarg = {'learning_rate': 0.0005}\n",
            "batch = 256\n",
            "epoch = 30\n",
            "accuracy = 0.8826000094413757\n",
            "\n",
            "Model:\n",
            "optimizer.__name__ = 'Adam'\n",
            "kwarg = {'learning_rate': 0.0005}\n",
            "batch = 64\n",
            "epoch = 10\n",
            "accuracy = 0.8819000124931335\n",
            "\n",
            "Model:\n",
            "optimizer.__name__ = 'Adam'\n",
            "kwarg = {'learning_rate': 0.0005}\n",
            "batch = 128\n",
            "epoch = 30\n",
            "accuracy = 0.8819000124931335\n",
            "\n",
            "Model:\n",
            "optimizer.__name__ = 'Adam'\n",
            "kwarg = {'learning_rate': 0.0005}\n",
            "batch = 256\n",
            "epoch = 10\n",
            "accuracy = 0.8815000057220459\n"
          ]
        }
      ]
    },
    {
      "cell_type": "markdown",
      "source": [
        "Remark: we see that removing a layer lowers our final accuracy. In this case, our highest scoring model is about equivalent to the model of position 5 for the original model. It shows that we lose performance by removing de 100 nodes layer."
      ],
      "metadata": {
        "id": "oDGjHg2z2P44"
      }
    },
    {
      "cell_type": "code",
      "source": [
        "## Using the dropout model:\n",
        "results_mlp_dropout = test_networks([mlp_arch_drop],\n",
        "                       [\n",
        "      (keras.optimizers.Adam, {'learning_rate': 0.0005}), (keras.optimizers.Adam, {'learning_rate': 0.001}),\n",
        "      (keras.optimizers.Nadam,{'learning_rate': 0.0005}), (keras.optimizers.Nadam,{'learning_rate': 0.001}),\n",
        "                       ],\n",
        "\n",
        "              batch_sizes=[32, 64, 128, 256],\n",
        "                       epochs = [10, 20, 30],\n",
        "\n",
        "                       )\n"
      ],
      "metadata": {
        "id": "jHKKejGpwl67"
      },
      "execution_count": null,
      "outputs": []
    },
    {
      "cell_type": "code",
      "source": [
        "Top5(results_mlp_dropout)"
      ],
      "metadata": {
        "colab": {
          "base_uri": "https://localhost:8080/"
        },
        "id": "ER_c7BgfxHSS",
        "outputId": "2f4c18aa-f4da-402e-8e15-44d10febb818"
      },
      "execution_count": null,
      "outputs": [
        {
          "output_type": "stream",
          "name": "stdout",
          "text": [
            "\n",
            "Model:\n",
            "optimizer.__name__ = 'Nadam'\n",
            "kwarg = {'learning_rate': 0.0005}\n",
            "batch = 128\n",
            "epoch = 20\n",
            "accuracy = 0.8844000101089478\n",
            "\n",
            "Model:\n",
            "optimizer.__name__ = 'Nadam'\n",
            "kwarg = {'learning_rate': 0.0005}\n",
            "batch = 64\n",
            "epoch = 30\n",
            "accuracy = 0.879800021648407\n",
            "\n",
            "Model:\n",
            "optimizer.__name__ = 'Adam'\n",
            "kwarg = {'learning_rate': 0.0005}\n",
            "batch = 64\n",
            "epoch = 20\n",
            "accuracy = 0.8780999779701233\n",
            "\n",
            "Model:\n",
            "optimizer.__name__ = 'Adam'\n",
            "kwarg = {'learning_rate': 0.0005}\n",
            "batch = 256\n",
            "epoch = 10\n",
            "accuracy = 0.8759999871253967\n",
            "\n",
            "Model:\n",
            "optimizer.__name__ = 'Nadam'\n",
            "kwarg = {'learning_rate': 0.0005}\n",
            "batch = 128\n",
            "epoch = 30\n",
            "accuracy = 0.8743000030517578\n"
          ]
        }
      ]
    },
    {
      "cell_type": "markdown",
      "source": [
        "Remark: we see that the performance has dropped a little bit, but let's go and try again, but this time using one layer of dropout 0.5. In addition, let's just use the best hyperparameters set of the previous result to speed up the process."
      ],
      "metadata": {
        "id": "1KrfMNA_FYpT"
      }
    },
    {
      "cell_type": "code",
      "source": [
        "mlp_arch_dropout_1 = {\n",
        "    'shape': (28*28, 10), # input, output\n",
        "    'output': ('dense', {'units': 10, 'activation': 'softmax'}), # output layer\n",
        "    'layers': [\n",
        "        ('flatten', {}),\n",
        "        ('dense', {'units':300, 'activation': 'relu'}),\n",
        "        ('dropout', {'rate': 0.5}),\n",
        "        ('dense', {'units':100, 'activation': 'relu'}),\n",
        "        ]\n",
        "}\n",
        "\n",
        "\n",
        "results_mlp_dropout_1 = test_networks([mlp_arch_dropout_1],\n",
        "                       [\n",
        "      (keras.optimizers.Adam, {'learning_rate': 0.0005}),\n",
        "      (keras.optimizers.Nadam,{'learning_rate': 0.0005}),\n",
        "                       ],\n",
        "\n",
        "              batch_sizes=[64, 128, 256],\n",
        "                       epochs = [10, 20, 30],\n",
        "\n",
        "                       )\n",
        "\n",
        "Top5(results_mlp_dropout_1)"
      ],
      "metadata": {
        "colab": {
          "base_uri": "https://localhost:8080/"
        },
        "id": "hDx0pY_SFf1x",
        "outputId": "f6f7b24c-3af7-4761-de5a-3b0b66a5a979"
      },
      "execution_count": null,
      "outputs": [
        {
          "output_type": "stream",
          "name": "stdout",
          "text": [
            "\n",
            "Model:\n",
            "optimizer.__name__ = 'Nadam'\n",
            "kwarg = {'learning_rate': 0.0005}\n",
            "batch = 128\n",
            "epoch = 30\n",
            "accuracy = 0.8884999752044678\n",
            "\n",
            "Model:\n",
            "optimizer.__name__ = 'Nadam'\n",
            "kwarg = {'learning_rate': 0.0005}\n",
            "batch = 256\n",
            "epoch = 20\n",
            "accuracy = 0.8862000107765198\n",
            "\n",
            "Model:\n",
            "optimizer.__name__ = 'Nadam'\n",
            "kwarg = {'learning_rate': 0.0005}\n",
            "batch = 64\n",
            "epoch = 30\n",
            "accuracy = 0.8853999972343445\n",
            "\n",
            "Model:\n",
            "optimizer.__name__ = 'Nadam'\n",
            "kwarg = {'learning_rate': 0.0005}\n",
            "batch = 256\n",
            "epoch = 10\n",
            "accuracy = 0.8849999904632568\n",
            "\n",
            "Model:\n",
            "optimizer.__name__ = 'Nadam'\n",
            "kwarg = {'learning_rate': 0.0005}\n",
            "batch = 256\n",
            "epoch = 30\n",
            "accuracy = 0.8845000267028809\n"
          ]
        }
      ]
    },
    {
      "cell_type": "markdown",
      "source": [
        "### Another case, use the dropout model together with regularization."
      ],
      "metadata": {
        "id": "pE1m7gzB1dDn"
      }
    },
    {
      "cell_type": "markdown",
      "source": [
        "About L1 and L2 regularization: https://towardsdatascience.com/l1-and-l2-regularization-methods-ce25e7fc831c .\n",
        "\n",
        "We use L1 regularization for the layers with the largest number of nodes. L1 regularization helps in order to penalize for a large number of features."
      ],
      "metadata": {
        "id": "1in97XM4zN_P"
      }
    },
    {
      "cell_type": "code",
      "source": [
        "# , kernel_regularizer='l1'\n",
        "mlp_arch_l1_drop = {\n",
        "    'shape': (28*28, 10), # input, output\n",
        "    'output': ('dense', {'units': 10, 'activation': 'softmax'}), # output layer\n",
        "    'layers': [\n",
        "         ('flatten', {}),\n",
        "        ('dense', {'units':300, 'activation': 'relu', 'kernel_regularizer': 'l1'}),\n",
        "         ('dropout', {'rate': 0.5}),\n",
        "        ('dense', {'units':100, 'activation': 'relu'}),\n",
        "        ]\n",
        "}\n",
        "\n",
        "# display(keras.utils.plot_model(make_model(mlp_arch_l1_drop, optimizer=keras.optimizers.Adam(),\n",
        "#            steps_per_execution=100, summary_model=True), show_layer_activations=True))"
      ],
      "metadata": {
        "id": "WQytp5yuzQjM"
      },
      "execution_count": null,
      "outputs": []
    },
    {
      "cell_type": "code",
      "source": [
        "results_mlp_L1_dropout = test_networks([mlp_arch_l1_drop],\n",
        "                       [\n",
        "      (keras.optimizers.Adam, {'learning_rate': 0.0005}),\n",
        "      (keras.optimizers.Nadam,{'learning_rate': 0.0005}),\n",
        "                       ],\n",
        "\n",
        "              batch_sizes=[64, 128, 256],\n",
        "                       epochs = [10, 20, 30],\n",
        "\n",
        "                       )"
      ],
      "metadata": {
        "id": "t4tX_o4-3Ak6"
      },
      "execution_count": null,
      "outputs": []
    },
    {
      "cell_type": "code",
      "source": [
        "Top5(results_mlp_L1_dropout)"
      ],
      "metadata": {
        "colab": {
          "base_uri": "https://localhost:8080/"
        },
        "id": "uRg7Wj173JiW",
        "outputId": "422bd285-886c-4bcc-9887-39f9476fc40a"
      },
      "execution_count": null,
      "outputs": [
        {
          "output_type": "stream",
          "name": "stdout",
          "text": [
            "\n",
            "Model:\n",
            "optimizer.__name__ = 'Adam'\n",
            "kwarg = {'learning_rate': 0.0005}\n",
            "batch = 128\n",
            "epoch = 20\n",
            "accuracy = 0.7688000202178955\n",
            "\n",
            "Model:\n",
            "optimizer.__name__ = 'Nadam'\n",
            "kwarg = {'learning_rate': 0.0005}\n",
            "batch = 256\n",
            "epoch = 10\n",
            "accuracy = 0.7547000050544739\n",
            "\n",
            "Model:\n",
            "optimizer.__name__ = 'Nadam'\n",
            "kwarg = {'learning_rate': 0.0005}\n",
            "batch = 128\n",
            "epoch = 10\n",
            "accuracy = 0.7483000159263611\n",
            "\n",
            "Model:\n",
            "optimizer.__name__ = 'Nadam'\n",
            "kwarg = {'learning_rate': 0.0005}\n",
            "batch = 256\n",
            "epoch = 20\n",
            "accuracy = 0.7409999966621399\n",
            "\n",
            "Model:\n",
            "optimizer.__name__ = 'Nadam'\n",
            "kwarg = {'learning_rate': 0.0005}\n",
            "batch = 64\n",
            "epoch = 30\n",
            "accuracy = 0.733299970626831\n"
          ]
        }
      ]
    },
    {
      "cell_type": "markdown",
      "source": [
        "Remark: regularization was a BAD idea!"
      ],
      "metadata": {
        "id": "FrVgtyiLMmQr"
      }
    },
    {
      "cell_type": "markdown",
      "source": [
        "# Convolutional network:"
      ],
      "metadata": {
        "id": "teQSUT8q0opC"
      }
    },
    {
      "cell_type": "markdown",
      "source": [
        "#### The architecture:"
      ],
      "metadata": {
        "id": "8uOuiUzZNdnn"
      }
    },
    {
      "cell_type": "code",
      "source": [
        "convolution_model ={\n",
        "    'shape':((28, 28, 1), 10), # input, output (-> we have 10 classes of clothes, each with a given probability per item (returned by Softmax))\n",
        "    'output': ('dense', {'units': 10, 'activation': 'softmax'}),\n",
        "    'layers':[\n",
        "        ('conv', {'filters':64, 'kernel_size': 7, 'activation': 'relu', 'padding': 'same'}),\n",
        "        ('maxpooling', {'pool_size': (2,2)}),\n",
        "        # by reducing the spacial dimensionality by two we can afford to double the filters (and thus feature maps)\n",
        "        ('conv', {'filters': 128, 'kernel_size': 3, 'activation': 'relu', 'padding': 'same'}),\n",
        "        ('conv', {'filters': 128, 'kernel_size': 3, 'activation': 'relu', 'padding': 'same'}),\n",
        "        ('maxpooling', {'pool_size': (2,2)}),\n",
        "        ('conv', {'filters': 256, 'kernel_size': 3, 'activation': 'relu', 'padding': 'same'}),\n",
        "        ('conv', {'filters': 256, 'kernel_size': 3, 'activation': 'relu', 'padding': 'same'}),\n",
        "        ('maxpooling', {'pool_size': (2,2)}),\n",
        "        ('flatten', {}),\n",
        "        ('dense', {'units': 128, 'activation': 'relu'}),\n",
        "        ('dropout', {'rate': 0.5}),\n",
        "        ('dense', {'units': 64, 'activation': 'relu'}),\n",
        "        ('dropout', {'rate': 0.5}),\n",
        "\n",
        "    ]\n",
        "}\n",
        "\n",
        "# display(keras.utils.plot_model(make_model(convolution_model, optimizer=keras.optimizers.Adam(),\n",
        "#            steps_per_execution=100, summary_model=True), show_layer_activations=True))"
      ],
      "metadata": {
        "id": "e_m7eqyB0qiQ"
      },
      "execution_count": null,
      "outputs": []
    },
    {
      "cell_type": "code",
      "source": [],
      "metadata": {
        "id": "82U3d_Z1R2oR"
      },
      "execution_count": null,
      "outputs": []
    },
    {
      "cell_type": "markdown",
      "source": [
        "### Let's test!"
      ],
      "metadata": {
        "id": "yo5XKibgNQfU"
      }
    },
    {
      "cell_type": "code",
      "source": [
        "# I was lazy, need to use this function above too\n",
        "def test_networks_V2(models, optimizers, batch_sizes, epochs,\n",
        "                     input_shape, X_train, y_train, X_test, y_test,\n",
        "                     steps_per_execution: int = 100,\n",
        "                     print_steps: bool = False, time_check: bool = False,\n",
        "                     filename: str = None, save: bool = False):\n",
        "\n",
        "  # Check if the file exists; if it does, load the existing data\n",
        "  try:\n",
        "      result_df = pd.read_csv(filename)\n",
        "      print(f\"Found {filename = }\")\n",
        "  except FileNotFoundError:\n",
        "      print(f\"Could not find {filename =}\")\n",
        "      result_df = pd.DataFrame(columns=[\"Name\", \"Kwargs\", \"Batch_size\", \"Epochs\", \"Accuracy\"])\n",
        "\n",
        "\n",
        "  for model in models:\n",
        "    for optimizer, kwarg in optimizers:\n",
        "\n",
        "      if print_steps:\n",
        "        print(f\"Fitting model using {optimizer.__name__ = }\")\n",
        "\n",
        "\n",
        "\n",
        "      model1 = make_model(model, optimizer=optimizer(**kwarg),\n",
        "           steps_per_execution=steps_per_execution, summary_model=False)\n",
        "\n",
        "      for batch in batch_sizes:\n",
        "        for epoch in epochs:\n",
        "          if print_steps:\n",
        "            print(f\"Epochs = {epoch}, batch size = {batch}\")\n",
        "\n",
        "          if time_check:\n",
        "            start_time = time.time()\n",
        "\n",
        "          fit_model(model1, X_train.reshape(X_train.shape[0], *input_shape), y_train, 255.0, epochs=epoch,\n",
        "                            verbose=0, batch=batch, validation_split=0.1)\n",
        "\n",
        "          accuracy = eval_model(model1, X_test.reshape(X_test.shape[0], *input_shape), y_test, batch=batch, verbose=0)[1]\n",
        "\n",
        "          if time_check:\n",
        "            print(f\"Time elapsed for {optimizer.__name__ = }, {kwarg = }, {batch = }, {epoch= } is {(time.time()-start_time)/60} min\")\n",
        "\n",
        "          # Write to file\n",
        "          new_data = {\"Name\": optimizer.__name__, \"Kwargs\": kwarg,\n",
        "                      \"Batch_size\": batch, \"Epochs\": epoch,\n",
        "                      \"Accuracy\": accuracy}\n",
        "\n",
        "          # Append to the existing file\n",
        "          result_df = result_df.append(new_data, ignore_index=True)\n",
        "\n",
        "          # Save the DataFrame to a .csv file after each iteration\n",
        "          if save:\n",
        "            result_df.to_csv(filename, index=False)\n",
        "\n",
        "    return result_df"
      ],
      "metadata": {
        "id": "mod8eCWEPBU6"
      },
      "execution_count": null,
      "outputs": []
    },
    {
      "cell_type": "markdown",
      "source": [
        "#### Running for convolutional network:"
      ],
      "metadata": {
        "id": "-oTiCVEkx77_"
      }
    },
    {
      "cell_type": "code",
      "source": [
        "#df1 = pd.read_csv('IDL_A1_convolution_default.csv')\n",
        "\n",
        "#df1[df1['Name'] == 'RMSprop']\n",
        "\n",
        "# If you want to save:\n",
        "#!cp IDL_A1_convolution_default.csv /content/drive/MyDrive/IDL/A1/IDL_A1_convolution_default.csv\n",
        "\n",
        "# Or download locally\n",
        "from google.colab import files\n",
        "#files.download('IDL_A1_convolution_default.csv')\n",
        "\n",
        "df_loaded_from_drive = pd.read_csv('/content/drive/MyDrive/IDL/A1/IDL_A1_convolution_default.csv')\n",
        "df_loaded_from_drive"
      ],
      "metadata": {
        "id": "EuIZQS7hfH1i"
      },
      "execution_count": null,
      "outputs": []
    },
    {
      "cell_type": "code",
      "source": [],
      "metadata": {
        "id": "m5iwRJXJCHzQ"
      },
      "execution_count": null,
      "outputs": []
    },
    {
      "cell_type": "markdown",
      "source": [
        "Idea: implement batch normalization. It speeds up the process a lot, as well as that it helps to gain higher accuracy for our model. Add Batch Normalization after a sequence of convolutions and maxpooling (this is done often in practise; found online, https://analyticsindiamag.com/everything-you-should-know-about-dropouts-and-batchnormalization-in-cnn/#:~:text=It%20can%20be%20used%20at,the%20classification%20of%20handwritten%20digits.)"
      ],
      "metadata": {
        "id": "CBjpGvx0OV0j"
      }
    },
    {
      "cell_type": "code",
      "source": [
        "convolution_model_modified ={\n",
        "    'shape':((28,28, 1), 10),\n",
        "    'output': ('dense', {'units': 10, 'activation': 'softmax'}),\n",
        "    'layers':[\n",
        "        ('conv', {'filters':64, 'kernel_size': 7, 'activation': 'relu', 'padding': 'same'}),\n",
        "        ('maxpooling', {'pool_size': (2,2)}),\n",
        "        ('conv', {'filters': 128, 'kernel_size': 3, 'activation': 'relu', 'padding': 'same'}),\n",
        "        ('conv', {'filters': 128, 'kernel_size': 3, 'activation': 'relu', 'padding': 'same'}),\n",
        "        ('maxpooling', {'pool_size': (2,2)}),\n",
        "        ('conv', {'filters': 256, 'kernel_size': 3, 'activation': 'relu', 'padding': 'same'}),\n",
        "        ('conv', {'filters': 256, 'kernel_size': 3, 'activation': 'relu', 'padding': 'same'}),\n",
        "        ('maxpooling', {'pool_size': (2,2)}),\n",
        "        # New layer of batch normalization\n",
        "        ('BN', {}),\n",
        "        ('flatten', {}),\n",
        "        ('dense', {'units': 128, 'activation': 'relu'}),\n",
        "        ('dropout', {'rate': 0.5}),\n",
        "        ('dense', {'units': 64, 'activation': 'relu'}),\n",
        "        ('dropout', {'rate': 0.5}),\n",
        "\n",
        "    ]\n",
        "}"
      ],
      "metadata": {
        "id": "fG9kDzpVOcrl"
      },
      "execution_count": null,
      "outputs": []
    },
    {
      "cell_type": "code",
      "source": [
        "df_CNN_BN = pd.read_csv('/content/drive/MyDrive/IDL/A1/IDL_A1_convolution_with_BN.csv')\n",
        "df_CNN_BN"
      ],
      "metadata": {
        "colab": {
          "base_uri": "https://localhost:8080/",
          "height": 425
        },
        "id": "-bqWgy3efXOe",
        "outputId": "c22e9de7-bcf2-4f41-8644-fa7e6e6fb093"
      },
      "execution_count": null,
      "outputs": [
        {
          "output_type": "execute_result",
          "data": {
            "text/plain": [
              "      Name                    Kwargs  Batch_size  Epochs  Accuracy\n",
              "0     Adam  {'learning_rate': 0.001}          64      10    0.8499\n",
              "1     Adam  {'learning_rate': 0.001}         128      10    0.8220\n",
              "2     Adam  {'learning_rate': 0.001}         256      10    0.8377\n",
              "3     Adam  {'learning_rate': 0.001}         512      10    0.8284\n",
              "4   Adamax  {'learning_rate': 0.001}          64      10    0.8515\n",
              "5   Adamax  {'learning_rate': 0.001}         128      10    0.8197\n",
              "6   Adamax  {'learning_rate': 0.001}         256      10    0.7955\n",
              "7   Adamax  {'learning_rate': 0.001}         512      10    0.8010\n",
              "8    Nadam  {'learning_rate': 0.001}          64      10    0.8382\n",
              "9    Nadam  {'learning_rate': 0.001}         128      10    0.8619\n",
              "10   Nadam  {'learning_rate': 0.001}         256      10    0.8717\n",
              "11   Nadam  {'learning_rate': 0.001}         512      10    0.8619"
            ],
            "text/html": [
              "\n",
              "  <div id=\"df-1e15de7f-709c-4d30-a6fc-ea0c966be7fa\" class=\"colab-df-container\">\n",
              "    <div>\n",
              "<style scoped>\n",
              "    .dataframe tbody tr th:only-of-type {\n",
              "        vertical-align: middle;\n",
              "    }\n",
              "\n",
              "    .dataframe tbody tr th {\n",
              "        vertical-align: top;\n",
              "    }\n",
              "\n",
              "    .dataframe thead th {\n",
              "        text-align: right;\n",
              "    }\n",
              "</style>\n",
              "<table border=\"1\" class=\"dataframe\">\n",
              "  <thead>\n",
              "    <tr style=\"text-align: right;\">\n",
              "      <th></th>\n",
              "      <th>Name</th>\n",
              "      <th>Kwargs</th>\n",
              "      <th>Batch_size</th>\n",
              "      <th>Epochs</th>\n",
              "      <th>Accuracy</th>\n",
              "    </tr>\n",
              "  </thead>\n",
              "  <tbody>\n",
              "    <tr>\n",
              "      <th>0</th>\n",
              "      <td>Adam</td>\n",
              "      <td>{'learning_rate': 0.001}</td>\n",
              "      <td>64</td>\n",
              "      <td>10</td>\n",
              "      <td>0.8499</td>\n",
              "    </tr>\n",
              "    <tr>\n",
              "      <th>1</th>\n",
              "      <td>Adam</td>\n",
              "      <td>{'learning_rate': 0.001}</td>\n",
              "      <td>128</td>\n",
              "      <td>10</td>\n",
              "      <td>0.8220</td>\n",
              "    </tr>\n",
              "    <tr>\n",
              "      <th>2</th>\n",
              "      <td>Adam</td>\n",
              "      <td>{'learning_rate': 0.001}</td>\n",
              "      <td>256</td>\n",
              "      <td>10</td>\n",
              "      <td>0.8377</td>\n",
              "    </tr>\n",
              "    <tr>\n",
              "      <th>3</th>\n",
              "      <td>Adam</td>\n",
              "      <td>{'learning_rate': 0.001}</td>\n",
              "      <td>512</td>\n",
              "      <td>10</td>\n",
              "      <td>0.8284</td>\n",
              "    </tr>\n",
              "    <tr>\n",
              "      <th>4</th>\n",
              "      <td>Adamax</td>\n",
              "      <td>{'learning_rate': 0.001}</td>\n",
              "      <td>64</td>\n",
              "      <td>10</td>\n",
              "      <td>0.8515</td>\n",
              "    </tr>\n",
              "    <tr>\n",
              "      <th>5</th>\n",
              "      <td>Adamax</td>\n",
              "      <td>{'learning_rate': 0.001}</td>\n",
              "      <td>128</td>\n",
              "      <td>10</td>\n",
              "      <td>0.8197</td>\n",
              "    </tr>\n",
              "    <tr>\n",
              "      <th>6</th>\n",
              "      <td>Adamax</td>\n",
              "      <td>{'learning_rate': 0.001}</td>\n",
              "      <td>256</td>\n",
              "      <td>10</td>\n",
              "      <td>0.7955</td>\n",
              "    </tr>\n",
              "    <tr>\n",
              "      <th>7</th>\n",
              "      <td>Adamax</td>\n",
              "      <td>{'learning_rate': 0.001}</td>\n",
              "      <td>512</td>\n",
              "      <td>10</td>\n",
              "      <td>0.8010</td>\n",
              "    </tr>\n",
              "    <tr>\n",
              "      <th>8</th>\n",
              "      <td>Nadam</td>\n",
              "      <td>{'learning_rate': 0.001}</td>\n",
              "      <td>64</td>\n",
              "      <td>10</td>\n",
              "      <td>0.8382</td>\n",
              "    </tr>\n",
              "    <tr>\n",
              "      <th>9</th>\n",
              "      <td>Nadam</td>\n",
              "      <td>{'learning_rate': 0.001}</td>\n",
              "      <td>128</td>\n",
              "      <td>10</td>\n",
              "      <td>0.8619</td>\n",
              "    </tr>\n",
              "    <tr>\n",
              "      <th>10</th>\n",
              "      <td>Nadam</td>\n",
              "      <td>{'learning_rate': 0.001}</td>\n",
              "      <td>256</td>\n",
              "      <td>10</td>\n",
              "      <td>0.8717</td>\n",
              "    </tr>\n",
              "    <tr>\n",
              "      <th>11</th>\n",
              "      <td>Nadam</td>\n",
              "      <td>{'learning_rate': 0.001}</td>\n",
              "      <td>512</td>\n",
              "      <td>10</td>\n",
              "      <td>0.8619</td>\n",
              "    </tr>\n",
              "  </tbody>\n",
              "</table>\n",
              "</div>\n",
              "    <div class=\"colab-df-buttons\">\n",
              "\n",
              "  <div class=\"colab-df-container\">\n",
              "    <button class=\"colab-df-convert\" onclick=\"convertToInteractive('df-1e15de7f-709c-4d30-a6fc-ea0c966be7fa')\"\n",
              "            title=\"Convert this dataframe to an interactive table.\"\n",
              "            style=\"display:none;\">\n",
              "\n",
              "  <svg xmlns=\"http://www.w3.org/2000/svg\" height=\"24px\" viewBox=\"0 -960 960 960\">\n",
              "    <path d=\"M120-120v-720h720v720H120Zm60-500h600v-160H180v160Zm220 220h160v-160H400v160Zm0 220h160v-160H400v160ZM180-400h160v-160H180v160Zm440 0h160v-160H620v160ZM180-180h160v-160H180v160Zm440 0h160v-160H620v160Z\"/>\n",
              "  </svg>\n",
              "    </button>\n",
              "\n",
              "  <style>\n",
              "    .colab-df-container {\n",
              "      display:flex;\n",
              "      gap: 12px;\n",
              "    }\n",
              "\n",
              "    .colab-df-convert {\n",
              "      background-color: #E8F0FE;\n",
              "      border: none;\n",
              "      border-radius: 50%;\n",
              "      cursor: pointer;\n",
              "      display: none;\n",
              "      fill: #1967D2;\n",
              "      height: 32px;\n",
              "      padding: 0 0 0 0;\n",
              "      width: 32px;\n",
              "    }\n",
              "\n",
              "    .colab-df-convert:hover {\n",
              "      background-color: #E2EBFA;\n",
              "      box-shadow: 0px 1px 2px rgba(60, 64, 67, 0.3), 0px 1px 3px 1px rgba(60, 64, 67, 0.15);\n",
              "      fill: #174EA6;\n",
              "    }\n",
              "\n",
              "    .colab-df-buttons div {\n",
              "      margin-bottom: 4px;\n",
              "    }\n",
              "\n",
              "    [theme=dark] .colab-df-convert {\n",
              "      background-color: #3B4455;\n",
              "      fill: #D2E3FC;\n",
              "    }\n",
              "\n",
              "    [theme=dark] .colab-df-convert:hover {\n",
              "      background-color: #434B5C;\n",
              "      box-shadow: 0px 1px 3px 1px rgba(0, 0, 0, 0.15);\n",
              "      filter: drop-shadow(0px 1px 2px rgba(0, 0, 0, 0.3));\n",
              "      fill: #FFFFFF;\n",
              "    }\n",
              "  </style>\n",
              "\n",
              "    <script>\n",
              "      const buttonEl =\n",
              "        document.querySelector('#df-1e15de7f-709c-4d30-a6fc-ea0c966be7fa button.colab-df-convert');\n",
              "      buttonEl.style.display =\n",
              "        google.colab.kernel.accessAllowed ? 'block' : 'none';\n",
              "\n",
              "      async function convertToInteractive(key) {\n",
              "        const element = document.querySelector('#df-1e15de7f-709c-4d30-a6fc-ea0c966be7fa');\n",
              "        const dataTable =\n",
              "          await google.colab.kernel.invokeFunction('convertToInteractive',\n",
              "                                                    [key], {});\n",
              "        if (!dataTable) return;\n",
              "\n",
              "        const docLinkHtml = 'Like what you see? Visit the ' +\n",
              "          '<a target=\"_blank\" href=https://colab.research.google.com/notebooks/data_table.ipynb>data table notebook</a>'\n",
              "          + ' to learn more about interactive tables.';\n",
              "        element.innerHTML = '';\n",
              "        dataTable['output_type'] = 'display_data';\n",
              "        await google.colab.output.renderOutput(dataTable, element);\n",
              "        const docLink = document.createElement('div');\n",
              "        docLink.innerHTML = docLinkHtml;\n",
              "        element.appendChild(docLink);\n",
              "      }\n",
              "    </script>\n",
              "  </div>\n",
              "\n",
              "\n",
              "<div id=\"df-1719bd7a-33ba-497a-b7d1-690af8357164\">\n",
              "  <button class=\"colab-df-quickchart\" onclick=\"quickchart('df-1719bd7a-33ba-497a-b7d1-690af8357164')\"\n",
              "            title=\"Suggest charts.\"\n",
              "            style=\"display:none;\">\n",
              "\n",
              "<svg xmlns=\"http://www.w3.org/2000/svg\" height=\"24px\"viewBox=\"0 0 24 24\"\n",
              "     width=\"24px\">\n",
              "    <g>\n",
              "        <path d=\"M19 3H5c-1.1 0-2 .9-2 2v14c0 1.1.9 2 2 2h14c1.1 0 2-.9 2-2V5c0-1.1-.9-2-2-2zM9 17H7v-7h2v7zm4 0h-2V7h2v10zm4 0h-2v-4h2v4z\"/>\n",
              "    </g>\n",
              "</svg>\n",
              "  </button>\n",
              "\n",
              "<style>\n",
              "  .colab-df-quickchart {\n",
              "      --bg-color: #E8F0FE;\n",
              "      --fill-color: #1967D2;\n",
              "      --hover-bg-color: #E2EBFA;\n",
              "      --hover-fill-color: #174EA6;\n",
              "      --disabled-fill-color: #AAA;\n",
              "      --disabled-bg-color: #DDD;\n",
              "  }\n",
              "\n",
              "  [theme=dark] .colab-df-quickchart {\n",
              "      --bg-color: #3B4455;\n",
              "      --fill-color: #D2E3FC;\n",
              "      --hover-bg-color: #434B5C;\n",
              "      --hover-fill-color: #FFFFFF;\n",
              "      --disabled-bg-color: #3B4455;\n",
              "      --disabled-fill-color: #666;\n",
              "  }\n",
              "\n",
              "  .colab-df-quickchart {\n",
              "    background-color: var(--bg-color);\n",
              "    border: none;\n",
              "    border-radius: 50%;\n",
              "    cursor: pointer;\n",
              "    display: none;\n",
              "    fill: var(--fill-color);\n",
              "    height: 32px;\n",
              "    padding: 0;\n",
              "    width: 32px;\n",
              "  }\n",
              "\n",
              "  .colab-df-quickchart:hover {\n",
              "    background-color: var(--hover-bg-color);\n",
              "    box-shadow: 0 1px 2px rgba(60, 64, 67, 0.3), 0 1px 3px 1px rgba(60, 64, 67, 0.15);\n",
              "    fill: var(--button-hover-fill-color);\n",
              "  }\n",
              "\n",
              "  .colab-df-quickchart-complete:disabled,\n",
              "  .colab-df-quickchart-complete:disabled:hover {\n",
              "    background-color: var(--disabled-bg-color);\n",
              "    fill: var(--disabled-fill-color);\n",
              "    box-shadow: none;\n",
              "  }\n",
              "\n",
              "  .colab-df-spinner {\n",
              "    border: 2px solid var(--fill-color);\n",
              "    border-color: transparent;\n",
              "    border-bottom-color: var(--fill-color);\n",
              "    animation:\n",
              "      spin 1s steps(1) infinite;\n",
              "  }\n",
              "\n",
              "  @keyframes spin {\n",
              "    0% {\n",
              "      border-color: transparent;\n",
              "      border-bottom-color: var(--fill-color);\n",
              "      border-left-color: var(--fill-color);\n",
              "    }\n",
              "    20% {\n",
              "      border-color: transparent;\n",
              "      border-left-color: var(--fill-color);\n",
              "      border-top-color: var(--fill-color);\n",
              "    }\n",
              "    30% {\n",
              "      border-color: transparent;\n",
              "      border-left-color: var(--fill-color);\n",
              "      border-top-color: var(--fill-color);\n",
              "      border-right-color: var(--fill-color);\n",
              "    }\n",
              "    40% {\n",
              "      border-color: transparent;\n",
              "      border-right-color: var(--fill-color);\n",
              "      border-top-color: var(--fill-color);\n",
              "    }\n",
              "    60% {\n",
              "      border-color: transparent;\n",
              "      border-right-color: var(--fill-color);\n",
              "    }\n",
              "    80% {\n",
              "      border-color: transparent;\n",
              "      border-right-color: var(--fill-color);\n",
              "      border-bottom-color: var(--fill-color);\n",
              "    }\n",
              "    90% {\n",
              "      border-color: transparent;\n",
              "      border-bottom-color: var(--fill-color);\n",
              "    }\n",
              "  }\n",
              "</style>\n",
              "\n",
              "  <script>\n",
              "    async function quickchart(key) {\n",
              "      const quickchartButtonEl =\n",
              "        document.querySelector('#' + key + ' button');\n",
              "      quickchartButtonEl.disabled = true;  // To prevent multiple clicks.\n",
              "      quickchartButtonEl.classList.add('colab-df-spinner');\n",
              "      try {\n",
              "        const charts = await google.colab.kernel.invokeFunction(\n",
              "            'suggestCharts', [key], {});\n",
              "      } catch (error) {\n",
              "        console.error('Error during call to suggestCharts:', error);\n",
              "      }\n",
              "      quickchartButtonEl.classList.remove('colab-df-spinner');\n",
              "      quickchartButtonEl.classList.add('colab-df-quickchart-complete');\n",
              "    }\n",
              "    (() => {\n",
              "      let quickchartButtonEl =\n",
              "        document.querySelector('#df-1719bd7a-33ba-497a-b7d1-690af8357164 button');\n",
              "      quickchartButtonEl.style.display =\n",
              "        google.colab.kernel.accessAllowed ? 'block' : 'none';\n",
              "    })();\n",
              "  </script>\n",
              "</div>\n",
              "    </div>\n",
              "  </div>\n"
            ]
          },
          "metadata": {},
          "execution_count": 14
        }
      ]
    },
    {
      "cell_type": "markdown",
      "source": [
        "Remove batch normalization and rerun the CNN with a learning rate of 0.0005."
      ],
      "metadata": {
        "id": "sSXXRrqoE8iq"
      }
    },
    {
      "cell_type": "code",
      "source": [
        "test_networks_V2([convolution_model],\n",
        "                       [\n",
        "                       # (keras.optimizers.Adam, {'learning_rate': 0.0005}),\n",
        "                       # (keras.optimizers.Adadelta, {'learning_rate': 0.001}),\n",
        "                       # (keras.optimizers.Adagrad, {'learning_rate': 0.001}),\n",
        "                        (keras.optimizers.Adamax,  {'learning_rate': 0.0005}),\n",
        "                       # (keras.optimizers.Nadam,{'learning_rate': 0.0005}),\n",
        "                        # (keras.optimizers.RMSprop, {'learning_rate': 0.001}),\n",
        "                       # (keras.optimizers.SGD, {'learning_rate': 0.001})\n",
        "                       ],\n",
        "\n",
        "                        batch_sizes = [64, 128, 256, 512],#, 128, 256, 512: too big # the larger size speeds up the process, at the cost of performance\n",
        "                        epochs = [20], #5, 10, 20\n",
        "                        input_shape = convolution_model['shape'][0],\n",
        "                        X_train = X_train_full,\n",
        "                        y_train = y_train_full,\n",
        "                        X_test = X_test,\n",
        "                        y_test = y_test,\n",
        "\n",
        "                        print_steps=True,\n",
        "                        time_check=True,\n",
        "                        filename='/content/drive/MyDrive/IDL/A1/IDL_A1_convolution_default.csv',\n",
        "                        steps_per_execution=1000,\n",
        "                        save=True\n",
        "\n",
        "                       )"
      ],
      "metadata": {
        "id": "a_zG4wuwOckd",
        "colab": {
          "base_uri": "https://localhost:8080/",
          "height": 1000
        },
        "outputId": "3154311f-2cf5-4986-faeb-a2c707c895b3"
      },
      "execution_count": null,
      "outputs": [
        {
          "output_type": "stream",
          "name": "stdout",
          "text": [
            "Found filename = '/content/drive/MyDrive/IDL/A1/IDL_A1_convolution_default.csv'\n",
            "Fitting model using optimizer.__name__ = 'Adam'\n",
            "Epochs = 10, batch size = 64\n",
            "Time elapsed for optimizer.__name__ = 'Adam', kwarg = {'learning_rate': 0.0005}, batch = 64, epoch= 10 is 7.223342784245809 min\n",
            "Epochs = 10, batch size = 128\n"
          ]
        },
        {
          "output_type": "stream",
          "name": "stderr",
          "text": [
            "<ipython-input-8-923826969e64>:50: FutureWarning: The frame.append method is deprecated and will be removed from pandas in a future version. Use pandas.concat instead.\n",
            "  result_df = result_df.append(new_data, ignore_index=True)\n"
          ]
        },
        {
          "output_type": "stream",
          "name": "stdout",
          "text": [
            "Time elapsed for optimizer.__name__ = 'Adam', kwarg = {'learning_rate': 0.0005}, batch = 128, epoch= 10 is 5.814832373460134 min\n",
            "Epochs = 10, batch size = 256\n"
          ]
        },
        {
          "output_type": "stream",
          "name": "stderr",
          "text": [
            "<ipython-input-8-923826969e64>:50: FutureWarning: The frame.append method is deprecated and will be removed from pandas in a future version. Use pandas.concat instead.\n",
            "  result_df = result_df.append(new_data, ignore_index=True)\n"
          ]
        },
        {
          "output_type": "stream",
          "name": "stdout",
          "text": [
            "Time elapsed for optimizer.__name__ = 'Adam', kwarg = {'learning_rate': 0.0005}, batch = 256, epoch= 10 is 5.502290268739064 min\n",
            "Epochs = 10, batch size = 512\n"
          ]
        },
        {
          "output_type": "stream",
          "name": "stderr",
          "text": [
            "<ipython-input-8-923826969e64>:50: FutureWarning: The frame.append method is deprecated and will be removed from pandas in a future version. Use pandas.concat instead.\n",
            "  result_df = result_df.append(new_data, ignore_index=True)\n"
          ]
        },
        {
          "output_type": "stream",
          "name": "stdout",
          "text": [
            "Time elapsed for optimizer.__name__ = 'Adam', kwarg = {'learning_rate': 0.0005}, batch = 512, epoch= 10 is 5.3646121223767596 min\n",
            "Fitting model using optimizer.__name__ = 'Adamax'\n"
          ]
        },
        {
          "output_type": "stream",
          "name": "stderr",
          "text": [
            "<ipython-input-8-923826969e64>:50: FutureWarning: The frame.append method is deprecated and will be removed from pandas in a future version. Use pandas.concat instead.\n",
            "  result_df = result_df.append(new_data, ignore_index=True)\n"
          ]
        },
        {
          "output_type": "stream",
          "name": "stdout",
          "text": [
            "Epochs = 10, batch size = 64\n",
            "Time elapsed for optimizer.__name__ = 'Adamax', kwarg = {'learning_rate': 0.0005}, batch = 64, epoch= 10 is 7.247229675451915 min\n",
            "Epochs = 10, batch size = 128\n"
          ]
        },
        {
          "output_type": "stream",
          "name": "stderr",
          "text": [
            "<ipython-input-8-923826969e64>:50: FutureWarning: The frame.append method is deprecated and will be removed from pandas in a future version. Use pandas.concat instead.\n",
            "  result_df = result_df.append(new_data, ignore_index=True)\n"
          ]
        },
        {
          "output_type": "stream",
          "name": "stdout",
          "text": [
            "Time elapsed for optimizer.__name__ = 'Adamax', kwarg = {'learning_rate': 0.0005}, batch = 128, epoch= 10 is 5.8362651586532595 min\n",
            "Epochs = 10, batch size = 256\n"
          ]
        },
        {
          "output_type": "stream",
          "name": "stderr",
          "text": [
            "<ipython-input-8-923826969e64>:50: FutureWarning: The frame.append method is deprecated and will be removed from pandas in a future version. Use pandas.concat instead.\n",
            "  result_df = result_df.append(new_data, ignore_index=True)\n"
          ]
        },
        {
          "output_type": "stream",
          "name": "stdout",
          "text": [
            "Time elapsed for optimizer.__name__ = 'Adamax', kwarg = {'learning_rate': 0.0005}, batch = 256, epoch= 10 is 5.526667745908101 min\n",
            "Epochs = 10, batch size = 512\n"
          ]
        },
        {
          "output_type": "stream",
          "name": "stderr",
          "text": [
            "<ipython-input-8-923826969e64>:50: FutureWarning: The frame.append method is deprecated and will be removed from pandas in a future version. Use pandas.concat instead.\n",
            "  result_df = result_df.append(new_data, ignore_index=True)\n"
          ]
        },
        {
          "output_type": "stream",
          "name": "stdout",
          "text": [
            "Time elapsed for optimizer.__name__ = 'Adamax', kwarg = {'learning_rate': 0.0005}, batch = 512, epoch= 10 is 5.373407514890035 min\n",
            "Fitting model using optimizer.__name__ = 'Nadam'\n",
            "Epochs = 10, batch size = 64\n"
          ]
        },
        {
          "output_type": "stream",
          "name": "stderr",
          "text": [
            "<ipython-input-8-923826969e64>:50: FutureWarning: The frame.append method is deprecated and will be removed from pandas in a future version. Use pandas.concat instead.\n",
            "  result_df = result_df.append(new_data, ignore_index=True)\n"
          ]
        },
        {
          "output_type": "stream",
          "name": "stdout",
          "text": [
            "Time elapsed for optimizer.__name__ = 'Nadam', kwarg = {'learning_rate': 0.0005}, batch = 64, epoch= 10 is 7.372383244832357 min\n",
            "Epochs = 10, batch size = 128\n"
          ]
        },
        {
          "output_type": "stream",
          "name": "stderr",
          "text": [
            "<ipython-input-8-923826969e64>:50: FutureWarning: The frame.append method is deprecated and will be removed from pandas in a future version. Use pandas.concat instead.\n",
            "  result_df = result_df.append(new_data, ignore_index=True)\n"
          ]
        },
        {
          "output_type": "stream",
          "name": "stdout",
          "text": [
            "Time elapsed for optimizer.__name__ = 'Nadam', kwarg = {'learning_rate': 0.0005}, batch = 128, epoch= 10 is 5.9081946094830835 min\n",
            "Epochs = 10, batch size = 256\n"
          ]
        },
        {
          "output_type": "stream",
          "name": "stderr",
          "text": [
            "<ipython-input-8-923826969e64>:50: FutureWarning: The frame.append method is deprecated and will be removed from pandas in a future version. Use pandas.concat instead.\n",
            "  result_df = result_df.append(new_data, ignore_index=True)\n"
          ]
        },
        {
          "output_type": "stream",
          "name": "stdout",
          "text": [
            "Time elapsed for optimizer.__name__ = 'Nadam', kwarg = {'learning_rate': 0.0005}, batch = 256, epoch= 10 is 5.5660344878832495 min\n",
            "Epochs = 10, batch size = 512\n"
          ]
        },
        {
          "output_type": "stream",
          "name": "stderr",
          "text": [
            "<ipython-input-8-923826969e64>:50: FutureWarning: The frame.append method is deprecated and will be removed from pandas in a future version. Use pandas.concat instead.\n",
            "  result_df = result_df.append(new_data, ignore_index=True)\n"
          ]
        },
        {
          "output_type": "stream",
          "name": "stdout",
          "text": [
            "Time elapsed for optimizer.__name__ = 'Nadam', kwarg = {'learning_rate': 0.0005}, batch = 512, epoch= 10 is 5.407666412989299 min\n"
          ]
        },
        {
          "output_type": "stream",
          "name": "stderr",
          "text": [
            "<ipython-input-8-923826969e64>:50: FutureWarning: The frame.append method is deprecated and will be removed from pandas in a future version. Use pandas.concat instead.\n",
            "  result_df = result_df.append(new_data, ignore_index=True)\n"
          ]
        },
        {
          "output_type": "execute_result",
          "data": {
            "text/plain": [
              "      Name                     Kwargs  Batch_size  Epochs  Accuracy\n",
              "0     Adam   {'learning_rate': 0.001}          64       5    0.8728\n",
              "1     Adam   {'learning_rate': 0.001}          64       5    0.8705\n",
              "2     Adam   {'learning_rate': 0.001}          64      10    0.8700\n",
              "3     Adam   {'learning_rate': 0.001}          64      20    0.8850\n",
              "4     Adam   {'learning_rate': 0.001}          64      30    0.8731\n",
              "..     ...                        ...         ...     ...       ...\n",
              "57  Adamax  {'learning_rate': 0.0005}         512      10    0.8941\n",
              "58   Nadam  {'learning_rate': 0.0005}          64      10    0.8894\n",
              "59   Nadam  {'learning_rate': 0.0005}         128      10    0.8827\n",
              "60   Nadam  {'learning_rate': 0.0005}         256      10    0.8786\n",
              "61   Nadam  {'learning_rate': 0.0005}         512      10    0.8863\n",
              "\n",
              "[62 rows x 5 columns]"
            ],
            "text/html": [
              "\n",
              "  <div id=\"df-928d7df1-71ee-4072-a930-69bbc3fe3d70\" class=\"colab-df-container\">\n",
              "    <div>\n",
              "<style scoped>\n",
              "    .dataframe tbody tr th:only-of-type {\n",
              "        vertical-align: middle;\n",
              "    }\n",
              "\n",
              "    .dataframe tbody tr th {\n",
              "        vertical-align: top;\n",
              "    }\n",
              "\n",
              "    .dataframe thead th {\n",
              "        text-align: right;\n",
              "    }\n",
              "</style>\n",
              "<table border=\"1\" class=\"dataframe\">\n",
              "  <thead>\n",
              "    <tr style=\"text-align: right;\">\n",
              "      <th></th>\n",
              "      <th>Name</th>\n",
              "      <th>Kwargs</th>\n",
              "      <th>Batch_size</th>\n",
              "      <th>Epochs</th>\n",
              "      <th>Accuracy</th>\n",
              "    </tr>\n",
              "  </thead>\n",
              "  <tbody>\n",
              "    <tr>\n",
              "      <th>0</th>\n",
              "      <td>Adam</td>\n",
              "      <td>{'learning_rate': 0.001}</td>\n",
              "      <td>64</td>\n",
              "      <td>5</td>\n",
              "      <td>0.8728</td>\n",
              "    </tr>\n",
              "    <tr>\n",
              "      <th>1</th>\n",
              "      <td>Adam</td>\n",
              "      <td>{'learning_rate': 0.001}</td>\n",
              "      <td>64</td>\n",
              "      <td>5</td>\n",
              "      <td>0.8705</td>\n",
              "    </tr>\n",
              "    <tr>\n",
              "      <th>2</th>\n",
              "      <td>Adam</td>\n",
              "      <td>{'learning_rate': 0.001}</td>\n",
              "      <td>64</td>\n",
              "      <td>10</td>\n",
              "      <td>0.8700</td>\n",
              "    </tr>\n",
              "    <tr>\n",
              "      <th>3</th>\n",
              "      <td>Adam</td>\n",
              "      <td>{'learning_rate': 0.001}</td>\n",
              "      <td>64</td>\n",
              "      <td>20</td>\n",
              "      <td>0.8850</td>\n",
              "    </tr>\n",
              "    <tr>\n",
              "      <th>4</th>\n",
              "      <td>Adam</td>\n",
              "      <td>{'learning_rate': 0.001}</td>\n",
              "      <td>64</td>\n",
              "      <td>30</td>\n",
              "      <td>0.8731</td>\n",
              "    </tr>\n",
              "    <tr>\n",
              "      <th>...</th>\n",
              "      <td>...</td>\n",
              "      <td>...</td>\n",
              "      <td>...</td>\n",
              "      <td>...</td>\n",
              "      <td>...</td>\n",
              "    </tr>\n",
              "    <tr>\n",
              "      <th>57</th>\n",
              "      <td>Adamax</td>\n",
              "      <td>{'learning_rate': 0.0005}</td>\n",
              "      <td>512</td>\n",
              "      <td>10</td>\n",
              "      <td>0.8941</td>\n",
              "    </tr>\n",
              "    <tr>\n",
              "      <th>58</th>\n",
              "      <td>Nadam</td>\n",
              "      <td>{'learning_rate': 0.0005}</td>\n",
              "      <td>64</td>\n",
              "      <td>10</td>\n",
              "      <td>0.8894</td>\n",
              "    </tr>\n",
              "    <tr>\n",
              "      <th>59</th>\n",
              "      <td>Nadam</td>\n",
              "      <td>{'learning_rate': 0.0005}</td>\n",
              "      <td>128</td>\n",
              "      <td>10</td>\n",
              "      <td>0.8827</td>\n",
              "    </tr>\n",
              "    <tr>\n",
              "      <th>60</th>\n",
              "      <td>Nadam</td>\n",
              "      <td>{'learning_rate': 0.0005}</td>\n",
              "      <td>256</td>\n",
              "      <td>10</td>\n",
              "      <td>0.8786</td>\n",
              "    </tr>\n",
              "    <tr>\n",
              "      <th>61</th>\n",
              "      <td>Nadam</td>\n",
              "      <td>{'learning_rate': 0.0005}</td>\n",
              "      <td>512</td>\n",
              "      <td>10</td>\n",
              "      <td>0.8863</td>\n",
              "    </tr>\n",
              "  </tbody>\n",
              "</table>\n",
              "<p>62 rows × 5 columns</p>\n",
              "</div>\n",
              "    <div class=\"colab-df-buttons\">\n",
              "\n",
              "  <div class=\"colab-df-container\">\n",
              "    <button class=\"colab-df-convert\" onclick=\"convertToInteractive('df-928d7df1-71ee-4072-a930-69bbc3fe3d70')\"\n",
              "            title=\"Convert this dataframe to an interactive table.\"\n",
              "            style=\"display:none;\">\n",
              "\n",
              "  <svg xmlns=\"http://www.w3.org/2000/svg\" height=\"24px\" viewBox=\"0 -960 960 960\">\n",
              "    <path d=\"M120-120v-720h720v720H120Zm60-500h600v-160H180v160Zm220 220h160v-160H400v160Zm0 220h160v-160H400v160ZM180-400h160v-160H180v160Zm440 0h160v-160H620v160ZM180-180h160v-160H180v160Zm440 0h160v-160H620v160Z\"/>\n",
              "  </svg>\n",
              "    </button>\n",
              "\n",
              "  <style>\n",
              "    .colab-df-container {\n",
              "      display:flex;\n",
              "      gap: 12px;\n",
              "    }\n",
              "\n",
              "    .colab-df-convert {\n",
              "      background-color: #E8F0FE;\n",
              "      border: none;\n",
              "      border-radius: 50%;\n",
              "      cursor: pointer;\n",
              "      display: none;\n",
              "      fill: #1967D2;\n",
              "      height: 32px;\n",
              "      padding: 0 0 0 0;\n",
              "      width: 32px;\n",
              "    }\n",
              "\n",
              "    .colab-df-convert:hover {\n",
              "      background-color: #E2EBFA;\n",
              "      box-shadow: 0px 1px 2px rgba(60, 64, 67, 0.3), 0px 1px 3px 1px rgba(60, 64, 67, 0.15);\n",
              "      fill: #174EA6;\n",
              "    }\n",
              "\n",
              "    .colab-df-buttons div {\n",
              "      margin-bottom: 4px;\n",
              "    }\n",
              "\n",
              "    [theme=dark] .colab-df-convert {\n",
              "      background-color: #3B4455;\n",
              "      fill: #D2E3FC;\n",
              "    }\n",
              "\n",
              "    [theme=dark] .colab-df-convert:hover {\n",
              "      background-color: #434B5C;\n",
              "      box-shadow: 0px 1px 3px 1px rgba(0, 0, 0, 0.15);\n",
              "      filter: drop-shadow(0px 1px 2px rgba(0, 0, 0, 0.3));\n",
              "      fill: #FFFFFF;\n",
              "    }\n",
              "  </style>\n",
              "\n",
              "    <script>\n",
              "      const buttonEl =\n",
              "        document.querySelector('#df-928d7df1-71ee-4072-a930-69bbc3fe3d70 button.colab-df-convert');\n",
              "      buttonEl.style.display =\n",
              "        google.colab.kernel.accessAllowed ? 'block' : 'none';\n",
              "\n",
              "      async function convertToInteractive(key) {\n",
              "        const element = document.querySelector('#df-928d7df1-71ee-4072-a930-69bbc3fe3d70');\n",
              "        const dataTable =\n",
              "          await google.colab.kernel.invokeFunction('convertToInteractive',\n",
              "                                                    [key], {});\n",
              "        if (!dataTable) return;\n",
              "\n",
              "        const docLinkHtml = 'Like what you see? Visit the ' +\n",
              "          '<a target=\"_blank\" href=https://colab.research.google.com/notebooks/data_table.ipynb>data table notebook</a>'\n",
              "          + ' to learn more about interactive tables.';\n",
              "        element.innerHTML = '';\n",
              "        dataTable['output_type'] = 'display_data';\n",
              "        await google.colab.output.renderOutput(dataTable, element);\n",
              "        const docLink = document.createElement('div');\n",
              "        docLink.innerHTML = docLinkHtml;\n",
              "        element.appendChild(docLink);\n",
              "      }\n",
              "    </script>\n",
              "  </div>\n",
              "\n",
              "\n",
              "<div id=\"df-48e345ed-fea3-4ef4-938d-a1695b451e95\">\n",
              "  <button class=\"colab-df-quickchart\" onclick=\"quickchart('df-48e345ed-fea3-4ef4-938d-a1695b451e95')\"\n",
              "            title=\"Suggest charts.\"\n",
              "            style=\"display:none;\">\n",
              "\n",
              "<svg xmlns=\"http://www.w3.org/2000/svg\" height=\"24px\"viewBox=\"0 0 24 24\"\n",
              "     width=\"24px\">\n",
              "    <g>\n",
              "        <path d=\"M19 3H5c-1.1 0-2 .9-2 2v14c0 1.1.9 2 2 2h14c1.1 0 2-.9 2-2V5c0-1.1-.9-2-2-2zM9 17H7v-7h2v7zm4 0h-2V7h2v10zm4 0h-2v-4h2v4z\"/>\n",
              "    </g>\n",
              "</svg>\n",
              "  </button>\n",
              "\n",
              "<style>\n",
              "  .colab-df-quickchart {\n",
              "      --bg-color: #E8F0FE;\n",
              "      --fill-color: #1967D2;\n",
              "      --hover-bg-color: #E2EBFA;\n",
              "      --hover-fill-color: #174EA6;\n",
              "      --disabled-fill-color: #AAA;\n",
              "      --disabled-bg-color: #DDD;\n",
              "  }\n",
              "\n",
              "  [theme=dark] .colab-df-quickchart {\n",
              "      --bg-color: #3B4455;\n",
              "      --fill-color: #D2E3FC;\n",
              "      --hover-bg-color: #434B5C;\n",
              "      --hover-fill-color: #FFFFFF;\n",
              "      --disabled-bg-color: #3B4455;\n",
              "      --disabled-fill-color: #666;\n",
              "  }\n",
              "\n",
              "  .colab-df-quickchart {\n",
              "    background-color: var(--bg-color);\n",
              "    border: none;\n",
              "    border-radius: 50%;\n",
              "    cursor: pointer;\n",
              "    display: none;\n",
              "    fill: var(--fill-color);\n",
              "    height: 32px;\n",
              "    padding: 0;\n",
              "    width: 32px;\n",
              "  }\n",
              "\n",
              "  .colab-df-quickchart:hover {\n",
              "    background-color: var(--hover-bg-color);\n",
              "    box-shadow: 0 1px 2px rgba(60, 64, 67, 0.3), 0 1px 3px 1px rgba(60, 64, 67, 0.15);\n",
              "    fill: var(--button-hover-fill-color);\n",
              "  }\n",
              "\n",
              "  .colab-df-quickchart-complete:disabled,\n",
              "  .colab-df-quickchart-complete:disabled:hover {\n",
              "    background-color: var(--disabled-bg-color);\n",
              "    fill: var(--disabled-fill-color);\n",
              "    box-shadow: none;\n",
              "  }\n",
              "\n",
              "  .colab-df-spinner {\n",
              "    border: 2px solid var(--fill-color);\n",
              "    border-color: transparent;\n",
              "    border-bottom-color: var(--fill-color);\n",
              "    animation:\n",
              "      spin 1s steps(1) infinite;\n",
              "  }\n",
              "\n",
              "  @keyframes spin {\n",
              "    0% {\n",
              "      border-color: transparent;\n",
              "      border-bottom-color: var(--fill-color);\n",
              "      border-left-color: var(--fill-color);\n",
              "    }\n",
              "    20% {\n",
              "      border-color: transparent;\n",
              "      border-left-color: var(--fill-color);\n",
              "      border-top-color: var(--fill-color);\n",
              "    }\n",
              "    30% {\n",
              "      border-color: transparent;\n",
              "      border-left-color: var(--fill-color);\n",
              "      border-top-color: var(--fill-color);\n",
              "      border-right-color: var(--fill-color);\n",
              "    }\n",
              "    40% {\n",
              "      border-color: transparent;\n",
              "      border-right-color: var(--fill-color);\n",
              "      border-top-color: var(--fill-color);\n",
              "    }\n",
              "    60% {\n",
              "      border-color: transparent;\n",
              "      border-right-color: var(--fill-color);\n",
              "    }\n",
              "    80% {\n",
              "      border-color: transparent;\n",
              "      border-right-color: var(--fill-color);\n",
              "      border-bottom-color: var(--fill-color);\n",
              "    }\n",
              "    90% {\n",
              "      border-color: transparent;\n",
              "      border-bottom-color: var(--fill-color);\n",
              "    }\n",
              "  }\n",
              "</style>\n",
              "\n",
              "  <script>\n",
              "    async function quickchart(key) {\n",
              "      const quickchartButtonEl =\n",
              "        document.querySelector('#' + key + ' button');\n",
              "      quickchartButtonEl.disabled = true;  // To prevent multiple clicks.\n",
              "      quickchartButtonEl.classList.add('colab-df-spinner');\n",
              "      try {\n",
              "        const charts = await google.colab.kernel.invokeFunction(\n",
              "            'suggestCharts', [key], {});\n",
              "      } catch (error) {\n",
              "        console.error('Error during call to suggestCharts:', error);\n",
              "      }\n",
              "      quickchartButtonEl.classList.remove('colab-df-spinner');\n",
              "      quickchartButtonEl.classList.add('colab-df-quickchart-complete');\n",
              "    }\n",
              "    (() => {\n",
              "      let quickchartButtonEl =\n",
              "        document.querySelector('#df-48e345ed-fea3-4ef4-938d-a1695b451e95 button');\n",
              "      quickchartButtonEl.style.display =\n",
              "        google.colab.kernel.accessAllowed ? 'block' : 'none';\n",
              "    })();\n",
              "  </script>\n",
              "</div>\n",
              "    </div>\n",
              "  </div>\n"
            ]
          },
          "metadata": {},
          "execution_count": 13
        }
      ]
    },
    {
      "cell_type": "code",
      "source": [
        "df_loaded_from_drive = pd.read_csv('/content/drive/MyDrive/IDL/A1/IDL_A1_convolution_default.csv')\n",
        "df_loaded_from_drive['Accuracy']"
      ],
      "metadata": {
        "colab": {
          "base_uri": "https://localhost:8080/"
        },
        "id": "iw_rpSxwOjTz",
        "outputId": "fe65797a-65ae-47f3-bdf2-23d8b294282a"
      },
      "execution_count": null,
      "outputs": [
        {
          "output_type": "execute_result",
          "data": {
            "text/plain": [
              "0     0.8728\n",
              "1     0.8705\n",
              "2     0.8700\n",
              "3     0.8850\n",
              "4     0.8731\n",
              "       ...  \n",
              "57    0.8941\n",
              "58    0.8894\n",
              "59    0.8827\n",
              "60    0.8786\n",
              "61    0.8863\n",
              "Name: Accuracy, Length: 62, dtype: float64"
            ]
          },
          "metadata": {},
          "execution_count": 15
        }
      ]
    },
    {
      "cell_type": "code",
      "source": [
        "def Accuracy_Epoch_batch_plot(df_results):\n",
        "    fig, axes = plt.subplots(1, 2, figsize=(10, 4))\n",
        "\n",
        "    # Create a colormap based on unique names\n",
        "    unique_names = df_results['Name'].unique()\n",
        "    num_colors = len(unique_names)\n",
        "    colormap = plt.cm.get_cmap('plasma', num_colors)\n",
        "\n",
        "    # Plot something in the first subplot\n",
        "    for i, (name, group) in enumerate(df_results.groupby('Name')):\n",
        "        axes[0].plot(group['Epochs'], group['Accuracy'], \".\", label=name, color=colormap(i / (num_colors - 1)))\n",
        "\n",
        "    axes[0].set_title('Epochs VS Accuracy')\n",
        "    axes[0].set_xlabel(\"Epochs\")\n",
        "    axes[0].set_ylabel(\"Accuracy\")\n",
        "    axes[0].set_facecolor('lightgray')\n",
        "    axes[0].grid()\n",
        "\n",
        "    # Plot something in the second subplot\n",
        "    for i, (name, group) in enumerate(df_results.groupby('Name')):\n",
        "        axes[1].plot(group['Batch_size'], group['Accuracy'], \".\", label=name, color=colormap(i / (num_colors - 1)))\n",
        "\n",
        "    axes[1].set_title('Batch size VS Accuracy')\n",
        "    axes[1].set_xlabel(\"Batch size\")\n",
        "    axes[1].legend(loc=(1.05, 0.25))\n",
        "    axes[1].set_facecolor('lightgray')\n",
        "    axes[1].grid()\n",
        "\n",
        "    # Display the plot\n",
        "    plt.show()\n",
        "\n",
        "\n",
        "Accuracy_Epoch_batch_plot(df_loaded_from_drive)"
      ],
      "metadata": {
        "colab": {
          "base_uri": "https://localhost:8080/",
          "height": 385
        },
        "id": "o1ekhZWTlsA4",
        "outputId": "595f62e6-1b67-4538-bf1a-0e21f31dc7ac"
      },
      "execution_count": null,
      "outputs": [
        {
          "output_type": "stream",
          "name": "stderr",
          "text": [
            "<ipython-input-16-2eed5d88f5da>:7: MatplotlibDeprecationWarning: The get_cmap function was deprecated in Matplotlib 3.7 and will be removed two minor releases later. Use ``matplotlib.colormaps[name]`` or ``matplotlib.colormaps.get_cmap(obj)`` instead.\n",
            "  colormap = plt.cm.get_cmap('plasma', num_colors)\n"
          ]
        },
        {
          "output_type": "display_data",
          "data": {
            "text/plain": [
              "<Figure size 1000x400 with 2 Axes>"
            ],
            "image/png": "[encoded data removed]"
          },
          "metadata": {}
        }
      ]
    },
    {
      "cell_type": "code",
      "source": [
        "def Top3(results):\n",
        "  accuracies = results['Accuracy']\n",
        "  top3 = [np.argsort(accuracies)[-3:][::-1]][0] # [::-1] is for reverse order, such that the highest accuracy is value 1 in the top5\n",
        "  for i in top3:\n",
        "    print(\"\\nModel:\")\n",
        "    print(results.iloc[i])\n",
        "\n",
        "\n",
        "Top3(df_loaded_from_drive)"
      ],
      "metadata": {
        "colab": {
          "base_uri": "https://localhost:8080/"
        },
        "id": "vi1aTNHif0lf",
        "outputId": "ba5f8a96-2b88-4e27-d4cc-aa89bf5fad84"
      },
      "execution_count": null,
      "outputs": [
        {
          "output_type": "stream",
          "name": "stdout",
          "text": [
            "\n",
            "Model:\n",
            "Name                             Adamax\n",
            "Kwargs        {'learning_rate': 0.0005}\n",
            "Batch_size                          128\n",
            "Epochs                               10\n",
            "Accuracy                         0.9047\n",
            "Name: 55, dtype: object\n",
            "\n",
            "Model:\n",
            "Name                            Adamax\n",
            "Kwargs        {'learning_rate': 0.001}\n",
            "Batch_size                         256\n",
            "Epochs                              10\n",
            "Accuracy                        0.9032\n",
            "Name: 24, dtype: object\n",
            "\n",
            "Model:\n",
            "Name                            Adamax\n",
            "Kwargs        {'learning_rate': 0.001}\n",
            "Batch_size                         512\n",
            "Epochs                              20\n",
            "Accuracy                        0.9004\n",
            "Name: 46, dtype: object\n"
          ]
        }
      ]
    },
    {
      "cell_type": "markdown",
      "source": [
        "# CIFAR 10 dataset"
      ],
      "metadata": {
        "id": "cb3dfQZtCirP"
      }
    },
    {
      "cell_type": "markdown",
      "source": [
        "Use the 3 best models to train new models on the CIFAR 10 data set. This is a dataset of 50,000 32x32 color training images and 10,000 test images, labeled over 10 categories. The objects are vehicles and animals.\n",
        "\n",
        "Apply our best 3 architectures and hyperparameters (incl. optimizer)."
      ],
      "metadata": {
        "id": "X_qvpEY1CKAk"
      }
    },
    {
      "cell_type": "code",
      "source": [
        "(X_train_CIFAR, y_train_CIFAR), (X_test_CIFAR, y_test_CIFAR) = keras.datasets.cifar10.load_data()"
      ],
      "metadata": {
        "id": "0tfsXbkPCHw0",
        "colab": {
          "base_uri": "https://localhost:8080/"
        },
        "outputId": "a137aa1c-e86b-4590-e4f8-b69b01711dec"
      },
      "execution_count": null,
      "outputs": [
        {
          "output_type": "stream",
          "name": "stdout",
          "text": [
            "Downloading data from https://www.cs.toronto.edu/~kriz/cifar-10-python.tar.gz\n",
            "170498071/170498071 [==============================] - 4s 0us/step\n"
          ]
        }
      ]
    },
    {
      "cell_type": "code",
      "source": [
        "X_train_CIFAR.shape"
      ],
      "metadata": {
        "colab": {
          "base_uri": "https://localhost:8080/"
        },
        "id": "eFNW26RimUG2",
        "outputId": "b08be810-c9c0-42b4-8f3a-e741b9ae05d9"
      },
      "execution_count": null,
      "outputs": [
        {
          "output_type": "execute_result",
          "data": {
            "text/plain": [
              "(50000, 32, 32, 3)"
            ]
          },
          "metadata": {},
          "execution_count": 28
        }
      ]
    },
    {
      "cell_type": "code",
      "source": [
        "# plot an instance\n",
        "plt.imshow(X_train_CIFAR[0,:,:,:])\n",
        "print(y_train_CIFAR[0])"
      ],
      "metadata": {
        "colab": {
          "base_uri": "https://localhost:8080/",
          "height": 448
        },
        "id": "iYPGhO8EtL9s",
        "outputId": "1dda5ada-3489-48e5-813d-f3a66eccc752"
      },
      "execution_count": null,
      "outputs": [
        {
          "output_type": "stream",
          "name": "stdout",
          "text": [
            "[6]\n"
          ]
        },
        {
          "output_type": "display_data",
          "data": {
            "text/plain": [
              "<Figure size 640x480 with 1 Axes>"
            ],
            "image/png": "[encoded data removed]"
          },
          "metadata": {}
        }
      ]
    },
    {
      "cell_type": "code",
      "source": [
        "y_train_CIFAR.shape"
      ],
      "metadata": {
        "colab": {
          "base_uri": "https://localhost:8080/"
        },
        "id": "zqHlCa7-mxpg",
        "outputId": "879299cc-301c-4186-df5c-1328621cf411"
      },
      "execution_count": null,
      "outputs": [
        {
          "output_type": "execute_result",
          "data": {
            "text/plain": [
              "(50000, 1)"
            ]
          },
          "metadata": {},
          "execution_count": 29
        }
      ]
    },
    {
      "cell_type": "markdown",
      "source": [
        "Note we must change our input shape as we now have 32x32 images."
      ],
      "metadata": {
        "id": "svrnln4wlsml"
      }
    },
    {
      "cell_type": "code",
      "source": [
        "convolution_model_cifar ={\n",
        "    'shape':((32, 32, 3), 10),\n",
        "    'output': ('dense', {'units': 10, 'activation': 'softmax'}),\n",
        "    'layers':[\n",
        "        ('conv', {'filters':64, 'kernel_size': 7, 'activation': 'relu', 'padding': 'same'}),\n",
        "        ('maxpooling', {'pool_size': (2,2)}),\n",
        "        ('conv', {'filters': 128, 'kernel_size': 3, 'activation': 'relu', 'padding': 'same'}),\n",
        "        ('conv', {'filters': 128, 'kernel_size': 3, 'activation': 'relu', 'padding': 'same'}),\n",
        "        ('maxpooling', {'pool_size': (2,2)}),\n",
        "        ('conv', {'filters': 256, 'kernel_size': 3, 'activation': 'relu', 'padding': 'same'}),\n",
        "        ('conv', {'filters': 256, 'kernel_size': 3, 'activation': 'relu', 'padding': 'same'}),\n",
        "        ('maxpooling', {'pool_size': (2,2)}),\n",
        "        ('flatten', {}),\n",
        "        ('dense', {'units': 128, 'activation': 'relu'}),\n",
        "        ('dropout', {'rate': 0.5}),\n",
        "        ('dense', {'units': 64, 'activation': 'relu'}),\n",
        "        ('dropout', {'rate': 0.5}),\n",
        "\n",
        "    ]\n",
        "}"
      ],
      "metadata": {
        "id": "vPSebmyplxpq"
      },
      "execution_count": null,
      "outputs": []
    },
    {
      "cell_type": "code",
      "source": [
        "adamax_b128_e10_le_low = test_networks_V2([convolution_model_cifar],\n",
        "                       [\n",
        "                        (keras.optimizers.Adamax,  {'learning_rate': 0.0005}),\n",
        "                       ],\n",
        "\n",
        "                        batch_sizes = [128],\n",
        "                        epochs = [10],\n",
        "                        input_shape = convolution_model_cifar['shape'][0],\n",
        "                        X_train = X_train_CIFAR,\n",
        "                        y_train = y_train_CIFAR,\n",
        "                        X_test = X_test_CIFAR,\n",
        "                        y_test = y_test_CIFAR,\n",
        "\n",
        "                        print_steps=True,\n",
        "                        time_check=True,\n",
        "                       filename='none',\n",
        "                        steps_per_execution=1000,\n",
        "                        save=False\n",
        "\n",
        "                       )"
      ],
      "metadata": {
        "id": "ADZvewD4CHuB",
        "colab": {
          "base_uri": "https://localhost:8080/"
        },
        "outputId": "2a5e3c49-3139-4b83-87a9-4c99a37cfb7c"
      },
      "execution_count": null,
      "outputs": [
        {
          "output_type": "stream",
          "name": "stdout",
          "text": [
            "Could not find filename ='none'\n",
            "Fitting model using optimizer.__name__ = 'Adamax'\n",
            "Epochs = 10, batch size = 128\n",
            "Time elapsed for optimizer.__name__ = 'Adamax', kwarg = {'learning_rate': 0.0005}, batch = 128, epoch= 10 is 6.69060906569163 min\n"
          ]
        },
        {
          "output_type": "stream",
          "name": "stderr",
          "text": [
            "<ipython-input-8-923826969e64>:50: FutureWarning: The frame.append method is deprecated and will be removed from pandas in a future version. Use pandas.concat instead.\n",
            "  result_df = result_df.append(new_data, ignore_index=True)\n"
          ]
        }
      ]
    },
    {
      "cell_type": "code",
      "source": [
        "adamax_b256_e10_le_default = test_networks_V2([convolution_model_cifar],\n",
        "                       [\n",
        "                        (keras.optimizers.Adamax,  {'learning_rate': 0.001}),\n",
        "                       ],\n",
        "\n",
        "                        batch_sizes = [256],\n",
        "                        epochs = [10],\n",
        "                        input_shape = convolution_model_cifar['shape'][0],\n",
        "                        X_train = X_train_CIFAR,\n",
        "                        y_train = y_train_CIFAR,\n",
        "                        X_test = X_test_CIFAR,\n",
        "                        y_test = y_test_CIFAR,\n",
        "\n",
        "                        print_steps=True,\n",
        "                        time_check=True,\n",
        "                       filename='none',\n",
        "                        steps_per_execution=1000,\n",
        "                        save=False\n",
        "\n",
        "                       )"
      ],
      "metadata": {
        "id": "WYkteRW7CHro",
        "colab": {
          "base_uri": "https://localhost:8080/"
        },
        "outputId": "75f6d471-50c3-4aff-b126-e3f6d9bbe320"
      },
      "execution_count": null,
      "outputs": [
        {
          "output_type": "stream",
          "name": "stdout",
          "text": [
            "Could not find filename ='none'\n",
            "Fitting model using optimizer.__name__ = 'Adamax'\n",
            "Epochs = 10, batch size = 256\n",
            "Time elapsed for optimizer.__name__ = 'Adamax', kwarg = {'learning_rate': 0.001}, batch = 256, epoch= 10 is 6.33408176501592 min\n"
          ]
        },
        {
          "output_type": "stream",
          "name": "stderr",
          "text": [
            "<ipython-input-8-923826969e64>:50: FutureWarning: The frame.append method is deprecated and will be removed from pandas in a future version. Use pandas.concat instead.\n",
            "  result_df = result_df.append(new_data, ignore_index=True)\n"
          ]
        }
      ]
    },
    {
      "cell_type": "code",
      "source": [
        "adamax_b512_e20_le_default = test_networks_V2([convolution_model_cifar],\n",
        "                       [\n",
        "                        (keras.optimizers.Adamax,  {'learning_rate': 0.001}),\n",
        "                       ],\n",
        "\n",
        "                        batch_sizes = [512],\n",
        "                        epochs = [20],\n",
        "                        input_shape = convolution_model_cifar['shape'][0],\n",
        "                        X_train = X_train_CIFAR,\n",
        "                        y_train = y_train_CIFAR,\n",
        "                        X_test = X_test_CIFAR,\n",
        "                        y_test = y_test_CIFAR,\n",
        "\n",
        "                        print_steps=True,\n",
        "                        time_check=True,\n",
        "                       filename='none',\n",
        "                        steps_per_execution=1000,\n",
        "                        save=False\n",
        "\n",
        "                       )"
      ],
      "metadata": {
        "id": "UYJSOGXsCHpf",
        "colab": {
          "base_uri": "https://localhost:8080/"
        },
        "outputId": "4f0e366a-3232-4441-cd82-e403717e07e3"
      },
      "execution_count": null,
      "outputs": [
        {
          "output_type": "stream",
          "name": "stdout",
          "text": [
            "Could not find filename ='none'\n",
            "Fitting model using optimizer.__name__ = 'Adamax'\n",
            "Epochs = 20, batch size = 512\n",
            "Time elapsed for optimizer.__name__ = 'Adamax', kwarg = {'learning_rate': 0.001}, batch = 512, epoch= 20 is 12.236103951931 min\n"
          ]
        },
        {
          "output_type": "stream",
          "name": "stderr",
          "text": [
            "<ipython-input-8-923826969e64>:50: FutureWarning: The frame.append method is deprecated and will be removed from pandas in a future version. Use pandas.concat instead.\n",
            "  result_df = result_df.append(new_data, ignore_index=True)\n"
          ]
        }
      ]
    },
    {
      "cell_type": "code",
      "source": [
        "top3_on_CIFAR = pd.concat([adamax_b128_e10_le_low,\n",
        "                           adamax_b256_e10_le_default,\n",
        "                           adamax_b512_e20_le_default], axis=1)\n",
        "\n",
        "top3_on_CIFAR"
      ],
      "metadata": {
        "id": "VD3q8wLKCHnE",
        "colab": {
          "base_uri": "https://localhost:8080/",
          "height": 118
        },
        "outputId": "81545a86-9134-4401-b984-b8e6632610e8"
      },
      "execution_count": null,
      "outputs": [
        {
          "output_type": "execute_result",
          "data": {
            "text/plain": [
              "     Name                     Kwargs Batch_size Epochs  Accuracy    Name  \\\n",
              "0  Adamax  {'learning_rate': 0.0005}        128     10    0.4854  Adamax   \n",
              "\n",
              "                     Kwargs Batch_size Epochs  Accuracy    Name  \\\n",
              "0  {'learning_rate': 0.001}        256     10    0.4563  Adamax   \n",
              "\n",
              "                     Kwargs Batch_size Epochs  Accuracy  \n",
              "0  {'learning_rate': 0.001}        512     20    0.5249  "
            ],
            "text/html": [
              "\n",
              "  <div id=\"df-c491c5be-33a0-4a81-95f4-a473cefe258d\" class=\"colab-df-container\">\n",
              "    <div>\n",
              "<style scoped>\n",
              "    .dataframe tbody tr th:only-of-type {\n",
              "        vertical-align: middle;\n",
              "    }\n",
              "\n",
              "    .dataframe tbody tr th {\n",
              "        vertical-align: top;\n",
              "    }\n",
              "\n",
              "    .dataframe thead th {\n",
              "        text-align: right;\n",
              "    }\n",
              "</style>\n",
              "<table border=\"1\" class=\"dataframe\">\n",
              "  <thead>\n",
              "    <tr style=\"text-align: right;\">\n",
              "      <th></th>\n",
              "      <th>Name</th>\n",
              "      <th>Kwargs</th>\n",
              "      <th>Batch_size</th>\n",
              "      <th>Epochs</th>\n",
              "      <th>Accuracy</th>\n",
              "      <th>Name</th>\n",
              "      <th>Kwargs</th>\n",
              "      <th>Batch_size</th>\n",
              "      <th>Epochs</th>\n",
              "      <th>Accuracy</th>\n",
              "      <th>Name</th>\n",
              "      <th>Kwargs</th>\n",
              "      <th>Batch_size</th>\n",
              "      <th>Epochs</th>\n",
              "      <th>Accuracy</th>\n",
              "    </tr>\n",
              "  </thead>\n",
              "  <tbody>\n",
              "    <tr>\n",
              "      <th>0</th>\n",
              "      <td>Adamax</td>\n",
              "      <td>{'learning_rate': 0.0005}</td>\n",
              "      <td>128</td>\n",
              "      <td>10</td>\n",
              "      <td>0.4854</td>\n",
              "      <td>Adamax</td>\n",
              "      <td>{'learning_rate': 0.001}</td>\n",
              "      <td>256</td>\n",
              "      <td>10</td>\n",
              "      <td>0.4563</td>\n",
              "      <td>Adamax</td>\n",
              "      <td>{'learning_rate': 0.001}</td>\n",
              "      <td>512</td>\n",
              "      <td>20</td>\n",
              "      <td>0.5249</td>\n",
              "    </tr>\n",
              "  </tbody>\n",
              "</table>\n",
              "</div>\n",
              "    <div class=\"colab-df-buttons\">\n",
              "\n",
              "  <div class=\"colab-df-container\">\n",
              "    <button class=\"colab-df-convert\" onclick=\"convertToInteractive('df-c491c5be-33a0-4a81-95f4-a473cefe258d')\"\n",
              "            title=\"Convert this dataframe to an interactive table.\"\n",
              "            style=\"display:none;\">\n",
              "\n",
              "  <svg xmlns=\"http://www.w3.org/2000/svg\" height=\"24px\" viewBox=\"0 -960 960 960\">\n",
              "    <path d=\"M120-120v-720h720v720H120Zm60-500h600v-160H180v160Zm220 220h160v-160H400v160Zm0 220h160v-160H400v160ZM180-400h160v-160H180v160Zm440 0h160v-160H620v160ZM180-180h160v-160H180v160Zm440 0h160v-160H620v160Z\"/>\n",
              "  </svg>\n",
              "    </button>\n",
              "\n",
              "  <style>\n",
              "    .colab-df-container {\n",
              "      display:flex;\n",
              "      gap: 12px;\n",
              "    }\n",
              "\n",
              "    .colab-df-convert {\n",
              "      background-color: #E8F0FE;\n",
              "      border: none;\n",
              "      border-radius: 50%;\n",
              "      cursor: pointer;\n",
              "      display: none;\n",
              "      fill: #1967D2;\n",
              "      height: 32px;\n",
              "      padding: 0 0 0 0;\n",
              "      width: 32px;\n",
              "    }\n",
              "\n",
              "    .colab-df-convert:hover {\n",
              "      background-color: #E2EBFA;\n",
              "      box-shadow: 0px 1px 2px rgba(60, 64, 67, 0.3), 0px 1px 3px 1px rgba(60, 64, 67, 0.15);\n",
              "      fill: #174EA6;\n",
              "    }\n",
              "\n",
              "    .colab-df-buttons div {\n",
              "      margin-bottom: 4px;\n",
              "    }\n",
              "\n",
              "    [theme=dark] .colab-df-convert {\n",
              "      background-color: #3B4455;\n",
              "      fill: #D2E3FC;\n",
              "    }\n",
              "\n",
              "    [theme=dark] .colab-df-convert:hover {\n",
              "      background-color: #434B5C;\n",
              "      box-shadow: 0px 1px 3px 1px rgba(0, 0, 0, 0.15);\n",
              "      filter: drop-shadow(0px 1px 2px rgba(0, 0, 0, 0.3));\n",
              "      fill: #FFFFFF;\n",
              "    }\n",
              "  </style>\n",
              "\n",
              "    <script>\n",
              "      const buttonEl =\n",
              "        document.querySelector('#df-c491c5be-33a0-4a81-95f4-a473cefe258d button.colab-df-convert');\n",
              "      buttonEl.style.display =\n",
              "        google.colab.kernel.accessAllowed ? 'block' : 'none';\n",
              "\n",
              "      async function convertToInteractive(key) {\n",
              "        const element = document.querySelector('#df-c491c5be-33a0-4a81-95f4-a473cefe258d');\n",
              "        const dataTable =\n",
              "          await google.colab.kernel.invokeFunction('convertToInteractive',\n",
              "                                                    [key], {});\n",
              "        if (!dataTable) return;\n",
              "\n",
              "        const docLinkHtml = 'Like what you see? Visit the ' +\n",
              "          '<a target=\"_blank\" href=https://colab.research.google.com/notebooks/data_table.ipynb>data table notebook</a>'\n",
              "          + ' to learn more about interactive tables.';\n",
              "        element.innerHTML = '';\n",
              "        dataTable['output_type'] = 'display_data';\n",
              "        await google.colab.output.renderOutput(dataTable, element);\n",
              "        const docLink = document.createElement('div');\n",
              "        docLink.innerHTML = docLinkHtml;\n",
              "        element.appendChild(docLink);\n",
              "      }\n",
              "    </script>\n",
              "  </div>\n",
              "\n",
              "    </div>\n",
              "  </div>\n"
            ]
          },
          "metadata": {},
          "execution_count": 34
        }
      ]
    },
    {
      "cell_type": "code",
      "source": [],
      "metadata": {
        "id": "LILhMHvbCHkk"
      },
      "execution_count": null,
      "outputs": []
    },
    {
      "cell_type": "code",
      "source": [],
      "metadata": {
        "id": "QnnWfQUiCHi0"
      },
      "execution_count": null,
      "outputs": []
    },
    {
      "cell_type": "code",
      "source": [],
      "metadata": {
        "id": "yiFE6jcPCHgN"
      },
      "execution_count": null,
      "outputs": []
    },
    {
      "cell_type": "code",
      "source": [],
      "metadata": {
        "id": "FM8jCrIPCHdp"
      },
      "execution_count": null,
      "outputs": []
    },
    {
      "cell_type": "code",
      "source": [],
      "metadata": {
        "id": "AtCW0hqZCHbk"
      },
      "execution_count": null,
      "outputs": []
    },
    {
      "cell_type": "code",
      "source": [],
      "metadata": {
        "id": "A9QelLquCHYP"
      },
      "execution_count": null,
      "outputs": []
    }
  ],
  "metadata": {
    "accelerator": "TPU",
    "colab": {
      "collapsed_sections": [
        "6ceudEFhIikX",
        "b2ic28zQHv6H",
        "gPhu9yCDMSTS",
        "p9VXL2NpMYgk",
        "NTVhtIXUUruW",
        "VQxZAF47UvDx",
        "_nPv0xLnhVLB",
        "sfO6sCuDhbBr",
        "VfI-2bI8RDjX",
        "6IXni7DwSo9y",
        "o2DyMcjyTB69",
        "ejToyJTfZthC",
        "W61wWRr5CswH",
        "C1Mra7B41E3i",
        "EkXjxuueAYRh",
        "Qp8ktw3f_q1O"
      ],
      "provenance": []
    },
    "kernelspec": {
      "display_name": "Python 3",
      "name": "python3"
    },
    "language_info": {
      "name": "python"
    }
  },
  "nbformat": 4,
  "nbformat_minor": 0
}