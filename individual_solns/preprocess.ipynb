{
 "cells": [
  {
   "cell_type": "code",
   "execution_count": 1,
   "metadata": {},
   "outputs": [
    {
     "name": "stdout",
     "output_type": "stream",
     "text": [
      "c:\\Users\\menno\\Desktop\\Code\\Python\\IDL-A1\\data\\train\n"
     ]
    }
   ],
   "source": [
    "import os\n",
    "import numpy as np\n",
    "from matplotlib import image\n",
    "import matplotlib.pyplot as plt\n",
    "\n",
    "os.chdir('../')\n",
    "DATA_PATH = os.path.join(os.getcwd(), 'data', 'train')\n",
    "print(DATA_PATH)\n",
    "os.chdir('./individual_solns')"
   ]
  },
  {
   "cell_type": "code",
   "execution_count": 7,
   "metadata": {},
   "outputs": [
    {
     "name": "stdout",
     "output_type": "stream",
     "text": [
      "(10200, 32, 32, 3) (10200,)\n"
     ]
    }
   ],
   "source": [
    "def gen_data(folder, final_img_size: int, imgs_per_subtype: int = 100, max_subtypes_per_type: int = 5):\n",
    "    \"\"\"Generate new folder with training data in npy form\"\"\"\n",
    "\n",
    "    n = 256//final_img_size\n",
    "    # find all paths that will be used for the final selection\n",
    "    paths = {}\n",
    "    for subdir in os.listdir(folder):\n",
    "        if len(subdir.lower().split('.'))>1: # detected file with extension  \n",
    "            continue\n",
    "        name = subdir.split(\"___\")[0]\n",
    "        paths[name] = paths.get(name, [])\n",
    "        if len(paths[name]) <= max_subtypes_per_type:\n",
    "            paths[name].append(os.path.join(folder, subdir))\n",
    "\n",
    "    IMGS = []\n",
    "    LABELS = []\n",
    "    # get all the images \n",
    "    for name, paths in paths.items():\n",
    "        for path in paths:\n",
    "            files = list(filter(lambda file: file.lower().endswith(\".jpg\"), os.listdir(path)))\n",
    "            for file in files[: imgs_per_subtype]:\n",
    "                # load img, rescale to (256/n, 256/n, 3), n=final_img_size\n",
    "                img = image.imread(os.path.join(path, file))[::n, ::n]\n",
    "                # scale to [0, 1] range\n",
    "                IMGS.append(img/255)\n",
    "                LABELS.append(path.split('\\\\')[-1])\n",
    "\n",
    "    IMGS = np.array(IMGS)\n",
    "    LABELS = np.array(LABELS)\n",
    "    print(IMGS.shape, LABELS.shape) # print shapes to check the data\n",
    "    np.save(os.path.join(folder, f'images'), IMGS)\n",
    "    np.save(os.path.join(folder, f'labels'), LABELS)\n",
    "\n",
    "            \n",
    "gen_data(DATA_PATH, final_img_size=32, imgs_per_subtype=300)"
   ]
  },
  {
   "cell_type": "code",
   "execution_count": 2,
   "metadata": {},
   "outputs": [
    {
     "data": {
      "text/plain": [
       "<matplotlib.image.AxesImage at 0x23debb562d0>"
      ]
     },
     "execution_count": 2,
     "metadata": {},
     "output_type": "execute_result"
    },
    {
     "data": {
      "image/png": "[encoded data removed]",
      "text/plain": [
       "<Figure size 640x480 with 1 Axes>"
      ]
     },
     "metadata": {},
     "output_type": "display_data"
    }
   ],
   "source": [
    "IMG_PATH = os.path.join(DATA_PATH, 'images.npy')\n",
    "LABEL_PATH = os.path.join(DATA_PATH, 'labels.npy')\n",
    "\n",
    "X = np.load(IMG_PATH)\n",
    "y = np.load(LABEL_PATH)\n",
    "\n",
    "plt.imshow(X[0])"
   ]
  }
 ],
 "metadata": {
  "kernelspec": {
   "display_name": "p311",
   "language": "python",
   "name": "python3"
  },
  "language_info": {
   "codemirror_mode": {
    "name": "ipython",
    "version": 3
   },
   "file_extension": ".py",
   "mimetype": "text/x-python",
   "name": "python",
   "nbconvert_exporter": "python",
   "pygments_lexer": "ipython3",
   "version": "3.11.0"
  }
 },
 "nbformat": 4,
 "nbformat_minor": 2
}
