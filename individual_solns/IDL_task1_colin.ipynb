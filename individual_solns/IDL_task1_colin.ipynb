{
  "cells": [
    {
      "cell_type": "markdown",
      "metadata": {
        "id": "rQsW4PP2H5Gd"
      },
      "source": [
        "## Imports"
      ]
    },
    {
      "cell_type": "code",
      "execution_count": 26,
      "metadata": {
        "colab": {
          "base_uri": "https://localhost:8080/"
        },
        "id": "ikD5OltAkJws",
        "outputId": "d9dbffe5-260f-4ed3-f53e-0bfd1658e282"
      },
      "outputs": [
        {
          "output_type": "stream",
          "name": "stdout",
          "text": [
            "Tensorflow version:  2.12.0\n"
          ]
        },
        {
          "output_type": "stream",
          "name": "stderr",
          "text": [
            "WARNING:tensorflow:TPU system grpc://10.15.30.170:8470 has already been initialized. Reinitializing the TPU can cause previously created variables on TPU to be lost.\n"
          ]
        },
        {
          "output_type": "stream",
          "name": "stdout",
          "text": [
            "All devices: \n",
            "\tLogicalDevice(name='/job:worker/replica:0/task:0/device:TPU:0', device_type='TPU')\n",
            "\tLogicalDevice(name='/job:worker/replica:0/task:0/device:TPU:1', device_type='TPU')\n",
            "\tLogicalDevice(name='/job:worker/replica:0/task:0/device:TPU:2', device_type='TPU')\n",
            "\tLogicalDevice(name='/job:worker/replica:0/task:0/device:TPU:3', device_type='TPU')\n",
            "\tLogicalDevice(name='/job:worker/replica:0/task:0/device:TPU:4', device_type='TPU')\n",
            "\tLogicalDevice(name='/job:worker/replica:0/task:0/device:TPU:5', device_type='TPU')\n",
            "\tLogicalDevice(name='/job:worker/replica:0/task:0/device:TPU:6', device_type='TPU')\n",
            "\tLogicalDevice(name='/job:worker/replica:0/task:0/device:TPU:7', device_type='TPU')\n"
          ]
        }
      ],
      "source": [
        "import tensorflow as tf\n",
        "from tensorflow.keras.datasets import mnist\n",
        "from tensorflow.keras.models import Sequential\n",
        "from tensorflow.keras.layers import Dense, Dropout, Flatten, Conv2D, MaxPooling2D, BatchNormalization\n",
        "from tensorflow.keras import Input, Model, backend as K\n",
        "import numpy as np\n",
        "import matplotlib.pyplot as plt\n",
        "print(\"Tensorflow version: \", tf.__version__)\n",
        "from IPython.display import display\n",
        "\n",
        "from __future__ import print_function\n",
        "import keras\n",
        "from keras.datasets import mnist\n",
        "from keras.models import Sequential\n",
        "from keras.layers import Dense, Dropout, Flatten, Conv2D, MaxPooling2D\n",
        "from keras.optimizers import RMSprop\n",
        "from keras import backend as K\n",
        "\n",
        "import time\n",
        "# Needed for saving\n",
        "import pandas as pd\n",
        "\n",
        "# Enable the TPU\n",
        "resolver = tf.distribute.cluster_resolver.TPUClusterResolver(tpu='')\n",
        "tf.config.experimental_connect_to_cluster(resolver)\n",
        "# This is the TPU initialization code that has to be at the beginning.\n",
        "tf.tpu.experimental.initialize_tpu_system(resolver)\n",
        "\n",
        "print(\"All devices: \", *tf.config.list_logical_devices(\"TPU\"), sep=\"\\n\\t\")"
      ]
    },
    {
      "cell_type": "markdown",
      "metadata": {
        "id": "6ceudEFhIikX"
      },
      "source": [
        "## MNIST Examples from keras"
      ]
    },
    {
      "cell_type": "code",
      "execution_count": null,
      "metadata": {
        "id": "lOnGO_kA5f-3"
      },
      "outputs": [],
      "source": [
        "batch_size = 128\n",
        "num_classes = 10 # 0,1,...., 9. The digits\n",
        "epochs = 20 # Number of runs"
      ]
    },
    {
      "cell_type": "markdown",
      "metadata": {
        "id": "MjTifomI53U8"
      },
      "source": [
        "Batch size defines the number of samples that will be propagated through the network. If you have 1050 training samples\n",
        "then our algorithm will take in the training samples in batches, where each batch has the same size. However, it must\n",
        "be the case that the number of samples is divisible by the batch_size, else we have batches with fractional instances,\n",
        "these do not exist.\n",
        "\n",
        "In addition, there are some advantages of using a batch size that is smaller than the total number of training samples:\n",
        "* We require less memory to be used. By training with fewer sampling, the overall training prodedure takes less memory.\n",
        "* Typically, networks train faster with mini-batches as opposed to the entire batch of all instances. This is a consequence of how weights are adjusted after each propagation.\n",
        "\n",
        "Disadvantages:\n",
        "* The smaller the batches, the less accurate the estimate of the gradient will be."
      ]
    },
    {
      "cell_type": "code",
      "execution_count": null,
      "metadata": {
        "colab": {
          "base_uri": "https://localhost:8080/"
        },
        "id": "3oc105ARlVk7",
        "outputId": "23076c01-a0fb-4eb3-9ca1-d41b0c75e708"
      },
      "outputs": [
        {
          "name": "stdout",
          "output_type": "stream",
          "text": [
            "60000 train samples\n",
            "10000 test samples\n"
          ]
        }
      ],
      "source": [
        "# the data, split between train and test sets\n",
        "(x_train, y_train), (x_test, y_test) = mnist.load_data()\n",
        "\n",
        "x_train = x_train.reshape(60000, 784)\n",
        "x_test = x_test.reshape(10000, 784)\n",
        "x_train = x_train.astype('float32')\n",
        "x_test = x_test.astype('float32')\n",
        "x_train /= 255\n",
        "x_test /= 255\n",
        "print(x_train.shape[0], 'train samples')\n",
        "print(x_test.shape[0], 'test samples')\n",
        "\n",
        "# convert class vectors to binary class matrices\n",
        "y_train = keras.utils.to_categorical(y_train, num_classes)\n",
        "y_test = keras.utils.to_categorical(y_test, num_classes)"
      ]
    },
    {
      "cell_type": "code",
      "execution_count": null,
      "metadata": {
        "colab": {
          "base_uri": "https://localhost:8080/"
        },
        "id": "rZB6sJ2Y6GwL",
        "outputId": "f108d94e-2f55-43d8-99be-77bc381476b6"
      },
      "outputs": [
        {
          "name": "stdout",
          "output_type": "stream",
          "text": [
            "Model: \"sequential_2\"\n",
            "_________________________________________________________________\n",
            " Layer (type)                Output Shape              Param #   \n",
            "=================================================================\n",
            " dense_6 (Dense)             (None, 512)               401920    \n",
            "                                                                 \n",
            " dropout_4 (Dropout)         (None, 512)               0         \n",
            "                                                                 \n",
            " dense_7 (Dense)             (None, 512)               262656    \n",
            "                                                                 \n",
            " dropout_5 (Dropout)         (None, 512)               0         \n",
            "                                                                 \n",
            " dense_8 (Dense)             (None, 10)                5130      \n",
            "                                                                 \n",
            "=================================================================\n",
            "Total params: 669,706\n",
            "Trainable params: 669,706\n",
            "Non-trainable params: 0\n",
            "_________________________________________________________________\n",
            "Epoch 1/20\n",
            "469/469 [==============================] - 6s 12ms/step - loss: 0.2458 - accuracy: 0.9241 - val_loss: 0.1059 - val_accuracy: 0.9673\n",
            "Epoch 2/20\n",
            "469/469 [==============================] - 4s 8ms/step - loss: 0.1040 - accuracy: 0.9692 - val_loss: 0.0956 - val_accuracy: 0.9713\n",
            "Epoch 3/20\n",
            "469/469 [==============================] - 4s 8ms/step - loss: 0.0751 - accuracy: 0.9767 - val_loss: 0.0728 - val_accuracy: 0.9797\n",
            "Epoch 4/20\n",
            "469/469 [==============================] - 3s 7ms/step - loss: 0.0587 - accuracy: 0.9822 - val_loss: 0.0770 - val_accuracy: 0.9774\n",
            "Epoch 5/20\n",
            "469/469 [==============================] - 3s 7ms/step - loss: 0.0490 - accuracy: 0.9854 - val_loss: 0.0747 - val_accuracy: 0.9809\n",
            "Epoch 6/20\n",
            "469/469 [==============================] - 3s 7ms/step - loss: 0.0433 - accuracy: 0.9871 - val_loss: 0.0885 - val_accuracy: 0.9782\n",
            "Epoch 7/20\n",
            "469/469 [==============================] - 3s 7ms/step - loss: 0.0378 - accuracy: 0.9887 - val_loss: 0.0807 - val_accuracy: 0.9801\n",
            "Epoch 8/20\n",
            "469/469 [==============================] - 4s 7ms/step - loss: 0.0340 - accuracy: 0.9898 - val_loss: 0.0907 - val_accuracy: 0.9821\n",
            "Epoch 9/20\n",
            "469/469 [==============================] - 4s 7ms/step - loss: 0.0316 - accuracy: 0.9909 - val_loss: 0.0858 - val_accuracy: 0.9836\n",
            "Epoch 10/20\n",
            "469/469 [==============================] - 4s 8ms/step - loss: 0.0274 - accuracy: 0.9917 - val_loss: 0.0832 - val_accuracy: 0.9840\n",
            "Epoch 11/20\n",
            "469/469 [==============================] - 4s 8ms/step - loss: 0.0248 - accuracy: 0.9924 - val_loss: 0.1138 - val_accuracy: 0.9799\n",
            "Epoch 12/20\n",
            "469/469 [==============================] - 3s 7ms/step - loss: 0.0234 - accuracy: 0.9934 - val_loss: 0.0979 - val_accuracy: 0.9826\n",
            "Epoch 13/20\n",
            "469/469 [==============================] - 3s 7ms/step - loss: 0.0234 - accuracy: 0.9936 - val_loss: 0.1102 - val_accuracy: 0.9806\n",
            "Epoch 14/20\n",
            "469/469 [==============================] - 3s 7ms/step - loss: 0.0205 - accuracy: 0.9940 - val_loss: 0.1103 - val_accuracy: 0.9821\n",
            "Epoch 15/20\n",
            "469/469 [==============================] - 3s 7ms/step - loss: 0.0200 - accuracy: 0.9945 - val_loss: 0.1067 - val_accuracy: 0.9827\n",
            "Epoch 16/20\n",
            "469/469 [==============================] - 3s 7ms/step - loss: 0.0196 - accuracy: 0.9947 - val_loss: 0.1131 - val_accuracy: 0.9842\n",
            "Epoch 17/20\n",
            "469/469 [==============================] - 3s 7ms/step - loss: 0.0172 - accuracy: 0.9953 - val_loss: 0.1237 - val_accuracy: 0.9842\n",
            "Epoch 18/20\n",
            "469/469 [==============================] - 3s 7ms/step - loss: 0.0191 - accuracy: 0.9950 - val_loss: 0.1302 - val_accuracy: 0.9822\n",
            "Epoch 19/20\n",
            "469/469 [==============================] - 3s 7ms/step - loss: 0.0193 - accuracy: 0.9950 - val_loss: 0.1248 - val_accuracy: 0.9837\n",
            "Epoch 20/20\n",
            "469/469 [==============================] - 3s 7ms/step - loss: 0.0167 - accuracy: 0.9955 - val_loss: 0.1336 - val_accuracy: 0.9817\n",
            "Test loss: 0.1336246281862259\n",
            "Test accuracy: 0.9817000031471252\n"
          ]
        }
      ],
      "source": [
        "# Model initialization and fitting\n",
        "model = Sequential()\n",
        "model.add(Dense(512, activation='relu', input_shape=(784,))) # input layer\n",
        "model.add(Dropout(0.2))\n",
        "model.add(Dense(512, activation='relu')) # layer 1\n",
        "model.add(Dropout(0.2))\n",
        "model.add(Dense(num_classes, activation='softmax') ) # final layer, output\n",
        "\n",
        "model.summary()\n",
        "\n",
        "model.compile(loss='categorical_crossentropy',\n",
        "              optimizer=RMSprop(),\n",
        "              metrics=['accuracy'], steps_per_execution=128)\n",
        "\n",
        "history = model.fit(x_train, y_train,\n",
        "                    batch_size=batch_size,\n",
        "                    epochs=epochs,\n",
        "                    verbose=1,\n",
        "                    validation_data=(x_test, y_test))\n",
        "\n",
        "score = model.evaluate(x_test, y_test, verbose=0)\n",
        "print('Test loss:', score[0])\n",
        "print('Test accuracy:', score[1])"
      ]
    },
    {
      "cell_type": "code",
      "execution_count": null,
      "metadata": {
        "id": "npjFDbY96GbR"
      },
      "outputs": [],
      "source": []
    },
    {
      "cell_type": "code",
      "execution_count": null,
      "metadata": {
        "id": "SunSSnaqlVnq"
      },
      "outputs": [],
      "source": [
        "\n",
        "# Change epoch (default)\n",
        "epochs = 12\n",
        "\n",
        "# input image dimensions\n",
        "img_rows, img_cols = 28, 28\n",
        "\n",
        "# the data, split between train and test sets\n",
        "(x_train, y_train), (x_test, y_test) = mnist.load_data()\n",
        "\n",
        "if K.image_data_format() == 'channels_first':\n",
        "    x_train = x_train.reshape(x_train.shape[0], 1, img_rows, img_cols)\n",
        "    x_test = x_test.reshape(x_test.shape[0], 1, img_rows, img_cols)\n",
        "    input_shape = (1, img_rows, img_cols)\n",
        "else:\n",
        "    x_train = x_train.reshape(x_train.shape[0], img_rows, img_cols, 1)\n",
        "    x_test = x_test.reshape(x_test.shape[0], img_rows, img_cols, 1)\n",
        "    input_shape = (img_rows, img_cols, 1)\n",
        "\n",
        "x_train = x_train.astype('float32')\n",
        "x_test = x_test.astype('float32')\n",
        "x_train /= 255\n",
        "x_test /= 255\n",
        "print('x_train shape:', x_train.shape)\n",
        "print(x_train.shape[0], 'train samples')\n",
        "print(x_test.shape[0], 'test samples')\n",
        "\n",
        "# convert class vectors to binary class matrices\n",
        "y_train = keras.utils.to_categorical(y_train, num_classes)\n",
        "y_test = keras.utils.to_categorical(y_test, num_classes)\n",
        "\n",
        "# Create CNN\n",
        "model = Sequential()\n",
        "model.add(Conv2D(32, kernel_size=(3, 3),\n",
        "                 activation='relu',\n",
        "                 input_shape=input_shape))\n",
        "model.add(Conv2D(64, (3, 3), activation='relu'))\n",
        "model.add(MaxPooling2D(pool_size=(2, 2)))\n",
        "model.add(Dropout(0.25))\n",
        "model.add(Flatten())\n",
        "model.add(Dense(128, activation='relu'))\n",
        "model.add(Dropout(0.5))\n",
        "model.add(Dense(num_classes, activation='softmax'))\n",
        "\n",
        "model.compile(loss=keras.losses.categorical_crossentropy,\n",
        "              optimizer=keras.optimizers.Adadelta(),\n",
        "              metrics=['accuracy'])\n",
        "\n",
        "model.fit(x_train, y_train,\n",
        "          batch_size=batch_size,\n",
        "          epochs=epochs,\n",
        "          verbose=1,\n",
        "          validation_data=(x_test, y_test))\n",
        "score = model.evaluate(x_test, y_test, verbose=0)\n",
        "print('Test loss:', score[0])\n",
        "print('Test accuracy:', score[1])"
      ]
    },
    {
      "cell_type": "code",
      "execution_count": null,
      "metadata": {
        "id": "mfSG-7sElVqW"
      },
      "outputs": [],
      "source": []
    },
    {
      "cell_type": "markdown",
      "metadata": {
        "id": "b2ic28zQHv6H"
      },
      "source": [
        "## MNIST Fashion - Exercise 1.2"
      ]
    },
    {
      "cell_type": "code",
      "execution_count": 27,
      "metadata": {
        "id": "c4NxN1sjlVv3"
      },
      "outputs": [],
      "source": [
        "# Load in data\n",
        "fashion_mnist = keras.datasets.fashion_mnist\n",
        "(X_train_full, y_train_full), (X_test, y_test) = fashion_mnist.load_data()"
      ]
    },
    {
      "cell_type": "code",
      "execution_count": null,
      "metadata": {
        "colab": {
          "base_uri": "https://localhost:8080/"
        },
        "id": "ydcSTDXNlVyu",
        "outputId": "2f04d7a8-acdd-42f3-c2fd-df1b27c6c67a"
      },
      "outputs": [
        {
          "data": {
            "text/plain": [
              "(60000, 28, 28)"
            ]
          },
          "execution_count": 84,
          "metadata": {},
          "output_type": "execute_result"
        }
      ],
      "source": [
        "# y_train_full.shape\n",
        "X_train_full.shape"
      ]
    },
    {
      "cell_type": "code",
      "execution_count": null,
      "metadata": {
        "id": "FQfPtDrFlW_e"
      },
      "outputs": [],
      "source": [
        "# X_valid, X_train = X_train_full[:5000] / 255.0, X_train_full[5000:] / 255.0\n",
        "# y_valid, y_train = y_train_full[:5000], y_train_full[5000:]"
      ]
    },
    {
      "cell_type": "code",
      "execution_count": null,
      "metadata": {
        "id": "3BJLIuThlXCM"
      },
      "outputs": [],
      "source": [
        "# For the fashion list we have different labels than the MNIST digits:\n",
        "class_names = [\"T-shirt/top\", \"Trouser\", \"Pullover\", \"Dress\", \"Coat\",\n",
        "                \"Sandal\", \"Shirt\", \"Sneaker\", \"Bag\", \"Ankle boot\"]"
      ]
    },
    {
      "cell_type": "markdown",
      "metadata": {
        "id": "gPhu9yCDMSTS"
      },
      "source": [
        "#### Example of an instance"
      ]
    },
    {
      "cell_type": "code",
      "execution_count": null,
      "metadata": {
        "colab": {
          "base_uri": "https://localhost:8080/"
        },
        "id": "tHMdSDqOlXFE",
        "outputId": "ea127bee-5083-44ce-903b-92c7fe6802b9"
      },
      "outputs": [
        {
          "name": "stdout",
          "output_type": "stream",
          "text": [
            "Dress\n"
          ]
        },
        {
          "data": {
            "image/png": "[encoded data removed]",
            "text/plain": [
              "<Figure size 640x480 with 1 Axes>"
            ]
          },
          "metadata": {},
          "output_type": "display_data"
        }
      ],
      "source": [
        "# Example of instance 4\n",
        "print(class_names[y_train_full[3]])\n",
        "plt.imshow(X_train_full[3,:,:], cmap='gray')\n",
        "plt.show()\n",
        "\n"
      ]
    },
    {
      "cell_type": "markdown",
      "metadata": {
        "id": "p9VXL2NpMYgk"
      },
      "source": [
        "# Back to the exercise:\n",
        "## Build the neural network!\n",
        "\n",
        "## MLP case"
      ]
    },
    {
      "cell_type": "code",
      "execution_count": null,
      "metadata": {
        "id": "q4mm1RwMLKWY"
      },
      "outputs": [],
      "source": [
        "# Build the network layer by layer, in a SEQUENCE -> sequential\n",
        "model = keras.models.Sequential()\n",
        "\n",
        "\"\"\" Add the first layer, the input layer.\n",
        "\n",
        "It converts each input image into a 1D array: if it receives input data X, it\n",
        "computes X.reshape(-1, 1). This layer does not have any parameters; it is just\n",
        "there to do some simple preprocessing. Since it is the first layer in the model, you\n",
        "should specify the input_shape, which doesn’t include the batch size, only the\n",
        "shape of the instances. \"\"\"\n",
        "\n",
        "model.add(keras.layers.Flatten(input_shape=[28, 28], name=\"InputLayer\"))\n",
        "\n",
        "# Add layer with 300 neurons. Each Dense layer manages its own weight matrix, containing all the\n",
        "# connection weights between the neurons and their inputs.\n",
        "\n",
        "model.add(keras.layers.Dense(300, activation=\"relu\", name=\"HiddenLayer1\"))\n",
        "\n",
        "# And another layer, with 100 neurons\n",
        "model.add(keras.layers.Dense(100, activation=\"relu\", name=\"HiddenLayer2\"))\n",
        "\n",
        "# The final layer, the output layer, we have 10 classes, so we need 10 neurons, 1 per class.\n",
        "# We use softmax as all classes are exclusive.\n",
        "\n",
        "\"\"\" The network is configured to output N values, one for each class in the classification\n",
        "task, and the softmax function is used to normalize the outputs, converting them from\n",
        "weighted sum values into probabilities that sum to one. Each value in the output of the\n",
        "softmax function is interpreted as the probability of membership for each class.\"\"\"\n",
        "\n",
        "model.add(keras.layers.Dense(10, activation=\"softmax\", name=\"OutputLayer\"))"
      ]
    },
    {
      "cell_type": "markdown",
      "metadata": {
        "id": "NTVhtIXUUruW"
      },
      "source": [
        "#### Model in one sequence:"
      ]
    },
    {
      "cell_type": "code",
      "execution_count": null,
      "metadata": {
        "id": "QsPDz1t6MlUe"
      },
      "outputs": [],
      "source": [
        "# it is also possible to do it in one go:\n",
        "\"\"\"\n",
        "model = keras.models.Sequential([\n",
        "        keras.layers.Flatten(input_shape=[28, 28]),\n",
        "        keras.layers.Dense(300, activation=\"relu\"),\n",
        "        keras.layers.Dense(100, activation=\"relu\"),\n",
        "        keras.layers.Dense(10, activation=\"softmax\")\n",
        "        ])\n",
        "\"\"\""
      ]
    },
    {
      "cell_type": "markdown",
      "metadata": {
        "id": "VQxZAF47UvDx"
      },
      "source": [
        "#### Visualize our model:"
      ]
    },
    {
      "cell_type": "code",
      "execution_count": null,
      "metadata": {
        "colab": {
          "base_uri": "https://localhost:8080/",
          "height": 801
        },
        "id": "RNmChxexMlSH",
        "outputId": "d3f5a3c7-31bd-47cd-bc64-123c5328dbca"
      },
      "outputs": [
        {
          "data": {
            "image/png": "[encoded data removed]",
            "text/plain": [
              "<IPython.core.display.Image object>"
            ]
          },
          "metadata": {},
          "output_type": "display_data"
        },
        {
          "name": "stdout",
          "output_type": "stream",
          "text": [
            "Model: \"sequential_7\"\n",
            "_________________________________________________________________\n",
            " Layer (type)                Output Shape              Param #   \n",
            "=================================================================\n",
            " InputLayer (Flatten)        (None, 784)               0         \n",
            "                                                                 \n",
            " HiddenLayer1 (Dense)        (None, 300)               235500    \n",
            "                                                                 \n",
            " HiddenLayer2 (Dense)        (None, 100)               30100     \n",
            "                                                                 \n",
            " OutputLayer (Dense)         (None, 10)                1010      \n",
            "                                                                 \n",
            "=================================================================\n",
            "Total params: 266,610\n",
            "Trainable params: 266,610\n",
            "Non-trainable params: 0\n",
            "_________________________________________________________________\n"
          ]
        }
      ],
      "source": [
        "# Image of our model - useful if we have named layers\n",
        "\n",
        "display(keras.utils.plot_model(model, show_layer_activations=True))\n",
        "\n",
        "# Or summary\n",
        "model.summary()\n",
        "\n"
      ]
    },
    {
      "cell_type": "markdown",
      "metadata": {
        "id": "HvpR_QnsVF6H"
      },
      "source": [
        "The output shape can have None. This implies that the batch size can be anything."
      ]
    },
    {
      "cell_type": "markdown",
      "metadata": {
        "id": "wDkPue6AeFBx"
      },
      "source": [
        "### Run the NN:"
      ]
    },
    {
      "cell_type": "code",
      "execution_count": null,
      "metadata": {
        "id": "fy_d-we2MlP-"
      },
      "outputs": [],
      "source": [
        "\"\"\" We have sparse labels (i.e., for each instance, there is just a target\n",
        "class index, from 0 to 9 in this case), and the classes are exclusive.\n",
        "\n",
        "Regarding the optimizer, \"sgd\" means that we will train the model using\n",
        "simple Stochastic Gradient Descent.\n",
        "\n",
        "As we are using a TPU, we can adjust the steps_per_execution. This\n",
        "makes the running and calculating of the weights from our NN sufficiently\n",
        "faster.\n",
        "\"\"\"\n",
        "\n",
        "# Choose an optimizer from keras.optimizers.X\n",
        "opt = keras.optimizers.Adam(learning_rate=0.001)\n",
        "\n",
        "model.compile(loss=\"sparse_categorical_crossentropy\",\n",
        "              optimizer=opt,\n",
        "              metrics=[[\"accuracy\"], [\"mse\"]], steps_per_execution=100)\n",
        "\n",
        "# Training and evaluation - epochs is the number of runs\n",
        "history = model.fit(X_train_full / 255.0, y_train_full, epochs=30,\n",
        "                    validation_split=0.1, batch_size=64, verbose=0) # verbose=0 is stfu"
      ]
    },
    {
      "cell_type": "markdown",
      "metadata": {
        "id": "_nPv0xLnhVLB"
      },
      "source": [
        "#### Plot the curves of loss, accuracy, validation loss and validation accuracy:"
      ]
    },
    {
      "cell_type": "code",
      "execution_count": null,
      "metadata": {
        "id": "_3SPKvZUMlMu"
      },
      "outputs": [],
      "source": [
        "import pandas as pd"
      ]
    },
    {
      "cell_type": "code",
      "execution_count": null,
      "metadata": {
        "colab": {
          "base_uri": "https://localhost:8080/",
          "height": 469
        },
        "id": "G2vBBPA6MlKt",
        "outputId": "e5c1315d-a433-4cbc-f5f1-a95fdc582871"
      },
      "outputs": [
        {
          "data": {
            "image/png": "[encoded data removed]",
            "text/plain": [
              "<Figure size 800x500 with 1 Axes>"
            ]
          },
          "metadata": {},
          "output_type": "display_data"
        },
        {
          "data": {
            "application/vnd.google.colaboratory.intrinsic+json": {
              "type": "string"
            },
            "text/plain": [
              "'the validation curves are close to the training curves, which means\\nthat there is not too much overfitting '"
            ]
          },
          "execution_count": 72,
          "metadata": {},
          "output_type": "execute_result"
        }
      ],
      "source": [
        "pd.DataFrame(history.history).plot(figsize=(8, 5))\n",
        "plt.grid(True)\n",
        "plt.gca().set_ylim(0, 1) # set the vertical range to [0-1]\n",
        "plt.show()\n",
        "\n",
        "\"\"\"the validation curves are close to the training curves, which means\n",
        "that there is not too much overfitting \"\"\""
      ]
    },
    {
      "cell_type": "markdown",
      "metadata": {
        "id": "sfO6sCuDhbBr"
      },
      "source": [
        "## Evaluate the model:"
      ]
    },
    {
      "cell_type": "code",
      "execution_count": null,
      "metadata": {
        "colab": {
          "base_uri": "https://localhost:8080/"
        },
        "id": "y7af-9yElCUX",
        "outputId": "8ab482b6-19ac-41a8-81b0-aad632d80837"
      },
      "outputs": [
        {
          "data": {
            "text/plain": [
              "(10000,)"
            ]
          },
          "execution_count": 75,
          "metadata": {},
          "output_type": "execute_result"
        }
      ],
      "source": [
        "y_test.shape"
      ]
    },
    {
      "cell_type": "code",
      "execution_count": null,
      "metadata": {
        "colab": {
          "base_uri": "https://localhost:8080/"
        },
        "id": "Mz5lA_BOMlHz",
        "outputId": "a604394d-87e7-4374-ae0b-e6614ce6ff62"
      },
      "outputs": [
        {
          "name": "stdout",
          "output_type": "stream",
          "text": [
            "157/157 [==============================] - 0s 3ms/step - loss: 354.4655 - accuracy: 0.8326 - mse: 27.6995\n"
          ]
        },
        {
          "data": {
            "text/plain": [
              "[354.46551513671875, 0.8325999975204468, 27.69953727722168]"
            ]
          },
          "execution_count": 83,
          "metadata": {},
          "output_type": "execute_result"
        }
      ],
      "source": [
        "model.evaluate(X_test, y_test, batch_size=64, verbose=1)"
      ]
    },
    {
      "cell_type": "markdown",
      "metadata": {
        "id": "rSJiy1dyofAN"
      },
      "source": [
        "# Make functions that can make arbitrary Neural Networks. In addition, make a function that can fit the model, as well as another function that can evaluate the model."
      ]
    },
    {
      "cell_type": "code",
      "execution_count": 28,
      "metadata": {
        "id": "zIrBmjTiheBP"
      },
      "outputs": [],
      "source": [
        "def make_model(arch, optimizer,\n",
        "               metrics: list = [\"accuracy\"],\n",
        "               steps_per_execution: int = 1,\n",
        "               summary_model: bool = False):\n",
        "\n",
        "  # Create a dictionary of possible layers. In this case we can create any arbitary network\n",
        "  # without having to constantly copy and paste lines.\n",
        "  layer_dict = {\n",
        "        \"dense\": Dense,             # units, activation=None\n",
        "        \"dropout\": Dropout,         # rate, noise_shape=None, seed=None\n",
        "        \"conv\": Conv2D,             # filters, kernel_size, strides=(1, 1), padding=\"valid\", activation=None\n",
        "        \"maxpooling\": MaxPooling2D, # pool_size=(2, 2), strides=None, padding=\"valid\"\n",
        "        \"flatten\": Flatten,\n",
        "        \"BN\": BatchNormalization,\n",
        "  }\n",
        "\n",
        "  ##########################################\n",
        "\n",
        "  # Initiate model\n",
        "  model = keras.models.Sequential()\n",
        "\n",
        "  ## Add input layer\n",
        "  model.add(Input(shape=arch['shape'][0]))\n",
        "\n",
        "  ## Add layers\n",
        "  for layer, kwargs in arch['layers']:\n",
        "    # Use our dictionary to obtain the callable layer and put in the keywords arguments\n",
        "    model.add(layer_dict[layer](**kwargs))\n",
        "\n",
        "  # Output layer\n",
        "  model.add(layer_dict[arch['output'][0]](**arch['output'][1]))\n",
        "\n",
        "  ##########################################\n",
        "\n",
        "  # Print summary if wanted\n",
        "  if summary_model:\n",
        "    model.summary()\n",
        "\n",
        "  model.compile(loss=\"sparse_categorical_crossentropy\",\n",
        "                optimizer=optimizer,\n",
        "                metrics=metrics,\n",
        "                steps_per_execution=steps_per_execution)\n",
        "\n",
        "  # Return model before fitting\n",
        "  return model\n",
        "\n",
        "\n",
        "def fit_model(model, X_train, y_train, scaling,\n",
        "              epochs: int = 30, validation_split: float = 0.1,\n",
        "              batch: int = 64, verbose: int = 0):\n",
        "\n",
        "  history = model.fit(X_train/scaling, y_train, epochs=epochs,\n",
        "                    validation_split = validation_split, batch_size=batch, verbose=verbose) # verbose=0 is stfu\n",
        "\n",
        "  return history\n",
        "\n",
        "\n",
        "def eval_model(model, X_test, y_test, batch, verbose=1):\n",
        "  return model.evaluate(X_test, y_test, batch_size=batch, verbose=verbose)\n",
        "\n"
      ]
    },
    {
      "cell_type": "markdown",
      "metadata": {
        "id": "6IXni7DwSo9y"
      },
      "source": [
        "### Define the multi layer perceptron architecture:"
      ]
    },
    {
      "cell_type": "code",
      "execution_count": null,
      "metadata": {
        "id": "kBmtw0pY07e5"
      },
      "outputs": [],
      "source": [
        "mlp_arch = {\n",
        "    'shape': (28*28, 10), # input, output\n",
        "    'output': ('dense', {'units': 10, 'activation': 'softmax'}), # output layer\n",
        "    'layers': [\n",
        "         ('flatten', {}),\n",
        "        ('dense', {'units':300, 'activation': 'relu'}),\n",
        "        ('dense', {'units':100, 'activation': 'relu'}),\n",
        "        ]\n",
        "}"
      ]
    },
    {
      "cell_type": "markdown",
      "metadata": {
        "id": "o2DyMcjyTB69"
      },
      "source": [
        "### Test run:"
      ]
    },
    {
      "cell_type": "code",
      "execution_count": 31,
      "metadata": {
        "colab": {
          "base_uri": "https://localhost:8080/",
          "height": 0
        },
        "id": "RtyvL2iCLPfR",
        "outputId": "46d2997a-59ee-42cf-d47a-ae26ce514100"
      },
      "outputs": [
        {
          "output_type": "error",
          "ename": "NameError",
          "evalue": "ignored",
          "traceback": [
            "\u001b[0;31m---------------------------------------------------------------------------\u001b[0m",
            "\u001b[0;31mNameError\u001b[0m                                 Traceback (most recent call last)",
            "\u001b[0;32m<ipython-input-31-f636046676c2>\u001b[0m in \u001b[0;36m<cell line: 1>\u001b[0;34m()\u001b[0m\n\u001b[0;32m----> 1\u001b[0;31m mod = make_model(mlp_arch, keras.optimizers.Adam(learning_rate=0.001),\n\u001b[0m\u001b[1;32m      2\u001b[0m                  steps_per_execution=100, summary_model=True)\n\u001b[1;32m      3\u001b[0m \u001b[0;34m\u001b[0m\u001b[0m\n\u001b[1;32m      4\u001b[0m \u001b[0;31m# display(keras.utils.plot_model(mod, show_layer_activations=True))\u001b[0m\u001b[0;34m\u001b[0m\u001b[0;34m\u001b[0m\u001b[0m\n",
            "\u001b[0;31mNameError\u001b[0m: name 'mlp_arch' is not defined"
          ]
        }
      ],
      "source": [
        "mod = make_model(mlp_arch, keras.optimizers.Adam(learning_rate=0.001),\n",
        "                 steps_per_execution=100, summary_model=True)\n",
        "\n",
        "# display(keras.utils.plot_model(mod, show_layer_activations=True))"
      ]
    },
    {
      "cell_type": "code",
      "execution_count": 30,
      "metadata": {
        "colab": {
          "base_uri": "https://localhost:8080/",
          "height": 0
        },
        "id": "_jd2qH-roeSN",
        "outputId": "cc1864e9-5b42-4862-a75b-478d853e626e"
      },
      "outputs": [
        {
          "output_type": "error",
          "ename": "NameError",
          "evalue": "ignored",
          "traceback": [
            "\u001b[0;31m---------------------------------------------------------------------------\u001b[0m",
            "\u001b[0;31mNameError\u001b[0m                                 Traceback (most recent call last)",
            "\u001b[0;32m<ipython-input-30-3b05cf217ff8>\u001b[0m in \u001b[0;36m<cell line: 1>\u001b[0;34m()\u001b[0m\n\u001b[0;32m----> 1\u001b[0;31m trainedmodel1 = fit_model(mod, X_train_full.reshape(60000, 784), y_train_full, 255.0,\n\u001b[0m\u001b[1;32m      2\u001b[0m                           verbose=1)\n\u001b[1;32m      3\u001b[0m \u001b[0;34m\u001b[0m\u001b[0m\n\u001b[1;32m      4\u001b[0m \u001b[0;31m# X_train_full[0].flatten('F')\u001b[0m\u001b[0;34m\u001b[0m\u001b[0;34m\u001b[0m\u001b[0m\n\u001b[1;32m      5\u001b[0m \u001b[0;31m# X_train_full.reshape(60000, 784).shape\u001b[0m\u001b[0;34m\u001b[0m\u001b[0;34m\u001b[0m\u001b[0m\n",
            "\u001b[0;31mNameError\u001b[0m: name 'mod' is not defined"
          ]
        }
      ],
      "source": [
        "trainedmodel1 = fit_model(mod, X_train_full.reshape(60000, 784), y_train_full, 255.0,\n",
        "                          verbose=1)\n",
        "\n",
        "# X_train_full[0].flatten('F')\n",
        "# X_train_full.reshape(60000, 784).shape\n"
      ]
    },
    {
      "cell_type": "code",
      "execution_count": null,
      "metadata": {
        "id": "iZvZ3wPZZjKV"
      },
      "outputs": [],
      "source": []
    },
    {
      "cell_type": "markdown",
      "metadata": {
        "id": "ZTnAzV40Zqt-"
      },
      "source": [
        "Evaluate our NN:"
      ]
    },
    {
      "cell_type": "code",
      "execution_count": null,
      "metadata": {
        "id": "sJ0mYZKbyOEm"
      },
      "outputs": [],
      "source": [
        "eval_model(mod, X_test.reshape(10000, 784), y_test, batch=64, verbose=1)"
      ]
    },
    {
      "cell_type": "markdown",
      "metadata": {
        "id": "ejToyJTfZthC"
      },
      "source": [
        "## Time to scale up, we want to now analyse which optimizer, learning rate, batch size and epoch number give us the highest accuracy for the MNIST fashion dataset, given our MLP."
      ]
    },
    {
      "cell_type": "code",
      "execution_count": null,
      "metadata": {
        "id": "nYunAlCh00_Z"
      },
      "outputs": [],
      "source": [
        "optimizers = [\n",
        "     # Keyword arguments (kwargs) come in dictionaries ('{}')\n",
        "      (keras.optimizers.Adam, {'learning_rate': 0.001}),\n",
        "      # (keras.optimizers.Adam, {learning_rate=0.002}), (keras.optimizers.Adam, {learning_rate=0.003}),\n",
        "      # (keras.optimizers.Adam, {learning_rate=0.004}), (keras.optimizers.Adam, {learning_rate=0.005}),\n",
        "\n",
        "\n",
        "\n",
        "\n",
        "      # (keras.optimizers.Adadelta, {}),\n",
        "      (keras.optimizers.Adagrad, {}),\n",
        "      (keras.optimizers.Adamax, {'learning_rate': 0.001}),# (keras.optimizers.Adamax,  {'learning_rate': 0.002}), #(keras.optimizers.Adamax,  {'learning_rate': 0.003}),\n",
        "      # (keras.optimizers.Ftrl,{}),\n",
        "      (keras.optimizers.Nadam,{}),\n",
        "      (keras.optimizers.RMSprop, {}),\n",
        "      # (keras.optimizers.SGD, {})\n",
        "\n",
        "      ]\n",
        "\n",
        "accuracies = np.empty((0, 4))\n",
        "for optimizer, kwarg in optimizers:\n",
        "  # print(optimizer.__name__, kwarg)\n",
        "  model1 = make_model(mlp_arch, optimizer=optimizer(**kwarg),\n",
        "           steps_per_execution=100, summary_model=False)\n",
        "\n",
        "  fit_model(model1, X_train_full.reshape(60000, 784), y_train_full, 255.0,\n",
        "                          verbose=0)\n",
        "\n",
        "  accuracies = np.append(accuracies, np.array([f\"Name: {optimizer.__name__}\",\n",
        "                                               f\"Kwargs: {kwarg}\", \"Accuracy:\", eval_model(model1, X_test.reshape(10000, 784), y_test, batch=64, verbose=0)[1]]).reshape(1, -1), axis=0)\n",
        "\n",
        "\n",
        "\n",
        "\n"
      ]
    },
    {
      "cell_type": "code",
      "execution_count": null,
      "metadata": {
        "colab": {
          "base_uri": "https://localhost:8080/"
        },
        "id": "w8tf8F3F9u3S",
        "outputId": "452bd544-881d-4e08-ffdb-ab669436f9c1"
      },
      "outputs": [
        {
          "name": "stdout",
          "output_type": "stream",
          "text": [
            "['0.8654000163078308' '0.828000009059906' '0.8636000156402588'\n",
            " '0.8726999759674072' '0.8712000250816345']\n",
            "Best model: Name: Nadam Kwargs: {} Accuracy: 0.8726999759674072\n"
          ]
        }
      ],
      "source": [
        "print(accuracies[:,-1])\n",
        "best = np.argmax(np.array([float(i) for i in accuracies[:,-1]]))\n",
        "print(\"Best model:\", accuracies[:,0][best], accuracies[:,1][best], accuracies[:,2][best], accuracies[:,-1][best])\n",
        "\n",
        "\n",
        "# if we have different models:\n",
        "#display(keras.utils.plot_model(model, show_layer_activations=True))"
      ]
    },
    {
      "cell_type": "markdown",
      "metadata": {
        "id": "W61wWRr5CswH"
      },
      "source": [
        "## Test architectures, optimizers, batch sizes and epochs for any given choice:"
      ]
    },
    {
      "cell_type": "code",
      "execution_count": null,
      "metadata": {
        "id": "hVGLYQVB5umJ"
      },
      "outputs": [],
      "source": [
        "def test_networks(models, optimizers, batch_sizes, epochs):\n",
        "\n",
        "  results = np.empty((0,5))\n",
        "\n",
        "  for model in models:\n",
        "    for optimizer, kwarg in optimizers:\n",
        "      model1 = make_model(model, optimizer=optimizer(**kwarg),\n",
        "           steps_per_execution=100, summary_model=False)\n",
        "\n",
        "      for batch in batch_sizes:\n",
        "        for epoch in epochs:\n",
        "          fit_model(model1, X_train_full.reshape(60000, 784), y_train_full, 255.0, epochs=epoch,\n",
        "                            verbose=0, batch=batch, validation_split=0.1)\n",
        "\n",
        "          accuracy = eval_model(model1, X_test.reshape(10000, 784), y_test, batch=batch, verbose=0)[1]\n",
        "\n",
        "          results = np.append(results, np.array([f\"{optimizer.__name__ = }\", f\"{kwarg = }\",\n",
        "                                                      f\"{batch = }\",f\"{epoch = }\", f\"{accuracy = }\"]).reshape(1, -1), axis=0)\n",
        "\n",
        "\n",
        "    return results"
      ]
    },
    {
      "cell_type": "markdown",
      "source": [
        "### Results of regular MLP architecture:"
      ],
      "metadata": {
        "id": "C1Mra7B41E3i"
      }
    },
    {
      "cell_type": "code",
      "execution_count": null,
      "metadata": {
        "id": "v2s4q1KyLsXx"
      },
      "outputs": [],
      "source": [
        "results1 = test_networks(\n",
        "      [mlp_arch],\n",
        "       [\n",
        "     # Keyword arguments (kwargs) come in dictionaries ('{}')\n",
        "\n",
        "      (keras.optimizers.Adam, {'learning_rate': 0.0005}), #(keras.optimizers.Adam, {'learning_rate': 0.001}), (keras.optimizers.Adam, {'learning_rate':0.002}),\n",
        "      (keras.optimizers.Adadelta, {'learning_rate': 0.001}),\n",
        "      (keras.optimizers.Adagrad, {'learning_rate': 0.001}),\n",
        "      (keras.optimizers.Adamax, {'learning_rate': 0.0005}),# (keras.optimizers.Adamax,  {'learning_rate': 0.001}), (keras.optimizers.Adamax,  {'learning_rate': 0.002}),\n",
        "      # (keras.optimizers.Ftrl,{}),\n",
        "      (keras.optimizers.Nadam,{'learning_rate': 0.0005}),# (keras.optimizers.Nadam,{'learning_rate': 0.001}), (keras.optimizers.Nadam,{'learning_rate': 0.002}),\n",
        "      (keras.optimizers.RMSprop, {'learning_rate': 0.001}),\n",
        "      (keras.optimizers.SGD, {'learning_rate': 0.001})\n",
        "\n",
        "      ],\n",
        "\n",
        "      batch_sizes=[64], epochs = [10]\n",
        "\n",
        ")"
      ]
    },
    {
      "cell_type": "code",
      "execution_count": null,
      "metadata": {
        "colab": {
          "base_uri": "https://localhost:8080/"
        },
        "id": "8kaz7cMNKx5L",
        "outputId": "35ac0f21-a5e3-4dd4-f0f6-5ab8986a61c2"
      },
      "outputs": [
        {
          "name": "stdout",
          "output_type": "stream",
          "text": [
            "Best model: \n",
            "\n",
            "optimizer.__name__ = 'Adam'\n",
            "kwarg = {'learning_rate': 0.0005}\n",
            "batch = 64\n",
            "epoch = 10\n",
            "accuracy = 0.8679999709129333\n"
          ]
        }
      ],
      "source": [
        "# Find the best model:\n",
        "\n",
        "accuracies = [float(i.split('=')[1].strip()) for i in results1[:,-1]]\n",
        "best = np.argmax(np.array([accuracies]))\n",
        "\n",
        "print(\"Best model:\", \"\\n\")\n",
        "for i in np.arange(results1.shape[-1]):\n",
        "  print(results1[:,i][best])\n"
      ]
    },
    {
      "cell_type": "code",
      "execution_count": null,
      "metadata": {
        "colab": {
          "base_uri": "https://localhost:8080/"
        },
        "id": "HVS9vZ-sSyWQ",
        "outputId": "50d5614a-fff1-4ca3-db5e-00caf8df3ffb"
      },
      "outputs": [
        {
          "name": "stdout",
          "output_type": "stream",
          "text": [
            "\n",
            "Model:\n",
            "optimizer.__name__ = 'Adam'\n",
            "kwarg = {'learning_rate': 0.0005}\n",
            "batch = 64\n",
            "epoch = 10\n",
            "accuracy = 0.8679999709129333\n",
            "\n",
            "Model:\n",
            "optimizer.__name__ = 'Nadam'\n",
            "kwarg = {'learning_rate': 0.0005}\n",
            "batch = 64\n",
            "epoch = 10\n",
            "accuracy = 0.8671000003814697\n",
            "\n",
            "Model:\n",
            "optimizer.__name__ = 'RMSprop'\n",
            "kwarg = {'learning_rate': 0.001}\n",
            "batch = 64\n",
            "epoch = 10\n",
            "accuracy = 0.8662999868392944\n",
            "\n",
            "Model:\n",
            "optimizer.__name__ = 'Adamax'\n",
            "kwarg = {'learning_rate': 0.0005}\n",
            "batch = 64\n",
            "epoch = 10\n",
            "accuracy = 0.8436999917030334\n",
            "\n",
            "Model:\n",
            "optimizer.__name__ = 'Adagrad'\n",
            "kwarg = {'learning_rate': 0.001}\n",
            "batch = 64\n",
            "epoch = 10\n",
            "accuracy = 0.8105999827384949\n",
            "\n",
            "Model:\n",
            "optimizer.__name__ = 'SGD'\n",
            "kwarg = {'learning_rate': 0.001}\n",
            "batch = 64\n",
            "epoch = 10\n",
            "accuracy = 0.7811999917030334\n",
            "\n",
            "Model:\n",
            "optimizer.__name__ = 'Adadelta'\n",
            "kwarg = {'learning_rate': 0.001}\n",
            "batch = 64\n",
            "epoch = 10\n",
            "accuracy = 0.7074999809265137\n"
          ]
        }
      ],
      "source": [
        "results = [np.argsort(accuracies)[:][::-1]][0] # [::-1] is for reverse order, such that the highest accuracy is value 1 in the top5\n",
        "\n",
        "for i in results:\n",
        "  print(\"\\nModel:\")\n",
        "  for j in np.arange(results1.shape[-1]):\n",
        "    print(results1[:,j][i])\n"
      ]
    },
    {
      "cell_type": "code",
      "execution_count": null,
      "metadata": {
        "id": "GtV5nJ84TuP8"
      },
      "outputs": [],
      "source": []
    },
    {
      "cell_type": "markdown",
      "metadata": {
        "id": "EkXjxuueAYRh"
      },
      "source": [
        "#### Full output:"
      ]
    },
    {
      "cell_type": "markdown",
      "metadata": {
        "id": "8HFUzYQL_zS5"
      },
      "source": [
        "In addition, the full ouput of results1 was:\n",
        "\n",
        "      [\"optimizer.__name__ = 'RMSprop'\", 'kwarg = {}', 'batch = 32',\n",
        "        'epoch = 30', 'accuracy = 0.8683000206947327']\n",
        "\n",
        "       [\"optimizer.__name__ = 'RMSprop'\", 'kwarg = {}', 'batch = 64',\n",
        "        'epoch = 5', 'accuracy = 0.8709999918937683']\n",
        "\n",
        "       [\"optimizer.__name__ = 'RMSprop'\", 'kwarg = {}', 'batch = 64',\n",
        "        'epoch = 10', 'accuracy = 0.8736000061035156']\n",
        "\n",
        "       [\"optimizer.__name__ = 'RMSprop'\", 'kwarg = {}', 'batch = 64',\n",
        "        'epoch = 20', 'accuracy = 0.8697999715805054']\n",
        "\n",
        "       [\"optimizer.__name__ = 'RMSprop'\", 'kwarg = {}', 'batch = 64',\n",
        "        'epoch = 30', 'accuracy = 0.873199999332428']\n",
        "\n",
        "       [\"optimizer.__name__ = 'RMSprop'\", 'kwarg = {}', 'batch = 128',\n",
        "        'epoch = 5', 'accuracy = 0.8690999746322632']\n",
        "\n",
        "       [\"optimizer.__name__ = 'RMSprop'\", 'kwarg = {}', 'batch = 128',\n",
        "        'epoch = 10', 'accuracy = 0.8729000091552734']\n",
        "\n",
        "       [\"optimizer.__name__ = 'RMSprop'\", 'kwarg = {}', 'batch = 128',\n",
        "        'epoch = 20', 'accuracy = 0.871999979019165']\n",
        "\n",
        "       [\"optimizer.__name__ = 'RMSprop'\", 'kwarg = {}', 'batch = 128',\n",
        "        'epoch = 30', 'accuracy = 0.8683000206947327']\n",
        "\n",
        "       [\"optimizer.__name__ = 'RMSprop'\", 'kwarg = {}', 'batch = 256',\n",
        "        'epoch = 5', 'accuracy = 0.8734999895095825']\n",
        "\n",
        "       [\"optimizer.__name__ = 'RMSprop'\", 'kwarg = {}', 'batch = 256',\n",
        "        'epoch = 10', 'accuracy = 0.8725000023841858']\n",
        "\n",
        "       [\"optimizer.__name__ = 'RMSprop'\", 'kwarg = {}', 'batch = 256',\n",
        "        'epoch = 20', 'accuracy = 0.866599977016449']\n",
        "\n",
        "       [\"optimizer.__name__ = 'RMSprop'\", 'kwarg = {}', 'batch = 256',\n",
        "        'epoch = 30', 'accuracy = 0.8697999715805054']\n",
        "\n",
        "       [\"optimizer.__name__ = 'SGD'\", 'kwarg = {}', 'batch = 32',\n",
        "        'epoch = 5', 'accuracy = 0.8222000002861023']\n",
        "\n",
        "       [\"optimizer.__name__ = 'SGD'\", 'kwarg = {}', 'batch = 32',\n",
        "        'epoch = 10', 'accuracy = 0.8388000130653381']\n",
        "\n",
        "       [\"optimizer.__name__ = 'SGD'\", 'kwarg = {}', 'batch = 32',\n",
        "        'epoch = 20', 'accuracy = 0.8525999784469604']\n",
        "\n",
        "       [\"optimizer.__name__ = 'SGD'\", 'kwarg = {}', 'batch = 32',\n",
        "        'epoch = 30', 'accuracy = 0.8587999939918518']\n",
        "\n",
        "       [\"optimizer.__name__ = 'SGD'\", 'kwarg = {}', 'batch = 64',\n",
        "        'epoch = 5', 'accuracy = 0.843500018119812']\n",
        "\n",
        "       [\"optimizer.__name__ = 'SGD'\", 'kwarg = {}', 'batch = 64',\n",
        "        'epoch = 10', 'accuracy = 0.8406000137329102']\n",
        "\n",
        "       [\"optimizer.__name__ = 'SGD'\", 'kwarg = {}', 'batch = 64',\n",
        "        'epoch = 20', 'accuracy = 0.8314999938011169']\n",
        "\n",
        "       [\"optimizer.__name__ = 'SGD'\", 'kwarg = {}', 'batch = 64',\n",
        "        'epoch = 30', 'accuracy = 0.8364999890327454']\n",
        "\n",
        "       [\"optimizer.__name__ = 'SGD'\", 'kwarg = {}', 'batch = 128',\n",
        "        'epoch = 5', 'accuracy = 0.848800003528595']\n",
        "\n",
        "       [\"optimizer.__name__ = 'SGD'\", 'kwarg = {}', 'batch = 128',\n",
        "        'epoch = 10', 'accuracy = 0.8391000032424927']\n",
        "\n",
        "       [\"optimizer.__name__ = 'SGD'\", 'kwarg = {}', 'batch = 128',\n",
        "        'epoch = 20', 'accuracy = 0.8314999938011169']\n",
        "        \n",
        "       [\"optimizer.__name__ = 'SGD'\", 'kwarg = {}', 'batch = 128',\n",
        "        'epoch = 30', 'accuracy = 0.8317999839782715']\n",
        "        \n",
        "       [\"optimizer.__name__ = 'SGD'\", 'kwarg = {}', 'batch = 256',\n",
        "        'epoch = 5', 'accuracy = 0.8378000259399414']\n",
        "        \n",
        "       [\"optimizer.__name__ = 'SGD'\", 'kwarg = {}', 'batch = 256',\n",
        "        'epoch = 10', 'accuracy = 0.8388000130653381']\n",
        "        \n",
        "       [\"optimizer.__name__ = 'SGD'\", 'kwarg = {}', 'batch = 256',\n",
        "        'epoch = 20', 'accuracy = 0.8361999988555908']\n",
        "        \n",
        "       [\"optimizer.__name__ = 'SGD'\", 'kwarg = {}', 'batch = 256',\n",
        "        'epoch = 30', 'accuracy = 0.8353000283241272']\n",
        "       "
      ]
    },
    {
      "cell_type": "markdown",
      "metadata": {
        "id": "Qp8ktw3f_q1O"
      },
      "source": [
        "#### Let's go again, this time using different epochs and batch sizes:"
      ]
    },
    {
      "cell_type": "code",
      "execution_count": 32,
      "metadata": {
        "id": "-KTgLG1xTuMW"
      },
      "outputs": [],
      "source": [
        "def Top5(results):\n",
        "  accuracies = [float(i.split('=')[1].strip()) for i in results[:,-1]]\n",
        "  top5 = [np.argsort(accuracies)[-5:][::-1]][0] # [::-1] is for reverse order, such that the highest accuracy is value 1 in the top5\n",
        "\n",
        "  for i in top5:\n",
        "    print(\"\\nModel:\")\n",
        "    for j in np.arange(results.shape[-1]):\n",
        "      print(results[:,j][i])"
      ]
    },
    {
      "cell_type": "code",
      "execution_count": null,
      "metadata": {
        "colab": {
          "background_save": true
        },
        "id": "Wf2oPDfhTuJw"
      },
      "outputs": [],
      "source": [
        "results2 = test_networks(\n",
        "      [mlp_arch],\n",
        "\n",
        "    [\n",
        "\n",
        "     ## Keyword arguments (kwargs) come in dictionaries ('{}') ##\n",
        "\n",
        "      (keras.optimizers.Adam, {'learning_rate': 0.0005}), (keras.optimizers.Adam, {'learning_rate': 0.001}), (keras.optimizers.Adam, {'learning_rate':0.002}),\n",
        "\n",
        "      (keras.optimizers.Adagrad, {'learning_rate': 0.001}),\n",
        "      (keras.optimizers.Adamax, {'learning_rate': 0.0005}), (keras.optimizers.Adamax,  {'learning_rate': 0.001}), (keras.optimizers.Adamax,  {'learning_rate': 0.002}),\n",
        "      (keras.optimizers.Nadam,{'learning_rate': 0.0005}), (keras.optimizers.Nadam,{'learning_rate': 0.001}), (keras.optimizers.Nadam,{'learning_rate': 0.002}),\n",
        "      (keras.optimizers.RMSprop, {'learning_rate': 0.001}),\n",
        "\n",
        "\n",
        "    ],\n",
        "\n",
        "      batch_sizes=[32, 64, 128, 256], epochs = [5, 10, 20, 30]\n",
        ")"
      ]
    },
    {
      "cell_type": "code",
      "execution_count": null,
      "metadata": {
        "colab": {
          "background_save": true
        },
        "id": "02jEUzDfTuGZ",
        "outputId": "a0662d31-1c08-4e57-ad25-d1746b3c409b"
      },
      "outputs": [
        {
          "name": "stdout",
          "output_type": "stream",
          "text": [
            "\n",
            "Model:\n",
            "optimizer.__name__ = 'Adam'\n",
            "kwarg = {'learning_rate': 0.0005}\n",
            "batch = 32\n",
            "epoch = 10\n",
            "accuracy = 0.8858000040054321\n",
            "\n",
            "Model:\n",
            "optimizer.__name__ = 'Adam'\n",
            "kwarg = {'learning_rate': 0.0005}\n",
            "batch = 256\n",
            "epoch = 30\n",
            "accuracy = 0.8834999799728394\n",
            "\n",
            "Model:\n",
            "optimizer.__name__ = 'Adam'\n",
            "kwarg = {'learning_rate': 0.0005}\n",
            "batch = 128\n",
            "epoch = 10\n",
            "accuracy = 0.8827000260353088\n",
            "\n",
            "Model:\n",
            "optimizer.__name__ = 'Adam'\n",
            "kwarg = {'learning_rate': 0.0005}\n",
            "batch = 256\n",
            "epoch = 20\n",
            "accuracy = 0.8826000094413757\n",
            "\n",
            "Model:\n",
            "optimizer.__name__ = 'Nadam'\n",
            "kwarg = {'learning_rate': 0.0005}\n",
            "batch = 256\n",
            "epoch = 30\n",
            "accuracy = 0.882099986076355\n"
          ]
        }
      ],
      "source": [
        "Top5(results2)"
      ]
    },
    {
      "cell_type": "markdown",
      "source": [
        "### Two scenario's:\n",
        "* remove the 300 nodes layer, rerun the calculation.\n",
        "* also try adding a layers of dropout to the original network. Add dropout between the last layer and the output layer, as well as between the second to last and the last (regular) layer"
      ],
      "metadata": {
        "id": "q8bD6WK--HBa"
      }
    },
    {
      "cell_type": "code",
      "source": [
        "mlp_arch_rmove = {\n",
        "    'shape': (28*28, 10), # input, output\n",
        "    'output': ('dense', {'units': 10, 'activation': 'softmax'}), # output layer\n",
        "    'layers': [\n",
        "         ('flatten', {}),\n",
        "        ('dense', {'units':300, 'activation': 'relu'}),\n",
        "        ]\n",
        "}\n",
        "\n",
        "# dropout\n",
        "mlp_arch_drop = {\n",
        "    'shape': (28*28, 10), # input, output\n",
        "    'output': ('dense', {'units': 10, 'activation': 'softmax'}), # output layer\n",
        "    'layers': [\n",
        "        ('flatten', {}),\n",
        "        ('dense', {'units':300, 'activation': 'relu'}),\n",
        "        ('dropout', {'rate': 0.5}),\n",
        "        ('dense', {'units':100, 'activation': 'relu'}),\n",
        "        ('dropout', {'rate': 0.5}),\n",
        "        ]\n",
        "}\n",
        "\n",
        "\n",
        "# Show models:\n",
        "\n",
        "# display(keras.utils.plot_model(make_model(mlp_arch_rmove, optimizer=keras.optimizers.Adam(),\n",
        "#            steps_per_execution=100, summary_model=True), show_layer_activations=True))\n",
        "\n",
        "# display(keras.utils.plot_model(make_model(mlp_arch_drop, optimizer=keras.optimizers.Adam(),\n",
        "#            steps_per_execution=100, summary_model=True), show_layer_activations=True))"
      ],
      "metadata": {
        "id": "bS0LXhPN-RuB"
      },
      "execution_count": null,
      "outputs": []
    },
    {
      "cell_type": "code",
      "source": [
        "results_mlp_rmoveL = test_networks(\n",
        "      [mlp_arch_rmove],\n",
        "\n",
        "    [\n",
        "      (keras.optimizers.Adam, {'learning_rate': 0.0005}), (keras.optimizers.Adam, {'learning_rate': 0.001}),\n",
        "      (keras.optimizers.Nadam,{'learning_rate': 0.0005}), (keras.optimizers.Nadam,{'learning_rate': 0.001}),\n",
        "    ],\n",
        "\n",
        "      batch_sizes=[32, 64, 128, 256], epochs = [10, 20, 30]\n",
        ")"
      ],
      "metadata": {
        "id": "Q-h3dg8d-nt3"
      },
      "execution_count": null,
      "outputs": []
    },
    {
      "cell_type": "code",
      "source": [
        "Top5(results_mlp_rmoveL)"
      ],
      "metadata": {
        "colab": {
          "base_uri": "https://localhost:8080/"
        },
        "id": "DGkTro1t-uET",
        "outputId": "75bbd9b1-1c00-4397-f61d-47b074628192"
      },
      "execution_count": null,
      "outputs": [
        {
          "output_type": "stream",
          "name": "stdout",
          "text": [
            "\n",
            "Model:\n",
            "optimizer.__name__ = 'Adam'\n",
            "kwarg = {'learning_rate': 0.0005}\n",
            "batch = 128\n",
            "epoch = 20\n",
            "accuracy = 0.8826000094413757\n",
            "\n",
            "Model:\n",
            "optimizer.__name__ = 'Adam'\n",
            "kwarg = {'learning_rate': 0.0005}\n",
            "batch = 256\n",
            "epoch = 30\n",
            "accuracy = 0.8826000094413757\n",
            "\n",
            "Model:\n",
            "optimizer.__name__ = 'Adam'\n",
            "kwarg = {'learning_rate': 0.0005}\n",
            "batch = 64\n",
            "epoch = 10\n",
            "accuracy = 0.8819000124931335\n",
            "\n",
            "Model:\n",
            "optimizer.__name__ = 'Adam'\n",
            "kwarg = {'learning_rate': 0.0005}\n",
            "batch = 128\n",
            "epoch = 30\n",
            "accuracy = 0.8819000124931335\n",
            "\n",
            "Model:\n",
            "optimizer.__name__ = 'Adam'\n",
            "kwarg = {'learning_rate': 0.0005}\n",
            "batch = 256\n",
            "epoch = 10\n",
            "accuracy = 0.8815000057220459\n"
          ]
        }
      ]
    },
    {
      "cell_type": "markdown",
      "source": [
        "Remark: we see that removing a layer lowers our final accuracy. In this case, our highest scoring model is about equivalent to the model of position 5 for the original model. It shows that we lose performance by removing de 100 nodes layer."
      ],
      "metadata": {
        "id": "oDGjHg2z2P44"
      }
    },
    {
      "cell_type": "code",
      "source": [
        "## Using the dropout model:\n",
        "results_mlp_dropout = test_networks([mlp_arch_drop],\n",
        "                       [\n",
        "      (keras.optimizers.Adam, {'learning_rate': 0.0005}), (keras.optimizers.Adam, {'learning_rate': 0.001}),\n",
        "      (keras.optimizers.Nadam,{'learning_rate': 0.0005}), (keras.optimizers.Nadam,{'learning_rate': 0.001}),\n",
        "                       ],\n",
        "\n",
        "              batch_sizes=[32, 64, 128, 256],\n",
        "                       epochs = [10, 20, 30],\n",
        "\n",
        "                       )\n"
      ],
      "metadata": {
        "id": "jHKKejGpwl67"
      },
      "execution_count": null,
      "outputs": []
    },
    {
      "cell_type": "code",
      "source": [
        "Top5(results_mlp_dropout)"
      ],
      "metadata": {
        "colab": {
          "base_uri": "https://localhost:8080/"
        },
        "id": "ER_c7BgfxHSS",
        "outputId": "2f4c18aa-f4da-402e-8e15-44d10febb818"
      },
      "execution_count": null,
      "outputs": [
        {
          "output_type": "stream",
          "name": "stdout",
          "text": [
            "\n",
            "Model:\n",
            "optimizer.__name__ = 'Nadam'\n",
            "kwarg = {'learning_rate': 0.0005}\n",
            "batch = 128\n",
            "epoch = 20\n",
            "accuracy = 0.8844000101089478\n",
            "\n",
            "Model:\n",
            "optimizer.__name__ = 'Nadam'\n",
            "kwarg = {'learning_rate': 0.0005}\n",
            "batch = 64\n",
            "epoch = 30\n",
            "accuracy = 0.879800021648407\n",
            "\n",
            "Model:\n",
            "optimizer.__name__ = 'Adam'\n",
            "kwarg = {'learning_rate': 0.0005}\n",
            "batch = 64\n",
            "epoch = 20\n",
            "accuracy = 0.8780999779701233\n",
            "\n",
            "Model:\n",
            "optimizer.__name__ = 'Adam'\n",
            "kwarg = {'learning_rate': 0.0005}\n",
            "batch = 256\n",
            "epoch = 10\n",
            "accuracy = 0.8759999871253967\n",
            "\n",
            "Model:\n",
            "optimizer.__name__ = 'Nadam'\n",
            "kwarg = {'learning_rate': 0.0005}\n",
            "batch = 128\n",
            "epoch = 30\n",
            "accuracy = 0.8743000030517578\n"
          ]
        }
      ]
    },
    {
      "cell_type": "markdown",
      "source": [
        "Remark: we see that the performance has dropped a little bit, but let's go and try again, but this time using one layer of dropout 0.5. In addition, let's just use the best hyperparameters set of the previous result to speed up the process."
      ],
      "metadata": {
        "id": "1KrfMNA_FYpT"
      }
    },
    {
      "cell_type": "code",
      "source": [
        "mlp_arch_dropout_1 = {\n",
        "    'shape': (28*28, 10), # input, output\n",
        "    'output': ('dense', {'units': 10, 'activation': 'softmax'}), # output layer\n",
        "    'layers': [\n",
        "        ('flatten', {}),\n",
        "        ('dense', {'units':300, 'activation': 'relu'}),\n",
        "        ('dropout', {'rate': 0.5}),\n",
        "        ('dense', {'units':100, 'activation': 'relu'}),\n",
        "        ]\n",
        "}\n",
        "\n",
        "\n",
        "results_mlp_dropout_1 = test_networks([mlp_arch_dropout_1],\n",
        "                       [\n",
        "      (keras.optimizers.Adam, {'learning_rate': 0.0005}),\n",
        "      (keras.optimizers.Nadam,{'learning_rate': 0.0005}),\n",
        "                       ],\n",
        "\n",
        "              batch_sizes=[64, 128, 256],\n",
        "                       epochs = [10, 20, 30],\n",
        "\n",
        "                       )\n",
        "\n",
        "Top5(results_mlp_dropout_1)"
      ],
      "metadata": {
        "colab": {
          "base_uri": "https://localhost:8080/"
        },
        "id": "hDx0pY_SFf1x",
        "outputId": "f6f7b24c-3af7-4761-de5a-3b0b66a5a979"
      },
      "execution_count": null,
      "outputs": [
        {
          "output_type": "stream",
          "name": "stdout",
          "text": [
            "\n",
            "Model:\n",
            "optimizer.__name__ = 'Nadam'\n",
            "kwarg = {'learning_rate': 0.0005}\n",
            "batch = 128\n",
            "epoch = 30\n",
            "accuracy = 0.8884999752044678\n",
            "\n",
            "Model:\n",
            "optimizer.__name__ = 'Nadam'\n",
            "kwarg = {'learning_rate': 0.0005}\n",
            "batch = 256\n",
            "epoch = 20\n",
            "accuracy = 0.8862000107765198\n",
            "\n",
            "Model:\n",
            "optimizer.__name__ = 'Nadam'\n",
            "kwarg = {'learning_rate': 0.0005}\n",
            "batch = 64\n",
            "epoch = 30\n",
            "accuracy = 0.8853999972343445\n",
            "\n",
            "Model:\n",
            "optimizer.__name__ = 'Nadam'\n",
            "kwarg = {'learning_rate': 0.0005}\n",
            "batch = 256\n",
            "epoch = 10\n",
            "accuracy = 0.8849999904632568\n",
            "\n",
            "Model:\n",
            "optimizer.__name__ = 'Nadam'\n",
            "kwarg = {'learning_rate': 0.0005}\n",
            "batch = 256\n",
            "epoch = 30\n",
            "accuracy = 0.8845000267028809\n"
          ]
        }
      ]
    },
    {
      "cell_type": "markdown",
      "source": [
        "### Another case, use the dropout model together with regularization."
      ],
      "metadata": {
        "id": "pE1m7gzB1dDn"
      }
    },
    {
      "cell_type": "markdown",
      "source": [
        "About L1 and L2 regularization: https://towardsdatascience.com/l1-and-l2-regularization-methods-ce25e7fc831c .\n",
        "\n",
        "We use L1 regularization for the layers with the largest number of nodes. L1 regularization helps in order to penalize for a large number of features."
      ],
      "metadata": {
        "id": "1in97XM4zN_P"
      }
    },
    {
      "cell_type": "code",
      "source": [
        "# , kernel_regularizer='l1'\n",
        "mlp_arch_l1_drop = {\n",
        "    'shape': (28*28, 10), # input, output\n",
        "    'output': ('dense', {'units': 10, 'activation': 'softmax'}), # output layer\n",
        "    'layers': [\n",
        "         ('flatten', {}),\n",
        "        ('dense', {'units':300, 'activation': 'relu', 'kernel_regularizer': 'l1'}),\n",
        "         ('dropout', {'rate': 0.5}),\n",
        "        ('dense', {'units':100, 'activation': 'relu'}),\n",
        "        ]\n",
        "}\n",
        "\n",
        "# display(keras.utils.plot_model(make_model(mlp_arch_l1_drop, optimizer=keras.optimizers.Adam(),\n",
        "#            steps_per_execution=100, summary_model=True), show_layer_activations=True))"
      ],
      "metadata": {
        "id": "WQytp5yuzQjM"
      },
      "execution_count": null,
      "outputs": []
    },
    {
      "cell_type": "code",
      "source": [
        "results_mlp_L1_dropout = test_networks([mlp_arch_l1_drop],\n",
        "                       [\n",
        "      (keras.optimizers.Adam, {'learning_rate': 0.0005}),\n",
        "      (keras.optimizers.Nadam,{'learning_rate': 0.0005}),\n",
        "                       ],\n",
        "\n",
        "              batch_sizes=[64, 128, 256],\n",
        "                       epochs = [10, 20, 30],\n",
        "\n",
        "                       )"
      ],
      "metadata": {
        "id": "t4tX_o4-3Ak6"
      },
      "execution_count": null,
      "outputs": []
    },
    {
      "cell_type": "code",
      "source": [
        "Top5(results_mlp_L1_dropout)"
      ],
      "metadata": {
        "colab": {
          "base_uri": "https://localhost:8080/"
        },
        "id": "uRg7Wj173JiW",
        "outputId": "422bd285-886c-4bcc-9887-39f9476fc40a"
      },
      "execution_count": null,
      "outputs": [
        {
          "output_type": "stream",
          "name": "stdout",
          "text": [
            "\n",
            "Model:\n",
            "optimizer.__name__ = 'Adam'\n",
            "kwarg = {'learning_rate': 0.0005}\n",
            "batch = 128\n",
            "epoch = 20\n",
            "accuracy = 0.7688000202178955\n",
            "\n",
            "Model:\n",
            "optimizer.__name__ = 'Nadam'\n",
            "kwarg = {'learning_rate': 0.0005}\n",
            "batch = 256\n",
            "epoch = 10\n",
            "accuracy = 0.7547000050544739\n",
            "\n",
            "Model:\n",
            "optimizer.__name__ = 'Nadam'\n",
            "kwarg = {'learning_rate': 0.0005}\n",
            "batch = 128\n",
            "epoch = 10\n",
            "accuracy = 0.7483000159263611\n",
            "\n",
            "Model:\n",
            "optimizer.__name__ = 'Nadam'\n",
            "kwarg = {'learning_rate': 0.0005}\n",
            "batch = 256\n",
            "epoch = 20\n",
            "accuracy = 0.7409999966621399\n",
            "\n",
            "Model:\n",
            "optimizer.__name__ = 'Nadam'\n",
            "kwarg = {'learning_rate': 0.0005}\n",
            "batch = 64\n",
            "epoch = 30\n",
            "accuracy = 0.733299970626831\n"
          ]
        }
      ]
    },
    {
      "cell_type": "markdown",
      "source": [
        "Remark: regularization was a BAD idea!"
      ],
      "metadata": {
        "id": "FrVgtyiLMmQr"
      }
    },
    {
      "cell_type": "markdown",
      "source": [
        "# Convolutional network:"
      ],
      "metadata": {
        "id": "teQSUT8q0opC"
      }
    },
    {
      "cell_type": "markdown",
      "source": [
        "#### The architecture:"
      ],
      "metadata": {
        "id": "8uOuiUzZNdnn"
      }
    },
    {
      "cell_type": "code",
      "source": [
        "convolution_model ={\n",
        "    'shape':((28,28, 1), 10), # input, output (-> we have 10 classes of clothes, each with a given probability per item (returned by Softmax))\n",
        "    'output': ('dense', {'units': 10, 'activation': 'softmax'}),\n",
        "    'layers':[\n",
        "        ('conv', {'filters':64, 'kernel_size': 7, 'activation': 'relu', 'padding': 'same'}),\n",
        "        ('maxpooling', {'pool_size': (2,2)}),\n",
        "        # by reducing the spacial dimensionality by two we can afford to double the filters (and thus feature maps)\n",
        "        ('conv', {'filters': 128, 'kernel_size': 3, 'activation': 'relu', 'padding': 'same'}),\n",
        "        ('conv', {'filters': 128, 'kernel_size': 3, 'activation': 'relu', 'padding': 'same'}),\n",
        "        ('maxpooling', {'pool_size': (2,2)}),\n",
        "        ('conv', {'filters': 256, 'kernel_size': 3, 'activation': 'relu', 'padding': 'same'}),\n",
        "        ('conv', {'filters': 256, 'kernel_size': 3, 'activation': 'relu', 'padding': 'same'}),\n",
        "        ('maxpooling', {'pool_size': (2,2)}),\n",
        "        ('flatten', {}),\n",
        "        ('dense', {'units': 128, 'activation': 'relu'}),\n",
        "        ('dropout', {'rate': 0.5}),\n",
        "        ('dense', {'units': 64, 'activation': 'relu'}),\n",
        "        ('dropout', {'rate': 0.5}),\n",
        "\n",
        "    ]\n",
        "}\n",
        "\n",
        "display(keras.utils.plot_model(make_model(convolution_model, optimizer=keras.optimizers.Adam(),\n",
        "           steps_per_execution=100, summary_model=True), show_layer_activations=True))"
      ],
      "metadata": {
        "colab": {
          "base_uri": "https://localhost:8080/",
          "height": 1000
        },
        "id": "e_m7eqyB0qiQ",
        "outputId": "44be467e-f7fc-4713-cf45-faa295ab2fbd"
      },
      "execution_count": 33,
      "outputs": [
        {
          "output_type": "stream",
          "name": "stdout",
          "text": [
            "Model: \"sequential_6\"\n",
            "_________________________________________________________________\n",
            " Layer (type)                Output Shape              Param #   \n",
            "=================================================================\n",
            " conv2d_30 (Conv2D)          (None, 28, 28, 64)        3200      \n",
            "                                                                 \n",
            " max_pooling2d_18 (MaxPoolin  (None, 14, 14, 64)       0         \n",
            " g2D)                                                            \n",
            "                                                                 \n",
            " conv2d_31 (Conv2D)          (None, 14, 14, 128)       73856     \n",
            "                                                                 \n",
            " conv2d_32 (Conv2D)          (None, 14, 14, 128)       147584    \n",
            "                                                                 \n",
            " max_pooling2d_19 (MaxPoolin  (None, 7, 7, 128)        0         \n",
            " g2D)                                                            \n",
            "                                                                 \n",
            " conv2d_33 (Conv2D)          (None, 7, 7, 256)         295168    \n",
            "                                                                 \n",
            " conv2d_34 (Conv2D)          (None, 7, 7, 256)         590080    \n",
            "                                                                 \n",
            " max_pooling2d_20 (MaxPoolin  (None, 3, 3, 256)        0         \n",
            " g2D)                                                            \n",
            "                                                                 \n",
            " flatten_6 (Flatten)         (None, 2304)              0         \n",
            "                                                                 \n",
            " dense_18 (Dense)            (None, 128)               295040    \n",
            "                                                                 \n",
            " dropout_12 (Dropout)        (None, 128)               0         \n",
            "                                                                 \n",
            " dense_19 (Dense)            (None, 64)                8256      \n",
            "                                                                 \n",
            " dropout_13 (Dropout)        (None, 64)                0         \n",
            "                                                                 \n",
            " dense_20 (Dense)            (None, 10)                650       \n",
            "                                                                 \n",
            "=================================================================\n",
            "Total params: 1,413,834\n",
            "Trainable params: 1,413,834\n",
            "Non-trainable params: 0\n",
            "_________________________________________________________________\n"
          ]
        },
        {
          "output_type": "display_data",
          "data": {
            "image/png": "[encoded data removed]",
            "text/plain": [
              "<IPython.core.display.Image object>"
            ]
          },
          "metadata": {}
        }
      ]
    },
    {
      "cell_type": "markdown",
      "source": [
        "### Let's test!"
      ],
      "metadata": {
        "id": "yo5XKibgNQfU"
      }
    },
    {
      "cell_type": "code",
      "source": [
        "# I was lazy, need to use this function above too\n",
        "def test_networks_V2(models, optimizers, batch_sizes, epochs,\n",
        "                     input_shape, X_train, y_train, X_test, y_test,\n",
        "                     steps_per_execution: int = 100,\n",
        "                     print_steps: bool = False, time_check: bool = False,\n",
        "                     filename: str = None, save: bool = False):\n",
        "\n",
        "  # Check if the file exists; if it does, load the existing data\n",
        "  try:\n",
        "      result_df = pd.read_csv(filename)\n",
        "  except FileNotFoundError:\n",
        "      result_df = pd.DataFrame(columns=[\"Name\", \"Kwargs\", \"Batch_size\", \"Epochs\", \"Accuracy\"])\n",
        "\n",
        "\n",
        "  for model in models:\n",
        "    for optimizer, kwarg in optimizers:\n",
        "\n",
        "      if print_steps:\n",
        "        print(f\"Fitting model using {optimizer.__name__ = }\")\n",
        "\n",
        "\n",
        "\n",
        "      model1 = make_model(model, optimizer=optimizer(**kwarg),\n",
        "           steps_per_execution=steps_per_execution, summary_model=False)\n",
        "\n",
        "      for batch in batch_sizes:\n",
        "        for epoch in epochs:\n",
        "          if print_steps:\n",
        "            print(f\"Epochs = {epoch}, batch size = {batch}\")\n",
        "\n",
        "          if time_check:\n",
        "            start_time = time.time()\n",
        "\n",
        "          fit_model(model1, X_train.reshape(X_train.shape[0], *input_shape), y_train, 255.0, epochs=epoch,\n",
        "                            verbose=0, batch=batch, validation_split=0.1)\n",
        "\n",
        "          accuracy = eval_model(model1, X_test.reshape(X_test.shape[0], *input_shape), y_test, batch=batch, verbose=0)[1]\n",
        "\n",
        "          if time_check:\n",
        "            print(f\"Time elapsed for {optimizer.__name__ = }, {kwarg = }, {batch = }, {epoch= } is {(time.time()-start_time)/60} min\")\n",
        "\n",
        "          # Write to file\n",
        "          new_data = {\"Name\": optimizer.__name__, \"Kwargs\": kwarg,\n",
        "                      \"Batch_size\": batch, \"Epochs\": epoch,\n",
        "                      \"Accuracy\": accuracy}\n",
        "\n",
        "          # Append to the existing file\n",
        "          result_df = result_df.append(new_data, ignore_index=True)\n",
        "\n",
        "          # Save the DataFrame to a .csv file after each iteration\n",
        "          if save:\n",
        "            result_df.to_csv(filename, index=False)\n",
        "\n",
        "    return result_df"
      ],
      "metadata": {
        "id": "mod8eCWEPBU6"
      },
      "execution_count": 48,
      "outputs": []
    },
    {
      "cell_type": "markdown",
      "source": [
        "#### Previous function (no saving between steps):"
      ],
      "metadata": {
        "id": "7890qHVhx3Uf"
      }
    },
    {
      "cell_type": "code",
      "source": [
        "def test_networks_V3(models, optimizers, batch_sizes, epochs,\n",
        "                     input_shape, X_train, y_train, X_test, y_test,\n",
        "                     print_steps: bool = False, time_check: bool = False):\n",
        "\n",
        "  results = np.empty((0,5))\n",
        "\n",
        "  for model in models:\n",
        "    for optimizer, kwarg in optimizers:\n",
        "\n",
        "      if print_steps:\n",
        "        print(f\"Fitting model using {optimizer = }\")\n",
        "\n",
        "      if time_check:\n",
        "        start_time = time.time()\n",
        "\n",
        "      model1 = make_model(model, optimizer=optimizer(**kwarg),\n",
        "           steps_per_execution=100, summary_model=False)\n",
        "\n",
        "      for batch in batch_sizes:\n",
        "        for epoch in epochs:\n",
        "          if print_steps:\n",
        "            print(f\"Epochs = {epoch}, batch size = {batch}\")\n",
        "          fit_model(model1, X_train.reshape(X_train.shape[0], *input_shape), y_train, 255.0, epochs=epoch,\n",
        "                            verbose=0, batch=batch, validation_split=0.1)\n",
        "\n",
        "          accuracy = eval_model(model1, X_test.reshape(X_test.shape[0], *input_shape), y_test, batch=batch, verbose=0)[1]\n",
        "\n",
        "          results = np.append(results, np.array([f\"{optimizer.__name__ = }\", f\"{kwarg = }\",\n",
        "                                                      f\"{batch = }\",f\"{epoch = }\", f\"{accuracy = }\"]).reshape(1, -1), axis=0)\n",
        "\n",
        "\n",
        "\n",
        "      if time_check:\n",
        "        print(f\"Time elapsed for {optimizer = } is {time.time()-start_time}\")\n",
        "\n",
        "    return results"
      ],
      "metadata": {
        "id": "PC4zNfVtwrpn"
      },
      "execution_count": null,
      "outputs": []
    },
    {
      "cell_type": "markdown",
      "source": [
        "#### Running for convolutional network:"
      ],
      "metadata": {
        "id": "-oTiCVEkx77_"
      }
    },
    {
      "cell_type": "code",
      "source": [
        "results_conv_default = test_networks_V2([convolution_model],\n",
        "                       [\n",
        "                        # (keras.optimizers.Adam, {'learning_rate': 0.001}),\n",
        "                       # (keras.optimizers.Adadelta, {'learning_rate': 0.001}),\n",
        "                       # (keras.optimizers.Adagrad, {'learning_rate': 0.001}),\n",
        "                        (keras.optimizers.Adamax,  {'learning_rate': 0.001}),\n",
        "                        (keras.optimizers.Nadam,{'learning_rate': 0.001}),\n",
        "                        (keras.optimizers.RMSprop, {'learning_rate': 0.001}),\n",
        "                       # (keras.optimizers.SGD, {'learning_rate': 0.001})\n",
        "                       ],\n",
        "\n",
        "                        batch_sizes = [64, 128, 256, 512],#, 128, 256, 512: too big # the larger size speeds up the process, at the cost of performance\n",
        "                        epochs = [20], #5, 10, 20\n",
        "                        input_shape = convolution_model['shape'][0],\n",
        "                        X_train = X_train_full,\n",
        "                        y_train = y_train_full,\n",
        "                        X_test = X_test,\n",
        "                        y_test = y_test,\n",
        "\n",
        "                        print_steps=True,\n",
        "                        time_check=True,\n",
        "                        filename='IDL_A1_convolution_default.csv',\n",
        "                        steps_per_execution=1000,\n",
        "                        save=True\n",
        "\n",
        "                       )"
      ],
      "metadata": {
        "colab": {
          "base_uri": "https://localhost:8080/",
          "height": 758
        },
        "id": "gZupWuCENP3e",
        "outputId": "606de77c-03a8-4815-c013-900cebbeda8a"
      },
      "execution_count": 109,
      "outputs": [
        {
          "output_type": "stream",
          "name": "stdout",
          "text": [
            "Fitting model using optimizer.__name__ = 'Adamax'\n",
            "Epochs = 20, batch size = 64\n",
            "Time elapsed for optimizer.__name__ = 'Adamax', kwarg = {'learning_rate': 0.001}, batch = 64, epoch= 20 is 14.596199901898702 min\n",
            "Epochs = 20, batch size = 128\n"
          ]
        },
        {
          "output_type": "stream",
          "name": "stderr",
          "text": [
            "<ipython-input-48-37dc8420e4cb>:48: FutureWarning: The frame.append method is deprecated and will be removed from pandas in a future version. Use pandas.concat instead.\n",
            "  result_df = result_df.append(new_data, ignore_index=True)\n"
          ]
        },
        {
          "output_type": "stream",
          "name": "stdout",
          "text": [
            "Time elapsed for optimizer.__name__ = 'Adamax', kwarg = {'learning_rate': 0.001}, batch = 128, epoch= 20 is 11.866269636154176 min\n",
            "Epochs = 20, batch size = 256\n"
          ]
        },
        {
          "output_type": "stream",
          "name": "stderr",
          "text": [
            "<ipython-input-48-37dc8420e4cb>:48: FutureWarning: The frame.append method is deprecated and will be removed from pandas in a future version. Use pandas.concat instead.\n",
            "  result_df = result_df.append(new_data, ignore_index=True)\n"
          ]
        },
        {
          "output_type": "stream",
          "name": "stdout",
          "text": [
            "Time elapsed for optimizer.__name__ = 'Adamax', kwarg = {'learning_rate': 0.001}, batch = 256, epoch= 20 is 11.141885709762573 min\n",
            "Epochs = 20, batch size = 512\n"
          ]
        },
        {
          "output_type": "stream",
          "name": "stderr",
          "text": [
            "<ipython-input-48-37dc8420e4cb>:48: FutureWarning: The frame.append method is deprecated and will be removed from pandas in a future version. Use pandas.concat instead.\n",
            "  result_df = result_df.append(new_data, ignore_index=True)\n"
          ]
        },
        {
          "output_type": "stream",
          "name": "stdout",
          "text": [
            "Time elapsed for optimizer.__name__ = 'Adamax', kwarg = {'learning_rate': 0.001}, batch = 512, epoch= 20 is 10.87194668451945 min\n",
            "Fitting model using optimizer.__name__ = 'Nadam'\n",
            "Epochs = 20, batch size = 64\n"
          ]
        },
        {
          "output_type": "stream",
          "name": "stderr",
          "text": [
            "<ipython-input-48-37dc8420e4cb>:48: FutureWarning: The frame.append method is deprecated and will be removed from pandas in a future version. Use pandas.concat instead.\n",
            "  result_df = result_df.append(new_data, ignore_index=True)\n"
          ]
        },
        {
          "output_type": "error",
          "ename": "KeyboardInterrupt",
          "evalue": "ignored",
          "traceback": [
            "\u001b[0;31m---------------------------------------------------------------------------\u001b[0m",
            "\u001b[0;31mKeyboardInterrupt\u001b[0m                         Traceback (most recent call last)",
            "\u001b[0;32m<ipython-input-109-8b7ca652f937>\u001b[0m in \u001b[0;36m<cell line: 1>\u001b[0;34m()\u001b[0m\n\u001b[0;32m----> 1\u001b[0;31m results_conv_default = test_networks_V2([convolution_model],\n\u001b[0m\u001b[1;32m      2\u001b[0m                        [\n\u001b[1;32m      3\u001b[0m                         \u001b[0;31m# (keras.optimizers.Adam, {'learning_rate': 0.001}),\u001b[0m\u001b[0;34m\u001b[0m\u001b[0;34m\u001b[0m\u001b[0m\n\u001b[1;32m      4\u001b[0m                        \u001b[0;31m# (keras.optimizers.Adadelta, {'learning_rate': 0.001}),\u001b[0m\u001b[0;34m\u001b[0m\u001b[0;34m\u001b[0m\u001b[0m\n\u001b[1;32m      5\u001b[0m                        \u001b[0;31m# (keras.optimizers.Adagrad, {'learning_rate': 0.001}),\u001b[0m\u001b[0;34m\u001b[0m\u001b[0;34m\u001b[0m\u001b[0m\n",
            "\u001b[0;32m<ipython-input-48-37dc8420e4cb>\u001b[0m in \u001b[0;36mtest_networks_V2\u001b[0;34m(models, optimizers, batch_sizes, epochs, input_shape, X_train, y_train, X_test, y_test, steps_per_execution, print_steps, time_check, filename, save)\u001b[0m\n\u001b[1;32m     32\u001b[0m             \u001b[0mstart_time\u001b[0m \u001b[0;34m=\u001b[0m \u001b[0mtime\u001b[0m\u001b[0;34m.\u001b[0m\u001b[0mtime\u001b[0m\u001b[0;34m(\u001b[0m\u001b[0;34m)\u001b[0m\u001b[0;34m\u001b[0m\u001b[0;34m\u001b[0m\u001b[0m\n\u001b[1;32m     33\u001b[0m \u001b[0;34m\u001b[0m\u001b[0m\n\u001b[0;32m---> 34\u001b[0;31m           fit_model(model1, X_train.reshape(X_train.shape[0], *input_shape), y_train, 255.0, epochs=epoch,\n\u001b[0m\u001b[1;32m     35\u001b[0m                             verbose=0, batch=batch, validation_split=0.1)\n\u001b[1;32m     36\u001b[0m \u001b[0;34m\u001b[0m\u001b[0m\n",
            "\u001b[0;32m<ipython-input-28-8dcad60ea4ae>\u001b[0m in \u001b[0;36mfit_model\u001b[0;34m(model, X_train, y_train, scaling, epochs, validation_split, batch, verbose)\u001b[0m\n\u001b[1;32m     49\u001b[0m               batch: int = 64, verbose: int = 0):\n\u001b[1;32m     50\u001b[0m \u001b[0;34m\u001b[0m\u001b[0m\n\u001b[0;32m---> 51\u001b[0;31m   history = model.fit(X_train/scaling, y_train, epochs=epochs,\n\u001b[0m\u001b[1;32m     52\u001b[0m                     validation_split = validation_split, batch_size=batch, verbose=verbose) # verbose=0 is stfu\n\u001b[1;32m     53\u001b[0m \u001b[0;34m\u001b[0m\u001b[0m\n",
            "\u001b[0;32m/usr/local/lib/python3.10/dist-packages/keras/utils/traceback_utils.py\u001b[0m in \u001b[0;36merror_handler\u001b[0;34m(*args, **kwargs)\u001b[0m\n\u001b[1;32m     63\u001b[0m         \u001b[0mfiltered_tb\u001b[0m \u001b[0;34m=\u001b[0m \u001b[0;32mNone\u001b[0m\u001b[0;34m\u001b[0m\u001b[0;34m\u001b[0m\u001b[0m\n\u001b[1;32m     64\u001b[0m         \u001b[0;32mtry\u001b[0m\u001b[0;34m:\u001b[0m\u001b[0;34m\u001b[0m\u001b[0;34m\u001b[0m\u001b[0m\n\u001b[0;32m---> 65\u001b[0;31m             \u001b[0;32mreturn\u001b[0m \u001b[0mfn\u001b[0m\u001b[0;34m(\u001b[0m\u001b[0;34m*\u001b[0m\u001b[0margs\u001b[0m\u001b[0;34m,\u001b[0m \u001b[0;34m**\u001b[0m\u001b[0mkwargs\u001b[0m\u001b[0;34m)\u001b[0m\u001b[0;34m\u001b[0m\u001b[0;34m\u001b[0m\u001b[0m\n\u001b[0m\u001b[1;32m     66\u001b[0m         \u001b[0;32mexcept\u001b[0m \u001b[0mException\u001b[0m \u001b[0;32mas\u001b[0m \u001b[0me\u001b[0m\u001b[0;34m:\u001b[0m\u001b[0;34m\u001b[0m\u001b[0;34m\u001b[0m\u001b[0m\n\u001b[1;32m     67\u001b[0m             \u001b[0mfiltered_tb\u001b[0m \u001b[0;34m=\u001b[0m \u001b[0m_process_traceback_frames\u001b[0m\u001b[0;34m(\u001b[0m\u001b[0me\u001b[0m\u001b[0;34m.\u001b[0m\u001b[0m__traceback__\u001b[0m\u001b[0;34m)\u001b[0m\u001b[0;34m\u001b[0m\u001b[0;34m\u001b[0m\u001b[0m\n",
            "\u001b[0;32m/usr/local/lib/python3.10/dist-packages/keras/engine/training.py\u001b[0m in \u001b[0;36mfit\u001b[0;34m(self, x, y, batch_size, epochs, verbose, callbacks, validation_split, validation_data, shuffle, class_weight, sample_weight, initial_epoch, steps_per_epoch, validation_steps, validation_batch_size, validation_freq, max_queue_size, workers, use_multiprocessing)\u001b[0m\n\u001b[1;32m   1673\u001b[0m                 \u001b[0mself\u001b[0m\u001b[0;34m.\u001b[0m\u001b[0mreset_metrics\u001b[0m\u001b[0;34m(\u001b[0m\u001b[0;34m)\u001b[0m\u001b[0;34m\u001b[0m\u001b[0;34m\u001b[0m\u001b[0m\n\u001b[1;32m   1674\u001b[0m                 \u001b[0mcallbacks\u001b[0m\u001b[0;34m.\u001b[0m\u001b[0mon_epoch_begin\u001b[0m\u001b[0;34m(\u001b[0m\u001b[0mepoch\u001b[0m\u001b[0;34m)\u001b[0m\u001b[0;34m\u001b[0m\u001b[0;34m\u001b[0m\u001b[0m\n\u001b[0;32m-> 1675\u001b[0;31m                 \u001b[0;32mwith\u001b[0m \u001b[0mdata_handler\u001b[0m\u001b[0;34m.\u001b[0m\u001b[0mcatch_stop_iteration\u001b[0m\u001b[0;34m(\u001b[0m\u001b[0;34m)\u001b[0m\u001b[0;34m:\u001b[0m\u001b[0;34m\u001b[0m\u001b[0;34m\u001b[0m\u001b[0m\n\u001b[0m\u001b[1;32m   1676\u001b[0m                     \u001b[0;32mfor\u001b[0m \u001b[0mstep\u001b[0m \u001b[0;32min\u001b[0m \u001b[0mdata_handler\u001b[0m\u001b[0;34m.\u001b[0m\u001b[0msteps\u001b[0m\u001b[0;34m(\u001b[0m\u001b[0;34m)\u001b[0m\u001b[0;34m:\u001b[0m\u001b[0;34m\u001b[0m\u001b[0;34m\u001b[0m\u001b[0m\n\u001b[1;32m   1677\u001b[0m                         with tf.profiler.experimental.Trace(\n",
            "\u001b[0;32m/usr/lib/python3.10/contextlib.py\u001b[0m in \u001b[0;36m__exit__\u001b[0;34m(self, typ, value, traceback)\u001b[0m\n\u001b[1;32m    140\u001b[0m         \u001b[0;32mif\u001b[0m \u001b[0mtyp\u001b[0m \u001b[0;32mis\u001b[0m \u001b[0;32mNone\u001b[0m\u001b[0;34m:\u001b[0m\u001b[0;34m\u001b[0m\u001b[0;34m\u001b[0m\u001b[0m\n\u001b[1;32m    141\u001b[0m             \u001b[0;32mtry\u001b[0m\u001b[0;34m:\u001b[0m\u001b[0;34m\u001b[0m\u001b[0;34m\u001b[0m\u001b[0m\n\u001b[0;32m--> 142\u001b[0;31m                 \u001b[0mnext\u001b[0m\u001b[0;34m(\u001b[0m\u001b[0mself\u001b[0m\u001b[0;34m.\u001b[0m\u001b[0mgen\u001b[0m\u001b[0;34m)\u001b[0m\u001b[0;34m\u001b[0m\u001b[0;34m\u001b[0m\u001b[0m\n\u001b[0m\u001b[1;32m    143\u001b[0m             \u001b[0;32mexcept\u001b[0m \u001b[0mStopIteration\u001b[0m\u001b[0;34m:\u001b[0m\u001b[0;34m\u001b[0m\u001b[0;34m\u001b[0m\u001b[0m\n\u001b[1;32m    144\u001b[0m                 \u001b[0;32mreturn\u001b[0m \u001b[0;32mFalse\u001b[0m\u001b[0;34m\u001b[0m\u001b[0;34m\u001b[0m\u001b[0m\n",
            "\u001b[0;32m/usr/local/lib/python3.10/dist-packages/keras/engine/data_adapter.py\u001b[0m in \u001b[0;36mcatch_stop_iteration\u001b[0;34m(self)\u001b[0m\n\u001b[1;32m   1345\u001b[0m             \u001b[0;32mtry\u001b[0m\u001b[0;34m:\u001b[0m\u001b[0;34m\u001b[0m\u001b[0;34m\u001b[0m\u001b[0m\n\u001b[1;32m   1346\u001b[0m                 \u001b[0;32myield\u001b[0m\u001b[0;34m\u001b[0m\u001b[0;34m\u001b[0m\u001b[0m\n\u001b[0;32m-> 1347\u001b[0;31m                 \u001b[0mself\u001b[0m\u001b[0;34m.\u001b[0m\u001b[0msync\u001b[0m\u001b[0;34m(\u001b[0m\u001b[0;34m)\u001b[0m\u001b[0;34m\u001b[0m\u001b[0;34m\u001b[0m\u001b[0m\n\u001b[0m\u001b[1;32m   1348\u001b[0m             \u001b[0;32mexcept\u001b[0m \u001b[0;34m(\u001b[0m\u001b[0mStopIteration\u001b[0m\u001b[0;34m,\u001b[0m \u001b[0mtf\u001b[0m\u001b[0;34m.\u001b[0m\u001b[0merrors\u001b[0m\u001b[0;34m.\u001b[0m\u001b[0mOutOfRangeError\u001b[0m\u001b[0;34m)\u001b[0m\u001b[0;34m:\u001b[0m\u001b[0;34m\u001b[0m\u001b[0;34m\u001b[0m\u001b[0m\n\u001b[1;32m   1349\u001b[0m                 \u001b[0;32mif\u001b[0m \u001b[0mself\u001b[0m\u001b[0;34m.\u001b[0m\u001b[0m_inferred_steps\u001b[0m \u001b[0;32mis\u001b[0m \u001b[0;32mNone\u001b[0m\u001b[0;34m:\u001b[0m\u001b[0;34m\u001b[0m\u001b[0;34m\u001b[0m\u001b[0m\n",
            "\u001b[0;32m/usr/local/lib/python3.10/dist-packages/keras/engine/data_adapter.py\u001b[0m in \u001b[0;36msync\u001b[0;34m(self)\u001b[0m\n\u001b[1;32m   1335\u001b[0m \u001b[0;34m\u001b[0m\u001b[0m\n\u001b[1;32m   1336\u001b[0m     \u001b[0;32mdef\u001b[0m \u001b[0msync\u001b[0m\u001b[0;34m(\u001b[0m\u001b[0mself\u001b[0m\u001b[0;34m)\u001b[0m\u001b[0;34m:\u001b[0m\u001b[0;34m\u001b[0m\u001b[0;34m\u001b[0m\u001b[0m\n\u001b[0;32m-> 1337\u001b[0;31m         \u001b[0mcontext\u001b[0m\u001b[0;34m.\u001b[0m\u001b[0masync_wait\u001b[0m\u001b[0;34m(\u001b[0m\u001b[0;34m)\u001b[0m\u001b[0;34m\u001b[0m\u001b[0;34m\u001b[0m\u001b[0m\n\u001b[0m\u001b[1;32m   1338\u001b[0m \u001b[0;34m\u001b[0m\u001b[0m\n\u001b[1;32m   1339\u001b[0m     \u001b[0;34m@\u001b[0m\u001b[0mcontextlib\u001b[0m\u001b[0;34m.\u001b[0m\u001b[0mcontextmanager\u001b[0m\u001b[0;34m\u001b[0m\u001b[0;34m\u001b[0m\u001b[0m\n",
            "\u001b[0;32m/usr/local/lib/python3.10/dist-packages/tensorflow/python/eager/context.py\u001b[0m in \u001b[0;36masync_wait\u001b[0;34m()\u001b[0m\n\u001b[1;32m   2688\u001b[0m     \u001b[0;32mreturn\u001b[0m\u001b[0;34m\u001b[0m\u001b[0;34m\u001b[0m\u001b[0m\n\u001b[1;32m   2689\u001b[0m   \u001b[0;32mif\u001b[0m \u001b[0mcontext\u001b[0m\u001b[0;34m(\u001b[0m\u001b[0;34m)\u001b[0m\u001b[0;34m.\u001b[0m\u001b[0m_context_handle\u001b[0m \u001b[0;32mis\u001b[0m \u001b[0;32mnot\u001b[0m \u001b[0;32mNone\u001b[0m\u001b[0;34m:\u001b[0m  \u001b[0;31m# pylint: disable=protected-access\u001b[0m\u001b[0;34m\u001b[0m\u001b[0;34m\u001b[0m\u001b[0m\n\u001b[0;32m-> 2690\u001b[0;31m     \u001b[0mcontext\u001b[0m\u001b[0;34m(\u001b[0m\u001b[0;34m)\u001b[0m\u001b[0;34m.\u001b[0m\u001b[0msync_executors\u001b[0m\u001b[0;34m(\u001b[0m\u001b[0;34m)\u001b[0m\u001b[0;34m\u001b[0m\u001b[0;34m\u001b[0m\u001b[0m\n\u001b[0m\u001b[1;32m   2691\u001b[0m \u001b[0;34m\u001b[0m\u001b[0m\n\u001b[1;32m   2692\u001b[0m \u001b[0;34m\u001b[0m\u001b[0m\n",
            "\u001b[0;32m/usr/local/lib/python3.10/dist-packages/tensorflow/python/eager/context.py\u001b[0m in \u001b[0;36msync_executors\u001b[0;34m(self)\u001b[0m\n\u001b[1;32m    710\u001b[0m     \"\"\"\n\u001b[1;32m    711\u001b[0m     \u001b[0;32mif\u001b[0m \u001b[0mself\u001b[0m\u001b[0;34m.\u001b[0m\u001b[0m_context_handle\u001b[0m\u001b[0;34m:\u001b[0m\u001b[0;34m\u001b[0m\u001b[0;34m\u001b[0m\u001b[0m\n\u001b[0;32m--> 712\u001b[0;31m       \u001b[0mpywrap_tfe\u001b[0m\u001b[0;34m.\u001b[0m\u001b[0mTFE_ContextSyncExecutors\u001b[0m\u001b[0;34m(\u001b[0m\u001b[0mself\u001b[0m\u001b[0;34m.\u001b[0m\u001b[0m_context_handle\u001b[0m\u001b[0;34m)\u001b[0m\u001b[0;34m\u001b[0m\u001b[0;34m\u001b[0m\u001b[0m\n\u001b[0m\u001b[1;32m    713\u001b[0m     \u001b[0;32melse\u001b[0m\u001b[0;34m:\u001b[0m\u001b[0;34m\u001b[0m\u001b[0;34m\u001b[0m\u001b[0m\n\u001b[1;32m    714\u001b[0m       \u001b[0;32mraise\u001b[0m \u001b[0mValueError\u001b[0m\u001b[0;34m(\u001b[0m\u001b[0;34m\"Context is not initialized.\"\u001b[0m\u001b[0;34m)\u001b[0m\u001b[0;34m\u001b[0m\u001b[0;34m\u001b[0m\u001b[0m\n",
            "\u001b[0;31mKeyboardInterrupt\u001b[0m: "
          ]
        }
      ]
    },
    {
      "cell_type": "code",
      "source": [
        "from google.colab import drive\n",
        "drive.mount('/content/drive')"
      ],
      "metadata": {
        "colab": {
          "base_uri": "https://localhost:8080/"
        },
        "id": "bfHeyDt0CH4J",
        "outputId": "1981bf3b-a65f-4e3e-9a70-242ecc3cdb66"
      },
      "execution_count": 103,
      "outputs": [
        {
          "output_type": "stream",
          "name": "stdout",
          "text": [
            "Mounted at /content/drive\n"
          ]
        }
      ]
    },
    {
      "cell_type": "code",
      "source": [
        "df1 = pd.read_csv('IDL_A1_convolution_default.csv')\n",
        "\n",
        "#df1[df1['Name'] == 'RMSprop']\n",
        "\n",
        "# If you want to save:\n",
        "!cp IDL_A1_convolution_default.csv /content/drive/MyDrive/IDL/A1/IDL_A1_convolution_default.csv\n",
        "\n",
        "# Or download locally\n",
        "from google.colab import files\n",
        "#files.download('IDL_A1_convolution_default.csv')\n",
        "\n"
      ],
      "metadata": {
        "id": "lOKDURKczmBD"
      },
      "execution_count": 110,
      "outputs": []
    },
    {
      "cell_type": "code",
      "source": [
        "def Accuracy_Epoch_batch_plot(df_results):\n",
        "    fig, axes = plt.subplots(1, 2, figsize=(10, 4))\n",
        "\n",
        "    # Create a colormap based on unique names\n",
        "    unique_names = df_results['Name'].unique()\n",
        "    num_colors = len(unique_names)\n",
        "    colormap = plt.cm.get_cmap('plasma', num_colors)\n",
        "\n",
        "    # Plot something in the first subplot\n",
        "    for i, (name, group) in enumerate(df_results.groupby('Name')):\n",
        "        axes[0].plot(group['Epochs'], group['Accuracy'], \".\", label=name, color=colormap(i / (num_colors - 1)))\n",
        "\n",
        "    axes[0].set_title('Epochs VS Accuracy')\n",
        "    axes[0].set_xlabel(\"Epochs\")\n",
        "    axes[0].set_ylabel(\"Accuracy\")\n",
        "    axes[0].set_facecolor('lightgray')\n",
        "    axes[0].grid()\n",
        "\n",
        "    # Plot something in the second subplot\n",
        "    for i, (name, group) in enumerate(df_results.groupby('Name')):\n",
        "        axes[1].plot(group['Batch_size'], group['Accuracy'], \".\", label=name, color=colormap(i / (num_colors - 1)))\n",
        "\n",
        "    axes[1].set_title('Batch size VS Accuracy')\n",
        "    axes[1].set_xlabel(\"Batch size\")\n",
        "    axes[1].legend(loc=(1.05, 0.25))\n",
        "    axes[1].set_facecolor('lightgray')\n",
        "    axes[1].grid()\n",
        "\n",
        "    # Display the plot\n",
        "    plt.show()\n",
        "\n",
        "\n",
        "Accuracy_Epoch_batch_plot(df1)"
      ],
      "metadata": {
        "colab": {
          "base_uri": "https://localhost:8080/",
          "height": 358
        },
        "id": "o1ekhZWTlsA4",
        "outputId": "fa841c17-f6f6-401d-8ba2-703991558dbd"
      },
      "execution_count": 111,
      "outputs": [
        {
          "output_type": "stream",
          "name": "stderr",
          "text": [
            "<ipython-input-111-96bf5fea823d>:7: MatplotlibDeprecationWarning: The get_cmap function was deprecated in Matplotlib 3.7 and will be removed two minor releases later. Use ``matplotlib.colormaps[name]`` or ``matplotlib.colormaps.get_cmap(obj)`` instead.\n",
            "  colormap = plt.cm.get_cmap('plasma', num_colors)\n"
          ]
        },
        {
          "output_type": "display_data",
          "data": {
            "text/plain": [
              "<Figure size 1000x400 with 2 Axes>"
            ],
            "image/png": "[encoded data removed]"
          },
          "metadata": {}
        }
      ]
    },
    {
      "cell_type": "code",
      "source": [
        "Top5(results_conv_default)"
      ],
      "metadata": {
        "id": "0pSdCPCiCH4H"
      },
      "execution_count": null,
      "outputs": []
    },
    {
      "cell_type": "code",
      "source": [],
      "metadata": {
        "id": "m5iwRJXJCHzQ"
      },
      "execution_count": null,
      "outputs": []
    },
    {
      "cell_type": "markdown",
      "source": [
        "Idea: implement batch normalization. It speeds up the process a lot, as well as that it helps to gain higher accuracy for our model. Add Batch Normalization after a sequence of convolutions and maxpooling (this is done often in practise; found online, https://analyticsindiamag.com/everything-you-should-know-about-dropouts-and-batchnormalization-in-cnn/#:~:text=It%20can%20be%20used%20at,the%20classification%20of%20handwritten%20digits.)"
      ],
      "metadata": {
        "id": "CBjpGvx0OV0j"
      }
    },
    {
      "cell_type": "code",
      "source": [
        "convolution_model_modified ={\n",
        "    'shape':((28,28, 1), 10),\n",
        "    'output': ('dense', {'units': 10, 'activation': 'softmax'}),\n",
        "    'layers':[\n",
        "        ('conv', {'filters':64, 'kernel_size': 7, 'activation': 'relu', 'padding': 'same'}),\n",
        "        ('maxpooling', {'pool_size': (2,2)}),\n",
        "        ('BN', {})\n",
        "        ('conv', {'filters': 128, 'kernel_size': 3, 'activation': 'relu', 'padding': 'same'}),\n",
        "        ('conv', {'filters': 128, 'kernel_size': 3, 'activation': 'relu', 'padding': 'same'}),\n",
        "        ('maxpooling', {'pool_size': (2,2)}),\n",
        "        ('BN', {})\n",
        "        ('conv', {'filters': 256, 'kernel_size': 3, 'activation': 'relu', 'padding': 'same'}),\n",
        "        ('conv', {'filters': 256, 'kernel_size': 3, 'activation': 'relu', 'padding': 'same'}),\n",
        "        ('maxpooling', {'pool_size': (2,2)}),\n",
        "        ('BN', {})\n",
        "        ('flatten', {}),\n",
        "        ('dense', {'units': 128, 'activation': 'relu'}),\n",
        "        ('dropout', {'rate': 0.5}),\n",
        "        ('dense', {'units': 64, 'activation': 'relu'}),\n",
        "        ('dropout', {'rate': 0.5}),\n",
        "\n",
        "    ]\n",
        "}"
      ],
      "metadata": {
        "id": "fG9kDzpVOcrl"
      },
      "execution_count": null,
      "outputs": []
    },
    {
      "cell_type": "code",
      "source": [],
      "metadata": {
        "id": "gocCXLaGOco_"
      },
      "execution_count": null,
      "outputs": []
    },
    {
      "cell_type": "code",
      "source": [],
      "metadata": {
        "id": "a_zG4wuwOckd"
      },
      "execution_count": null,
      "outputs": []
    },
    {
      "cell_type": "markdown",
      "source": [
        "# CIFAR 10 dataset"
      ],
      "metadata": {
        "id": "cb3dfQZtCirP"
      }
    },
    {
      "cell_type": "markdown",
      "source": [
        "Use the 3 best models to train new models on the CIFAR 10 data set. This is a dataset of 50,000 32x32 color training images and 10,000 test images, labeled over 10 categories. The objects are vehicles and animals.\n",
        "\n",
        "Apply our best 3 architectures and hyperparameters (incl. optimizer)."
      ],
      "metadata": {
        "id": "X_qvpEY1CKAk"
      }
    },
    {
      "cell_type": "code",
      "source": [
        "(x_train, y_train), (x_test, y_test) = keras.datasets.cifar10.load_data()"
      ],
      "metadata": {
        "id": "0tfsXbkPCHw0"
      },
      "execution_count": null,
      "outputs": []
    },
    {
      "cell_type": "code",
      "source": [],
      "metadata": {
        "id": "ADZvewD4CHuB"
      },
      "execution_count": null,
      "outputs": []
    },
    {
      "cell_type": "code",
      "source": [],
      "metadata": {
        "id": "WYkteRW7CHro"
      },
      "execution_count": null,
      "outputs": []
    },
    {
      "cell_type": "code",
      "source": [],
      "metadata": {
        "id": "UYJSOGXsCHpf"
      },
      "execution_count": null,
      "outputs": []
    },
    {
      "cell_type": "code",
      "source": [],
      "metadata": {
        "id": "VD3q8wLKCHnE"
      },
      "execution_count": null,
      "outputs": []
    },
    {
      "cell_type": "code",
      "source": [],
      "metadata": {
        "id": "LILhMHvbCHkk"
      },
      "execution_count": null,
      "outputs": []
    },
    {
      "cell_type": "code",
      "source": [],
      "metadata": {
        "id": "QnnWfQUiCHi0"
      },
      "execution_count": null,
      "outputs": []
    },
    {
      "cell_type": "code",
      "source": [],
      "metadata": {
        "id": "yiFE6jcPCHgN"
      },
      "execution_count": null,
      "outputs": []
    },
    {
      "cell_type": "code",
      "source": [],
      "metadata": {
        "id": "FM8jCrIPCHdp"
      },
      "execution_count": null,
      "outputs": []
    },
    {
      "cell_type": "code",
      "source": [],
      "metadata": {
        "id": "AtCW0hqZCHbk"
      },
      "execution_count": null,
      "outputs": []
    },
    {
      "cell_type": "code",
      "source": [],
      "metadata": {
        "id": "A9QelLquCHYP"
      },
      "execution_count": null,
      "outputs": []
    }
  ],
  "metadata": {
    "accelerator": "TPU",
    "colab": {
      "collapsed_sections": [
        "6ceudEFhIikX",
        "b2ic28zQHv6H",
        "gPhu9yCDMSTS",
        "p9VXL2NpMYgk",
        "NTVhtIXUUruW",
        "VQxZAF47UvDx",
        "_nPv0xLnhVLB",
        "sfO6sCuDhbBr",
        "6IXni7DwSo9y",
        "o2DyMcjyTB69",
        "ejToyJTfZthC",
        "W61wWRr5CswH",
        "EkXjxuueAYRh",
        "7890qHVhx3Uf"
      ],
      "provenance": [],
      "mount_file_id": "1qjc5ZTKiZyW2bzlMVPzDbmkEDGnMUbTl",
      "authorship_tag": "ABX9TyOKzIVGVw33Le6BVmIcQ6+z"
    },
    "kernelspec": {
      "display_name": "Python 3",
      "name": "python3"
    },
    "language_info": {
      "name": "python"
    }
  },
  "nbformat": 4,
  "nbformat_minor": 0
}