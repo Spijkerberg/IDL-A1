{
  "cells": [
    {
      "cell_type": "code",
      "execution_count": null,
      "metadata": {
        "id": "P85YtYtdbElJ"
      },
      "outputs": [],
      "source": [
        "# !pip install tensorflow numpy\n",
        "# !pip install tensorboard"
      ]
    },
    {
      "cell_type": "code",
      "source": [
        "import tensorflow as tf\n",
        "from tensorflow.keras import Model, Input, Sequential\n",
        "from tensorflow.keras.layers import Dense, Dropout, Flatten, Conv2D, MaxPooling2D\n",
        "from tensorflow.keras.optimizers import Optimizer\n",
        "from tensorflow.keras.losses import Loss\n",
        "\n",
        "import numpy as np\n",
        "import matplotlib.pyplot as plt\n",
        "\n",
        "print(\"Tensorflow version: \", tf.__version__)\n",
        "\n",
        "resolver = tf.distribute.cluster_resolver.TPUClusterResolver(tpu='')\n",
        "tf.config.experimental_connect_to_cluster(resolver)\n",
        "# This is the TPU initialization code that has to be at the beginning.\n",
        "tf.tpu.experimental.initialize_tpu_system(resolver)\n",
        "print(\"All devices: \", tf.config.list_logical_devices('TPU'))"
      ],
      "metadata": {
        "id": "f2Fd0f0DezUw",
        "outputId": "10847f5a-6c1d-424a-85d2-b233d550ec32",
        "colab": {
          "base_uri": "https://localhost:8080/"
        }
      },
      "execution_count": 2,
      "outputs": [
        {
          "output_type": "stream",
          "name": "stdout",
          "text": [
            "Tensorflow version:  2.12.0\n",
            "All devices:  [LogicalDevice(name='/job:worker/replica:0/task:0/device:TPU:0', device_type='TPU'), LogicalDevice(name='/job:worker/replica:0/task:0/device:TPU:1', device_type='TPU'), LogicalDevice(name='/job:worker/replica:0/task:0/device:TPU:2', device_type='TPU'), LogicalDevice(name='/job:worker/replica:0/task:0/device:TPU:3', device_type='TPU'), LogicalDevice(name='/job:worker/replica:0/task:0/device:TPU:4', device_type='TPU'), LogicalDevice(name='/job:worker/replica:0/task:0/device:TPU:5', device_type='TPU'), LogicalDevice(name='/job:worker/replica:0/task:0/device:TPU:6', device_type='TPU'), LogicalDevice(name='/job:worker/replica:0/task:0/device:TPU:7', device_type='TPU')]\n"
          ]
        }
      ]
    },
    {
      "cell_type": "code",
      "source": [
        "from typing import List, Dict, Literal, Tuple\n",
        "\n",
        "Kwargs = Dict[str, int | float | bool]\n",
        "Shape = Tuple[int,int]\n",
        "Layer = Tuple[str, Kwargs]\n",
        "Arch = Dict[str, List[Layer] | Shape]\n",
        "Data = Dict[str, np.ndarray]\n"
      ],
      "metadata": {
        "id": "j2_n-FMBfFJ9"
      },
      "execution_count": 32,
      "outputs": []
    },
    {
      "cell_type": "markdown",
      "source": [
        "# Fashion MNIST, MLP"
      ],
      "metadata": {
        "id": "D0NSg5UX4luF"
      }
    },
    {
      "cell_type": "code",
      "source": [
        "(x_train, y_train), (x_test, y_test) = tf.keras.datasets.fashion_mnist.load_data()\n",
        "y_train = tf.keras.utils.to_categorical(y_train)\n",
        "y_test = tf.keras.utils.to_categorical(y_test)\n",
        "\n",
        "plt.figure()\n",
        "plt.title(f\"image with label {y_train[0]}\")\n",
        "plt.imshow(x_train[0].reshape(28, 28), cmap='Greys')\n",
        "plt.show()"
      ],
      "metadata": {
        "id": "r3gyKKkdfUIT",
        "outputId": "1f8e3ad8-ee8b-4d9b-dcf9-f0facb05358b",
        "colab": {
          "base_uri": "https://localhost:8080/",
          "height": 452
        }
      },
      "execution_count": 29,
      "outputs": [
        {
          "output_type": "display_data",
          "data": {
            "text/plain": [
              "<Figure size 640x480 with 1 Axes>"
            ],
            "image/png": "[encoded data removed]"
          },
          "metadata": {}
        }
      ]
    },
    {
      "cell_type": "code",
      "source": [
        "def leaky_relu(x):\n",
        "    return tf.nn.leaky_relu(x, alpha=0.1)\n",
        "\n",
        "def build_model_from_arch(\n",
        "        arch,\n",
        "        optimizer: Optimizer = tf.keras.optimizers.Adadelta(),\n",
        "        loss: Loss = tf.keras.losses.categorical_crossentropy,\n",
        "        metrics: List[str] = [\"accuracy\"],\n",
        "        steps_per_execution: int = None,\n",
        "    ):\n",
        "    LAYER_DICT = {\n",
        "        'dense': Dense,\n",
        "        'dropout': Dropout,\n",
        "        'conv': Conv2D,\n",
        "        'maxpooling': MaxPooling2D,\n",
        "        'flatten': Flatten,\n",
        "    }\n",
        "    model: Model = Sequential()\n",
        "    model.add(Input(arch['shape'][0]))\n",
        "    for (layer, kwargs) in arch['layers']:\n",
        "        model.add(LAYER_DICT[layer](**kwargs))\n",
        "\n",
        "    model.add(Dense(arch['shape'][1], activation = 'softmax'))\n",
        "    model.compile(optimizer, loss, metrics, steps_per_execution)\n",
        "    return model\n",
        "\n",
        "mlp = {\n",
        "    'shape': (784, 10),\n",
        "    'layers': [\n",
        "        ('dense', {'units': 512, 'activation': leaky_relu}),\n",
        "        ('dropout', {'rate': 0.2}),\n",
        "        ('dense', {'units': 512, 'activation': leaky_relu}),\n",
        "        ('dropout', {'rate': 0.5}),\n",
        "    ]\n",
        "}\n",
        "\n",
        "cnn = {\n",
        "    'shape': ((28, 28, 1), 10),\n",
        "    'layers': [\n",
        "        ('conv', {'filters': 32,'kernel_size':(3, 3), 'activation': leaky_relu}),\n",
        "        ('conv', {'filters': 64,'kernel_size':(3, 3), 'activation': leaky_relu}),\n",
        "        ('maxpooling', {'pool_size': (2, 2)}),\n",
        "        ('dropout', {'rate': 0.25}),\n",
        "        ('flatten', {}),\n",
        "        ('dense', {'units': 128, 'activation': leaky_relu}),\n",
        "        ('dropout', {'rate': 0.5}),\n",
        "    ]\n",
        "}\n",
        "\n",
        "MLP = build_model_from_arch(mlp, tf.keras.optimizers.Adam(), steps_per_execution = 100)\n",
        "\n",
        "CNN = build_model_from_arch(cnn, tf.keras.optimizers.Adam(), steps_per_execution = 100)\n",
        "# MLP: tf.keras.Model = build_mlp_model(x_train.shape[1], y_train.shape[1])\n",
        "# # validation_split 0.1 is recommended for tuning hyper parameters\n",
        "# MLP.fit(x_train, y_train, batch_size=128, epochs=20, validation_split = 0.1, use_multiprocessing = True)"
      ],
      "metadata": {
        "id": "Uq3EHqNeCU76"
      },
      "execution_count": 48,
      "outputs": []
    },
    {
      "cell_type": "code",
      "source": [
        "'''\n",
        "Model contains: Architecture, Regularisations, Optimizer, Losses, (Metrics)\n",
        "Testing may use: batch_size, epochs, validation_split (set at 0.1)\n",
        "'''\n",
        "\n",
        "def permute_fit_kwargses(\n",
        "        batch_sizes: List[int] = [128],\n",
        "        epochses: List[int] = [20],\n",
        "        verbose: int = 0,\n",
        "        validation_split: float = 0.1,\n",
        "    ) -> List[Kwargs]:\n",
        "    \"\"\"Provided with a list of `batch_sizes`, a list of number of epochs `epochses` generate all possible permutations of the inputs.\n",
        "    Will generate a list of the names, containing the specific kwargs\"\"\"\n",
        "    kwargses: List[Kwargs] = []\n",
        "    names: List[str] = []\n",
        "    for batch_size in batch_sizes:\n",
        "        for epochs in epochses:\n",
        "            kwargses.append({\n",
        "                \"batch_size\": batch_size,\n",
        "                \"epochs\": epochs,\n",
        "                \"verbose\": verbose,\n",
        "                \"validation_split\": validation_split,\n",
        "                })\n",
        "            names.append(f\"{batch_size=}, {epochs=}, {verbose=}, {validation_split=}\")\n",
        "    return kwargses, names\n",
        "\n",
        "def print_arch(arch: Arch):\n",
        "    result: str = ''\n",
        "    for key, value in arch.items():\n",
        "        result += f'arch.{key}={value}, '\n",
        "    return result + '\\n'\n",
        "\n",
        "def permute_models(\n",
        "    model_archs: List[Arch],\n",
        "    optimizers: List[Optimizer],\n",
        "    losses: List[Loss],\n",
        "    metrics: List[str] = [\"accuracy\"],\n",
        "    steps_per_execution: int = None,\n",
        "    ) -> List[Model]:\n",
        "    \"\"\"Provided with a list of `model_archs`, a list of number of epochs `epochses` generate all possible permutations of the inputs.\n",
        "    Will generate a list of the names, containing the specific kwargs\"\"\"\n",
        "    models: List[Model] = []\n",
        "    names: List[str] = []\n",
        "    for arch in model_archs:\n",
        "        for optimizer in optimizers:\n",
        "            for loss in losses:\n",
        "                models.append(build_model_from_arch(arch, optimizer(), loss, metrics, steps_per_execution))\n",
        "                names.append(print_arch(arch) + f\"{optimizer.__name__=}, {loss.__name__=}, {metrics=}, {steps_per_execution=}\")\n",
        "    return models, names\n",
        "\n",
        "def print_best(performances: List[List], k: int = 5):\n",
        "    sorted_k = sorted(performances, key = lambda x: x[-1], reverse = True)[:k]\n",
        "    sorted_k = [ '[' + ', '.join(map(str, perf)) + ']' for perf in sorted_k]\n",
        "    print(*sorted_k, sep='\\n')\n",
        "\n",
        "def run_all_tests(\n",
        "    data: Data,\n",
        "    models: List[Model],\n",
        "    fit_kwargses: List[Kwargs],\n",
        "    log: bool = True,\n",
        "    show_k_best: bool = True,\n",
        "    k: int = 5,\n",
        "    ):\n",
        "    if log:\n",
        "        n_models = len(models)\n",
        "        n_kwargs = len(fit_kwargses)\n",
        "        n_tot = n_models * n_kwargs\n",
        "        i = 1\n",
        "        print(msg:=f\"Will run {n_models} models, {n_kwargs} kwargs. {n_tot} total.\")\n",
        "        print(\"=\"*len(msg))\n",
        "\n",
        "    if show_k_best:\n",
        "        performances: List[List[int, int, float]] = []\n",
        "\n",
        "    n_train = data['x_train'].shape[0]\n",
        "    n_test = data['x_test'].shape[0]\n",
        "    for m_id, model in enumerate(models):\n",
        "        for f_id, fit_kwargs in enumerate(fit_kwargses):\n",
        "            if log:\n",
        "                print(f\"Run {i} of {n_tot}: Model {m_id}, fit_kwargs {f_id}\")\n",
        "                model.summary()\n",
        "\n",
        "            # fit each model on the same data with the same settings\n",
        "            model.fit(data['x_train'].reshape(n_train, *model.input_shape[1:]),\n",
        "                      data['y_train'], **fit_kwargs)\n",
        "\n",
        "            # evaluate the fitted model\n",
        "            score = model.evaluate(data['x_test'].reshape(n_test, *model.input_shape[1:]),\n",
        "                                   data['y_test'], verbose = fit_kwargs['verbose'])\n",
        "            metric_fmt = [f\"\\tMetric {name}: {s:.3f}\" for s, name in zip(score, model.metrics_names)]\n",
        "            performances.append([m_id, f_id, *[s for s, m in zip(score, model.metrics_names) if m == 'accuracy']])\n",
        "\n",
        "            if log:\n",
        "                print('\\n'.join(metric_fmt), '\\n')\n",
        "                i += 1\n",
        "\n",
        "    if show_k_best:\n",
        "        print(\"Best performing: \")\n",
        "        print_best(performances, k)\n",
        "\n",
        "data = {\n",
        "    'x_train': x_train,\n",
        "    'y_train': y_train,\n",
        "    'x_test': x_test,\n",
        "    'y_test': y_test,\n",
        "}\n",
        "\n",
        "models, m_names = permute_models(\n",
        "    model_archs= [mlp, cnn],\n",
        "    optimizers = [tf.keras.optimizers.Adadelta,\n",
        "                  tf.keras.optimizers.Adam,\n",
        "                  tf.keras.optimizers.SGD],\n",
        "    losses = [tf.keras.losses.categorical_crossentropy],\n",
        "    steps_per_execution=100, # higher is quicker\n",
        ")\n",
        "\n",
        "kwargs, k_names = permute_fit_kwargses(\n",
        "    batch_sizes = [64, 128, 256],\n",
        "    epochses = [5, 10, 20],\n",
        "    # verbose=1, # uncomment if you want to see the epochs in real time\n",
        ")\n",
        "\n",
        "run_all_tests(data, models, kwargs, log=False, show_k_best=True, k=5)\n"
      ],
      "metadata": {
        "id": "GjhtryvJG0ml"
      },
      "execution_count": null,
      "outputs": []
    },
    {
      "cell_type": "code",
      "source": [
        "best = [\n",
        "    [1, 0],\n",
        "    [0, 0]\n",
        "]\n",
        "\n",
        "for m_id, k_id in best:\n",
        "    print(m_names[m_id], k_names[k_id], sep = '\\n', end='\\n\\n')"
      ],
      "metadata": {
        "id": "jbzM2MoAzZfF",
        "outputId": "d2ef4c4d-a67d-482b-c1ee-00093383ee65",
        "colab": {
          "base_uri": "https://localhost:8080/"
        }
      },
      "execution_count": 45,
      "outputs": [
        {
          "output_type": "stream",
          "name": "stdout",
          "text": [
            "arch.shape=((28, 28, 1), 10), arch.layers=[('conv', {'filters': 32, 'kernel_size': (3, 3), 'activation': <function leaky_relu at 0x7f8cf4d42170>}), ('conv', {'filters': 64, 'kernel_size': (3, 3), 'activation': <function leaky_relu at 0x7f8cf4d42170>}), ('maxpooling', {'pool_size': (2, 2)}), ('dropout', {'rate': 0.25}), ('flatten', {}), ('dense', {'units': 128, 'activation': <function leaky_relu at 0x7f8cf4d42170>}), ('dropout', {'rate': 0.5})], \n",
            "optimizer.__name__='Adadelta', loss.__name__='categorical_crossentropy', metrics=['accuracy'], steps_per_execution=100\n",
            "batch_size=256, epochs=5, verbose=0, validation_split=0.1\n",
            "\n",
            "arch.shape=(784, 10), arch.layers=[('dense', {'units': 512, 'activation': <function leaky_relu at 0x7f8cf4d42170>}), ('dropout', {'rate': 0.2}), ('dense', {'units': 512, 'activation': <function leaky_relu at 0x7f8cf4d42170>}), ('dropout', {'rate': 0.5})], \n",
            "optimizer.__name__='Adadelta', loss.__name__='categorical_crossentropy', metrics=['accuracy'], steps_per_execution=100\n",
            "batch_size=256, epochs=5, verbose=0, validation_split=0.1\n",
            "\n"
          ]
        }
      ]
    },
    {
      "cell_type": "code",
      "source": [
        "# small test for the run function\n",
        "\n",
        "def test_run():\n",
        "    models, m_names = permute_models(\n",
        "        model_archs= [mlp, cnn],\n",
        "        optimizers = [tf.keras.optimizers.Adadelta],\n",
        "        losses = [tf.keras.losses.categorical_crossentropy],\n",
        "        steps_per_execution=100, # higher is quicker\n",
        "    )\n",
        "\n",
        "    kwargs, k_names = permute_fit_kwargses(epochses=[5])\n",
        "\n",
        "    run_all_tests(data, models, kwargs)\n",
        "\n",
        "test_run()"
      ],
      "metadata": {
        "colab": {
          "base_uri": "https://localhost:8080/"
        },
        "id": "5PeTjGsC2t83",
        "outputId": "9d9a68d3-8e6f-43e4-bba6-b43aa0ae8e3a"
      },
      "execution_count": null,
      "outputs": [
        {
          "output_type": "stream",
          "name": "stdout",
          "text": [
            "[]\n",
            "Will run 1 models, 1 kwargs. 1 total.\n",
            "=====================================\n",
            "Run 1 of 1: Model 0, fit_kwargs 0\n",
            "\tMetric loss: 0.629\n",
            "\tMetric accuracy: 0.745 \n",
            "\n",
            "Best performing: \n",
            "[0, 0, 0.7447999715805054]\n"
          ]
        }
      ]
    }
  ],
  "metadata": {
    "kernelspec": {
      "display_name": "Python 3",
      "name": "python3"
    },
    "language_info": {
      "codemirror_mode": {
        "name": "ipython",
        "version": 3
      },
      "file_extension": ".py",
      "mimetype": "text/x-python",
      "name": "python",
      "nbconvert_exporter": "python",
      "pygments_lexer": "ipython3",
      "version": "3.11.0"
    },
    "orig_nbformat": 4,
    "colab": {
      "provenance": []
    },
    "accelerator": "TPU"
  },
  "nbformat": 4,
  "nbformat_minor": 0
}