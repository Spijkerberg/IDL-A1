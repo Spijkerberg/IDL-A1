{
  "cells": [
    {
      "cell_type": "code",
      "execution_count": 1,
      "metadata": {
        "id": "P85YtYtdbElJ"
      },
      "outputs": [],
      "source": [
        "# !pip install tensorflow numpy\n",
        "# !pip install tensorboard"
      ]
    },
    {
      "cell_type": "code",
      "source": [
        "import tensorflow as tf\n",
        "import numpy as np\n",
        "import matplotlib.pyplot as plt\n",
        "\n",
        "print(\"Tensorflow version: \", tf.__version__)\n",
        "\n",
        "resolver = tf.distribute.cluster_resolver.TPUClusterResolver(tpu='')\n",
        "tf.config.experimental_connect_to_cluster(resolver)\n",
        "# This is the TPU initialization code that has to be at the beginning.\n",
        "tf.tpu.experimental.initialize_tpu_system(resolver)\n",
        "print(\"All devices: \", tf.config.list_logical_devices('TPU'))"
      ],
      "metadata": {
        "id": "f2Fd0f0DezUw",
        "outputId": "7177c447-3777-4d13-ee39-ec8568309332",
        "colab": {
          "base_uri": "https://localhost:8080/"
        }
      },
      "execution_count": 1,
      "outputs": [
        {
          "output_type": "stream",
          "name": "stdout",
          "text": [
            "Tensorflow version:  2.12.0\n",
            "All devices:  [LogicalDevice(name='/job:worker/replica:0/task:0/device:TPU:0', device_type='TPU'), LogicalDevice(name='/job:worker/replica:0/task:0/device:TPU:1', device_type='TPU'), LogicalDevice(name='/job:worker/replica:0/task:0/device:TPU:2', device_type='TPU'), LogicalDevice(name='/job:worker/replica:0/task:0/device:TPU:3', device_type='TPU'), LogicalDevice(name='/job:worker/replica:0/task:0/device:TPU:4', device_type='TPU'), LogicalDevice(name='/job:worker/replica:0/task:0/device:TPU:5', device_type='TPU'), LogicalDevice(name='/job:worker/replica:0/task:0/device:TPU:6', device_type='TPU'), LogicalDevice(name='/job:worker/replica:0/task:0/device:TPU:7', device_type='TPU')]\n"
          ]
        }
      ]
    },
    {
      "cell_type": "markdown",
      "source": [
        "# Fashion MNIST, MLP"
      ],
      "metadata": {
        "id": "D0NSg5UX4luF"
      }
    },
    {
      "cell_type": "code",
      "source": [
        "(x_train, y_train), (x_test, y_test) = tf.keras.datasets.fashion_mnist.load_data()\n",
        "\n",
        "n, x, y = x_train.shape\n",
        "# reshape data\n",
        "x_train = x_train.reshape(n, x * y)\n",
        "y_train = tf.keras.utils.to_categorical(y_train)\n",
        "\n",
        "n, x, y = x_test.shape\n",
        "# reshape data\n",
        "x_test = x_test.reshape(n, x * y)\n",
        "y_test = tf.keras.utils.to_categorical(y_test)\n",
        "\n",
        "print(x_train.shape, y_train.shape)\n",
        "plt.figure()\n",
        "plt.title(f\"image with label {y_train[0]}\")\n",
        "plt.imshow(x_train[0].reshape(28, 28), cmap='Greys')\n",
        "plt.show()"
      ],
      "metadata": {
        "id": "r3gyKKkdfUIT",
        "outputId": "7a055c4a-a5bf-445b-daa1-68b2a8a0c90d",
        "colab": {
          "base_uri": "https://localhost:8080/",
          "height": 470
        }
      },
      "execution_count": 9,
      "outputs": [
        {
          "output_type": "stream",
          "name": "stdout",
          "text": [
            "(60000, 784) (60000, 10)\n"
          ]
        },
        {
          "output_type": "display_data",
          "data": {
            "text/plain": [
              "<Figure size 640x480 with 1 Axes>"
            ],
            "image/png": "[encoded data removed]"
          },
          "metadata": {}
        }
      ]
    },
    {
      "cell_type": "code",
      "source": [
        "def build_mlp_model(input_shape, num_outputs, **kwargs):\n",
        "    model: tf.keras.Model = tf.keras.Sequential()\n",
        "    model.add(tf.keras.Input(input_shape))\n",
        "    model.add(tf.keras.layers.Dense(512, activation='relu'))\n",
        "    model.add(tf.keras.layers.Dropout(0.2))\n",
        "    model.add(tf.keras.layers.Dense(512, activation='relu'))\n",
        "    model.add(tf.keras.layers.Dropout(0.2))\n",
        "    model.add(tf.keras.layers.Dense(num_outputs, activation='softmax'))\n",
        "    optimizer = kwargs.get('optimizer', tf.keras.optimizers.Adadelta())\n",
        "    loss = kwargs.get('loss', tf.keras.losses.categorical_crossentropy)\n",
        "    metrics = kwargs.get('metrics', ['accuracy'])\n",
        "    model.summary()\n",
        "    model.compile(optimizer, loss, metrics)\n",
        "    return model\n",
        "\n",
        "MLP: tf.keras.Model = build_mlp_model(x_train.shape[1], y_train.shape[1])\n",
        "MLP.fit(x_train, y_train, batch_size=128, epochs=20, validation_split = 0.2)"
      ],
      "metadata": {
        "id": "Uq3EHqNeCU76",
        "outputId": "6ddaca0f-12d1-4f0f-993d-f5f2aebe41d0",
        "colab": {
          "base_uri": "https://localhost:8080/"
        }
      },
      "execution_count": 16,
      "outputs": [
        {
          "output_type": "stream",
          "name": "stdout",
          "text": [
            "Model: \"sequential_4\"\n",
            "_________________________________________________________________\n",
            " Layer (type)                Output Shape              Param #   \n",
            "=================================================================\n",
            " dense_12 (Dense)            (None, 512)               401920    \n",
            "                                                                 \n",
            " dropout_8 (Dropout)         (None, 512)               0         \n",
            "                                                                 \n",
            " dense_13 (Dense)            (None, 512)               262656    \n",
            "                                                                 \n",
            " dropout_9 (Dropout)         (None, 512)               0         \n",
            "                                                                 \n",
            " dense_14 (Dense)            (None, 10)                5130      \n",
            "                                                                 \n",
            "=================================================================\n",
            "Total params: 669,706\n",
            "Trainable params: 669,706\n",
            "Non-trainable params: 0\n",
            "_________________________________________________________________\n",
            "Epoch 1/20\n",
            "375/375 [==============================] - 9s 19ms/step - loss: 109.7324 - accuracy: 0.1381 - val_loss: 35.0157 - val_accuracy: 0.2747\n",
            "Epoch 2/20\n",
            "375/375 [==============================] - 6s 17ms/step - loss: 64.0923 - accuracy: 0.2412 - val_loss: 18.3437 - val_accuracy: 0.4777\n",
            "Epoch 3/20\n",
            "375/375 [==============================] - 7s 17ms/step - loss: 46.6011 - accuracy: 0.3474 - val_loss: 13.5647 - val_accuracy: 0.5936\n",
            "Epoch 4/20\n",
            "375/375 [==============================] - 7s 17ms/step - loss: 37.4778 - accuracy: 0.4249 - val_loss: 11.6964 - val_accuracy: 0.6512\n",
            "Epoch 5/20\n",
            "375/375 [==============================] - 6s 17ms/step - loss: 31.6635 - accuracy: 0.4827 - val_loss: 10.8006 - val_accuracy: 0.6819\n",
            "Epoch 6/20\n",
            "375/375 [==============================] - 7s 18ms/step - loss: 27.3866 - accuracy: 0.5285 - val_loss: 10.1271 - val_accuracy: 0.7017\n",
            "Epoch 7/20\n",
            "375/375 [==============================] - 7s 17ms/step - loss: 24.7727 - accuracy: 0.5542 - val_loss: 9.7038 - val_accuracy: 0.7159\n",
            "Epoch 8/20\n",
            "375/375 [==============================] - 6s 17ms/step - loss: 22.5674 - accuracy: 0.5781 - val_loss: 9.2832 - val_accuracy: 0.7292\n",
            "Epoch 9/20\n",
            "375/375 [==============================] - 6s 17ms/step - loss: 20.7768 - accuracy: 0.5989 - val_loss: 8.8757 - val_accuracy: 0.7385\n",
            "Epoch 10/20\n",
            "375/375 [==============================] - 6s 16ms/step - loss: 19.1831 - accuracy: 0.6126 - val_loss: 8.4934 - val_accuracy: 0.7465\n",
            "Epoch 11/20\n",
            "375/375 [==============================] - 6s 17ms/step - loss: 18.0628 - accuracy: 0.6234 - val_loss: 8.2211 - val_accuracy: 0.7527\n",
            "Epoch 12/20\n",
            "375/375 [==============================] - 6s 17ms/step - loss: 16.9498 - accuracy: 0.6355 - val_loss: 7.8837 - val_accuracy: 0.7574\n",
            "Epoch 13/20\n",
            "375/375 [==============================] - 6s 17ms/step - loss: 16.1674 - accuracy: 0.6394 - val_loss: 7.6503 - val_accuracy: 0.7617\n",
            "Epoch 14/20\n",
            "375/375 [==============================] - 6s 17ms/step - loss: 15.0442 - accuracy: 0.6497 - val_loss: 7.3361 - val_accuracy: 0.7643\n",
            "Epoch 15/20\n",
            "375/375 [==============================] - 6s 17ms/step - loss: 14.3005 - accuracy: 0.6615 - val_loss: 7.0457 - val_accuracy: 0.7689\n",
            "Epoch 16/20\n",
            "375/375 [==============================] - 6s 17ms/step - loss: 13.5996 - accuracy: 0.6677 - val_loss: 6.8085 - val_accuracy: 0.7733\n",
            "Epoch 17/20\n",
            "375/375 [==============================] - 6s 17ms/step - loss: 12.8177 - accuracy: 0.6741 - val_loss: 6.5228 - val_accuracy: 0.7780\n",
            "Epoch 18/20\n",
            "375/375 [==============================] - 6s 17ms/step - loss: 12.3808 - accuracy: 0.6734 - val_loss: 6.3112 - val_accuracy: 0.7788\n",
            "Epoch 19/20\n",
            "375/375 [==============================] - 7s 18ms/step - loss: 11.9152 - accuracy: 0.6806 - val_loss: 6.1471 - val_accuracy: 0.7801\n",
            "Epoch 20/20\n",
            "375/375 [==============================] - 7s 18ms/step - loss: 11.3770 - accuracy: 0.6843 - val_loss: 5.9416 - val_accuracy: 0.7813\n"
          ]
        },
        {
          "output_type": "execute_result",
          "data": {
            "text/plain": [
              "<keras.callbacks.History at 0x7a1fa67fb880>"
            ]
          },
          "metadata": {},
          "execution_count": 16
        }
      ]
    },
    {
      "cell_type": "code",
      "source": [
        "score = MLP.evaluate(x_test, y_test)\n",
        "print('Test loss:', score[0])\n",
        "print('Test accuracy:', score[1])"
      ],
      "metadata": {
        "id": "XdKKsjWvFELe",
        "outputId": "01bd8402-ed48-4eb3-a1a9-eedd11d35b9d",
        "colab": {
          "base_uri": "https://localhost:8080/"
        }
      },
      "execution_count": 17,
      "outputs": [
        {
          "output_type": "stream",
          "name": "stdout",
          "text": [
            "313/313 [==============================] - 2s 7ms/step - loss: 6.0616 - accuracy: 0.7752\n",
            "Test loss: 6.061596870422363\n",
            "Test accuracy: 0.7752000093460083\n"
          ]
        }
      ]
    },
    {
      "cell_type": "code",
      "source": [],
      "metadata": {
        "id": "GjhtryvJG0ml"
      },
      "execution_count": null,
      "outputs": []
    }
  ],
  "metadata": {
    "kernelspec": {
      "display_name": "Python 3",
      "name": "python3"
    },
    "language_info": {
      "codemirror_mode": {
        "name": "ipython",
        "version": 3
      },
      "file_extension": ".py",
      "mimetype": "text/x-python",
      "name": "python",
      "nbconvert_exporter": "python",
      "pygments_lexer": "ipython3",
      "version": "3.11.0"
    },
    "orig_nbformat": 4,
    "colab": {
      "provenance": []
    },
    "accelerator": "TPU"
  },
  "nbformat": 4,
  "nbformat_minor": 0
}