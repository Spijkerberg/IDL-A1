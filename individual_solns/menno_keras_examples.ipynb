{
  "cells": [
    {
      "cell_type": "code",
      "execution_count": 2,
      "metadata": {
        "id": "Ud1NWX8RhyU6",
        "outputId": "bc577aa8-6e48-49d4-e968-02e4aef1c527",
        "colab": {
          "base_uri": "https://localhost:8080/",
          "height": 35
        }
      },
      "outputs": [
        {
          "output_type": "execute_result",
          "data": {
            "text/plain": [
              "'2.13.0'"
            ],
            "application/vnd.google.colaboratory.intrinsic+json": {
              "type": "string"
            }
          },
          "metadata": {},
          "execution_count": 2
        }
      ],
      "source": [
        "# !pip install tensorflow numpy tensorboard\n",
        "import tensorflow as tf\n",
        "import numpy as np\n",
        "import matplotlib.pyplot as plt\n",
        "tf.__version__"
      ]
    },
    {
      "cell_type": "markdown",
      "source": [
        "# mnist mlp rework"
      ],
      "metadata": {
        "id": "YwfkmJcUkIL3"
      }
    },
    {
      "cell_type": "code",
      "source": [
        "# constants\n",
        "BATCH_SIZE = 128\n",
        "NUM_CLASSES = 10\n",
        "EPOCHS = 20"
      ],
      "metadata": {
        "id": "nBeaQEgTkd2J"
      },
      "execution_count": null,
      "outputs": []
    },
    {
      "cell_type": "code",
      "source": [
        "(x_train, y_train), (x_test, y_test) = tf.keras.datasets.mnist.load_data()\n",
        "\n",
        "# reshape data and clamp between 0 and 1\n",
        "n, x, y = x_train.shape\n",
        "y_train = tf.keras.utils.to_categorical(y_train)\n",
        "x_train_ = x_train.reshape(n, x*y).astype('float32') / 255\n",
        "\n",
        "# reshape data and clamp between 0 and 1\n",
        "n, x, y = x_test.shape\n",
        "y_test = tf.keras.utils.to_categorical(y_test)\n",
        "x_test_ = x_test.reshape(n, x*y).astype('float32') / 255\n",
        "\n",
        "print(x_train.shape[0], 'train samples')\n",
        "print(x_test.shape[0], 'test samples')"
      ],
      "metadata": {
        "id": "joKgT2fgkL6W",
        "outputId": "217b1aa3-b4ab-4e1f-f5c0-08a9a3d1dd32",
        "colab": {
          "base_uri": "https://localhost:8080/"
        }
      },
      "execution_count": 9,
      "outputs": [
        {
          "output_type": "stream",
          "name": "stdout",
          "text": [
            "60000 train samples\n",
            "10000 test samples\n"
          ]
        }
      ]
    },
    {
      "cell_type": "code",
      "source": [
        "from tensorflow.keras.datasets import mnist\n",
        "from tensorflow.keras.models import Sequential\n",
        "from tensorflow.keras.layers import Dense, Dropout\n",
        "from tensorflow.keras.optimizers import RMSprop\n",
        "\n",
        "# # generate the model\n",
        "# def build_model():\n",
        "#     model = Sequential()\n",
        "#     model.add()\n"
      ],
      "metadata": {
        "id": "YU11xwyJlqT-"
      },
      "execution_count": 11,
      "outputs": []
    }
  ],
  "metadata": {
    "language_info": {
      "name": "python"
    },
    "colab": {
      "provenance": []
    },
    "kernelspec": {
      "name": "python3",
      "display_name": "Python 3"
    }
  },
  "nbformat": 4,
  "nbformat_minor": 0
}