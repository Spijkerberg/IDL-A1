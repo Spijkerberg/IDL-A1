{
  "cells": [
    {
      "cell_type": "code",
      "execution_count": 1,
      "metadata": {
        "id": "Ud1NWX8RhyU6",
        "outputId": "e7c5fcb0-254d-4547-e019-eedfc406e3d4",
        "colab": {
          "base_uri": "https://localhost:8080/"
        }
      },
      "outputs": [
        {
          "output_type": "stream",
          "name": "stdout",
          "text": [
            "Tensorflow version:  2.12.0\n",
            "GPUs Available:  []\n",
            "All devices:  [LogicalDevice(name='/job:worker/replica:0/task:0/device:TPU:0', device_type='TPU'), LogicalDevice(name='/job:worker/replica:0/task:0/device:TPU:1', device_type='TPU'), LogicalDevice(name='/job:worker/replica:0/task:0/device:TPU:2', device_type='TPU'), LogicalDevice(name='/job:worker/replica:0/task:0/device:TPU:3', device_type='TPU'), LogicalDevice(name='/job:worker/replica:0/task:0/device:TPU:4', device_type='TPU'), LogicalDevice(name='/job:worker/replica:0/task:0/device:TPU:5', device_type='TPU'), LogicalDevice(name='/job:worker/replica:0/task:0/device:TPU:6', device_type='TPU'), LogicalDevice(name='/job:worker/replica:0/task:0/device:TPU:7', device_type='TPU')]\n"
          ]
        }
      ],
      "source": [
        "# !pip install tensorflow numpy tensorboard\n",
        "import tensorflow as tf\n",
        "tf.keras.datasets.mnist\n",
        "from tensorflow.keras.datasets import mnist\n",
        "from tensorflow.keras.models import Sequential\n",
        "from tensorflow.keras.layers import Dense, Dropout, Flatten, Conv2D, MaxPooling2D\n",
        "from tensorflow.keras import Input, Model, backend as K\n",
        "import numpy as np\n",
        "import matplotlib.pyplot as plt\n",
        "print(\"Tensorflow version: \", tf.__version__)\n",
        "\n",
        "resolver = tf.distribute.cluster_resolver.TPUClusterResolver(tpu='')\n",
        "tf.config.experimental_connect_to_cluster(resolver)\n",
        "# This is the TPU initialization code that has to be at the beginning.\n",
        "tf.tpu.experimental.initialize_tpu_system(resolver)\n",
        "print(\"All devices: \", tf.config.list_logical_devices('TPU'))\n"
      ]
    },
    {
      "cell_type": "markdown",
      "source": [
        "# mnist mlp rework"
      ],
      "metadata": {
        "id": "YwfkmJcUkIL3"
      }
    },
    {
      "cell_type": "code",
      "source": [
        "# constants\n",
        "BATCH_SIZE = 128\n",
        "NUM_CLASSES = 10\n",
        "EPOCHS = 20"
      ],
      "metadata": {
        "id": "nBeaQEgTkd2J"
      },
      "execution_count": 2,
      "outputs": []
    },
    {
      "cell_type": "code",
      "source": [
        "(x_train, y_train), (x_test, y_test) = tf.keras.datasets.mnist.load_data()\n",
        "\n",
        "# reshape data and clamp between 0 and 1\n",
        "n, x, y = x_train.shape\n",
        "y_train = tf.keras.utils.to_categorical(y_train)\n",
        "x_train_ = x_train.reshape(n, x*y).astype('float32') / 255\n",
        "\n",
        "# reshape data and clamp between 0 and 1\n",
        "n, x, y = x_test.shape\n",
        "y_test = tf.keras.utils.to_categorical(y_test)\n",
        "x_test_ = x_test.reshape(n, x*y).astype('float32') / 255\n",
        "\n",
        "print(x_train.shape[0], 'train samples')\n",
        "print(x_test.shape[0], 'test samples')"
      ],
      "metadata": {
        "id": "joKgT2fgkL6W",
        "outputId": "0610556f-355e-4591-f1f2-6d75d47c9336",
        "colab": {
          "base_uri": "https://localhost:8080/"
        }
      },
      "execution_count": 6,
      "outputs": [
        {
          "output_type": "stream",
          "name": "stdout",
          "text": [
            "60000 train samples\n",
            "10000 test samples\n"
          ]
        }
      ]
    },
    {
      "cell_type": "code",
      "source": [
        "# generate the model\n",
        "def build_mlp_model():\n",
        "    model: Model = Sequential()\n",
        "    model.add(Input(shape=(784, )))\n",
        "    model.add(Dense(512, activation='relu'))\n",
        "    model.add(Dropout(0.2))\n",
        "    model.add(Dense(512, activation='relu'))\n",
        "    model.add(Dropout(0.2))\n",
        "    model.add(Dense(NUM_CLASSES, activation='softmax'))\n",
        "    model.summary()\n",
        "    model.compile(loss='categorical_crossentropy', metrics=['accuracy'])\n",
        "    return model\n",
        "\n",
        "model1 = build_mlp_model()\n",
        "\n",
        "model1.fit(x_train_, y_train,\n",
        "           batch_size=BATCH_SIZE,\n",
        "           epochs=EPOCHS,\n",
        "           validation_data=(x_test_, y_test))\n",
        "score = model1.evaluate(x_test_, y_test, verbose=0)\n",
        "print('Test loss:', score[0])\n",
        "print('Test accuracy:', score[1])"
      ],
      "metadata": {
        "id": "YU11xwyJlqT-",
        "colab": {
          "base_uri": "https://localhost:8080/"
        },
        "outputId": "b6d54dd0-f7b0-463c-86c3-e83ce5f1ad8e"
      },
      "execution_count": 7,
      "outputs": [
        {
          "output_type": "stream",
          "name": "stdout",
          "text": [
            "Model: \"sequential_1\"\n",
            "_________________________________________________________________\n",
            " Layer (type)                Output Shape              Param #   \n",
            "=================================================================\n",
            " dense_3 (Dense)             (None, 512)               401920    \n",
            "                                                                 \n",
            " dropout_2 (Dropout)         (None, 512)               0         \n",
            "                                                                 \n",
            " dense_4 (Dense)             (None, 512)               262656    \n",
            "                                                                 \n",
            " dropout_3 (Dropout)         (None, 512)               0         \n",
            "                                                                 \n",
            " dense_5 (Dense)             (None, 10)                5130      \n",
            "                                                                 \n",
            "=================================================================\n",
            "Total params: 669,706\n",
            "Trainable params: 669,706\n",
            "Non-trainable params: 0\n",
            "_________________________________________________________________\n",
            "Epoch 1/20\n",
            "469/469 [==============================] - 9s 17ms/step - loss: 0.2538 - accuracy: 0.9224 - val_loss: 0.1379 - val_accuracy: 0.9573\n",
            "Epoch 2/20\n",
            "469/469 [==============================] - 8s 16ms/step - loss: 0.1051 - accuracy: 0.9675 - val_loss: 0.0785 - val_accuracy: 0.9763\n",
            "Epoch 3/20\n",
            "469/469 [==============================] - 7s 16ms/step - loss: 0.0751 - accuracy: 0.9765 - val_loss: 0.0730 - val_accuracy: 0.9774\n",
            "Epoch 4/20\n",
            "469/469 [==============================] - 7s 16ms/step - loss: 0.0585 - accuracy: 0.9820 - val_loss: 0.0677 - val_accuracy: 0.9796\n",
            "Epoch 5/20\n",
            "469/469 [==============================] - 7s 16ms/step - loss: 0.0472 - accuracy: 0.9849 - val_loss: 0.0713 - val_accuracy: 0.9810\n",
            "Epoch 6/20\n",
            "469/469 [==============================] - 7s 16ms/step - loss: 0.0378 - accuracy: 0.9883 - val_loss: 0.0636 - val_accuracy: 0.9818\n",
            "Epoch 7/20\n",
            "469/469 [==============================] - 8s 16ms/step - loss: 0.0345 - accuracy: 0.9889 - val_loss: 0.0657 - val_accuracy: 0.9811\n",
            "Epoch 8/20\n",
            "469/469 [==============================] - 7s 15ms/step - loss: 0.0304 - accuracy: 0.9902 - val_loss: 0.0728 - val_accuracy: 0.9808\n",
            "Epoch 9/20\n",
            "469/469 [==============================] - 7s 16ms/step - loss: 0.0272 - accuracy: 0.9910 - val_loss: 0.0699 - val_accuracy: 0.9829\n",
            "Epoch 10/20\n",
            "469/469 [==============================] - 8s 16ms/step - loss: 0.0231 - accuracy: 0.9924 - val_loss: 0.0728 - val_accuracy: 0.9822\n",
            "Epoch 11/20\n",
            "469/469 [==============================] - 8s 17ms/step - loss: 0.0203 - accuracy: 0.9933 - val_loss: 0.0708 - val_accuracy: 0.9832\n",
            "Epoch 12/20\n",
            "469/469 [==============================] - 7s 16ms/step - loss: 0.0181 - accuracy: 0.9941 - val_loss: 0.0798 - val_accuracy: 0.9814\n",
            "Epoch 13/20\n",
            "469/469 [==============================] - 7s 16ms/step - loss: 0.0175 - accuracy: 0.9946 - val_loss: 0.0750 - val_accuracy: 0.9837\n",
            "Epoch 14/20\n",
            "469/469 [==============================] - 7s 16ms/step - loss: 0.0156 - accuracy: 0.9952 - val_loss: 0.0780 - val_accuracy: 0.9840\n",
            "Epoch 15/20\n",
            "469/469 [==============================] - 7s 16ms/step - loss: 0.0132 - accuracy: 0.9958 - val_loss: 0.0804 - val_accuracy: 0.9845\n",
            "Epoch 16/20\n",
            "469/469 [==============================] - 7s 16ms/step - loss: 0.0130 - accuracy: 0.9956 - val_loss: 0.0819 - val_accuracy: 0.9841\n",
            "Epoch 17/20\n",
            "469/469 [==============================] - 7s 16ms/step - loss: 0.0116 - accuracy: 0.9962 - val_loss: 0.0795 - val_accuracy: 0.9850\n",
            "Epoch 18/20\n",
            "469/469 [==============================] - 7s 15ms/step - loss: 0.0115 - accuracy: 0.9961 - val_loss: 0.0843 - val_accuracy: 0.9846\n",
            "Epoch 19/20\n",
            "469/469 [==============================] - 7s 15ms/step - loss: 0.0109 - accuracy: 0.9966 - val_loss: 0.0853 - val_accuracy: 0.9848\n",
            "Epoch 20/20\n",
            "469/469 [==============================] - 7s 16ms/step - loss: 0.0105 - accuracy: 0.9963 - val_loss: 0.0796 - val_accuracy: 0.9840\n",
            "Test loss: 0.079551100730896\n",
            "Test accuracy: 0.984000027179718\n"
          ]
        }
      ]
    },
    {
      "cell_type": "markdown",
      "source": [
        "# mnist cnn rework"
      ],
      "metadata": {
        "id": "iSoDxNdyrvPr"
      }
    },
    {
      "cell_type": "code",
      "source": [
        "# constants\n",
        "BATCH_SIZE = 128\n",
        "NUM_CLASSES = 10\n",
        "EPOCHS = 20\n",
        "\n",
        "# input image dimensions\n",
        "IMG_ROWS, IMG_COLS = 28, 28"
      ],
      "metadata": {
        "id": "MwdeL08Vr4YA"
      },
      "execution_count": 8,
      "outputs": []
    },
    {
      "cell_type": "code",
      "source": [
        "(x_train, y_train), (x_test, y_test) = tf.keras.datasets.mnist.load_data()\n",
        "\n",
        "if K.image_data_format() == 'channels_first':\n",
        "    input_shape = (1, IMG_ROWS, IMG_COLS)\n",
        "else:\n",
        "    input_shape = (IMG_ROWS, IMG_COLS, 1)\n",
        "\n",
        "x_train = x_train.reshape(x_train.shape[0], *input_shape) / 255\n",
        "x_test = x_test.reshape(x_test.shape[0], *input_shape) / 255\n",
        "\n",
        "y_train = tf.keras.utils.to_categorical(y_train, NUM_CLASSES)\n",
        "y_test = tf.keras.utils.to_categorical(y_test, NUM_CLASSES)\n",
        "\n",
        "print('x_train shape:', x_train.shape)\n",
        "print(x_train.shape[0], 'train samples')\n",
        "print(x_test.shape[0], 'test samples')"
      ],
      "metadata": {
        "colab": {
          "base_uri": "https://localhost:8080/"
        },
        "id": "N2LFeN0jsyN-",
        "outputId": "8165959f-6431-4d1d-ad5d-8dd42e126bef"
      },
      "execution_count": 9,
      "outputs": [
        {
          "output_type": "stream",
          "name": "stdout",
          "text": [
            "x_train shape: (60000, 28, 28, 1)\n",
            "60000 train samples\n",
            "10000 test samples\n"
          ]
        }
      ]
    },
    {
      "cell_type": "code",
      "source": [
        "def build_conv_model():\n",
        "    model: Model = Sequential()\n",
        "    model.add(Input(input_shape))\n",
        "    model.add(Conv2D(32, kernel_size=(3, 3), activation='relu'))\n",
        "    model.add(Conv2D(64, kernel_size=(3, 3), activation='relu'))\n",
        "    model.add(MaxPooling2D(pool_size=(2, 2)))\n",
        "    model.add(Dropout(0.25))\n",
        "    model.add(Flatten())\n",
        "    model.add(Dense(128, activation='relu'))\n",
        "    model.add(Dropout(0.5))\n",
        "    model.add(Dense(NUM_CLASSES, activation='softmax'))\n",
        "    model.summary()\n",
        "    loss = tf.keras.losses.categorical_crossentropy\n",
        "    optimizer = tf.keras.optimizers.Adadelta\n",
        "    model.compile(loss=loss, optimizer=optimizer(), metrics=['accuracy'])\n",
        "    return model\n",
        "\n",
        "model2: Model = build_conv_model()\n",
        "\n",
        "model2.fit(x_train, y_train,\n",
        "           batch_size=BATCH_SIZE,\n",
        "           epochs=EPOCHS,\n",
        "           verbose=1,\n",
        "           validation_data=(x_test, y_test))\n",
        "\n",
        "score = model2.evaluate(x_test, y_test, verbose=0)\n",
        "print('Test loss:', score[0])\n",
        "print('Test accuracy:', score[1])\n",
        "\n"
      ],
      "metadata": {
        "colab": {
          "base_uri": "https://localhost:8080/"
        },
        "id": "UVKyT6c0t1Y3",
        "outputId": "84741c5c-266b-4619-efb9-8d065579272f"
      },
      "execution_count": 10,
      "outputs": [
        {
          "output_type": "stream",
          "name": "stdout",
          "text": [
            "Model: \"sequential_2\"\n",
            "_________________________________________________________________\n",
            " Layer (type)                Output Shape              Param #   \n",
            "=================================================================\n",
            " conv2d (Conv2D)             (None, 26, 26, 32)        320       \n",
            "                                                                 \n",
            " conv2d_1 (Conv2D)           (None, 24, 24, 64)        18496     \n",
            "                                                                 \n",
            " max_pooling2d (MaxPooling2D  (None, 12, 12, 64)       0         \n",
            " )                                                               \n",
            "                                                                 \n",
            " dropout_4 (Dropout)         (None, 12, 12, 64)        0         \n",
            "                                                                 \n",
            " flatten (Flatten)           (None, 9216)              0         \n",
            "                                                                 \n",
            " dense_6 (Dense)             (None, 128)               1179776   \n",
            "                                                                 \n",
            " dropout_5 (Dropout)         (None, 128)               0         \n",
            "                                                                 \n",
            " dense_7 (Dense)             (None, 10)                1290      \n",
            "                                                                 \n",
            "=================================================================\n",
            "Total params: 1,199,882\n",
            "Trainable params: 1,199,882\n",
            "Non-trainable params: 0\n",
            "_________________________________________________________________\n",
            "Epoch 1/20\n",
            "469/469 [==============================] - 19s 38ms/step - loss: 2.2775 - accuracy: 0.1496 - val_loss: 2.2377 - val_accuracy: 0.3342\n",
            "Epoch 2/20\n",
            "469/469 [==============================] - 17s 37ms/step - loss: 2.2141 - accuracy: 0.2530 - val_loss: 2.1588 - val_accuracy: 0.4700\n",
            "Epoch 3/20\n",
            "469/469 [==============================] - 17s 37ms/step - loss: 2.1302 - accuracy: 0.3620 - val_loss: 2.0531 - val_accuracy: 0.5912\n",
            "Epoch 4/20\n",
            "469/469 [==============================] - 18s 38ms/step - loss: 2.0201 - accuracy: 0.4487 - val_loss: 1.9107 - val_accuracy: 0.6684\n",
            "Epoch 5/20\n",
            "469/469 [==============================] - 18s 37ms/step - loss: 1.8787 - accuracy: 0.5148 - val_loss: 1.7287 - val_accuracy: 0.7125\n",
            "Epoch 6/20\n",
            "469/469 [==============================] - 18s 37ms/step - loss: 1.7054 - accuracy: 0.5670 - val_loss: 1.5169 - val_accuracy: 0.7410\n",
            "Epoch 7/20\n",
            "469/469 [==============================] - 17s 37ms/step - loss: 1.5261 - accuracy: 0.6011 - val_loss: 1.3084 - val_accuracy: 0.7594\n",
            "Epoch 8/20\n",
            "469/469 [==============================] - 18s 37ms/step - loss: 1.3671 - accuracy: 0.6287 - val_loss: 1.1289 - val_accuracy: 0.7786\n",
            "Epoch 9/20\n",
            "469/469 [==============================] - 18s 38ms/step - loss: 1.2328 - accuracy: 0.6514 - val_loss: 0.9860 - val_accuracy: 0.7971\n",
            "Epoch 10/20\n",
            "469/469 [==============================] - 17s 37ms/step - loss: 1.1243 - accuracy: 0.6738 - val_loss: 0.8760 - val_accuracy: 0.8077\n",
            "Epoch 11/20\n",
            "469/469 [==============================] - 18s 38ms/step - loss: 1.0401 - accuracy: 0.6907 - val_loss: 0.7901 - val_accuracy: 0.8190\n",
            "Epoch 12/20\n",
            "469/469 [==============================] - 17s 37ms/step - loss: 0.9694 - accuracy: 0.7070 - val_loss: 0.7226 - val_accuracy: 0.8288\n",
            "Epoch 13/20\n",
            "469/469 [==============================] - 17s 37ms/step - loss: 0.9149 - accuracy: 0.7232 - val_loss: 0.6679 - val_accuracy: 0.8375\n",
            "Epoch 14/20\n",
            "469/469 [==============================] - 18s 37ms/step - loss: 0.8682 - accuracy: 0.7330 - val_loss: 0.6248 - val_accuracy: 0.8456\n",
            "Epoch 15/20\n",
            "469/469 [==============================] - 17s 37ms/step - loss: 0.8258 - accuracy: 0.7449 - val_loss: 0.5887 - val_accuracy: 0.8512\n",
            "Epoch 16/20\n",
            "469/469 [==============================] - 17s 37ms/step - loss: 0.7929 - accuracy: 0.7563 - val_loss: 0.5597 - val_accuracy: 0.8568\n",
            "Epoch 17/20\n",
            "469/469 [==============================] - 17s 37ms/step - loss: 0.7657 - accuracy: 0.7631 - val_loss: 0.5343 - val_accuracy: 0.8623\n",
            "Epoch 18/20\n",
            "469/469 [==============================] - 18s 37ms/step - loss: 0.7408 - accuracy: 0.7721 - val_loss: 0.5127 - val_accuracy: 0.8676\n",
            "Epoch 19/20\n",
            "469/469 [==============================] - 17s 37ms/step - loss: 0.7121 - accuracy: 0.7799 - val_loss: 0.4928 - val_accuracy: 0.8714\n",
            "Epoch 20/20\n",
            "469/469 [==============================] - 17s 37ms/step - loss: 0.6937 - accuracy: 0.7848 - val_loss: 0.4763 - val_accuracy: 0.8737\n",
            "Test loss: 0.4763478934764862\n",
            "Test accuracy: 0.8737000226974487\n"
          ]
        }
      ]
    },
    {
      "cell_type": "code",
      "source": [],
      "metadata": {
        "id": "LsM-98JZ0WL2"
      },
      "execution_count": null,
      "outputs": []
    }
  ],
  "metadata": {
    "language_info": {
      "name": "python"
    },
    "colab": {
      "provenance": []
    },
    "kernelspec": {
      "name": "python3",
      "display_name": "Python 3"
    },
    "accelerator": "TPU"
  },
  "nbformat": 4,
  "nbformat_minor": 0
}