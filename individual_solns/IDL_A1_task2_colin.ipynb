{
  "nbformat": 4,
  "nbformat_minor": 0,
  "metadata": {
    "colab": {
      "provenance": [],
      "collapsed_sections": [
        "NxQ3oXMMy96l",
        "I0_ViBFQ0iDV",
        "aBsm_3jnB0og",
        "Q0YJchxOogzB",
        "s40RBHF59t5F",
        "t-5zBlep10pJ",
        "0IJ7UDB37Ntf",
        "s2k_S82tGuGg",
        "izYnkT1kG3Bo",
        "JIofrvekx36f",
        "m5GoaMqdxj5V",
        "8TOPjoQciH_U",
        "fi7JzG0LCEsp",
        "AS6lIRhKCIDD",
        "TCVt9SWaI1si",
        "yXG69Ul-VTBa",
        "07GQ4UBu_O8Y",
        "0j3qOEW0_RSW"
      ],
      "mount_file_id": "1cMv6hA5img_dSMxAgdwCPiYxS9Yogjin",
      "authorship_tag": "ABX9TyN3qiNeKTXPSPD7x/k5+V1N"
    },
    "kernelspec": {
      "name": "python3",
      "display_name": "Python 3"
    },
    "language_info": {
      "name": "python"
    },
    "accelerator": "TPU"
  },
  "cells": [
    {
      "cell_type": "markdown",
      "source": [
        "# Imports"
      ],
      "metadata": {
        "id": "NxQ3oXMMy96l"
      }
    },
    {
      "cell_type": "code",
      "source": [
        "import tensorflow as tf\n",
        "from tensorflow.keras.datasets import mnist\n",
        "from tensorflow.keras.models import Sequential\n",
        "from tensorflow.keras.layers import Dense, Dropout, Flatten, Conv2D, MaxPooling2D, BatchNormalization, Activation\n",
        "from tensorflow.keras import Input, Model, backend as K\n",
        "import numpy as np\n",
        "import matplotlib.pyplot as plt\n",
        "print(\"Tensorflow version: \", tf.__version__)\n",
        "from IPython.display import display\n",
        "\n",
        "from __future__ import print_function\n",
        "import keras\n",
        "from keras.datasets import mnist\n",
        "from keras.models import Sequential\n",
        "from keras.layers import Dense, Dropout, Flatten, Conv2D, MaxPooling2D\n",
        "from keras.optimizers import RMSprop\n",
        "from keras import backend as K\n",
        "\n",
        "import matplotlib.pyplot as plt\n",
        "\n",
        "import time\n",
        "# Needed for saving\n",
        "import pandas as pd\n",
        "\n",
        "# In order to split the labels into training and testing sets\n",
        "from sklearn.model_selection import train_test_split\n",
        "\n",
        "# Enable the TPU\n",
        "resolver = tf.distribute.cluster_resolver.TPUClusterResolver(tpu='')\n",
        "tf.config.experimental_connect_to_cluster(resolver)\n",
        "# # This is the TPU initialization code that has to be at the beginning.\n",
        "tf.tpu.experimental.initialize_tpu_system(resolver)\n",
        "\n",
        "print(\"All devices: \", *tf.config.list_logical_devices(\"TPU\"), sep=\"\\n\\t\")"
      ],
      "metadata": {
        "id": "vZ5IuQ6LgBLc",
        "colab": {
          "base_uri": "https://localhost:8080/"
        },
        "outputId": "5c2d0441-1eb5-41ae-d287-3fc0df8b3fc4"
      },
      "execution_count": 1,
      "outputs": [
        {
          "output_type": "stream",
          "name": "stdout",
          "text": [
            "Tensorflow version:  2.12.0\n",
            "All devices: \n",
            "\tLogicalDevice(name='/job:worker/replica:0/task:0/device:TPU:0', device_type='TPU')\n",
            "\tLogicalDevice(name='/job:worker/replica:0/task:0/device:TPU:1', device_type='TPU')\n",
            "\tLogicalDevice(name='/job:worker/replica:0/task:0/device:TPU:2', device_type='TPU')\n",
            "\tLogicalDevice(name='/job:worker/replica:0/task:0/device:TPU:3', device_type='TPU')\n",
            "\tLogicalDevice(name='/job:worker/replica:0/task:0/device:TPU:4', device_type='TPU')\n",
            "\tLogicalDevice(name='/job:worker/replica:0/task:0/device:TPU:5', device_type='TPU')\n",
            "\tLogicalDevice(name='/job:worker/replica:0/task:0/device:TPU:6', device_type='TPU')\n",
            "\tLogicalDevice(name='/job:worker/replica:0/task:0/device:TPU:7', device_type='TPU')\n"
          ]
        }
      ]
    },
    {
      "cell_type": "markdown",
      "source": [
        "# Load in the data"
      ],
      "metadata": {
        "id": "I0_ViBFQ0iDV"
      }
    },
    {
      "cell_type": "code",
      "source": [
        "# Get path by linking first, then selecting the file w/ right mouse button; 'get path'\n",
        "labels = np.load('/content/drive/MyDrive/IDL/A1/labels.npy')\n",
        "data = np.load('/content/drive/MyDrive/IDL/A1/images.npy')\n",
        "\n",
        "# Shape for data input\n",
        "# data.reshape(data.shape[0], *(150, 150, 1)).shape\n",
        "data.shape"
      ],
      "metadata": {
        "colab": {
          "base_uri": "https://localhost:8080/"
        },
        "id": "3nCJ0Hwx044i",
        "outputId": "80d87719-08ec-414a-89f2-1fe5d8ed5f64"
      },
      "execution_count": 2,
      "outputs": [
        {
          "output_type": "execute_result",
          "data": {
            "text/plain": [
              "(18000, 150, 150)"
            ]
          },
          "metadata": {},
          "execution_count": 2
        }
      ]
    },
    {
      "cell_type": "code",
      "source": [
        "labels"
      ],
      "metadata": {
        "colab": {
          "base_uri": "https://localhost:8080/"
        },
        "id": "kfH79ohNy56_",
        "outputId": "56698c32-6549-4651-e28b-112329b32435"
      },
      "execution_count": null,
      "outputs": [
        {
          "output_type": "execute_result",
          "data": {
            "text/plain": [
              "array([[ 0,  0],\n",
              "       [ 0,  0],\n",
              "       [ 0,  0],\n",
              "       ...,\n",
              "       [11, 59],\n",
              "       [11, 59],\n",
              "       [11, 59]])"
            ]
          },
          "metadata": {},
          "execution_count": 11
        }
      ]
    },
    {
      "cell_type": "markdown",
      "source": [
        "# Change of labels"
      ],
      "metadata": {
        "id": "aBsm_3jnB0og"
      }
    },
    {
      "cell_type": "code",
      "source": [
        "def to_classification(labels, min_per_bin : int = 30):\n",
        "  h, m = labels.T\n",
        "  return 60//min_per_bin*h +m//min_per_bin\n"
      ],
      "metadata": {
        "id": "R7ZgFtIo0W-S"
      },
      "execution_count": 3,
      "outputs": []
    },
    {
      "cell_type": "code",
      "source": [
        "labels_30min = to_classification(labels, 30)\n",
        "labels_30min[labels_30min == 0]"
      ],
      "metadata": {
        "colab": {
          "base_uri": "https://localhost:8080/"
        },
        "id": "arTVrgw8zrlf",
        "outputId": "3bdbfad3-b75b-4969-c10e-9cc590b0aba2"
      },
      "execution_count": 5,
      "outputs": [
        {
          "output_type": "execute_result",
          "data": {
            "text/plain": [
              "array([0, 0, 0, 0, 0, 0, 0, 0, 0, 0, 0, 0, 0, 0, 0, 0, 0, 0, 0, 0, 0, 0,\n",
              "       0, 0, 0, 0, 0, 0, 0, 0, 0, 0, 0, 0, 0, 0, 0, 0, 0, 0, 0, 0, 0, 0,\n",
              "       0, 0, 0, 0, 0, 0, 0, 0, 0, 0, 0, 0, 0, 0, 0, 0, 0, 0, 0, 0, 0, 0,\n",
              "       0, 0, 0, 0, 0, 0, 0, 0, 0, 0, 0, 0, 0, 0, 0, 0, 0, 0, 0, 0, 0, 0,\n",
              "       0, 0, 0, 0, 0, 0, 0, 0, 0, 0, 0, 0, 0, 0, 0, 0, 0, 0, 0, 0, 0, 0,\n",
              "       0, 0, 0, 0, 0, 0, 0, 0, 0, 0, 0, 0, 0, 0, 0, 0, 0, 0, 0, 0, 0, 0,\n",
              "       0, 0, 0, 0, 0, 0, 0, 0, 0, 0, 0, 0, 0, 0, 0, 0, 0, 0, 0, 0, 0, 0,\n",
              "       0, 0, 0, 0, 0, 0, 0, 0, 0, 0, 0, 0, 0, 0, 0, 0, 0, 0, 0, 0, 0, 0,\n",
              "       0, 0, 0, 0, 0, 0, 0, 0, 0, 0, 0, 0, 0, 0, 0, 0, 0, 0, 0, 0, 0, 0,\n",
              "       0, 0, 0, 0, 0, 0, 0, 0, 0, 0, 0, 0, 0, 0, 0, 0, 0, 0, 0, 0, 0, 0,\n",
              "       0, 0, 0, 0, 0, 0, 0, 0, 0, 0, 0, 0, 0, 0, 0, 0, 0, 0, 0, 0, 0, 0,\n",
              "       0, 0, 0, 0, 0, 0, 0, 0, 0, 0, 0, 0, 0, 0, 0, 0, 0, 0, 0, 0, 0, 0,\n",
              "       0, 0, 0, 0, 0, 0, 0, 0, 0, 0, 0, 0, 0, 0, 0, 0, 0, 0, 0, 0, 0, 0,\n",
              "       0, 0, 0, 0, 0, 0, 0, 0, 0, 0, 0, 0, 0, 0, 0, 0, 0, 0, 0, 0, 0, 0,\n",
              "       0, 0, 0, 0, 0, 0, 0, 0, 0, 0, 0, 0, 0, 0, 0, 0, 0, 0, 0, 0, 0, 0,\n",
              "       0, 0, 0, 0, 0, 0, 0, 0, 0, 0, 0, 0, 0, 0, 0, 0, 0, 0, 0, 0, 0, 0,\n",
              "       0, 0, 0, 0, 0, 0, 0, 0, 0, 0, 0, 0, 0, 0, 0, 0, 0, 0, 0, 0, 0, 0,\n",
              "       0, 0, 0, 0, 0, 0, 0, 0, 0, 0, 0, 0, 0, 0, 0, 0, 0, 0, 0, 0, 0, 0,\n",
              "       0, 0, 0, 0, 0, 0, 0, 0, 0, 0, 0, 0, 0, 0, 0, 0, 0, 0, 0, 0, 0, 0,\n",
              "       0, 0, 0, 0, 0, 0, 0, 0, 0, 0, 0, 0, 0, 0, 0, 0, 0, 0, 0, 0, 0, 0,\n",
              "       0, 0, 0, 0, 0, 0, 0, 0, 0, 0, 0, 0, 0, 0, 0, 0, 0, 0, 0, 0, 0, 0,\n",
              "       0, 0, 0, 0, 0, 0, 0, 0, 0, 0, 0, 0, 0, 0, 0, 0, 0, 0, 0, 0, 0, 0,\n",
              "       0, 0, 0, 0, 0, 0, 0, 0, 0, 0, 0, 0, 0, 0, 0, 0, 0, 0, 0, 0, 0, 0,\n",
              "       0, 0, 0, 0, 0, 0, 0, 0, 0, 0, 0, 0, 0, 0, 0, 0, 0, 0, 0, 0, 0, 0,\n",
              "       0, 0, 0, 0, 0, 0, 0, 0, 0, 0, 0, 0, 0, 0, 0, 0, 0, 0, 0, 0, 0, 0,\n",
              "       0, 0, 0, 0, 0, 0, 0, 0, 0, 0, 0, 0, 0, 0, 0, 0, 0, 0, 0, 0, 0, 0,\n",
              "       0, 0, 0, 0, 0, 0, 0, 0, 0, 0, 0, 0, 0, 0, 0, 0, 0, 0, 0, 0, 0, 0,\n",
              "       0, 0, 0, 0, 0, 0, 0, 0, 0, 0, 0, 0, 0, 0, 0, 0, 0, 0, 0, 0, 0, 0,\n",
              "       0, 0, 0, 0, 0, 0, 0, 0, 0, 0, 0, 0, 0, 0, 0, 0, 0, 0, 0, 0, 0, 0,\n",
              "       0, 0, 0, 0, 0, 0, 0, 0, 0, 0, 0, 0, 0, 0, 0, 0, 0, 0, 0, 0, 0, 0,\n",
              "       0, 0, 0, 0, 0, 0, 0, 0, 0, 0, 0, 0, 0, 0, 0, 0, 0, 0, 0, 0, 0, 0,\n",
              "       0, 0, 0, 0, 0, 0, 0, 0, 0, 0, 0, 0, 0, 0, 0, 0, 0, 0, 0, 0, 0, 0,\n",
              "       0, 0, 0, 0, 0, 0, 0, 0, 0, 0, 0, 0, 0, 0, 0, 0, 0, 0, 0, 0, 0, 0,\n",
              "       0, 0, 0, 0, 0, 0, 0, 0, 0, 0, 0, 0, 0, 0, 0, 0, 0, 0, 0, 0, 0, 0,\n",
              "       0, 0])"
            ]
          },
          "metadata": {},
          "execution_count": 5
        }
      ]
    },
    {
      "cell_type": "code",
      "source": [
        "labels_1min = to_classification(labels, 1)\n",
        "labels_1min[labels_1min == 0]"
      ],
      "metadata": {
        "colab": {
          "base_uri": "https://localhost:8080/"
        },
        "id": "n8zeEaBw5Qpa",
        "outputId": "636a2018-7118-4ee9-adc6-c08866c68b1c"
      },
      "execution_count": null,
      "outputs": [
        {
          "output_type": "execute_result",
          "data": {
            "text/plain": [
              "array([0, 0, 0, 0, 0, 0, 0, 0, 0, 0, 0, 0, 0, 0, 0, 0, 0, 0, 0, 0, 0, 0,\n",
              "       0, 0, 0])"
            ]
          },
          "metadata": {},
          "execution_count": 5
        }
      ]
    },
    {
      "cell_type": "markdown",
      "source": [
        "# Common sense time:"
      ],
      "metadata": {
        "id": "Q0YJchxOogzB"
      }
    },
    {
      "cell_type": "code",
      "source": [
        "def common_sense_time(y_true, y_pred):\n",
        "  predicted_min = y_pred[0]*60+y_pred[1]\n",
        "  actual_min = y_true[0]*60+y_true[1]\n",
        "  # Returns the difference in units of minutes\n",
        "  return (actual_min - predicted_min)%720"
      ],
      "metadata": {
        "id": "KZhcXlCS19Jw"
      },
      "execution_count": 3,
      "outputs": []
    },
    {
      "cell_type": "code",
      "source": [
        "common_sense_time([11, 55], [0, 5])\n",
        "common_sense_time([0, 5], [11.01, 55])"
      ],
      "metadata": {
        "colab": {
          "base_uri": "https://localhost:8080/"
        },
        "id": "Qrod6KsPo8qv",
        "outputId": "103893cc-405b-4cf0-fc9a-372cc92864df"
      },
      "execution_count": 16,
      "outputs": [
        {
          "output_type": "execute_result",
          "data": {
            "text/plain": [
              "9.399999999999977"
            ]
          },
          "metadata": {},
          "execution_count": 16
        }
      ]
    },
    {
      "cell_type": "code",
      "source": [],
      "metadata": {
        "id": "-o9P5uxETXLs"
      },
      "execution_count": 16,
      "outputs": []
    },
    {
      "cell_type": "markdown",
      "source": [
        "#### Example of some clocks"
      ],
      "metadata": {
        "id": "s40RBHF59t5F"
      }
    },
    {
      "cell_type": "code",
      "source": [
        "np.max(data[0,:,:]/255.0)"
      ],
      "metadata": {
        "colab": {
          "base_uri": "https://localhost:8080/"
        },
        "id": "Wo7_A-mzn1uK",
        "outputId": "1531ea73-c870-47c2-d60e-4240ead08dbc"
      },
      "execution_count": null,
      "outputs": [
        {
          "output_type": "execute_result",
          "data": {
            "text/plain": [
              "1.0"
            ]
          },
          "metadata": {},
          "execution_count": 39
        }
      ]
    },
    {
      "cell_type": "code",
      "source": [
        "plt.imshow(data[0,:,:]/255.0, cmap='gray')\n",
        "plt.show()\n",
        "# plt.imshow(data[-1,:,:], cmap='gray')\n",
        "# plt.show()\n",
        "# plt.imshow(data[5000,:,:], cmap='gray')\n",
        "# plt.show()"
      ],
      "metadata": {
        "colab": {
          "base_uri": "https://localhost:8080/",
          "height": 434
        },
        "id": "dqT1bfIB9pM9",
        "outputId": "aa8a8d50-c06a-4ee3-857d-f2efcdfc50f3"
      },
      "execution_count": 22,
      "outputs": [
        {
          "output_type": "display_data",
          "data": {
            "text/plain": [
              "<Figure size 640x480 with 1 Axes>"
            ],
            "image/png": "[encoded data removed]"
          },
          "metadata": {}
        }
      ]
    },
    {
      "cell_type": "code",
      "source": [
        "def make_model(arch, optimizer,\n",
        "               metrics: list = [\"accuracy\"],\n",
        "               steps_per_execution: int = 1,\n",
        "               summary_model: bool = False,\n",
        "               loss_function = 'sparse_categorical_crossentropy'):\n",
        "\n",
        "  # Create a dictionary of possible layers. In this case we can create any arbitary network\n",
        "  # without having to constantly copy and paste lines.\n",
        "  layer_dict = {\n",
        "        \"dense\": Dense,             # units, activation=None\n",
        "        \"dropout\": Dropout,         # rate, noise_shape=None, seed=None\n",
        "        \"conv\": Conv2D,             # filters, kernel_size, strides=(1, 1), padding=\"valid\", activation=None\n",
        "        \"maxpooling\": MaxPooling2D, # pool_size=(2, 2), strides=None, padding=\"valid\"\n",
        "        \"flatten\": Flatten,\n",
        "        \"BN\": BatchNormalization,\n",
        "  }\n",
        "\n",
        "  ##########################################\n",
        "\n",
        "  # Initiate model\n",
        "  model = keras.models.Sequential()\n",
        "\n",
        "  ## Add input layer\n",
        "  model.add(Input(shape=arch['input_shape']))\n",
        "\n",
        "  ## Add layers\n",
        "  for layer, kwargs in arch['layers']:\n",
        "    # Use our dictionary to obtain the callable layer and put in the keywords arguments\n",
        "    model.add(layer_dict[layer](**kwargs))\n",
        "\n",
        "  # Output layer\n",
        "  model.add(layer_dict[arch['output'][0]](**arch['output'][1]))\n",
        "\n",
        "  ##########################################\n",
        "\n",
        "  # Print summary if wanted\n",
        "  if summary_model:\n",
        "    model.summary()\n",
        "\n",
        "  model.compile(loss=loss_function,\n",
        "                optimizer=optimizer,\n",
        "                metrics=metrics,\n",
        "                steps_per_execution=steps_per_execution)\n",
        "\n",
        "  # Return model before fitting\n",
        "  return model\n",
        "\n",
        "\n",
        "def fit_model(model, X_train, y_train, scaling,\n",
        "              epochs: int = 30, validation_split: float = 0.1,\n",
        "              batch: int = 64, verbose: int = 0):\n",
        "\n",
        "  history = model.fit(X_train/scaling, y_train, epochs=epochs,\n",
        "                    validation_split = validation_split, batch_size=batch, verbose=verbose,\n",
        "                    shuffle=True)\n",
        "\n",
        "  return history\n",
        "\n",
        "\n",
        "def eval_model(model, X_test, y_test, batch, verbose=1):\n",
        "  return model.evaluate(X_test, y_test, batch_size=batch, verbose=verbose)\n"
      ],
      "metadata": {
        "id": "BZFjU_W25HoT"
      },
      "execution_count": 7,
      "outputs": []
    },
    {
      "cell_type": "code",
      "source": [],
      "metadata": {
        "id": "oe6at5XyP-vH"
      },
      "execution_count": 16,
      "outputs": []
    },
    {
      "cell_type": "markdown",
      "source": [
        "Given on Brightspace was the hint for having a number of parameters between 256 and 2048 for the last layer. Else the network would be too complex, leading to very long fitting times, as well as the possibility of having no convergence in a sufficient amount of time."
      ],
      "metadata": {
        "id": "DFd5tRNUr6a0"
      }
    },
    {
      "cell_type": "code",
      "source": [
        "classification_model_half_hours ={\n",
        "    'input_shape':(150, 150, 1),\n",
        "    # Output (we have in total 720 classes of time, 60*12, each with a given probability per item (returned by Softmax), but start by classes of 30 minutes)\n",
        "    # Start with half hours\n",
        "    'output': ('dense', {'units': 24, 'activation': 'softmax'}),\n",
        "\n",
        "    'layers':[\n",
        "        ('conv', {'filters': 9, 'kernel_size': 17, 'activation': 'relu'}),\n",
        "        # An image has about 8 in height and 8 in width of freedom before having the clock in the image. So reduce the size using the kernel to have the clock in frame\n",
        "        # Furthermore, 150/17 ~ 9, leaving 9 filters in total.\n",
        "        ('maxpooling', {'pool_size': (2,2)}),\n",
        "\n",
        "        # Now for the numbers on the clock. Say that a number is indicated in a size of about 15x15\n",
        "        ('conv', {'filters': 12, 'kernel_size': 15, 'activation': 'relu'}),\n",
        "        ('maxpooling', {'pool_size': (2,2)}),\n",
        "\n",
        "\n",
        "\n",
        "        # Arrows on the clock. Given the 15x15 block we are in from the previous layer, make a kernel of 3x3\n",
        "        # to seek the arrow indication. We need about 15*15/3*3 = 25 filters.\n",
        "        ('conv', {'filters': 25, 'kernel_size': 3, 'activation': 'relu'}),\n",
        "        ('maxpooling', {'pool_size': (2,2)}),\n",
        "\n",
        "\n",
        "\n",
        "\n",
        "        ('conv', {'filters': 25, 'kernel_size': 3, 'activation': 'relu'}),\n",
        "        ('maxpooling', {'pool_size': (2,2)}),\n",
        "\n",
        "        ('conv', {'filters': 25, 'kernel_size': 3, 'activation': 'relu'}),\n",
        "        ('maxpooling', {'pool_size': (2,2)}),\n",
        "\n",
        "        ('flatten', {}),\n",
        "        ('dense', {'units': 60, 'activation': 'relu'}),\n",
        "        ('dropout', {'rate': 0.5}),\n",
        "        ('dense', {'units': 40, 'activation': 'relu'}),\n",
        "        ('dropout', {'rate': 0.5}),\n",
        "    ]\n",
        "}\n",
        "make_model(classification_model_half_hours, optimizer=keras.optimizers.Adam(),\n",
        "          steps_per_execution=250, summary_model=True)\n",
        "\n",
        "# display(keras.utils.plot_model(make_model(classification_model, optimizer=keras.optimizers.Adam(),\n",
        "#            steps_per_execution=100, summary_model=False), show_layer_activations=True))"
      ],
      "metadata": {
        "colab": {
          "base_uri": "https://localhost:8080/"
        },
        "id": "dgVFPrm65Hlf",
        "outputId": "eced1fd2-7f36-493a-b9a9-a0168b8dc934"
      },
      "execution_count": null,
      "outputs": [
        {
          "output_type": "stream",
          "name": "stdout",
          "text": [
            "Model: \"sequential\"\n",
            "_________________________________________________________________\n",
            " Layer (type)                Output Shape              Param #   \n",
            "=================================================================\n",
            " conv2d (Conv2D)             (None, 134, 134, 9)       2610      \n",
            "                                                                 \n",
            " max_pooling2d (MaxPooling2D  (None, 67, 67, 9)        0         \n",
            " )                                                               \n",
            "                                                                 \n",
            " conv2d_1 (Conv2D)           (None, 53, 53, 12)        24312     \n",
            "                                                                 \n",
            " max_pooling2d_1 (MaxPooling  (None, 26, 26, 12)       0         \n",
            " 2D)                                                             \n",
            "                                                                 \n",
            " conv2d_2 (Conv2D)           (None, 24, 24, 25)        2725      \n",
            "                                                                 \n",
            " max_pooling2d_2 (MaxPooling  (None, 12, 12, 25)       0         \n",
            " 2D)                                                             \n",
            "                                                                 \n",
            " conv2d_3 (Conv2D)           (None, 10, 10, 25)        5650      \n",
            "                                                                 \n",
            " max_pooling2d_3 (MaxPooling  (None, 5, 5, 25)         0         \n",
            " 2D)                                                             \n",
            "                                                                 \n",
            " conv2d_4 (Conv2D)           (None, 3, 3, 25)          5650      \n",
            "                                                                 \n",
            " max_pooling2d_4 (MaxPooling  (None, 1, 1, 25)         0         \n",
            " 2D)                                                             \n",
            "                                                                 \n",
            " flatten (Flatten)           (None, 25)                0         \n",
            "                                                                 \n",
            " dense (Dense)               (None, 60)                1560      \n",
            "                                                                 \n",
            " dropout (Dropout)           (None, 60)                0         \n",
            "                                                                 \n",
            " dense_1 (Dense)             (None, 40)                2440      \n",
            "                                                                 \n",
            " dropout_1 (Dropout)         (None, 40)                0         \n",
            "                                                                 \n",
            " dense_2 (Dense)             (None, 24)                984       \n",
            "                                                                 \n",
            "=================================================================\n",
            "Total params: 45,931\n",
            "Trainable params: 45,931\n",
            "Non-trainable params: 0\n",
            "_________________________________________________________________\n"
          ]
        },
        {
          "output_type": "execute_result",
          "data": {
            "text/plain": [
              "<keras.engine.sequential.Sequential at 0x7bf1372552d0>"
            ]
          },
          "metadata": {},
          "execution_count": 8
        }
      ]
    },
    {
      "cell_type": "markdown",
      "source": [
        "# 2A\n",
        "\n",
        "Make a classification model"
      ],
      "metadata": {
        "id": "t-5zBlep10pJ"
      }
    },
    {
      "cell_type": "markdown",
      "source": [
        "First make the labels applicable"
      ],
      "metadata": {
        "id": "sDF4spOz7Jb0"
      }
    },
    {
      "cell_type": "code",
      "source": [
        "def to_classification(labels, min_per_bin : int = 30):\n",
        "  h, m = labels.T\n",
        "  return 60//min_per_bin*h +m//min_per_bin\n",
        "\n",
        "labels_1min = to_classification(labels, 1)\n",
        "labels_1min[labels_1min == 0]"
      ],
      "metadata": {
        "colab": {
          "base_uri": "https://localhost:8080/"
        },
        "id": "ujaeaPke12lb",
        "outputId": "6a72680f-84b6-49a0-eaea-335a8d2881f5"
      },
      "execution_count": 3,
      "outputs": [
        {
          "output_type": "execute_result",
          "data": {
            "text/plain": [
              "array([0, 0, 0, 0, 0, 0, 0, 0, 0, 0, 0, 0, 0, 0, 0, 0, 0, 0, 0, 0, 0, 0,\n",
              "       0, 0, 0])"
            ]
          },
          "metadata": {},
          "execution_count": 3
        }
      ]
    },
    {
      "cell_type": "markdown",
      "source": [
        "#### Make the classification model"
      ],
      "metadata": {
        "id": "0IJ7UDB37Ntf"
      }
    },
    {
      "cell_type": "code",
      "source": [
        "def classification_model(input_shape):\n",
        "  \"\"\"\n",
        "  Builds a classification model for time.\n",
        "\n",
        "  This model is composed of three Conv -> BN -> Pool -> Dropout blocks,\n",
        "  followed by the Dense output layer.\n",
        "\n",
        "  # Output (we have in total 720 classes of time, 60*12, each with a given probability per item (returned by Softmax)\n",
        "  \"\"\"\n",
        "  inputs = Input(shape=input_shape)\n",
        "  x = Conv2D(16, (3, 3), padding=\"same\")(inputs)\n",
        "  x = Activation(\"relu\")(x)\n",
        "  x = BatchNormalization(axis=-1)(x)\n",
        "  x = MaxPooling2D(pool_size=(3, 3))(x)\n",
        "  x = Dropout(0.25)(x)\n",
        "  x = Conv2D(32, (3, 3), padding=\"same\")(x)\n",
        "  x = Activation(\"relu\")(x)\n",
        "  x = BatchNormalization(axis=-1)(x)\n",
        "  x = MaxPooling2D(pool_size=(2, 2))(x)\n",
        "  x = Dropout(0.25)(x)\n",
        "  x = Conv2D(32, (3, 3), padding=\"same\")(x)\n",
        "  x = Activation(\"relu\")(x)\n",
        "  x = BatchNormalization(axis=-1)(x)\n",
        "  x = MaxPooling2D(pool_size=(2, 2))(x)\n",
        "  x = Dropout(0.25)(x)\n",
        "  # MLP part\n",
        "  x = Flatten()(x)\n",
        "  x = Dense(144)(x)\n",
        "  x = Activation(\"relu\")(x)\n",
        "  x = BatchNormalization()(x)\n",
        "  x = Dropout(0.25)(x)\n",
        "  x = Dense(60)(x)\n",
        "  x = Activation(\"relu\")(x)\n",
        "  x = BatchNormalization()(x)\n",
        "  x = Dropout(0.25)(x)\n",
        "  x = Dense(720)(x)\n",
        "  x = Activation(\"softmax\")(x)\n",
        "\n",
        "  # An image has about 8 in height and 8 in width of freedom before having the clock in the image.\n",
        "  # So reduce the size using the kernel to have the clock in frame\n",
        "  # Furthermore, 150/17 ~ 9, leaving 9 filters in total.\n",
        "\n",
        "  # # Now for the numbers on the clock. Say that a number is indicated in a size of about 15x15\n",
        "  # x = Conv2D(64, (15, 15), padding=\"same\")(x)\n",
        "  # x = Activation(\"relu\")(x)\n",
        "  # x = BatchNormalization(axis=-1)(x)\n",
        "  # x = MaxPooling2D(pool_size=(2, 2))(x)\n",
        "  # x = Dropout(0.25)(x)\n",
        "\n",
        "  # # Arrows on the clock. Given the 15x15 block we are in from the previous layer, make a kernel of 3x3\n",
        "  # # to seek the arrow indication.\n",
        "  # x = Conv2D(64, (5, 5), padding=\"same\")(x)\n",
        "  # x = Activation(\"relu\")(x)\n",
        "  # x = BatchNormalization(axis=-1)(x)\n",
        "  # x = MaxPooling2D(pool_size=(2, 2))(x)\n",
        "  # x = Dropout(0.25)(x)\n",
        "\n",
        "  # # Add a final convolutional layer to further optimize the model\n",
        "  # x = Conv2D(64, (5, 5), padding=\"same\")(x)\n",
        "  # x = Activation(\"relu\")(x)\n",
        "  # x = BatchNormalization(axis=-1)(x)\n",
        "  # x = MaxPooling2D(pool_size=(2, 2))(x)\n",
        "  # x = Dropout(0.25)(x)\n",
        "\n",
        "\n",
        "  # # Flatten to go to the MLP part of our model\n",
        "  # x = Flatten()(x)\n",
        "  # x = Dropout(0.5)(x)\n",
        "  # x = Dense(1480)(x)\n",
        "  # x = Activation('relu')(x)\n",
        "  # x = Dropout(0.5)(x)\n",
        "  # x = Dense(720)(x)\n",
        "  # x = Activation(\"relu\")(x)\n",
        "  # x = Dropout(0.5)(x)\n",
        "  # x = Activation(\"softmax\", name=\"classification_output\")(x)\n",
        "\n",
        "  model = Model(inputs=inputs,\n",
        "                outputs = [x],\n",
        "            )\n",
        "\n",
        "  return model\n"
      ],
      "metadata": {
        "id": "KP9XdRjN12eg"
      },
      "execution_count": 4,
      "outputs": []
    },
    {
      "cell_type": "code",
      "source": [
        "class_mod = classification_model(input_shape=(150, 150, 1))\n",
        "class_mod.summary()\n"
      ],
      "metadata": {
        "colab": {
          "base_uri": "https://localhost:8080/"
        },
        "id": "LOCiGxZTGdGa",
        "outputId": "df7f719b-8199-4662-f62d-ecfeeb624358"
      },
      "execution_count": 5,
      "outputs": [
        {
          "output_type": "stream",
          "name": "stdout",
          "text": [
            "Model: \"model\"\n",
            "_________________________________________________________________\n",
            " Layer (type)                Output Shape              Param #   \n",
            "=================================================================\n",
            " input_1 (InputLayer)        [(None, 150, 150, 1)]     0         \n",
            "                                                                 \n",
            " conv2d (Conv2D)             (None, 150, 150, 16)      160       \n",
            "                                                                 \n",
            " activation (Activation)     (None, 150, 150, 16)      0         \n",
            "                                                                 \n",
            " batch_normalization (BatchN  (None, 150, 150, 16)     64        \n",
            " ormalization)                                                   \n",
            "                                                                 \n",
            " max_pooling2d (MaxPooling2D  (None, 50, 50, 16)       0         \n",
            " )                                                               \n",
            "                                                                 \n",
            " dropout (Dropout)           (None, 50, 50, 16)        0         \n",
            "                                                                 \n",
            " conv2d_1 (Conv2D)           (None, 50, 50, 32)        4640      \n",
            "                                                                 \n",
            " activation_1 (Activation)   (None, 50, 50, 32)        0         \n",
            "                                                                 \n",
            " batch_normalization_1 (Batc  (None, 50, 50, 32)       128       \n",
            " hNormalization)                                                 \n",
            "                                                                 \n",
            " max_pooling2d_1 (MaxPooling  (None, 25, 25, 32)       0         \n",
            " 2D)                                                             \n",
            "                                                                 \n",
            " dropout_1 (Dropout)         (None, 25, 25, 32)        0         \n",
            "                                                                 \n",
            " conv2d_2 (Conv2D)           (None, 25, 25, 32)        9248      \n",
            "                                                                 \n",
            " activation_2 (Activation)   (None, 25, 25, 32)        0         \n",
            "                                                                 \n",
            " batch_normalization_2 (Batc  (None, 25, 25, 32)       128       \n",
            " hNormalization)                                                 \n",
            "                                                                 \n",
            " max_pooling2d_2 (MaxPooling  (None, 12, 12, 32)       0         \n",
            " 2D)                                                             \n",
            "                                                                 \n",
            " dropout_2 (Dropout)         (None, 12, 12, 32)        0         \n",
            "                                                                 \n",
            " flatten (Flatten)           (None, 4608)              0         \n",
            "                                                                 \n",
            " dense (Dense)               (None, 144)               663696    \n",
            "                                                                 \n",
            " activation_3 (Activation)   (None, 144)               0         \n",
            "                                                                 \n",
            " batch_normalization_3 (Batc  (None, 144)              576       \n",
            " hNormalization)                                                 \n",
            "                                                                 \n",
            " dropout_3 (Dropout)         (None, 144)               0         \n",
            "                                                                 \n",
            " dense_1 (Dense)             (None, 60)                8700      \n",
            "                                                                 \n",
            " activation_4 (Activation)   (None, 60)                0         \n",
            "                                                                 \n",
            " batch_normalization_4 (Batc  (None, 60)               240       \n",
            " hNormalization)                                                 \n",
            "                                                                 \n",
            " dropout_4 (Dropout)         (None, 60)                0         \n",
            "                                                                 \n",
            " dense_2 (Dense)             (None, 720)               43920     \n",
            "                                                                 \n",
            " activation_5 (Activation)   (None, 720)               0         \n",
            "                                                                 \n",
            "=================================================================\n",
            "Total params: 731,500\n",
            "Trainable params: 730,932\n",
            "Non-trainable params: 568\n",
            "_________________________________________________________________\n"
          ]
        }
      ]
    },
    {
      "cell_type": "markdown",
      "source": [
        "Compile"
      ],
      "metadata": {
        "id": "_t-gVd6CGq7T"
      }
    },
    {
      "cell_type": "code",
      "source": [
        "class_mod.compile(loss='sparse_categorical_crossentropy', # we have equal distribution of data, so no outliers (no need for MAE as loss function)\n",
        "              optimizer=keras.optimizers.Adam(learning_rate=0.001,\n",
        "                                              ), # Kwarg: 'decay' decreases the learning rate per epoch\n",
        "              metrics=['accuracy'],\n",
        "              steps_per_execution=100,\n",
        "              )"
      ],
      "metadata": {
        "id": "FXB5bvksGdrV"
      },
      "execution_count": 6,
      "outputs": []
    },
    {
      "cell_type": "markdown",
      "source": [
        "#### Create training and test sets"
      ],
      "metadata": {
        "id": "s2k_S82tGuGg"
      }
    },
    {
      "cell_type": "code",
      "source": [
        "X_train_classification, X_test_classification, y_train_classification, y_test_classification = train_test_split(\n",
        "                                                      data, labels_1min, test_size=0.2, random_state=42\n",
        "                                                                                                )"
      ],
      "metadata": {
        "id": "MvHNL3s7GdoI"
      },
      "execution_count": 7,
      "outputs": []
    },
    {
      "cell_type": "markdown",
      "source": [
        "#### Train the model"
      ],
      "metadata": {
        "id": "izYnkT1kG3Bo"
      }
    },
    {
      "cell_type": "code",
      "source": [
        "history_model = class_mod.fit(X_train_classification/255.0, y_train_classification,\n",
        "                            batch_size=32, validation_data=(X_test_classification/255.0, y_test_classification),\n",
        "                            epochs=100, shuffle=True)\n",
        "\n",
        "class_mod.save_weights('/content/drive/MyDrive/IDL/A1/weights_model_with_shuffle_2a.keras')\n"
      ],
      "metadata": {
        "colab": {
          "base_uri": "https://localhost:8080/"
        },
        "id": "x1OqKQdUGdln",
        "outputId": "f11af499-963f-4b16-f417-07b0ca248828"
      },
      "execution_count": 8,
      "outputs": [
        {
          "output_type": "stream",
          "name": "stdout",
          "text": [
            "Epoch 1/100\n",
            "450/450 [==============================] - 47s 105ms/step - loss: 6.6400 - accuracy: 0.0016 - val_loss: 15.6425 - val_accuracy: 0.0014\n",
            "Epoch 2/100\n",
            "450/450 [==============================] - 37s 83ms/step - loss: 6.4846 - accuracy: 0.0043 - val_loss: 6.4814 - val_accuracy: 0.0031\n",
            "Epoch 3/100\n",
            "450/450 [==============================] - 37s 83ms/step - loss: 6.1429 - accuracy: 0.0088 - val_loss: 6.0096 - val_accuracy: 0.0072\n",
            "Epoch 4/100\n",
            "450/450 [==============================] - 37s 82ms/step - loss: 5.7424 - accuracy: 0.0150 - val_loss: 6.3838 - val_accuracy: 0.0050\n",
            "Epoch 5/100\n",
            "450/450 [==============================] - 37s 82ms/step - loss: 5.2533 - accuracy: 0.0256 - val_loss: 5.1060 - val_accuracy: 0.0289\n",
            "Epoch 6/100\n",
            "450/450 [==============================] - 37s 82ms/step - loss: 4.7563 - accuracy: 0.0424 - val_loss: 7.0029 - val_accuracy: 0.0072\n",
            "Epoch 7/100\n",
            "450/450 [==============================] - 37s 82ms/step - loss: 4.3931 - accuracy: 0.0557 - val_loss: 8.0674 - val_accuracy: 0.0106\n",
            "Epoch 8/100\n",
            "450/450 [==============================] - 37s 82ms/step - loss: 4.1099 - accuracy: 0.0724 - val_loss: 4.7230 - val_accuracy: 0.0353\n",
            "Epoch 9/100\n",
            "450/450 [==============================] - 37s 82ms/step - loss: 3.9228 - accuracy: 0.0832 - val_loss: 4.9253 - val_accuracy: 0.0294\n",
            "Epoch 10/100\n",
            "450/450 [==============================] - 37s 81ms/step - loss: 3.7646 - accuracy: 0.0935 - val_loss: 3.5112 - val_accuracy: 0.1006\n",
            "Epoch 11/100\n",
            "450/450 [==============================] - 37s 83ms/step - loss: 3.6098 - accuracy: 0.1094 - val_loss: 9.4494 - val_accuracy: 0.0072\n",
            "Epoch 12/100\n",
            "450/450 [==============================] - 37s 83ms/step - loss: 3.4931 - accuracy: 0.1207 - val_loss: 5.2479 - val_accuracy: 0.0428\n",
            "Epoch 13/100\n",
            "450/450 [==============================] - 37s 82ms/step - loss: 3.3985 - accuracy: 0.1265 - val_loss: 3.9732 - val_accuracy: 0.0639\n",
            "Epoch 14/100\n",
            "450/450 [==============================] - 37s 83ms/step - loss: 3.2975 - accuracy: 0.1424 - val_loss: 5.0890 - val_accuracy: 0.0336\n",
            "Epoch 15/100\n",
            "450/450 [==============================] - 37s 82ms/step - loss: 3.2332 - accuracy: 0.1449 - val_loss: 5.6956 - val_accuracy: 0.0264\n",
            "Epoch 16/100\n",
            "450/450 [==============================] - 37s 83ms/step - loss: 3.1394 - accuracy: 0.1557 - val_loss: 4.2690 - val_accuracy: 0.0536\n",
            "Epoch 17/100\n",
            "450/450 [==============================] - 37s 82ms/step - loss: 3.0707 - accuracy: 0.1681 - val_loss: 3.4980 - val_accuracy: 0.1000\n",
            "Epoch 18/100\n",
            "450/450 [==============================] - 37s 83ms/step - loss: 3.0190 - accuracy: 0.1690 - val_loss: 3.4490 - val_accuracy: 0.1069\n",
            "Epoch 19/100\n",
            "450/450 [==============================] - 37s 82ms/step - loss: 2.9671 - accuracy: 0.1808 - val_loss: 4.5305 - val_accuracy: 0.0517\n",
            "Epoch 20/100\n",
            "450/450 [==============================] - 37s 82ms/step - loss: 2.9027 - accuracy: 0.1890 - val_loss: 3.8050 - val_accuracy: 0.0672\n",
            "Epoch 21/100\n",
            "450/450 [==============================] - 37s 82ms/step - loss: 2.8394 - accuracy: 0.1991 - val_loss: 3.3909 - val_accuracy: 0.0986\n",
            "Epoch 22/100\n",
            "450/450 [==============================] - 37s 82ms/step - loss: 2.8018 - accuracy: 0.2049 - val_loss: 5.1711 - val_accuracy: 0.0397\n",
            "Epoch 23/100\n",
            "450/450 [==============================] - 37s 82ms/step - loss: 2.7616 - accuracy: 0.2101 - val_loss: 3.3957 - val_accuracy: 0.1067\n",
            "Epoch 24/100\n",
            "450/450 [==============================] - 37s 83ms/step - loss: 2.7177 - accuracy: 0.2174 - val_loss: 4.3160 - val_accuracy: 0.0564\n",
            "Epoch 25/100\n",
            "450/450 [==============================] - 37s 83ms/step - loss: 2.6905 - accuracy: 0.2214 - val_loss: 3.5833 - val_accuracy: 0.1092\n",
            "Epoch 26/100\n",
            "450/450 [==============================] - 37s 82ms/step - loss: 2.6743 - accuracy: 0.2262 - val_loss: 3.3611 - val_accuracy: 0.1089\n",
            "Epoch 27/100\n",
            "450/450 [==============================] - 37s 82ms/step - loss: 2.5984 - accuracy: 0.2421 - val_loss: 3.7078 - val_accuracy: 0.0964\n",
            "Epoch 28/100\n",
            "450/450 [==============================] - 37s 82ms/step - loss: 2.6092 - accuracy: 0.2420 - val_loss: 5.1967 - val_accuracy: 0.0500\n",
            "Epoch 29/100\n",
            "450/450 [==============================] - 37s 82ms/step - loss: 2.5573 - accuracy: 0.2505 - val_loss: 5.8315 - val_accuracy: 0.0589\n",
            "Epoch 30/100\n",
            "450/450 [==============================] - 37s 82ms/step - loss: 2.5114 - accuracy: 0.2565 - val_loss: 4.4898 - val_accuracy: 0.0594\n",
            "Epoch 31/100\n",
            "450/450 [==============================] - 37s 82ms/step - loss: 2.4965 - accuracy: 0.2601 - val_loss: 3.6246 - val_accuracy: 0.1042\n",
            "Epoch 32/100\n",
            "450/450 [==============================] - 37s 82ms/step - loss: 2.4823 - accuracy: 0.2647 - val_loss: 4.1453 - val_accuracy: 0.0789\n",
            "Epoch 33/100\n",
            "450/450 [==============================] - 37s 83ms/step - loss: 2.4318 - accuracy: 0.2747 - val_loss: 3.8821 - val_accuracy: 0.0850\n",
            "Epoch 34/100\n",
            "450/450 [==============================] - 37s 82ms/step - loss: 2.4077 - accuracy: 0.2800 - val_loss: 3.7942 - val_accuracy: 0.0936\n",
            "Epoch 35/100\n",
            "450/450 [==============================] - 37s 83ms/step - loss: 2.3847 - accuracy: 0.2801 - val_loss: 3.8653 - val_accuracy: 0.0967\n",
            "Epoch 36/100\n",
            "450/450 [==============================] - 37s 82ms/step - loss: 2.3753 - accuracy: 0.2859 - val_loss: 3.4025 - val_accuracy: 0.1950\n",
            "Epoch 37/100\n",
            "450/450 [==============================] - 37s 82ms/step - loss: 2.3518 - accuracy: 0.2886 - val_loss: 3.0875 - val_accuracy: 0.1364\n",
            "Epoch 38/100\n",
            "450/450 [==============================] - 37s 83ms/step - loss: 2.3271 - accuracy: 0.2931 - val_loss: 4.3620 - val_accuracy: 0.0789\n",
            "Epoch 39/100\n",
            "450/450 [==============================] - 37s 82ms/step - loss: 2.2947 - accuracy: 0.3058 - val_loss: 3.8736 - val_accuracy: 0.0944\n",
            "Epoch 40/100\n",
            "450/450 [==============================] - 37s 82ms/step - loss: 2.2734 - accuracy: 0.3108 - val_loss: 3.7179 - val_accuracy: 0.1033\n",
            "Epoch 41/100\n",
            "450/450 [==============================] - 37s 83ms/step - loss: 2.2555 - accuracy: 0.3143 - val_loss: 4.1980 - val_accuracy: 0.0867\n",
            "Epoch 42/100\n",
            "450/450 [==============================] - 37s 82ms/step - loss: 2.2201 - accuracy: 0.3264 - val_loss: 4.0007 - val_accuracy: 0.0847\n",
            "Epoch 43/100\n",
            "450/450 [==============================] - 37s 82ms/step - loss: 2.2158 - accuracy: 0.3251 - val_loss: 4.2785 - val_accuracy: 0.0789\n",
            "Epoch 44/100\n",
            "450/450 [==============================] - 37s 82ms/step - loss: 2.1856 - accuracy: 0.3327 - val_loss: 2.6770 - val_accuracy: 0.1911\n",
            "Epoch 45/100\n",
            "450/450 [==============================] - 37s 82ms/step - loss: 2.1911 - accuracy: 0.3258 - val_loss: 3.6573 - val_accuracy: 0.1061\n",
            "Epoch 46/100\n",
            "450/450 [==============================] - 37s 83ms/step - loss: 2.1710 - accuracy: 0.3393 - val_loss: 4.5176 - val_accuracy: 0.0989\n",
            "Epoch 47/100\n",
            "450/450 [==============================] - 37s 82ms/step - loss: 2.1470 - accuracy: 0.3391 - val_loss: 4.1827 - val_accuracy: 0.0833\n",
            "Epoch 48/100\n",
            "450/450 [==============================] - 37s 82ms/step - loss: 2.1170 - accuracy: 0.3507 - val_loss: 2.6008 - val_accuracy: 0.2158\n",
            "Epoch 49/100\n",
            "450/450 [==============================] - 37s 83ms/step - loss: 2.1448 - accuracy: 0.3372 - val_loss: 5.0324 - val_accuracy: 0.0689\n",
            "Epoch 50/100\n",
            "450/450 [==============================] - 37s 82ms/step - loss: 2.0985 - accuracy: 0.3582 - val_loss: 3.1451 - val_accuracy: 0.1511\n",
            "Epoch 51/100\n",
            "450/450 [==============================] - 37s 82ms/step - loss: 2.0849 - accuracy: 0.3559 - val_loss: 2.7659 - val_accuracy: 0.1828\n",
            "Epoch 52/100\n",
            "450/450 [==============================] - 37s 83ms/step - loss: 2.0499 - accuracy: 0.3658 - val_loss: 4.1329 - val_accuracy: 0.0903\n",
            "Epoch 53/100\n",
            "450/450 [==============================] - 37s 82ms/step - loss: 2.0663 - accuracy: 0.3600 - val_loss: 3.1153 - val_accuracy: 0.1406\n",
            "Epoch 54/100\n",
            "450/450 [==============================] - 37s 83ms/step - loss: 2.0421 - accuracy: 0.3737 - val_loss: 4.2258 - val_accuracy: 0.0914\n",
            "Epoch 55/100\n",
            "450/450 [==============================] - 37s 82ms/step - loss: 2.0248 - accuracy: 0.3752 - val_loss: 2.6872 - val_accuracy: 0.1822\n",
            "Epoch 56/100\n",
            "450/450 [==============================] - 37s 82ms/step - loss: 2.0105 - accuracy: 0.3772 - val_loss: 2.7203 - val_accuracy: 0.1881\n",
            "Epoch 57/100\n",
            "450/450 [==============================] - 37s 83ms/step - loss: 1.9731 - accuracy: 0.3924 - val_loss: 3.9235 - val_accuracy: 0.1117\n",
            "Epoch 58/100\n",
            "450/450 [==============================] - 37s 83ms/step - loss: 1.9936 - accuracy: 0.3876 - val_loss: 2.7871 - val_accuracy: 0.1953\n",
            "Epoch 59/100\n",
            "450/450 [==============================] - 37s 82ms/step - loss: 1.9718 - accuracy: 0.3923 - val_loss: 2.9077 - val_accuracy: 0.1764\n",
            "Epoch 60/100\n",
            "450/450 [==============================] - 37s 82ms/step - loss: 1.9428 - accuracy: 0.3962 - val_loss: 3.5068 - val_accuracy: 0.1303\n",
            "Epoch 61/100\n",
            "450/450 [==============================] - 37s 82ms/step - loss: 1.9546 - accuracy: 0.3935 - val_loss: 4.4136 - val_accuracy: 0.0983\n",
            "Epoch 62/100\n",
            "450/450 [==============================] - 37s 82ms/step - loss: 1.9569 - accuracy: 0.3975 - val_loss: 2.7228 - val_accuracy: 0.2075\n",
            "Epoch 63/100\n",
            "450/450 [==============================] - 37s 82ms/step - loss: 1.9360 - accuracy: 0.3990 - val_loss: 3.7417 - val_accuracy: 0.1275\n",
            "Epoch 64/100\n",
            "450/450 [==============================] - 37s 82ms/step - loss: 1.9179 - accuracy: 0.4091 - val_loss: 2.5126 - val_accuracy: 0.2117\n",
            "Epoch 65/100\n",
            "450/450 [==============================] - 37s 83ms/step - loss: 1.8828 - accuracy: 0.4131 - val_loss: 4.4884 - val_accuracy: 0.0903\n",
            "Epoch 66/100\n",
            "450/450 [==============================] - 37s 83ms/step - loss: 1.8776 - accuracy: 0.4135 - val_loss: 3.2559 - val_accuracy: 0.1461\n",
            "Epoch 67/100\n",
            "450/450 [==============================] - 37s 82ms/step - loss: 1.8999 - accuracy: 0.4121 - val_loss: 3.2820 - val_accuracy: 0.1342\n",
            "Epoch 68/100\n",
            "450/450 [==============================] - 37s 82ms/step - loss: 1.8650 - accuracy: 0.4217 - val_loss: 4.2962 - val_accuracy: 0.1022\n",
            "Epoch 69/100\n",
            "450/450 [==============================] - 37s 82ms/step - loss: 1.8314 - accuracy: 0.4342 - val_loss: 3.9092 - val_accuracy: 0.1156\n",
            "Epoch 70/100\n",
            "450/450 [==============================] - 37s 83ms/step - loss: 1.8348 - accuracy: 0.4320 - val_loss: 4.0423 - val_accuracy: 0.1042\n",
            "Epoch 71/100\n",
            "450/450 [==============================] - 37s 82ms/step - loss: 1.8258 - accuracy: 0.4284 - val_loss: 3.2999 - val_accuracy: 0.1522\n",
            "Epoch 72/100\n",
            "450/450 [==============================] - 37s 82ms/step - loss: 1.8130 - accuracy: 0.4372 - val_loss: 2.8203 - val_accuracy: 0.1875\n",
            "Epoch 73/100\n",
            "450/450 [==============================] - 37s 82ms/step - loss: 1.8051 - accuracy: 0.4305 - val_loss: 2.4800 - val_accuracy: 0.2389\n",
            "Epoch 74/100\n",
            "450/450 [==============================] - 37s 83ms/step - loss: 1.7780 - accuracy: 0.4453 - val_loss: 2.8985 - val_accuracy: 0.1883\n",
            "Epoch 75/100\n",
            "450/450 [==============================] - 37s 82ms/step - loss: 1.7710 - accuracy: 0.4462 - val_loss: 3.3780 - val_accuracy: 0.1481\n",
            "Epoch 76/100\n",
            "450/450 [==============================] - 37s 82ms/step - loss: 1.7780 - accuracy: 0.4440 - val_loss: 3.1816 - val_accuracy: 0.1603\n",
            "Epoch 77/100\n",
            "450/450 [==============================] - 37s 82ms/step - loss: 1.7479 - accuracy: 0.4510 - val_loss: 3.3661 - val_accuracy: 0.1483\n",
            "Epoch 78/100\n",
            "450/450 [==============================] - 37s 82ms/step - loss: 1.7591 - accuracy: 0.4538 - val_loss: 3.6506 - val_accuracy: 0.1317\n",
            "Epoch 79/100\n",
            "450/450 [==============================] - 37s 83ms/step - loss: 1.7310 - accuracy: 0.4644 - val_loss: 5.0970 - val_accuracy: 0.0914\n",
            "Epoch 80/100\n",
            "450/450 [==============================] - 37s 82ms/step - loss: 1.7278 - accuracy: 0.4603 - val_loss: 4.0113 - val_accuracy: 0.1153\n",
            "Epoch 81/100\n",
            "450/450 [==============================] - 37s 83ms/step - loss: 1.7040 - accuracy: 0.4690 - val_loss: 3.4681 - val_accuracy: 0.1525\n",
            "Epoch 82/100\n",
            "450/450 [==============================] - 37s 82ms/step - loss: 1.7152 - accuracy: 0.4604 - val_loss: 3.4612 - val_accuracy: 0.1511\n",
            "Epoch 83/100\n",
            "450/450 [==============================] - 37s 83ms/step - loss: 1.7133 - accuracy: 0.4601 - val_loss: 4.0034 - val_accuracy: 0.1161\n",
            "Epoch 84/100\n",
            "450/450 [==============================] - 37s 82ms/step - loss: 1.6859 - accuracy: 0.4688 - val_loss: 3.0569 - val_accuracy: 0.1744\n",
            "Epoch 85/100\n",
            "450/450 [==============================] - 37s 82ms/step - loss: 1.6905 - accuracy: 0.4723 - val_loss: 4.1068 - val_accuracy: 0.1106\n",
            "Epoch 86/100\n",
            "450/450 [==============================] - 37s 82ms/step - loss: 1.6441 - accuracy: 0.4889 - val_loss: 4.8882 - val_accuracy: 0.0806\n",
            "Epoch 87/100\n",
            "450/450 [==============================] - 37s 82ms/step - loss: 1.6484 - accuracy: 0.4812 - val_loss: 3.4456 - val_accuracy: 0.1511\n",
            "Epoch 88/100\n",
            "450/450 [==============================] - 37s 82ms/step - loss: 1.6581 - accuracy: 0.4833 - val_loss: 3.2608 - val_accuracy: 0.1636\n",
            "Epoch 89/100\n",
            "450/450 [==============================] - 37s 82ms/step - loss: 1.6338 - accuracy: 0.4874 - val_loss: 4.7626 - val_accuracy: 0.0986\n",
            "Epoch 90/100\n",
            "450/450 [==============================] - 37s 82ms/step - loss: 1.6512 - accuracy: 0.4855 - val_loss: 3.1032 - val_accuracy: 0.1808\n",
            "Epoch 91/100\n",
            "450/450 [==============================] - 37s 82ms/step - loss: 1.6156 - accuracy: 0.4976 - val_loss: 3.0168 - val_accuracy: 0.1778\n",
            "Epoch 92/100\n",
            "450/450 [==============================] - 37s 82ms/step - loss: 1.6151 - accuracy: 0.5000 - val_loss: 2.9964 - val_accuracy: 0.1786\n",
            "Epoch 93/100\n",
            "450/450 [==============================] - 37s 82ms/step - loss: 1.6182 - accuracy: 0.4969 - val_loss: 4.3624 - val_accuracy: 0.1211\n",
            "Epoch 94/100\n",
            "450/450 [==============================] - 37s 82ms/step - loss: 1.5795 - accuracy: 0.5039 - val_loss: 2.3779 - val_accuracy: 0.2731\n",
            "Epoch 95/100\n",
            "450/450 [==============================] - 37s 83ms/step - loss: 1.6119 - accuracy: 0.4936 - val_loss: 2.9691 - val_accuracy: 0.1992\n",
            "Epoch 96/100\n",
            "450/450 [==============================] - 37s 82ms/step - loss: 1.5717 - accuracy: 0.5068 - val_loss: 3.0342 - val_accuracy: 0.2050\n",
            "Epoch 97/100\n",
            "450/450 [==============================] - 37s 82ms/step - loss: 1.5715 - accuracy: 0.5083 - val_loss: 3.1702 - val_accuracy: 0.1739\n",
            "Epoch 98/100\n",
            "450/450 [==============================] - 37s 82ms/step - loss: 1.5564 - accuracy: 0.5085 - val_loss: 2.3091 - val_accuracy: 0.2725\n",
            "Epoch 99/100\n",
            "450/450 [==============================] - 37s 82ms/step - loss: 1.5664 - accuracy: 0.5116 - val_loss: 2.6275 - val_accuracy: 0.2417\n",
            "Epoch 100/100\n",
            "450/450 [==============================] - 37s 83ms/step - loss: 1.5558 - accuracy: 0.5132 - val_loss: 2.7605 - val_accuracy: 0.2275\n"
          ]
        }
      ]
    },
    {
      "cell_type": "code",
      "source": [
        "train_acc_2a = history_model.history['accuracy']\n",
        "test_acc_2a = history_model.history['val_accuracy']\n",
        "\n",
        "my_array = np.array(train_acc_2a)\n",
        "filename = 'train_acc_2a.npy'\n",
        "np.save('/content/drive/MyDrive/IDL/A1'+filename, my_array)\n",
        "\n",
        "my_array = np.array(test_acc_2a)\n",
        "filename = 'test_acc_2a.npy'\n",
        "np.save('/content/drive/MyDrive/IDL/A1'+filename, my_array)"
      ],
      "metadata": {
        "id": "qXztsaQjGdfj"
      },
      "execution_count": 9,
      "outputs": []
    },
    {
      "cell_type": "markdown",
      "source": [
        "#### Visualize our results"
      ],
      "metadata": {
        "id": "JIofrvekx36f"
      }
    },
    {
      "cell_type": "code",
      "source": [
        "plt.plot(np.linspace(1, len(train_acc_2a), len(train_acc_2a)), train_acc_2a, color='blue', label='Training')\n",
        "plt.plot(np.linspace(1, len(test_acc_2a), len(test_acc_2a)), test_acc_2a, color='red', label='Testing')\n",
        "plt.xlabel(\"Epochs\")\n",
        "plt.ylabel(\"Accuracy\")\n",
        "plt.legend()\n",
        "# plt.yscale('log')\n",
        "plt.show()"
      ],
      "metadata": {
        "colab": {
          "base_uri": "https://localhost:8080/",
          "height": 449
        },
        "id": "Ngy5a-FqhVg7",
        "outputId": "9c1939ce-3d71-409a-fbad-1fe4a9b2d992"
      },
      "execution_count": 11,
      "outputs": [
        {
          "output_type": "display_data",
          "data": {
            "text/plain": [
              "<Figure size 640x480 with 1 Axes>"
            ],
            "image/png": "[encoded data removed]"
          },
          "metadata": {}
        }
      ]
    },
    {
      "cell_type": "code",
      "source": [
        "# Predict\n",
        "y_pred_2a = class_mod.predict(data/255.0)"
      ],
      "metadata": {
        "colab": {
          "base_uri": "https://localhost:8080/"
        },
        "id": "kJE9l6HUGdcv",
        "outputId": "4fe2f99f-ea92-4d1f-90f7-413dc452eb8c"
      },
      "execution_count": 12,
      "outputs": [
        {
          "output_type": "stream",
          "name": "stdout",
          "text": [
            "563/563 [==============================] - 10s 18ms/step\n"
          ]
        }
      ]
    },
    {
      "cell_type": "code",
      "source": [
        "# Convert the softmax probability to a 'one-hot' solution\n",
        "# we need to have labels of a highest probability class.\n",
        "# Therefore, we use the argmax argument as the probability\n",
        "# per class, 0 to 720, is between 0 and 1. The highest value\n",
        "# is the prediction of minute classification.\n",
        "predictions_classification = np.argmax(y_pred_2a, axis=1)\n",
        "predictions_classification.shape"
      ],
      "metadata": {
        "colab": {
          "base_uri": "https://localhost:8080/"
        },
        "id": "UonYbM37vvWt",
        "outputId": "80cba844-8b74-443c-f815-35050b4e438d"
      },
      "execution_count": 15,
      "outputs": [
        {
          "output_type": "execute_result",
          "data": {
            "text/plain": [
              "(18000,)"
            ]
          },
          "metadata": {},
          "execution_count": 15
        }
      ]
    },
    {
      "cell_type": "code",
      "source": [
        "residuals_classification = labels_1min - predictions_classification"
      ],
      "metadata": {
        "id": "LJMupptuvY4x"
      },
      "execution_count": 21,
      "outputs": []
    },
    {
      "cell_type": "code",
      "source": [
        "plt.hist(residuals_classification, bins=60, edgecolor='black', color='blue')\n",
        "plt.xlabel(r\"$y_{true}-y_{pred}$\")\n",
        "plt.ylabel(\"# instances\", fontsize=14)\n",
        "plt.show()"
      ],
      "metadata": {
        "colab": {
          "base_uri": "https://localhost:8080/",
          "height": 452
        },
        "id": "DEumcQJ2wjMS",
        "outputId": "42dfb45a-1538-4be5-8fc3-5add467b0dc3"
      },
      "execution_count": 24,
      "outputs": [
        {
          "output_type": "display_data",
          "data": {
            "text/plain": [
              "<Figure size 640x480 with 1 Axes>"
            ],
            "image/png": "[encoded data removed]"
          },
          "metadata": {}
        }
      ]
    },
    {
      "cell_type": "markdown",
      "source": [
        "#### How many instances are correctly classified?"
      ],
      "metadata": {
        "id": "m5GoaMqdxj5V"
      }
    },
    {
      "cell_type": "code",
      "source": [
        "len(residuals_classification[residuals_classification == 0])"
      ],
      "metadata": {
        "colab": {
          "base_uri": "https://localhost:8080/"
        },
        "id": "sOBVSSdExJGx",
        "outputId": "b2575514-503e-469c-c7a7-132836a949ea"
      },
      "execution_count": 25,
      "outputs": [
        {
          "output_type": "execute_result",
          "data": {
            "text/plain": [
              "11204"
            ]
          },
          "metadata": {},
          "execution_count": 25
        }
      ]
    },
    {
      "cell_type": "markdown",
      "source": [
        "# 2B\n",
        "\n",
        "Make a regression model"
      ],
      "metadata": {
        "id": "8TOPjoQciH_U"
      }
    },
    {
      "cell_type": "markdown",
      "source": [
        "First make the labels applicable"
      ],
      "metadata": {
        "id": "LXjTbmYn7G4y"
      }
    },
    {
      "cell_type": "code",
      "source": [
        "# Round off each minute as 1/60 = 0.0166666..., use round 3 to make regression speed up (there is no point using all decimals)\n",
        "labels_regression = labels[:, 0] + np.round(labels[:, 1]/60, 3)"
      ],
      "metadata": {
        "id": "L2tGiBtuiX0-"
      },
      "execution_count": 3,
      "outputs": []
    },
    {
      "cell_type": "code",
      "source": [
        "len(np.unique(labels_regression))"
      ],
      "metadata": {
        "colab": {
          "base_uri": "https://localhost:8080/"
        },
        "id": "2IM2WzPEMvWn",
        "outputId": "c7a9e2c4-e63c-44b5-a52f-9d9459d78955"
      },
      "execution_count": 44,
      "outputs": [
        {
          "output_type": "execute_result",
          "data": {
            "text/plain": [
              "720"
            ]
          },
          "metadata": {},
          "execution_count": 44
        }
      ]
    },
    {
      "cell_type": "markdown",
      "source": [
        "#### Histogram of labels:"
      ],
      "metadata": {
        "id": "fi7JzG0LCEsp"
      }
    },
    {
      "cell_type": "code",
      "source": [
        "plt.hist(labels_regression)"
      ],
      "metadata": {
        "colab": {
          "base_uri": "https://localhost:8080/",
          "height": 0
        },
        "id": "cdNsGcrNB8Ro",
        "outputId": "baead683-dfcd-4426-e087-e17e35fcf8ac"
      },
      "execution_count": 46,
      "outputs": [
        {
          "output_type": "execute_result",
          "data": {
            "text/plain": [
              "(array([1800., 1800., 1800., 1800., 1800., 1800., 1800., 1800., 1800.,\n",
              "        1800.]),\n",
              " array([ 0.    ,  1.1983,  2.3966,  3.5949,  4.7932,  5.9915,  7.1898,\n",
              "         8.3881,  9.5864, 10.7847, 11.983 ]),\n",
              " <BarContainer object of 10 artists>)"
            ]
          },
          "metadata": {},
          "execution_count": 46
        },
        {
          "output_type": "display_data",
          "data": {
            "text/plain": [
              "<Figure size 640x480 with 1 Axes>"
            ],
            "image/png": "[encoded data removed]"
          },
          "metadata": {}
        }
      ]
    },
    {
      "cell_type": "markdown",
      "source": [
        "### Create model"
      ],
      "metadata": {
        "id": "AS6lIRhKCIDD"
      }
    },
    {
      "cell_type": "code",
      "source": [
        "def regression_model(input_shape, default: bool = False):\n",
        "        \"\"\"\n",
        "        Builds a regression model for floats of time.\n",
        "\n",
        "        This model is composed of three Conv -> BN -> Pool -> Dropout blocks,\n",
        "        followed by the Dense output layer.\n",
        "\n",
        "        Last layer is a regression layer, output is only 1 value, activation function\n",
        "        is linear.\n",
        "        \"\"\"\n",
        "        inputs = Input(shape=input_shape)\n",
        "        x = Conv2D(16, (3, 3), padding=\"same\")(inputs)\n",
        "        x = Activation(\"relu\")(x)\n",
        "        x = BatchNormalization(axis=-1)(x)\n",
        "        x = MaxPooling2D(pool_size=(3, 3))(x)\n",
        "        x = Dropout(0.25)(x)\n",
        "        x = Conv2D(32, (3, 3), padding=\"same\")(x)\n",
        "        x = Activation(\"relu\")(x)\n",
        "        x = BatchNormalization(axis=-1)(x)\n",
        "        x = MaxPooling2D(pool_size=(2, 2))(x)\n",
        "        x = Dropout(0.25)(x)\n",
        "        x = Conv2D(32, (3, 3), padding=\"same\")(x)\n",
        "        x = Activation(\"relu\")(x)\n",
        "        x = BatchNormalization(axis=-1)(x)\n",
        "        x = MaxPooling2D(pool_size=(2, 2))(x)\n",
        "        x = Dropout(0.25)(x)\n",
        "\n",
        "        x = Flatten()(x)\n",
        "\n",
        "        if default:\n",
        "\n",
        "          x = Dense(128)(x)\n",
        "          x = Activation(\"relu\")(x)\n",
        "          x = BatchNormalization()(x)\n",
        "          x = Dropout(0.5)(x)\n",
        "          x = Dense(1)(x)\n",
        "          x = Activation(\"linear\", name=\"regression_output\")(x)\n",
        "\n",
        "        else:\n",
        "          x = Dense(256)(x)\n",
        "          x = Activation(\"relu\")(x)\n",
        "          x = BatchNormalization()(x)\n",
        "          x = Dropout(0.5)(x)\n",
        "          x = Dense(144)(x)\n",
        "          x = Activation(\"relu\")(x)\n",
        "          x = BatchNormalization()(x)\n",
        "          x = Dropout(0.5)(x)\n",
        "          x = Dense(1)(x)\n",
        "          x = Activation(\"linear\", name=\"regression_output\")(x)\n",
        "\n",
        "        model = Model(inputs=inputs,\n",
        "                     outputs = [x],\n",
        "                  )\n",
        "        return model\n",
        "\n",
        "\n",
        "model_regression_default = regression_model(input_shape=(150,150, 1), default = True)\n",
        "model_regression = regression_model(input_shape=(150,150, 1), default = False)\n"
      ],
      "metadata": {
        "id": "qT9iAx2NiHSS"
      },
      "execution_count": 11,
      "outputs": []
    },
    {
      "cell_type": "markdown",
      "source": [
        "Display the model"
      ],
      "metadata": {
        "id": "5dOrb2NLklxN"
      }
    },
    {
      "cell_type": "code",
      "source": [
        "model_regression_default.summary()\n",
        "# display(keras.utils.plot_model(model_regression_default, show_layer_activations=True))"
      ],
      "metadata": {
        "colab": {
          "base_uri": "https://localhost:8080/"
        },
        "id": "CsT7PO9Kkd_3",
        "outputId": "8c5d6fc5-3aff-4ae6-e254-7aed578aa439"
      },
      "execution_count": 12,
      "outputs": [
        {
          "output_type": "stream",
          "name": "stdout",
          "text": [
            "Model: \"model\"\n",
            "_________________________________________________________________\n",
            " Layer (type)                Output Shape              Param #   \n",
            "=================================================================\n",
            " input_1 (InputLayer)        [(None, 150, 150, 1)]     0         \n",
            "                                                                 \n",
            " conv2d_15 (Conv2D)          (None, 150, 150, 16)      160       \n",
            "                                                                 \n",
            " activation (Activation)     (None, 150, 150, 16)      0         \n",
            "                                                                 \n",
            " batch_normalization (BatchN  (None, 150, 150, 16)     64        \n",
            " ormalization)                                                   \n",
            "                                                                 \n",
            " max_pooling2d_9 (MaxPooling  (None, 50, 50, 16)       0         \n",
            " 2D)                                                             \n",
            "                                                                 \n",
            " dropout_6 (Dropout)         (None, 50, 50, 16)        0         \n",
            "                                                                 \n",
            " conv2d_16 (Conv2D)          (None, 50, 50, 32)        4640      \n",
            "                                                                 \n",
            " activation_1 (Activation)   (None, 50, 50, 32)        0         \n",
            "                                                                 \n",
            " batch_normalization_1 (Batc  (None, 50, 50, 32)       128       \n",
            " hNormalization)                                                 \n",
            "                                                                 \n",
            " max_pooling2d_10 (MaxPoolin  (None, 25, 25, 32)       0         \n",
            " g2D)                                                            \n",
            "                                                                 \n",
            " dropout_7 (Dropout)         (None, 25, 25, 32)        0         \n",
            "                                                                 \n",
            " conv2d_17 (Conv2D)          (None, 25, 25, 32)        9248      \n",
            "                                                                 \n",
            " activation_2 (Activation)   (None, 25, 25, 32)        0         \n",
            "                                                                 \n",
            " batch_normalization_2 (Batc  (None, 25, 25, 32)       128       \n",
            " hNormalization)                                                 \n",
            "                                                                 \n",
            " max_pooling2d_11 (MaxPoolin  (None, 12, 12, 32)       0         \n",
            " g2D)                                                            \n",
            "                                                                 \n",
            " dropout_8 (Dropout)         (None, 12, 12, 32)        0         \n",
            "                                                                 \n",
            " flatten_3 (Flatten)         (None, 4608)              0         \n",
            "                                                                 \n",
            " dense_9 (Dense)             (None, 128)               589952    \n",
            "                                                                 \n",
            " activation_3 (Activation)   (None, 128)               0         \n",
            "                                                                 \n",
            " batch_normalization_3 (Batc  (None, 128)              512       \n",
            " hNormalization)                                                 \n",
            "                                                                 \n",
            " dropout_9 (Dropout)         (None, 128)               0         \n",
            "                                                                 \n",
            " dense_10 (Dense)            (None, 1)                 129       \n",
            "                                                                 \n",
            " regression_output (Activati  (None, 1)                0         \n",
            " on)                                                             \n",
            "                                                                 \n",
            "=================================================================\n",
            "Total params: 604,961\n",
            "Trainable params: 604,545\n",
            "Non-trainable params: 416\n",
            "_________________________________________________________________\n"
          ]
        }
      ]
    },
    {
      "cell_type": "code",
      "source": [
        "# model_regression.summary()"
      ],
      "metadata": {
        "id": "wcfEfr7SBsYL"
      },
      "execution_count": 13,
      "outputs": []
    },
    {
      "cell_type": "markdown",
      "source": [
        "Compile it: use a loss function of mean squared error (also try common sense error)"
      ],
      "metadata": {
        "id": "YujYbL1iklSA"
      }
    },
    {
      "cell_type": "code",
      "source": [
        "model_regression_default.compile(loss='mse', # we have equal distribution of data, so no outliers (no need for MAE as loss function)\n",
        "              optimizer=keras.optimizers.Adam(learning_rate=0.0005,\n",
        "                                              ), # Kwarg: 'decay' decreases the learning rate per epoch\n",
        "              metrics=['mae', 'acc'],\n",
        "              steps_per_execution=50,\n",
        "              )"
      ],
      "metadata": {
        "id": "6Sjr0nRGkjoA"
      },
      "execution_count": 5,
      "outputs": []
    },
    {
      "cell_type": "markdown",
      "source": [
        "Split the train and test data - use 80%/20%"
      ],
      "metadata": {
        "id": "F8AYuIWklE2P"
      }
    },
    {
      "cell_type": "code",
      "source": [
        "X_train_regression, X_test_regression, y_train_regression, y_test_regression = train_test_split(\n",
        "                                                      data, labels_regression, test_size=0.2, random_state=42\n",
        "                                                                                                )"
      ],
      "metadata": {
        "id": "yGAmBz0YlEf9"
      },
      "execution_count": 4,
      "outputs": []
    },
    {
      "cell_type": "code",
      "source": [
        "plt.hist(y_train_regression)"
      ],
      "metadata": {
        "colab": {
          "base_uri": "https://localhost:8080/",
          "height": 520
        },
        "id": "f5FndErxPGa-",
        "outputId": "93b37772-4c6a-44c7-a0d5-fca5233eeb63"
      },
      "execution_count": 8,
      "outputs": [
        {
          "output_type": "execute_result",
          "data": {
            "text/plain": [
              "(array([1441., 1442., 1435., 1436., 1427., 1438., 1431., 1447., 1450.,\n",
              "        1453.]),\n",
              " array([ 0.    ,  1.1983,  2.3966,  3.5949,  4.7932,  5.9915,  7.1898,\n",
              "         8.3881,  9.5864, 10.7847, 11.983 ]),\n",
              " <BarContainer object of 10 artists>)"
            ]
          },
          "metadata": {},
          "execution_count": 8
        },
        {
          "output_type": "display_data",
          "data": {
            "text/plain": [
              "<Figure size 640x480 with 1 Axes>"
            ],
            "image/png": "[encoded data removed]"
          },
          "metadata": {}
        }
      ]
    },
    {
      "cell_type": "markdown",
      "source": [
        "Fit the model"
      ],
      "metadata": {
        "id": "kNpkWYCflmY_"
      }
    },
    {
      "cell_type": "code",
      "source": [
        "model_regression_default_with_shuffle = model_regression_default.fit(X_train_regression/255.0, y_train_regression,\n",
        "                                                                      batch_size=32, validation_data=(X_test_regression/255.0, y_test_regression),\n",
        "                                                                      epochs=50, shuffle=True)"
      ],
      "metadata": {
        "colab": {
          "base_uri": "https://localhost:8080/"
        },
        "id": "A2Gly0Ielnyd",
        "outputId": "0985ad6f-0c00-4fe4-d4e2-bd5a244b8d13"
      },
      "execution_count": 7,
      "outputs": [
        {
          "output_type": "stream",
          "name": "stdout",
          "text": [
            "Epoch 1/50\n",
            "450/450 [==============================] - 37s 82ms/step - loss: 31.6280 - mae: 4.5982 - acc: 0.0017 - val_loss: 3620.7566 - val_mae: 57.5945 - val_acc: 8.3333e-04\n",
            "Epoch 2/50\n",
            "450/450 [==============================] - 37s 82ms/step - loss: 13.2185 - mae: 2.9615 - acc: 0.0015 - val_loss: 387.0799 - val_mae: 8.8942 - val_acc: 8.3333e-04\n",
            "Epoch 3/50\n",
            "450/450 [==============================] - 37s 81ms/step - loss: 11.6122 - mae: 2.7571 - acc: 0.0015 - val_loss: 245.4721 - val_mae: 8.7011 - val_acc: 0.0011\n",
            "Epoch 4/50\n",
            "450/450 [==============================] - 37s 81ms/step - loss: 10.5253 - mae: 2.6189 - acc: 0.0015 - val_loss: 564.1527 - val_mae: 17.5646 - val_acc: 0.0017\n",
            "Epoch 5/50\n",
            "450/450 [==============================] - 37s 81ms/step - loss: 9.8146 - mae: 2.5087 - acc: 0.0015 - val_loss: 10.1799 - val_mae: 2.5483 - val_acc: 8.3333e-04\n",
            "Epoch 6/50\n",
            "450/450 [==============================] - 36s 81ms/step - loss: 9.1823 - mae: 2.4192 - acc: 0.0015 - val_loss: 12.1735 - val_mae: 2.8282 - val_acc: 8.3333e-04\n",
            "Epoch 7/50\n",
            "450/450 [==============================] - 37s 81ms/step - loss: 8.7552 - mae: 2.3605 - acc: 0.0015 - val_loss: 56.8991 - val_mae: 4.4999 - val_acc: 5.5556e-04\n",
            "Epoch 8/50\n",
            "450/450 [==============================] - 37s 82ms/step - loss: 8.2104 - mae: 2.2813 - acc: 0.0015 - val_loss: 37.5019 - val_mae: 3.4103 - val_acc: 8.3333e-04\n",
            "Epoch 9/50\n",
            "450/450 [==============================] - 37s 81ms/step - loss: 8.3078 - mae: 2.2961 - acc: 0.0015 - val_loss: 162.0336 - val_mae: 7.6023 - val_acc: 5.5556e-04\n",
            "Epoch 10/50\n",
            "450/450 [==============================] - 36s 81ms/step - loss: 7.8003 - mae: 2.2058 - acc: 0.0015 - val_loss: 10.5947 - val_mae: 2.1656 - val_acc: 8.3333e-04\n",
            "Epoch 11/50\n",
            "450/450 [==============================] - 37s 82ms/step - loss: 7.4618 - mae: 2.1597 - acc: 0.0015 - val_loss: 60.2676 - val_mae: 5.0696 - val_acc: 0.0011\n",
            "Epoch 12/50\n",
            "450/450 [==============================] - 37s 81ms/step - loss: 7.4770 - mae: 2.1517 - acc: 0.0015 - val_loss: 45.3544 - val_mae: 3.3539 - val_acc: 8.3333e-04\n",
            "Epoch 13/50\n",
            "450/450 [==============================] - 37s 82ms/step - loss: 7.2985 - mae: 2.1289 - acc: 0.0015 - val_loss: 7.0968 - val_mae: 2.0881 - val_acc: 8.3333e-04\n",
            "Epoch 14/50\n",
            "450/450 [==============================] - 37s 81ms/step - loss: 6.9208 - mae: 2.0702 - acc: 0.0015 - val_loss: 14.2000 - val_mae: 2.6481 - val_acc: 8.3333e-04\n",
            "Epoch 15/50\n",
            "450/450 [==============================] - 37s 81ms/step - loss: 6.7328 - mae: 2.0317 - acc: 0.0015 - val_loss: 11.3713 - val_mae: 2.6768 - val_acc: 8.3333e-04\n",
            "Epoch 16/50\n",
            "450/450 [==============================] - 36s 81ms/step - loss: 6.6575 - mae: 2.0186 - acc: 0.0014 - val_loss: 11.3171 - val_mae: 2.4116 - val_acc: 8.3333e-04\n",
            "Epoch 17/50\n",
            "450/450 [==============================] - 37s 81ms/step - loss: 6.5480 - mae: 2.0021 - acc: 0.0015 - val_loss: 100.5986 - val_mae: 6.0820 - val_acc: 0.0011\n",
            "Epoch 18/50\n",
            "450/450 [==============================] - 37s 81ms/step - loss: 6.4029 - mae: 1.9734 - acc: 0.0015 - val_loss: 6.1150 - val_mae: 1.8581 - val_acc: 8.3333e-04\n",
            "Epoch 19/50\n",
            "450/450 [==============================] - 37s 81ms/step - loss: 6.2863 - mae: 1.9519 - acc: 0.0014 - val_loss: 4.8149 - val_mae: 1.6495 - val_acc: 8.3333e-04\n",
            "Epoch 20/50\n",
            "450/450 [==============================] - 37s 81ms/step - loss: 6.0725 - mae: 1.9118 - acc: 0.0015 - val_loss: 6.0924 - val_mae: 1.8598 - val_acc: 8.3333e-04\n",
            "Epoch 21/50\n",
            "450/450 [==============================] - 36s 81ms/step - loss: 5.9867 - mae: 1.9017 - acc: 0.0015 - val_loss: 14.2786 - val_mae: 2.0881 - val_acc: 8.3333e-04\n",
            "Epoch 22/50\n",
            "450/450 [==============================] - 37s 82ms/step - loss: 5.9357 - mae: 1.8989 - acc: 0.0014 - val_loss: 197.9077 - val_mae: 9.1067 - val_acc: 8.3333e-04\n",
            "Epoch 23/50\n",
            "450/450 [==============================] - 36s 81ms/step - loss: 5.7739 - mae: 1.8651 - acc: 0.0013 - val_loss: 467.2839 - val_mae: 13.0325 - val_acc: 8.3333e-04\n",
            "Epoch 24/50\n",
            "450/450 [==============================] - 36s 81ms/step - loss: 5.7518 - mae: 1.8508 - acc: 0.0015 - val_loss: 4.3850 - val_mae: 1.5394 - val_acc: 8.3333e-04\n",
            "Epoch 25/50\n",
            "450/450 [==============================] - 36s 80ms/step - loss: 5.6055 - mae: 1.8314 - acc: 0.0015 - val_loss: 963.7762 - val_mae: 17.3145 - val_acc: 8.3333e-04\n",
            "Epoch 26/50\n",
            "450/450 [==============================] - 37s 81ms/step - loss: 5.4994 - mae: 1.8203 - acc: 0.0015 - val_loss: 115.8360 - val_mae: 3.7295 - val_acc: 8.3333e-04\n",
            "Epoch 27/50\n",
            "450/450 [==============================] - 37s 82ms/step - loss: 5.3870 - mae: 1.7956 - acc: 0.0016 - val_loss: 6.6110 - val_mae: 1.8992 - val_acc: 8.3333e-04\n",
            "Epoch 28/50\n",
            "450/450 [==============================] - 37s 81ms/step - loss: 5.4883 - mae: 1.8144 - acc: 0.0012 - val_loss: 6330.0615 - val_mae: 60.8160 - val_acc: 8.3333e-04\n",
            "Epoch 29/50\n",
            "450/450 [==============================] - 36s 81ms/step - loss: 5.5889 - mae: 1.8201 - acc: 0.0015 - val_loss: 13.0057 - val_mae: 2.1601 - val_acc: 8.3333e-04\n",
            "Epoch 30/50\n",
            "450/450 [==============================] - 36s 81ms/step - loss: 5.1838 - mae: 1.7570 - acc: 0.0014 - val_loss: 2200.2261 - val_mae: 26.7233 - val_acc: 8.3333e-04\n",
            "Epoch 31/50\n",
            "450/450 [==============================] - 37s 82ms/step - loss: 5.2612 - mae: 1.7682 - acc: 0.0014 - val_loss: 5.1905 - val_mae: 1.6894 - val_acc: 8.3333e-04\n",
            "Epoch 32/50\n",
            "450/450 [==============================] - 37s 82ms/step - loss: 5.0878 - mae: 1.7386 - acc: 0.0015 - val_loss: 22913.9395 - val_mae: 108.1886 - val_acc: 8.3333e-04\n",
            "Epoch 33/50\n",
            "450/450 [==============================] - 37s 81ms/step - loss: 5.0415 - mae: 1.7334 - acc: 0.0013 - val_loss: 3.7930 - val_mae: 1.3904 - val_acc: 8.3333e-04\n",
            "Epoch 34/50\n",
            "450/450 [==============================] - 36s 81ms/step - loss: 4.9796 - mae: 1.7105 - acc: 0.0015 - val_loss: 7.5968 - val_mae: 1.7801 - val_acc: 8.3333e-04\n",
            "Epoch 35/50\n",
            "450/450 [==============================] - 36s 81ms/step - loss: 4.9113 - mae: 1.7094 - acc: 0.0015 - val_loss: 7.0101 - val_mae: 2.0442 - val_acc: 8.3333e-04\n",
            "Epoch 36/50\n",
            "450/450 [==============================] - 37s 81ms/step - loss: 4.9282 - mae: 1.7026 - acc: 0.0015 - val_loss: 20.7013 - val_mae: 2.3468 - val_acc: 8.3333e-04\n",
            "Epoch 37/50\n",
            "450/450 [==============================] - 37s 81ms/step - loss: 4.8213 - mae: 1.6887 - acc: 0.0015 - val_loss: 5.0982 - val_mae: 1.4237 - val_acc: 8.3333e-04\n",
            "Epoch 38/50\n",
            "450/450 [==============================] - 37s 81ms/step - loss: 4.7785 - mae: 1.6804 - acc: 0.0015 - val_loss: 5.9944 - val_mae: 1.8760 - val_acc: 8.3333e-04\n",
            "Epoch 39/50\n",
            "450/450 [==============================] - 37s 82ms/step - loss: 4.7943 - mae: 1.6864 - acc: 0.0014 - val_loss: 3534.7119 - val_mae: 32.7094 - val_acc: 8.3333e-04\n",
            "Epoch 40/50\n",
            "450/450 [==============================] - 36s 81ms/step - loss: 4.6745 - mae: 1.6592 - acc: 0.0016 - val_loss: 4.0648 - val_mae: 1.3855 - val_acc: 8.3333e-04\n",
            "Epoch 41/50\n",
            "450/450 [==============================] - 36s 80ms/step - loss: 4.5440 - mae: 1.6404 - acc: 0.0015 - val_loss: 6.8975 - val_mae: 1.9824 - val_acc: 8.3333e-04\n",
            "Epoch 42/50\n",
            "450/450 [==============================] - 37s 81ms/step - loss: 4.6136 - mae: 1.6425 - acc: 0.0015 - val_loss: 3525.3335 - val_mae: 40.9548 - val_acc: 0.0011\n",
            "Epoch 43/50\n",
            "450/450 [==============================] - 37s 81ms/step - loss: 4.6044 - mae: 1.6469 - acc: 0.0015 - val_loss: 21.7909 - val_mae: 1.8074 - val_acc: 8.3333e-04\n",
            "Epoch 44/50\n",
            "450/450 [==============================] - 36s 81ms/step - loss: 4.5528 - mae: 1.6352 - acc: 0.0013 - val_loss: 48.3209 - val_mae: 2.4808 - val_acc: 8.3333e-04\n",
            "Epoch 45/50\n",
            "450/450 [==============================] - 36s 81ms/step - loss: 4.4839 - mae: 1.6306 - acc: 0.0015 - val_loss: 11.7698 - val_mae: 2.7843 - val_acc: 8.3333e-04\n",
            "Epoch 46/50\n",
            "450/450 [==============================] - 36s 81ms/step - loss: 4.2842 - mae: 1.5850 - acc: 0.0011 - val_loss: 3.1497 - val_mae: 1.2872 - val_acc: 8.3333e-04\n",
            "Epoch 47/50\n",
            "450/450 [==============================] - 36s 81ms/step - loss: 4.5387 - mae: 1.6414 - acc: 0.0014 - val_loss: 951.3713 - val_mae: 13.9081 - val_acc: 8.3333e-04\n",
            "Epoch 48/50\n",
            "450/450 [==============================] - 36s 81ms/step - loss: 4.2393 - mae: 1.5814 - acc: 0.0015 - val_loss: 4.5933 - val_mae: 1.5647 - val_acc: 8.3333e-04\n",
            "Epoch 49/50\n",
            "450/450 [==============================] - 36s 81ms/step - loss: 4.3532 - mae: 1.5914 - acc: 0.0014 - val_loss: 4.8494 - val_mae: 1.5935 - val_acc: 8.3333e-04\n",
            "Epoch 50/50\n",
            "450/450 [==============================] - 36s 81ms/step - loss: 4.2451 - mae: 1.5800 - acc: 0.0012 - val_loss: 5.1449 - val_mae: 1.7303 - val_acc: 8.3333e-04\n"
          ]
        }
      ]
    },
    {
      "cell_type": "code",
      "source": [],
      "metadata": {
        "id": "W-nRIExtRVOb"
      },
      "execution_count": null,
      "outputs": []
    },
    {
      "cell_type": "markdown",
      "source": [
        "Save the weights"
      ],
      "metadata": {
        "id": "NmxmvymamHh6"
      }
    },
    {
      "cell_type": "code",
      "source": [
        "model_regression_default.save_weights('/content/drive/MyDrive/IDL/A1/weights_model_regression_with_shuffle_2b.keras')"
      ],
      "metadata": {
        "id": "V04_JuaEmJKA"
      },
      "execution_count": 9,
      "outputs": []
    },
    {
      "cell_type": "markdown",
      "source": [
        "Visualize the performance"
      ],
      "metadata": {
        "id": "F4HpCsoL28rx"
      }
    },
    {
      "cell_type": "code",
      "source": [
        "train_mae = model_regression_default_with_shuffle.history['mae']\n",
        "test_mae = model_regression_default_with_shuffle.history['val_mae']"
      ],
      "metadata": {
        "id": "ld9Yxhp9mJHZ"
      },
      "execution_count": 10,
      "outputs": []
    },
    {
      "cell_type": "code",
      "source": [
        "my_array = np.array(train_mae)\n",
        "filename = 'train_mae_2b.npy'\n",
        "np.save('/content/drive/MyDrive/IDL/A1'+filename, my_array)\n",
        "\n",
        "my_array = np.array(test_mae)\n",
        "filename = 'test_mae_2b.npy'\n",
        "np.save('/content/drive/MyDrive/IDL/A1'+filename, my_array)"
      ],
      "metadata": {
        "id": "Ce6j52Zx4to9"
      },
      "execution_count": 14,
      "outputs": []
    },
    {
      "cell_type": "code",
      "source": [
        "plt.plot(np.linspace(1, len(train_mae), len(train_mae)), train_mae, color='blue', label='Training')\n",
        "plt.plot(np.linspace(1, len(train_mae), len(train_mae)), test_mae, color='red', label='Testing')\n",
        "plt.xlabel(\"Epochs\")\n",
        "plt.ylabel(\"MAE\")\n",
        "plt.legend()\n",
        "plt.yscale('log')\n",
        "plt.show()"
      ],
      "metadata": {
        "colab": {
          "base_uri": "https://localhost:8080/",
          "height": 449
        },
        "id": "IMmi3MbRTFOy",
        "outputId": "ec4b6ecd-539d-4995-9de7-4eaa4dd99877"
      },
      "execution_count": 15,
      "outputs": [
        {
          "output_type": "display_data",
          "data": {
            "text/plain": [
              "<Figure size 640x480 with 1 Axes>"
            ],
            "image/png": "[encoded data removed]"
          },
          "metadata": {}
        }
      ]
    },
    {
      "cell_type": "markdown",
      "source": [
        "Evaluate the model. Check if we are returned with a float between 0 and 11.9999...."
      ],
      "metadata": {
        "id": "f4UIk5gODPEk"
      }
    },
    {
      "cell_type": "code",
      "source": [
        "y_pred = model_regression_default.predict(data/255.0)"
      ],
      "metadata": {
        "colab": {
          "base_uri": "https://localhost:8080/"
        },
        "id": "v8n9Aau6mI8F",
        "outputId": "54dd2af6-7d05-409a-d638-9394ce387bc4"
      },
      "execution_count": 22,
      "outputs": [
        {
          "output_type": "stream",
          "name": "stdout",
          "text": [
            "563/563 [==============================] - 10s 18ms/step\n"
          ]
        }
      ]
    },
    {
      "cell_type": "code",
      "source": [
        "residuals = labels_regression - y_pred.reshape(18000)"
      ],
      "metadata": {
        "id": "xocVD0HeUIlR"
      },
      "execution_count": 24,
      "outputs": []
    },
    {
      "cell_type": "code",
      "source": [
        "pd.DataFrame(residuals).describe()"
      ],
      "metadata": {
        "colab": {
          "base_uri": "https://localhost:8080/",
          "height": 300
        },
        "id": "KLNJ0GaQ87AG",
        "outputId": "c9f714e4-bed3-4bfa-c6e4-2a6f5ca6644e"
      },
      "execution_count": 30,
      "outputs": [
        {
          "output_type": "execute_result",
          "data": {
            "text/plain": [
              "                  0\n",
              "count  18000.000000\n",
              "mean      -0.754591\n",
              "std        2.000193\n",
              "min      -33.304306\n",
              "25%       -1.912417\n",
              "50%       -0.725991\n",
              "75%        0.408276\n",
              "max       20.944242"
            ],
            "text/html": [
              "\n",
              "  <div id=\"df-47fa882d-5ce6-4279-b822-6d775f7bedeb\" class=\"colab-df-container\">\n",
              "    <div>\n",
              "<style scoped>\n",
              "    .dataframe tbody tr th:only-of-type {\n",
              "        vertical-align: middle;\n",
              "    }\n",
              "\n",
              "    .dataframe tbody tr th {\n",
              "        vertical-align: top;\n",
              "    }\n",
              "\n",
              "    .dataframe thead th {\n",
              "        text-align: right;\n",
              "    }\n",
              "</style>\n",
              "<table border=\"1\" class=\"dataframe\">\n",
              "  <thead>\n",
              "    <tr style=\"text-align: right;\">\n",
              "      <th></th>\n",
              "      <th>0</th>\n",
              "    </tr>\n",
              "  </thead>\n",
              "  <tbody>\n",
              "    <tr>\n",
              "      <th>count</th>\n",
              "      <td>18000.000000</td>\n",
              "    </tr>\n",
              "    <tr>\n",
              "      <th>mean</th>\n",
              "      <td>-0.754591</td>\n",
              "    </tr>\n",
              "    <tr>\n",
              "      <th>std</th>\n",
              "      <td>2.000193</td>\n",
              "    </tr>\n",
              "    <tr>\n",
              "      <th>min</th>\n",
              "      <td>-33.304306</td>\n",
              "    </tr>\n",
              "    <tr>\n",
              "      <th>25%</th>\n",
              "      <td>-1.912417</td>\n",
              "    </tr>\n",
              "    <tr>\n",
              "      <th>50%</th>\n",
              "      <td>-0.725991</td>\n",
              "    </tr>\n",
              "    <tr>\n",
              "      <th>75%</th>\n",
              "      <td>0.408276</td>\n",
              "    </tr>\n",
              "    <tr>\n",
              "      <th>max</th>\n",
              "      <td>20.944242</td>\n",
              "    </tr>\n",
              "  </tbody>\n",
              "</table>\n",
              "</div>\n",
              "    <div class=\"colab-df-buttons\">\n",
              "\n",
              "  <div class=\"colab-df-container\">\n",
              "    <button class=\"colab-df-convert\" onclick=\"convertToInteractive('df-47fa882d-5ce6-4279-b822-6d775f7bedeb')\"\n",
              "            title=\"Convert this dataframe to an interactive table.\"\n",
              "            style=\"display:none;\">\n",
              "\n",
              "  <svg xmlns=\"http://www.w3.org/2000/svg\" height=\"24px\" viewBox=\"0 -960 960 960\">\n",
              "    <path d=\"M120-120v-720h720v720H120Zm60-500h600v-160H180v160Zm220 220h160v-160H400v160Zm0 220h160v-160H400v160ZM180-400h160v-160H180v160Zm440 0h160v-160H620v160ZM180-180h160v-160H180v160Zm440 0h160v-160H620v160Z\"/>\n",
              "  </svg>\n",
              "    </button>\n",
              "\n",
              "  <style>\n",
              "    .colab-df-container {\n",
              "      display:flex;\n",
              "      gap: 12px;\n",
              "    }\n",
              "\n",
              "    .colab-df-convert {\n",
              "      background-color: #E8F0FE;\n",
              "      border: none;\n",
              "      border-radius: 50%;\n",
              "      cursor: pointer;\n",
              "      display: none;\n",
              "      fill: #1967D2;\n",
              "      height: 32px;\n",
              "      padding: 0 0 0 0;\n",
              "      width: 32px;\n",
              "    }\n",
              "\n",
              "    .colab-df-convert:hover {\n",
              "      background-color: #E2EBFA;\n",
              "      box-shadow: 0px 1px 2px rgba(60, 64, 67, 0.3), 0px 1px 3px 1px rgba(60, 64, 67, 0.15);\n",
              "      fill: #174EA6;\n",
              "    }\n",
              "\n",
              "    .colab-df-buttons div {\n",
              "      margin-bottom: 4px;\n",
              "    }\n",
              "\n",
              "    [theme=dark] .colab-df-convert {\n",
              "      background-color: #3B4455;\n",
              "      fill: #D2E3FC;\n",
              "    }\n",
              "\n",
              "    [theme=dark] .colab-df-convert:hover {\n",
              "      background-color: #434B5C;\n",
              "      box-shadow: 0px 1px 3px 1px rgba(0, 0, 0, 0.15);\n",
              "      filter: drop-shadow(0px 1px 2px rgba(0, 0, 0, 0.3));\n",
              "      fill: #FFFFFF;\n",
              "    }\n",
              "  </style>\n",
              "\n",
              "    <script>\n",
              "      const buttonEl =\n",
              "        document.querySelector('#df-47fa882d-5ce6-4279-b822-6d775f7bedeb button.colab-df-convert');\n",
              "      buttonEl.style.display =\n",
              "        google.colab.kernel.accessAllowed ? 'block' : 'none';\n",
              "\n",
              "      async function convertToInteractive(key) {\n",
              "        const element = document.querySelector('#df-47fa882d-5ce6-4279-b822-6d775f7bedeb');\n",
              "        const dataTable =\n",
              "          await google.colab.kernel.invokeFunction('convertToInteractive',\n",
              "                                                    [key], {});\n",
              "        if (!dataTable) return;\n",
              "\n",
              "        const docLinkHtml = 'Like what you see? Visit the ' +\n",
              "          '<a target=\"_blank\" href=https://colab.research.google.com/notebooks/data_table.ipynb>data table notebook</a>'\n",
              "          + ' to learn more about interactive tables.';\n",
              "        element.innerHTML = '';\n",
              "        dataTable['output_type'] = 'display_data';\n",
              "        await google.colab.output.renderOutput(dataTable, element);\n",
              "        const docLink = document.createElement('div');\n",
              "        docLink.innerHTML = docLinkHtml;\n",
              "        element.appendChild(docLink);\n",
              "      }\n",
              "    </script>\n",
              "  </div>\n",
              "\n",
              "\n",
              "<div id=\"df-c15967e1-eab5-49a8-b427-cb57c9b30e43\">\n",
              "  <button class=\"colab-df-quickchart\" onclick=\"quickchart('df-c15967e1-eab5-49a8-b427-cb57c9b30e43')\"\n",
              "            title=\"Suggest charts.\"\n",
              "            style=\"display:none;\">\n",
              "\n",
              "<svg xmlns=\"http://www.w3.org/2000/svg\" height=\"24px\"viewBox=\"0 0 24 24\"\n",
              "     width=\"24px\">\n",
              "    <g>\n",
              "        <path d=\"M19 3H5c-1.1 0-2 .9-2 2v14c0 1.1.9 2 2 2h14c1.1 0 2-.9 2-2V5c0-1.1-.9-2-2-2zM9 17H7v-7h2v7zm4 0h-2V7h2v10zm4 0h-2v-4h2v4z\"/>\n",
              "    </g>\n",
              "</svg>\n",
              "  </button>\n",
              "\n",
              "<style>\n",
              "  .colab-df-quickchart {\n",
              "      --bg-color: #E8F0FE;\n",
              "      --fill-color: #1967D2;\n",
              "      --hover-bg-color: #E2EBFA;\n",
              "      --hover-fill-color: #174EA6;\n",
              "      --disabled-fill-color: #AAA;\n",
              "      --disabled-bg-color: #DDD;\n",
              "  }\n",
              "\n",
              "  [theme=dark] .colab-df-quickchart {\n",
              "      --bg-color: #3B4455;\n",
              "      --fill-color: #D2E3FC;\n",
              "      --hover-bg-color: #434B5C;\n",
              "      --hover-fill-color: #FFFFFF;\n",
              "      --disabled-bg-color: #3B4455;\n",
              "      --disabled-fill-color: #666;\n",
              "  }\n",
              "\n",
              "  .colab-df-quickchart {\n",
              "    background-color: var(--bg-color);\n",
              "    border: none;\n",
              "    border-radius: 50%;\n",
              "    cursor: pointer;\n",
              "    display: none;\n",
              "    fill: var(--fill-color);\n",
              "    height: 32px;\n",
              "    padding: 0;\n",
              "    width: 32px;\n",
              "  }\n",
              "\n",
              "  .colab-df-quickchart:hover {\n",
              "    background-color: var(--hover-bg-color);\n",
              "    box-shadow: 0 1px 2px rgba(60, 64, 67, 0.3), 0 1px 3px 1px rgba(60, 64, 67, 0.15);\n",
              "    fill: var(--button-hover-fill-color);\n",
              "  }\n",
              "\n",
              "  .colab-df-quickchart-complete:disabled,\n",
              "  .colab-df-quickchart-complete:disabled:hover {\n",
              "    background-color: var(--disabled-bg-color);\n",
              "    fill: var(--disabled-fill-color);\n",
              "    box-shadow: none;\n",
              "  }\n",
              "\n",
              "  .colab-df-spinner {\n",
              "    border: 2px solid var(--fill-color);\n",
              "    border-color: transparent;\n",
              "    border-bottom-color: var(--fill-color);\n",
              "    animation:\n",
              "      spin 1s steps(1) infinite;\n",
              "  }\n",
              "\n",
              "  @keyframes spin {\n",
              "    0% {\n",
              "      border-color: transparent;\n",
              "      border-bottom-color: var(--fill-color);\n",
              "      border-left-color: var(--fill-color);\n",
              "    }\n",
              "    20% {\n",
              "      border-color: transparent;\n",
              "      border-left-color: var(--fill-color);\n",
              "      border-top-color: var(--fill-color);\n",
              "    }\n",
              "    30% {\n",
              "      border-color: transparent;\n",
              "      border-left-color: var(--fill-color);\n",
              "      border-top-color: var(--fill-color);\n",
              "      border-right-color: var(--fill-color);\n",
              "    }\n",
              "    40% {\n",
              "      border-color: transparent;\n",
              "      border-right-color: var(--fill-color);\n",
              "      border-top-color: var(--fill-color);\n",
              "    }\n",
              "    60% {\n",
              "      border-color: transparent;\n",
              "      border-right-color: var(--fill-color);\n",
              "    }\n",
              "    80% {\n",
              "      border-color: transparent;\n",
              "      border-right-color: var(--fill-color);\n",
              "      border-bottom-color: var(--fill-color);\n",
              "    }\n",
              "    90% {\n",
              "      border-color: transparent;\n",
              "      border-bottom-color: var(--fill-color);\n",
              "    }\n",
              "  }\n",
              "</style>\n",
              "\n",
              "  <script>\n",
              "    async function quickchart(key) {\n",
              "      const quickchartButtonEl =\n",
              "        document.querySelector('#' + key + ' button');\n",
              "      quickchartButtonEl.disabled = true;  // To prevent multiple clicks.\n",
              "      quickchartButtonEl.classList.add('colab-df-spinner');\n",
              "      try {\n",
              "        const charts = await google.colab.kernel.invokeFunction(\n",
              "            'suggestCharts', [key], {});\n",
              "      } catch (error) {\n",
              "        console.error('Error during call to suggestCharts:', error);\n",
              "      }\n",
              "      quickchartButtonEl.classList.remove('colab-df-spinner');\n",
              "      quickchartButtonEl.classList.add('colab-df-quickchart-complete');\n",
              "    }\n",
              "    (() => {\n",
              "      let quickchartButtonEl =\n",
              "        document.querySelector('#df-c15967e1-eab5-49a8-b427-cb57c9b30e43 button');\n",
              "      quickchartButtonEl.style.display =\n",
              "        google.colab.kernel.accessAllowed ? 'block' : 'none';\n",
              "    })();\n",
              "  </script>\n",
              "</div>\n",
              "    </div>\n",
              "  </div>\n"
            ]
          },
          "metadata": {},
          "execution_count": 30
        }
      ]
    },
    {
      "cell_type": "code",
      "source": [
        "plt.hist(residuals, bins=100, edgecolor='black', color='blue')\n",
        "plt.xlabel(r\"$y_{pred} - y_{true}$\")\n",
        "plt.ylabel(\"Number of instances\")\n",
        "plt.show()"
      ],
      "metadata": {
        "colab": {
          "base_uri": "https://localhost:8080/",
          "height": 452
        },
        "id": "7JbT9vjkVQSY",
        "outputId": "5bb43afb-d0c4-4b28-b7ff-18bb108fb192"
      },
      "execution_count": 27,
      "outputs": [
        {
          "output_type": "display_data",
          "data": {
            "text/plain": [
              "<Figure size 640x480 with 1 Axes>"
            ],
            "image/png": "[encoded data removed]"
          },
          "metadata": {}
        }
      ]
    },
    {
      "cell_type": "markdown",
      "source": [
        "## Using a less complex architecture, the CNN of Fashion MNIST, p461 book."
      ],
      "metadata": {
        "id": "TCVt9SWaI1si"
      }
    },
    {
      "cell_type": "markdown",
      "source": [
        "Try using a less complex architecture, i.e. the CNN of task 1. We modify it using the following:\n",
        "- adjusting the input shape to (150, 150, 1)\n",
        "- a larger kernel size for the first convolutional layer\n",
        "- the addition of batch normalization after each block of convolution and maxpooling. It is used to reduce overfitting, as well as improving the time needed to fit the neural network weights.\n",
        "- reduce the number of filters in the original model\n",
        "- increase the number of layers (or blocks of conv, maxpool and BN) before flatening\n",
        "- change the final layer to a dense node (1) with a linear activation function. This is required for regression."
      ],
      "metadata": {
        "id": "2J8saOO_-aSU"
      }
    },
    {
      "cell_type": "code",
      "source": [
        "model_CNN_fashion_MNIST = keras.models.Sequential([\n",
        "                  keras.layers.Conv2D(64, 10, activation=\"relu\", padding=\"same\",\n",
        "                  input_shape=[150, 150, 1]),\n",
        "                  keras.layers.MaxPooling2D(2),\n",
        "                  keras.layers.BatchNormalization(),\n",
        "                  keras.layers.Conv2D(128/2, 5, activation=\"relu\", padding=\"same\"),\n",
        "                  keras.layers.MaxPooling2D(2),\n",
        "                  keras.layers.BatchNormalization(),\n",
        "                  keras.layers.Conv2D(128/2, 5, activation=\"relu\", padding=\"same\"),\n",
        "                  keras.layers.MaxPooling2D(2),\n",
        "                  keras.layers.BatchNormalization(),\n",
        "                  keras.layers.Conv2D(128/2, 5, activation=\"relu\", padding=\"same\"),\n",
        "                  keras.layers.MaxPooling2D(2),\n",
        "                  keras.layers.BatchNormalization(),\n",
        "                  keras.layers.Conv2D(128/2, 5, activation=\"relu\", padding=\"same\"),\n",
        "                  keras.layers.MaxPooling2D(2),\n",
        "                  keras.layers.Flatten(),\n",
        "\n",
        "                  keras.layers.Dense(120, activation=\"relu\"),\n",
        "                  keras.layers.Dropout(0.5),\n",
        "                  keras.layers.Dense(60, activation=\"relu\"),\n",
        "                  keras.layers.Dropout(0.5),\n",
        "\n",
        "                  # Change the final layer to linear in order to have regression\n",
        "                  keras.layers.Dense(1, activation=\"linear\")\n",
        "                  ])"
      ],
      "metadata": {
        "id": "uJXROpdI-gqm"
      },
      "execution_count": 11,
      "outputs": []
    },
    {
      "cell_type": "code",
      "source": [
        "model_CNN_fashion_MNIST.summary()"
      ],
      "metadata": {
        "colab": {
          "base_uri": "https://localhost:8080/"
        },
        "id": "dZWlEP-HvQR-",
        "outputId": "fabf2942-1112-45e6-8759-45f5c251347e"
      },
      "execution_count": 12,
      "outputs": [
        {
          "output_type": "stream",
          "name": "stdout",
          "text": [
            "Model: \"sequential_1\"\n",
            "_________________________________________________________________\n",
            " Layer (type)                Output Shape              Param #   \n",
            "=================================================================\n",
            " conv2d_5 (Conv2D)           (None, 150, 150, 64)      6464      \n",
            "                                                                 \n",
            " max_pooling2d_5 (MaxPooling  (None, 75, 75, 64)       0         \n",
            " 2D)                                                             \n",
            "                                                                 \n",
            " batch_normalization_4 (Batc  (None, 75, 75, 64)       256       \n",
            " hNormalization)                                                 \n",
            "                                                                 \n",
            " conv2d_6 (Conv2D)           (None, 75, 75, 64)        102464    \n",
            "                                                                 \n",
            " max_pooling2d_6 (MaxPooling  (None, 37, 37, 64)       0         \n",
            " 2D)                                                             \n",
            "                                                                 \n",
            " batch_normalization_5 (Batc  (None, 37, 37, 64)       256       \n",
            " hNormalization)                                                 \n",
            "                                                                 \n",
            " conv2d_7 (Conv2D)           (None, 37, 37, 64)        102464    \n",
            "                                                                 \n",
            " max_pooling2d_7 (MaxPooling  (None, 18, 18, 64)       0         \n",
            " 2D)                                                             \n",
            "                                                                 \n",
            " batch_normalization_6 (Batc  (None, 18, 18, 64)       256       \n",
            " hNormalization)                                                 \n",
            "                                                                 \n",
            " conv2d_8 (Conv2D)           (None, 18, 18, 64)        102464    \n",
            "                                                                 \n",
            " max_pooling2d_8 (MaxPooling  (None, 9, 9, 64)         0         \n",
            " 2D)                                                             \n",
            "                                                                 \n",
            " batch_normalization_7 (Batc  (None, 9, 9, 64)         256       \n",
            " hNormalization)                                                 \n",
            "                                                                 \n",
            " conv2d_9 (Conv2D)           (None, 9, 9, 64)          102464    \n",
            "                                                                 \n",
            " max_pooling2d_9 (MaxPooling  (None, 4, 4, 64)         0         \n",
            " 2D)                                                             \n",
            "                                                                 \n",
            " flatten_1 (Flatten)         (None, 1024)              0         \n",
            "                                                                 \n",
            " dense_3 (Dense)             (None, 120)               123000    \n",
            "                                                                 \n",
            " dropout_2 (Dropout)         (None, 120)               0         \n",
            "                                                                 \n",
            " dense_4 (Dense)             (None, 60)                7260      \n",
            "                                                                 \n",
            " dropout_3 (Dropout)         (None, 60)                0         \n",
            "                                                                 \n",
            " dense_5 (Dense)             (None, 1)                 61        \n",
            "                                                                 \n",
            "=================================================================\n",
            "Total params: 547,665\n",
            "Trainable params: 547,153\n",
            "Non-trainable params: 512\n",
            "_________________________________________________________________\n"
          ]
        }
      ]
    },
    {
      "cell_type": "markdown",
      "source": [
        "Compile, fit and plot results"
      ],
      "metadata": {
        "id": "xaL4SL1y_O6o"
      }
    },
    {
      "cell_type": "code",
      "source": [
        "model_CNN_fashion_MNIST.compile(loss='mse', # we have equal distribution of data, so no outliers (no need for MAE as loss function)\n",
        "              optimizer=keras.optimizers.Adam(learning_rate=0.001,\n",
        "                                              ), # Kwarg: 'decay' decreases the learning rate per epoch\n",
        "              metrics=['mae'],\n",
        "              steps_per_execution=100,\n",
        "              )\n",
        "\n",
        "# Fit\n",
        "history_fashion_MNIST = model_CNN_fashion_MNIST.fit(X_train_regression/255.0, y_train_regression,\n",
        "                            batch_size=32, validation_data=(X_test_regression/255.0, y_test_regression),\n",
        "                            epochs=40, shuffle=True)\n",
        "\n",
        "# Save weights\n",
        "model_CNN_fashion_MNIST.save_weights('/content/drive/MyDrive/IDL/A1/model_CNN_fashion_MNIST_regression_2b.keras')\n",
        "\n",
        "# Save the values of mae for training and validation\n",
        "train_mae2 = history_fashion_MNIST.history['mae']\n",
        "test_mae2 = history_fashion_MNIST.history['val_mae']\n",
        "\n",
        "my_array = np.array(train_mae2)\n",
        "filename = 'train_mae_2_2b.npy'\n",
        "np.save('/content/drive/MyDrive/IDL/A1'+filename, my_array)\n",
        "\n",
        "my_array = np.array(test_mae2)\n",
        "filename = 'test_mae_2_2b.npy'\n",
        "np.save('/content/drive/MyDrive/IDL/A1'+filename, my_array)\n",
        "\n",
        "# Predict\n",
        "y_pred2 = model_CNN_fashion_MNIST.predict(data/255.0)\n",
        "residuals2 = labels_regression - y_pred2.reshape(18000)\n",
        "\n",
        "# Visualize\n",
        "plt.hist(residuals2, bins=100, edgecolor='black', color='blue')\n",
        "plt.xlabel(r\"$y_{pred} - y_{true}$\")\n",
        "plt.ylabel(\"Number of instances\")\n",
        "plt.show()\n",
        "\n"
      ],
      "metadata": {
        "colab": {
          "base_uri": "https://localhost:8080/",
          "height": 0
        },
        "id": "m8ujTu0k--8c",
        "outputId": "f5bd2c67-3c3d-4dde-d346-7e4c4e3bbdc6"
      },
      "execution_count": 13,
      "outputs": [
        {
          "output_type": "stream",
          "name": "stdout",
          "text": [
            "Epoch 1/40\n",
            "450/450 [==============================] - 281s 625ms/step - loss: 17.0785 - mae: 3.3775 - val_loss: 22.9266 - val_mae: 3.8927\n",
            "Epoch 2/40\n",
            "450/450 [==============================] - 274s 609ms/step - loss: 13.0390 - mae: 2.9010 - val_loss: 76.7810 - val_mae: 7.9739\n",
            "Epoch 3/40\n",
            "450/450 [==============================] - 274s 609ms/step - loss: 11.0752 - mae: 2.6616 - val_loss: 11.3277 - val_mae: 2.7198\n",
            "Epoch 4/40\n",
            "450/450 [==============================] - 274s 610ms/step - loss: 9.1182 - mae: 2.3769 - val_loss: 11.5792 - val_mae: 2.6803\n",
            "Epoch 5/40\n",
            "450/450 [==============================] - 274s 610ms/step - loss: 7.0476 - mae: 2.0545 - val_loss: 15.4680 - val_mae: 3.2018\n",
            "Epoch 6/40\n",
            "450/450 [==============================] - 274s 608ms/step - loss: 5.9726 - mae: 1.8670 - val_loss: 8.1155 - val_mae: 2.1629\n",
            "Epoch 7/40\n",
            "450/450 [==============================] - 274s 609ms/step - loss: 4.8209 - mae: 1.6542 - val_loss: 13.0205 - val_mae: 3.0393\n",
            "Epoch 8/40\n",
            "450/450 [==============================] - 274s 609ms/step - loss: 3.9836 - mae: 1.4897 - val_loss: 9.3634 - val_mae: 2.1251\n",
            "Epoch 9/40\n",
            "450/450 [==============================] - 274s 609ms/step - loss: 3.4357 - mae: 1.3683 - val_loss: 14.4448 - val_mae: 2.7946\n",
            "Epoch 10/40\n",
            "450/450 [==============================] - 274s 610ms/step - loss: 3.0320 - mae: 1.2711 - val_loss: 1.9416 - val_mae: 0.9838\n",
            "Epoch 11/40\n",
            "450/450 [==============================] - 274s 608ms/step - loss: 2.6287 - mae: 1.1830 - val_loss: 6.6237 - val_mae: 1.9320\n",
            "Epoch 12/40\n",
            "450/450 [==============================] - 274s 608ms/step - loss: 2.4086 - mae: 1.1274 - val_loss: 12.4111 - val_mae: 2.9297\n",
            "Epoch 13/40\n",
            "450/450 [==============================] - 274s 608ms/step - loss: 2.2040 - mae: 1.0855 - val_loss: 10.5939 - val_mae: 2.1934\n",
            "Epoch 14/40\n",
            "450/450 [==============================] - 274s 609ms/step - loss: 2.0504 - mae: 1.0383 - val_loss: 7.3401 - val_mae: 1.6876\n",
            "Epoch 15/40\n",
            "450/450 [==============================] - 274s 609ms/step - loss: 1.7589 - mae: 0.9614 - val_loss: 12.8162 - val_mae: 2.6096\n",
            "Epoch 16/40\n",
            "450/450 [==============================] - 274s 609ms/step - loss: 1.7305 - mae: 0.9634 - val_loss: 3.3099 - val_mae: 1.1182\n",
            "Epoch 17/40\n",
            "450/450 [==============================] - 274s 608ms/step - loss: 1.6422 - mae: 0.9341 - val_loss: 3.1192 - val_mae: 1.0710\n",
            "Epoch 18/40\n",
            "450/450 [==============================] - 274s 609ms/step - loss: 1.6216 - mae: 0.9185 - val_loss: 11.0765 - val_mae: 2.1441\n",
            "Epoch 19/40\n",
            "450/450 [==============================] - 274s 609ms/step - loss: 1.5169 - mae: 0.8867 - val_loss: 0.9236 - val_mae: 0.6051\n",
            "Epoch 20/40\n",
            "450/450 [==============================] - 274s 609ms/step - loss: 1.3915 - mae: 0.8654 - val_loss: 0.7177 - val_mae: 0.5109\n",
            "Epoch 21/40\n",
            "450/450 [==============================] - 274s 608ms/step - loss: 1.2293 - mae: 0.8195 - val_loss: 6.1920 - val_mae: 1.4299\n",
            "Epoch 22/40\n",
            "450/450 [==============================] - 274s 608ms/step - loss: 1.3951 - mae: 0.8435 - val_loss: 8.4844 - val_mae: 1.8628\n",
            "Epoch 23/40\n",
            "450/450 [==============================] - 274s 608ms/step - loss: 1.1303 - mae: 0.7849 - val_loss: 4.4487 - val_mae: 1.1237\n",
            "Epoch 24/40\n",
            "450/450 [==============================] - 274s 609ms/step - loss: 1.1902 - mae: 0.7935 - val_loss: 6.1868 - val_mae: 1.3810\n",
            "Epoch 25/40\n",
            "450/450 [==============================] - 273s 607ms/step - loss: 1.0499 - mae: 0.7563 - val_loss: 5.1404 - val_mae: 1.1818\n",
            "Epoch 26/40\n",
            "450/450 [==============================] - 273s 607ms/step - loss: 1.2533 - mae: 0.7939 - val_loss: 0.9744 - val_mae: 0.5711\n",
            "Epoch 27/40\n",
            "450/450 [==============================] - 274s 609ms/step - loss: 0.9938 - mae: 0.7423 - val_loss: 3.1395 - val_mae: 0.9600\n",
            "Epoch 28/40\n",
            "450/450 [==============================] - 274s 609ms/step - loss: 0.9022 - mae: 0.7088 - val_loss: 2.8396 - val_mae: 0.9202\n",
            "Epoch 29/40\n",
            "450/450 [==============================] - 274s 608ms/step - loss: 1.1278 - mae: 0.7559 - val_loss: 9.9636 - val_mae: 2.0921\n",
            "Epoch 30/40\n",
            "450/450 [==============================] - 274s 608ms/step - loss: 0.9430 - mae: 0.7161 - val_loss: 0.7808 - val_mae: 0.5406\n",
            "Epoch 31/40\n",
            "450/450 [==============================] - 274s 609ms/step - loss: 0.9905 - mae: 0.7235 - val_loss: 6.6204 - val_mae: 1.5330\n",
            "Epoch 32/40\n",
            "450/450 [==============================] - 274s 608ms/step - loss: 1.0257 - mae: 0.7334 - val_loss: 3.6746 - val_mae: 1.0984\n",
            "Epoch 33/40\n",
            "450/450 [==============================] - 274s 608ms/step - loss: 0.9814 - mae: 0.7244 - val_loss: 5.1693 - val_mae: 1.1123\n",
            "Epoch 34/40\n",
            "450/450 [==============================] - 273s 607ms/step - loss: 0.8252 - mae: 0.6791 - val_loss: 0.5012 - val_mae: 0.4216\n",
            "Epoch 35/40\n",
            "450/450 [==============================] - 273s 607ms/step - loss: 0.8629 - mae: 0.6855 - val_loss: 2.2495 - val_mae: 0.7378\n",
            "Epoch 36/40\n",
            "450/450 [==============================] - 274s 608ms/step - loss: 0.8554 - mae: 0.6763 - val_loss: 8.8198 - val_mae: 1.8923\n",
            "Epoch 37/40\n",
            "450/450 [==============================] - 273s 608ms/step - loss: 1.1384 - mae: 0.7464 - val_loss: 10.9050 - val_mae: 2.4605\n",
            "Epoch 38/40\n",
            "450/450 [==============================] - 274s 608ms/step - loss: 0.8467 - mae: 0.6757 - val_loss: 1.1713 - val_mae: 0.6179\n",
            "Epoch 39/40\n",
            "450/450 [==============================] - 274s 608ms/step - loss: 0.7632 - mae: 0.6510 - val_loss: 2.2838 - val_mae: 0.7148\n",
            "Epoch 40/40\n",
            "450/450 [==============================] - 274s 608ms/step - loss: 0.6959 - mae: 0.6236 - val_loss: 5.5716 - val_mae: 1.2713\n",
            "563/563 [==============================] - 30s 54ms/step\n"
          ]
        },
        {
          "output_type": "display_data",
          "data": {
            "text/plain": [
              "<Figure size 640x480 with 1 Axes>"
            ],
            "image/png": "[encoded data removed]"
          },
          "metadata": {}
        },
        {
          "output_type": "error",
          "ename": "NameError",
          "evalue": "ignored",
          "traceback": [
            "\u001b[0;31m---------------------------------------------------------------------------\u001b[0m",
            "\u001b[0;31mNameError\u001b[0m                                 Traceback (most recent call last)",
            "\u001b[0;32m<ipython-input-13-2f12351c94bc>\u001b[0m in \u001b[0;36m<cell line: 41>\u001b[0;34m()\u001b[0m\n\u001b[1;32m     39\u001b[0m \u001b[0;31m## plot 2\u001b[0m\u001b[0;34m\u001b[0m\u001b[0;34m\u001b[0m\u001b[0m\n\u001b[1;32m     40\u001b[0m \u001b[0;34m\u001b[0m\u001b[0m\n\u001b[0;32m---> 41\u001b[0;31m \u001b[0mplt\u001b[0m\u001b[0;34m.\u001b[0m\u001b[0mplot\u001b[0m\u001b[0;34m(\u001b[0m\u001b[0mnp\u001b[0m\u001b[0;34m.\u001b[0m\u001b[0mlinspace\u001b[0m\u001b[0;34m(\u001b[0m\u001b[0;36m1\u001b[0m\u001b[0;34m,\u001b[0m \u001b[0mlen\u001b[0m\u001b[0;34m(\u001b[0m\u001b[0mtrain_mae2\u001b[0m\u001b[0;34m)\u001b[0m\u001b[0;34m,\u001b[0m \u001b[0mlen\u001b[0m\u001b[0;34m(\u001b[0m\u001b[0mtrain_mae2\u001b[0m\u001b[0;34m)\u001b[0m\u001b[0;34m)\u001b[0m\u001b[0;34m,\u001b[0m \u001b[0mtrain_mae\u001b[0m\u001b[0;34m,\u001b[0m \u001b[0mcolor\u001b[0m\u001b[0;34m=\u001b[0m\u001b[0;34m'blue'\u001b[0m\u001b[0;34m,\u001b[0m \u001b[0mlabel\u001b[0m\u001b[0;34m=\u001b[0m\u001b[0;34m'Training'\u001b[0m\u001b[0;34m)\u001b[0m\u001b[0;34m\u001b[0m\u001b[0;34m\u001b[0m\u001b[0m\n\u001b[0m\u001b[1;32m     42\u001b[0m \u001b[0mplt\u001b[0m\u001b[0;34m.\u001b[0m\u001b[0mplot\u001b[0m\u001b[0;34m(\u001b[0m\u001b[0mnp\u001b[0m\u001b[0;34m.\u001b[0m\u001b[0mlinspace\u001b[0m\u001b[0;34m(\u001b[0m\u001b[0;36m1\u001b[0m\u001b[0;34m,\u001b[0m \u001b[0mlen\u001b[0m\u001b[0;34m(\u001b[0m\u001b[0mtrain_mae2\u001b[0m\u001b[0;34m)\u001b[0m\u001b[0;34m,\u001b[0m \u001b[0mlen\u001b[0m\u001b[0;34m(\u001b[0m\u001b[0mtrain_mae2\u001b[0m\u001b[0;34m)\u001b[0m\u001b[0;34m)\u001b[0m\u001b[0;34m,\u001b[0m \u001b[0mtest_mae\u001b[0m\u001b[0;34m,\u001b[0m \u001b[0mcolor\u001b[0m\u001b[0;34m=\u001b[0m\u001b[0;34m'red'\u001b[0m\u001b[0;34m,\u001b[0m \u001b[0mlabel\u001b[0m\u001b[0;34m=\u001b[0m\u001b[0;34m'Testing'\u001b[0m\u001b[0;34m)\u001b[0m\u001b[0;34m\u001b[0m\u001b[0;34m\u001b[0m\u001b[0m\n\u001b[1;32m     43\u001b[0m \u001b[0mplt\u001b[0m\u001b[0;34m.\u001b[0m\u001b[0mxlabel\u001b[0m\u001b[0;34m(\u001b[0m\u001b[0;34m\"Epochs\"\u001b[0m\u001b[0;34m)\u001b[0m\u001b[0;34m\u001b[0m\u001b[0;34m\u001b[0m\u001b[0m\n",
            "\u001b[0;31mNameError\u001b[0m: name 'train_mae' is not defined"
          ]
        }
      ]
    },
    {
      "cell_type": "code",
      "source": [
        "## plot 2\n",
        "\n",
        "plt.plot(np.linspace(1, len(train_mae2), len(train_mae2)), train_mae2, color='blue', label='Training')\n",
        "plt.plot(np.linspace(1, len(train_mae2), len(train_mae2)), test_mae2, color='red', label='Testing')\n",
        "plt.xlabel(\"Epochs\")\n",
        "plt.ylabel(\"MAE\")\n",
        "plt.legend()\n",
        "plt.yscale('log')\n",
        "plt.show()\n",
        "\n",
        "pd.DataFrame(residuals2).describe()"
      ],
      "metadata": {
        "colab": {
          "base_uri": "https://localhost:8080/",
          "height": 0
        },
        "id": "o-QTVJluYxd3",
        "outputId": "7ee28fc2-a395-484a-cfd9-beed18c7af24"
      },
      "execution_count": 15,
      "outputs": [
        {
          "output_type": "display_data",
          "data": {
            "text/plain": [
              "<Figure size 640x480 with 1 Axes>"
            ],
            "image/png": "[encoded data removed]"
          },
          "metadata": {}
        },
        {
          "output_type": "execute_result",
          "data": {
            "text/plain": [
              "                  0\n",
              "count  18000.000000\n",
              "mean      -0.615667\n",
              "std        2.261487\n",
              "min      -10.861156\n",
              "25%       -0.928891\n",
              "50%       -0.284081\n",
              "75%        0.487810\n",
              "max        9.806069"
            ],
            "text/html": [
              "\n",
              "  <div id=\"df-cb5ca0f8-4c31-4c2d-998b-4226ba6fcb15\" class=\"colab-df-container\">\n",
              "    <div>\n",
              "<style scoped>\n",
              "    .dataframe tbody tr th:only-of-type {\n",
              "        vertical-align: middle;\n",
              "    }\n",
              "\n",
              "    .dataframe tbody tr th {\n",
              "        vertical-align: top;\n",
              "    }\n",
              "\n",
              "    .dataframe thead th {\n",
              "        text-align: right;\n",
              "    }\n",
              "</style>\n",
              "<table border=\"1\" class=\"dataframe\">\n",
              "  <thead>\n",
              "    <tr style=\"text-align: right;\">\n",
              "      <th></th>\n",
              "      <th>0</th>\n",
              "    </tr>\n",
              "  </thead>\n",
              "  <tbody>\n",
              "    <tr>\n",
              "      <th>count</th>\n",
              "      <td>18000.000000</td>\n",
              "    </tr>\n",
              "    <tr>\n",
              "      <th>mean</th>\n",
              "      <td>-0.615667</td>\n",
              "    </tr>\n",
              "    <tr>\n",
              "      <th>std</th>\n",
              "      <td>2.261487</td>\n",
              "    </tr>\n",
              "    <tr>\n",
              "      <th>min</th>\n",
              "      <td>-10.861156</td>\n",
              "    </tr>\n",
              "    <tr>\n",
              "      <th>25%</th>\n",
              "      <td>-0.928891</td>\n",
              "    </tr>\n",
              "    <tr>\n",
              "      <th>50%</th>\n",
              "      <td>-0.284081</td>\n",
              "    </tr>\n",
              "    <tr>\n",
              "      <th>75%</th>\n",
              "      <td>0.487810</td>\n",
              "    </tr>\n",
              "    <tr>\n",
              "      <th>max</th>\n",
              "      <td>9.806069</td>\n",
              "    </tr>\n",
              "  </tbody>\n",
              "</table>\n",
              "</div>\n",
              "    <div class=\"colab-df-buttons\">\n",
              "\n",
              "  <div class=\"colab-df-container\">\n",
              "    <button class=\"colab-df-convert\" onclick=\"convertToInteractive('df-cb5ca0f8-4c31-4c2d-998b-4226ba6fcb15')\"\n",
              "            title=\"Convert this dataframe to an interactive table.\"\n",
              "            style=\"display:none;\">\n",
              "\n",
              "  <svg xmlns=\"http://www.w3.org/2000/svg\" height=\"24px\" viewBox=\"0 -960 960 960\">\n",
              "    <path d=\"M120-120v-720h720v720H120Zm60-500h600v-160H180v160Zm220 220h160v-160H400v160Zm0 220h160v-160H400v160ZM180-400h160v-160H180v160Zm440 0h160v-160H620v160ZM180-180h160v-160H180v160Zm440 0h160v-160H620v160Z\"/>\n",
              "  </svg>\n",
              "    </button>\n",
              "\n",
              "  <style>\n",
              "    .colab-df-container {\n",
              "      display:flex;\n",
              "      gap: 12px;\n",
              "    }\n",
              "\n",
              "    .colab-df-convert {\n",
              "      background-color: #E8F0FE;\n",
              "      border: none;\n",
              "      border-radius: 50%;\n",
              "      cursor: pointer;\n",
              "      display: none;\n",
              "      fill: #1967D2;\n",
              "      height: 32px;\n",
              "      padding: 0 0 0 0;\n",
              "      width: 32px;\n",
              "    }\n",
              "\n",
              "    .colab-df-convert:hover {\n",
              "      background-color: #E2EBFA;\n",
              "      box-shadow: 0px 1px 2px rgba(60, 64, 67, 0.3), 0px 1px 3px 1px rgba(60, 64, 67, 0.15);\n",
              "      fill: #174EA6;\n",
              "    }\n",
              "\n",
              "    .colab-df-buttons div {\n",
              "      margin-bottom: 4px;\n",
              "    }\n",
              "\n",
              "    [theme=dark] .colab-df-convert {\n",
              "      background-color: #3B4455;\n",
              "      fill: #D2E3FC;\n",
              "    }\n",
              "\n",
              "    [theme=dark] .colab-df-convert:hover {\n",
              "      background-color: #434B5C;\n",
              "      box-shadow: 0px 1px 3px 1px rgba(0, 0, 0, 0.15);\n",
              "      filter: drop-shadow(0px 1px 2px rgba(0, 0, 0, 0.3));\n",
              "      fill: #FFFFFF;\n",
              "    }\n",
              "  </style>\n",
              "\n",
              "    <script>\n",
              "      const buttonEl =\n",
              "        document.querySelector('#df-cb5ca0f8-4c31-4c2d-998b-4226ba6fcb15 button.colab-df-convert');\n",
              "      buttonEl.style.display =\n",
              "        google.colab.kernel.accessAllowed ? 'block' : 'none';\n",
              "\n",
              "      async function convertToInteractive(key) {\n",
              "        const element = document.querySelector('#df-cb5ca0f8-4c31-4c2d-998b-4226ba6fcb15');\n",
              "        const dataTable =\n",
              "          await google.colab.kernel.invokeFunction('convertToInteractive',\n",
              "                                                    [key], {});\n",
              "        if (!dataTable) return;\n",
              "\n",
              "        const docLinkHtml = 'Like what you see? Visit the ' +\n",
              "          '<a target=\"_blank\" href=https://colab.research.google.com/notebooks/data_table.ipynb>data table notebook</a>'\n",
              "          + ' to learn more about interactive tables.';\n",
              "        element.innerHTML = '';\n",
              "        dataTable['output_type'] = 'display_data';\n",
              "        await google.colab.output.renderOutput(dataTable, element);\n",
              "        const docLink = document.createElement('div');\n",
              "        docLink.innerHTML = docLinkHtml;\n",
              "        element.appendChild(docLink);\n",
              "      }\n",
              "    </script>\n",
              "  </div>\n",
              "\n",
              "\n",
              "<div id=\"df-68b9eece-983e-4d42-9585-74f4604fb6bd\">\n",
              "  <button class=\"colab-df-quickchart\" onclick=\"quickchart('df-68b9eece-983e-4d42-9585-74f4604fb6bd')\"\n",
              "            title=\"Suggest charts.\"\n",
              "            style=\"display:none;\">\n",
              "\n",
              "<svg xmlns=\"http://www.w3.org/2000/svg\" height=\"24px\"viewBox=\"0 0 24 24\"\n",
              "     width=\"24px\">\n",
              "    <g>\n",
              "        <path d=\"M19 3H5c-1.1 0-2 .9-2 2v14c0 1.1.9 2 2 2h14c1.1 0 2-.9 2-2V5c0-1.1-.9-2-2-2zM9 17H7v-7h2v7zm4 0h-2V7h2v10zm4 0h-2v-4h2v4z\"/>\n",
              "    </g>\n",
              "</svg>\n",
              "  </button>\n",
              "\n",
              "<style>\n",
              "  .colab-df-quickchart {\n",
              "      --bg-color: #E8F0FE;\n",
              "      --fill-color: #1967D2;\n",
              "      --hover-bg-color: #E2EBFA;\n",
              "      --hover-fill-color: #174EA6;\n",
              "      --disabled-fill-color: #AAA;\n",
              "      --disabled-bg-color: #DDD;\n",
              "  }\n",
              "\n",
              "  [theme=dark] .colab-df-quickchart {\n",
              "      --bg-color: #3B4455;\n",
              "      --fill-color: #D2E3FC;\n",
              "      --hover-bg-color: #434B5C;\n",
              "      --hover-fill-color: #FFFFFF;\n",
              "      --disabled-bg-color: #3B4455;\n",
              "      --disabled-fill-color: #666;\n",
              "  }\n",
              "\n",
              "  .colab-df-quickchart {\n",
              "    background-color: var(--bg-color);\n",
              "    border: none;\n",
              "    border-radius: 50%;\n",
              "    cursor: pointer;\n",
              "    display: none;\n",
              "    fill: var(--fill-color);\n",
              "    height: 32px;\n",
              "    padding: 0;\n",
              "    width: 32px;\n",
              "  }\n",
              "\n",
              "  .colab-df-quickchart:hover {\n",
              "    background-color: var(--hover-bg-color);\n",
              "    box-shadow: 0 1px 2px rgba(60, 64, 67, 0.3), 0 1px 3px 1px rgba(60, 64, 67, 0.15);\n",
              "    fill: var(--button-hover-fill-color);\n",
              "  }\n",
              "\n",
              "  .colab-df-quickchart-complete:disabled,\n",
              "  .colab-df-quickchart-complete:disabled:hover {\n",
              "    background-color: var(--disabled-bg-color);\n",
              "    fill: var(--disabled-fill-color);\n",
              "    box-shadow: none;\n",
              "  }\n",
              "\n",
              "  .colab-df-spinner {\n",
              "    border: 2px solid var(--fill-color);\n",
              "    border-color: transparent;\n",
              "    border-bottom-color: var(--fill-color);\n",
              "    animation:\n",
              "      spin 1s steps(1) infinite;\n",
              "  }\n",
              "\n",
              "  @keyframes spin {\n",
              "    0% {\n",
              "      border-color: transparent;\n",
              "      border-bottom-color: var(--fill-color);\n",
              "      border-left-color: var(--fill-color);\n",
              "    }\n",
              "    20% {\n",
              "      border-color: transparent;\n",
              "      border-left-color: var(--fill-color);\n",
              "      border-top-color: var(--fill-color);\n",
              "    }\n",
              "    30% {\n",
              "      border-color: transparent;\n",
              "      border-left-color: var(--fill-color);\n",
              "      border-top-color: var(--fill-color);\n",
              "      border-right-color: var(--fill-color);\n",
              "    }\n",
              "    40% {\n",
              "      border-color: transparent;\n",
              "      border-right-color: var(--fill-color);\n",
              "      border-top-color: var(--fill-color);\n",
              "    }\n",
              "    60% {\n",
              "      border-color: transparent;\n",
              "      border-right-color: var(--fill-color);\n",
              "    }\n",
              "    80% {\n",
              "      border-color: transparent;\n",
              "      border-right-color: var(--fill-color);\n",
              "      border-bottom-color: var(--fill-color);\n",
              "    }\n",
              "    90% {\n",
              "      border-color: transparent;\n",
              "      border-bottom-color: var(--fill-color);\n",
              "    }\n",
              "  }\n",
              "</style>\n",
              "\n",
              "  <script>\n",
              "    async function quickchart(key) {\n",
              "      const quickchartButtonEl =\n",
              "        document.querySelector('#' + key + ' button');\n",
              "      quickchartButtonEl.disabled = true;  // To prevent multiple clicks.\n",
              "      quickchartButtonEl.classList.add('colab-df-spinner');\n",
              "      try {\n",
              "        const charts = await google.colab.kernel.invokeFunction(\n",
              "            'suggestCharts', [key], {});\n",
              "      } catch (error) {\n",
              "        console.error('Error during call to suggestCharts:', error);\n",
              "      }\n",
              "      quickchartButtonEl.classList.remove('colab-df-spinner');\n",
              "      quickchartButtonEl.classList.add('colab-df-quickchart-complete');\n",
              "    }\n",
              "    (() => {\n",
              "      let quickchartButtonEl =\n",
              "        document.querySelector('#df-68b9eece-983e-4d42-9585-74f4604fb6bd button');\n",
              "      quickchartButtonEl.style.display =\n",
              "        google.colab.kernel.accessAllowed ? 'block' : 'none';\n",
              "    })();\n",
              "  </script>\n",
              "</div>\n",
              "    </div>\n",
              "  </div>\n"
            ]
          },
          "metadata": {},
          "execution_count": 15
        }
      ]
    },
    {
      "cell_type": "markdown",
      "source": [
        "# 2C\n",
        "\n",
        "Idea: make 2 branches after the input, one branch for hours, one for minutes."
      ],
      "metadata": {
        "id": "yXG69Ul-VTBa"
      }
    },
    {
      "cell_type": "code",
      "source": [
        "class MultiOutputModel():\n",
        "    \"\"\"\n",
        "    Used to generate a multi-output model. This CNN contains two branches, one for hours, and the other for\n",
        "    minutes. Each branch contains a sequence of Convolutional Layers that is defined\n",
        "    on the make_default_hidden_layers method.\n",
        "    \"\"\"\n",
        "    def make_default_hidden_layers(self, inputs):\n",
        "        \"\"\"\n",
        "        Used to generate a default set of hidden layers.\n",
        "        The structure used in this network is defined as:\n",
        "          - Conv2D -> BatchNormalization -> Pooling -> Dropout\n",
        "        \"\"\"\n",
        "        x = Conv2D(16, (3, 3), padding=\"same\")(inputs)\n",
        "        x = Activation(\"relu\")(x)\n",
        "        x = BatchNormalization(axis=-1)(x)\n",
        "        x = MaxPooling2D(pool_size=(3, 3))(x)\n",
        "        x = Dropout(0.25)(x)\n",
        "        x = Conv2D(32, (3, 3), padding=\"same\")(x)\n",
        "        x = Activation(\"relu\")(x)\n",
        "        x = BatchNormalization(axis=-1)(x)\n",
        "        x = MaxPooling2D(pool_size=(2, 2))(x)\n",
        "        x = Dropout(0.25)(x)\n",
        "        x = Conv2D(32, (3, 3), padding=\"same\")(x)\n",
        "        x = Activation(\"relu\")(x)\n",
        "        x = BatchNormalization(axis=-1)(x)\n",
        "        x = MaxPooling2D(pool_size=(2, 2))(x)\n",
        "        x = Dropout(0.25)(x)\n",
        "        return x\n",
        "\n",
        "    def build_minutes_branch(self, inputs):\n",
        "        \"\"\"\n",
        "        Builds the minutes branch. Use the structure of our model from 2b\n",
        "        as inspiration of this branch.\n",
        "\n",
        "        This branch is composed of Conv -> Pool -> BN -> Dropout blocks,\n",
        "        followed by the Dense output layers.\n",
        "\n",
        "        Last layer is a regression layer, output is only 1 value, activation function\n",
        "        is linear.\n",
        "        \"\"\"\n",
        "        x = Conv2D(64, (10, 10), padding=\"same\")(inputs)\n",
        "        x = Activation(\"relu\")(x)\n",
        "        x = MaxPooling2D(pool_size=(2, 2))(x)\n",
        "        x = BatchNormalization(axis=-1)(x)\n",
        "        x = Conv2D(64, (5, 5), padding=\"same\")(x)\n",
        "        x = Activation(\"relu\")(x)\n",
        "        x = MaxPooling2D(pool_size=(2, 2))(x)\n",
        "        x = BatchNormalization(axis=-1)(x)\n",
        "        x = Conv2D(64, (5, 5), padding=\"same\")(x)\n",
        "        x = Activation(\"relu\")(x)\n",
        "        x = MaxPooling2D(pool_size=(2, 2))(x)\n",
        "        x = BatchNormalization(axis=-1)(x)\n",
        "        x = Conv2D(64, (5, 5), padding=\"same\")(x)\n",
        "        x = Activation(\"relu\")(x)\n",
        "        x = MaxPooling2D(pool_size=(2, 2))(x)\n",
        "        x = BatchNormalization(axis=-1)(x)\n",
        "\n",
        "        # Flatten to go to MLP part\n",
        "        x = Flatten()(x)\n",
        "        x = Dense(128)(x)\n",
        "        x = Activation(\"relu\")(x)\n",
        "        x = Dropout(0.5)(x)\n",
        "        x = Dense(64)(x)\n",
        "        x = Activation(\"relu\")(x)\n",
        "        x = Dropout(0.5)(x)\n",
        "        x = Dense(1)(x)\n",
        "        x = Activation(\"linear\", name=\"minute_output\")(x)\n",
        "        return x\n",
        "\n",
        "    def build_hour_branch(self, inputs, num_hours=12):\n",
        "        \"\"\"\n",
        "        Builds the hour branch.\n",
        "\n",
        "        This branch is composed of three Conv -> BN -> Pool -> Dropout blocks,\n",
        "        followed by the Dense output layer.\n",
        "\n",
        "        Last layer is softmax, as we want to classify each clock's hour\n",
        "        using a hour class\n",
        "        \"\"\"\n",
        "        x = self.make_default_hidden_layers(inputs)\n",
        "        # MLP part\n",
        "        x = Flatten()(x)\n",
        "        x = Dense(144)(x)\n",
        "        x = Activation(\"relu\")(x)\n",
        "        x = BatchNormalization()(x)\n",
        "        x = Dropout(0.25)(x)\n",
        "        x = Dense(60)(x)\n",
        "        x = Activation(\"relu\")(x)\n",
        "        x = BatchNormalization()(x)\n",
        "        x = Dropout(0.25)(x)\n",
        "        x = Dense(num_hours)(x)\n",
        "        x = Activation(\"softmax\", name=\"hour_output\")(x)\n",
        "        return x\n",
        "\n",
        "    def assemble_full_model(self, input_shape, num_hours):\n",
        "        \"\"\"\n",
        "        Used to assemble our multi-output model CNN.\n",
        "        \"\"\"\n",
        "        inputs = Input(shape=input_shape)\n",
        "        hour_branch = self.build_hour_branch(inputs, num_hours)\n",
        "        minute_branch = self.build_minutes_branch(inputs)\n",
        "\n",
        "        model = Model(inputs=inputs,\n",
        "                     outputs = [hour_branch, minute_branch],\n",
        "                  )\n",
        "\n",
        "        return model\n",
        "\n",
        "model = MultiOutputModel().assemble_full_model(input_shape=(150, 150, 1), num_hours=12)\n"
      ],
      "metadata": {
        "id": "X1vhlCxWuMoN"
      },
      "execution_count": 4,
      "outputs": []
    },
    {
      "cell_type": "markdown",
      "source": [
        "#### Summary of model:"
      ],
      "metadata": {
        "id": "07GQ4UBu_O8Y"
      }
    },
    {
      "cell_type": "code",
      "source": [
        "model.summary()"
      ],
      "metadata": {
        "colab": {
          "base_uri": "https://localhost:8080/"
        },
        "id": "hLrZqXNb1vQ0",
        "outputId": "6d029930-f4bd-4c14-8e63-3ef7c8d03e5f"
      },
      "execution_count": 4,
      "outputs": [
        {
          "output_type": "stream",
          "name": "stdout",
          "text": [
            "Model: \"model\"\n",
            "__________________________________________________________________________________________________\n",
            " Layer (type)                   Output Shape         Param #     Connected to                     \n",
            "==================================================================================================\n",
            " input_1 (InputLayer)           [(None, 150, 150, 1  0           []                               \n",
            "                                )]                                                                \n",
            "                                                                                                  \n",
            " conv2d (Conv2D)                (None, 150, 150, 16  160         ['input_1[0][0]']                \n",
            "                                )                                                                 \n",
            "                                                                                                  \n",
            " activation (Activation)        (None, 150, 150, 16  0           ['conv2d[0][0]']                 \n",
            "                                )                                                                 \n",
            "                                                                                                  \n",
            " conv2d_3 (Conv2D)              (None, 150, 150, 64  6464        ['input_1[0][0]']                \n",
            "                                )                                                                 \n",
            "                                                                                                  \n",
            " batch_normalization (BatchNorm  (None, 150, 150, 16  64         ['activation[0][0]']             \n",
            " alization)                     )                                                                 \n",
            "                                                                                                  \n",
            " activation_5 (Activation)      (None, 150, 150, 64  0           ['conv2d_3[0][0]']               \n",
            "                                )                                                                 \n",
            "                                                                                                  \n",
            " max_pooling2d (MaxPooling2D)   (None, 50, 50, 16)   0           ['batch_normalization[0][0]']    \n",
            "                                                                                                  \n",
            " max_pooling2d_3 (MaxPooling2D)  (None, 75, 75, 64)  0           ['activation_5[0][0]']           \n",
            "                                                                                                  \n",
            " dropout (Dropout)              (None, 50, 50, 16)   0           ['max_pooling2d[0][0]']          \n",
            "                                                                                                  \n",
            " batch_normalization_5 (BatchNo  (None, 75, 75, 64)  256         ['max_pooling2d_3[0][0]']        \n",
            " rmalization)                                                                                     \n",
            "                                                                                                  \n",
            " conv2d_1 (Conv2D)              (None, 50, 50, 32)   4640        ['dropout[0][0]']                \n",
            "                                                                                                  \n",
            " conv2d_4 (Conv2D)              (None, 75, 75, 64)   102464      ['batch_normalization_5[0][0]']  \n",
            "                                                                                                  \n",
            " activation_1 (Activation)      (None, 50, 50, 32)   0           ['conv2d_1[0][0]']               \n",
            "                                                                                                  \n",
            " activation_6 (Activation)      (None, 75, 75, 64)   0           ['conv2d_4[0][0]']               \n",
            "                                                                                                  \n",
            " batch_normalization_1 (BatchNo  (None, 50, 50, 32)  128         ['activation_1[0][0]']           \n",
            " rmalization)                                                                                     \n",
            "                                                                                                  \n",
            " max_pooling2d_4 (MaxPooling2D)  (None, 37, 37, 64)  0           ['activation_6[0][0]']           \n",
            "                                                                                                  \n",
            " max_pooling2d_1 (MaxPooling2D)  (None, 25, 25, 32)  0           ['batch_normalization_1[0][0]']  \n",
            "                                                                                                  \n",
            " batch_normalization_6 (BatchNo  (None, 37, 37, 64)  256         ['max_pooling2d_4[0][0]']        \n",
            " rmalization)                                                                                     \n",
            "                                                                                                  \n",
            " dropout_1 (Dropout)            (None, 25, 25, 32)   0           ['max_pooling2d_1[0][0]']        \n",
            "                                                                                                  \n",
            " conv2d_5 (Conv2D)              (None, 37, 37, 64)   102464      ['batch_normalization_6[0][0]']  \n",
            "                                                                                                  \n",
            " conv2d_2 (Conv2D)              (None, 25, 25, 32)   9248        ['dropout_1[0][0]']              \n",
            "                                                                                                  \n",
            " activation_7 (Activation)      (None, 37, 37, 64)   0           ['conv2d_5[0][0]']               \n",
            "                                                                                                  \n",
            " activation_2 (Activation)      (None, 25, 25, 32)   0           ['conv2d_2[0][0]']               \n",
            "                                                                                                  \n",
            " max_pooling2d_5 (MaxPooling2D)  (None, 18, 18, 64)  0           ['activation_7[0][0]']           \n",
            "                                                                                                  \n",
            " batch_normalization_2 (BatchNo  (None, 25, 25, 32)  128         ['activation_2[0][0]']           \n",
            " rmalization)                                                                                     \n",
            "                                                                                                  \n",
            " batch_normalization_7 (BatchNo  (None, 18, 18, 64)  256         ['max_pooling2d_5[0][0]']        \n",
            " rmalization)                                                                                     \n",
            "                                                                                                  \n",
            " max_pooling2d_2 (MaxPooling2D)  (None, 12, 12, 32)  0           ['batch_normalization_2[0][0]']  \n",
            "                                                                                                  \n",
            " conv2d_6 (Conv2D)              (None, 18, 18, 64)   102464      ['batch_normalization_7[0][0]']  \n",
            "                                                                                                  \n",
            " dropout_2 (Dropout)            (None, 12, 12, 32)   0           ['max_pooling2d_2[0][0]']        \n",
            "                                                                                                  \n",
            " activation_8 (Activation)      (None, 18, 18, 64)   0           ['conv2d_6[0][0]']               \n",
            "                                                                                                  \n",
            " flatten (Flatten)              (None, 4608)         0           ['dropout_2[0][0]']              \n",
            "                                                                                                  \n",
            " max_pooling2d_6 (MaxPooling2D)  (None, 9, 9, 64)    0           ['activation_8[0][0]']           \n",
            "                                                                                                  \n",
            " dense (Dense)                  (None, 144)          663696      ['flatten[0][0]']                \n",
            "                                                                                                  \n",
            " batch_normalization_8 (BatchNo  (None, 9, 9, 64)    256         ['max_pooling2d_6[0][0]']        \n",
            " rmalization)                                                                                     \n",
            "                                                                                                  \n",
            " activation_3 (Activation)      (None, 144)          0           ['dense[0][0]']                  \n",
            "                                                                                                  \n",
            " flatten_1 (Flatten)            (None, 5184)         0           ['batch_normalization_8[0][0]']  \n",
            "                                                                                                  \n",
            " batch_normalization_3 (BatchNo  (None, 144)         576         ['activation_3[0][0]']           \n",
            " rmalization)                                                                                     \n",
            "                                                                                                  \n",
            " dense_3 (Dense)                (None, 128)          663680      ['flatten_1[0][0]']              \n",
            "                                                                                                  \n",
            " dropout_3 (Dropout)            (None, 144)          0           ['batch_normalization_3[0][0]']  \n",
            "                                                                                                  \n",
            " activation_9 (Activation)      (None, 128)          0           ['dense_3[0][0]']                \n",
            "                                                                                                  \n",
            " dense_1 (Dense)                (None, 60)           8700        ['dropout_3[0][0]']              \n",
            "                                                                                                  \n",
            " dropout_5 (Dropout)            (None, 128)          0           ['activation_9[0][0]']           \n",
            "                                                                                                  \n",
            " activation_4 (Activation)      (None, 60)           0           ['dense_1[0][0]']                \n",
            "                                                                                                  \n",
            " dense_4 (Dense)                (None, 64)           8256        ['dropout_5[0][0]']              \n",
            "                                                                                                  \n",
            " batch_normalization_4 (BatchNo  (None, 60)          240         ['activation_4[0][0]']           \n",
            " rmalization)                                                                                     \n",
            "                                                                                                  \n",
            " activation_10 (Activation)     (None, 64)           0           ['dense_4[0][0]']                \n",
            "                                                                                                  \n",
            " dropout_4 (Dropout)            (None, 60)           0           ['batch_normalization_4[0][0]']  \n",
            "                                                                                                  \n",
            " dropout_6 (Dropout)            (None, 64)           0           ['activation_10[0][0]']          \n",
            "                                                                                                  \n",
            " dense_2 (Dense)                (None, 12)           732         ['dropout_4[0][0]']              \n",
            "                                                                                                  \n",
            " dense_5 (Dense)                (None, 1)            65          ['dropout_6[0][0]']              \n",
            "                                                                                                  \n",
            " hour_output (Activation)       (None, 12)           0           ['dense_2[0][0]']                \n",
            "                                                                                                  \n",
            " minute_output (Activation)     (None, 1)            0           ['dense_5[0][0]']                \n",
            "                                                                                                  \n",
            "==================================================================================================\n",
            "Total params: 1,675,193\n",
            "Trainable params: 1,674,113\n",
            "Non-trainable params: 1,080\n",
            "__________________________________________________________________________________________________\n"
          ]
        }
      ]
    },
    {
      "cell_type": "markdown",
      "source": [
        "#### Image of model:"
      ],
      "metadata": {
        "id": "0j3qOEW0_RSW"
      }
    },
    {
      "cell_type": "code",
      "source": [
        "display(keras.utils.plot_model(model, show_layer_activations=True))"
      ],
      "metadata": {
        "colab": {
          "base_uri": "https://localhost:8080/",
          "height": 0
        },
        "id": "Ulk5aMcruMlb",
        "outputId": "75328cf3-01ae-4266-fe58-ae63004dd8d0"
      },
      "execution_count": 5,
      "outputs": [
        {
          "output_type": "display_data",
          "data": {
            "image/png": "[encoded data removed]",
            "text/plain": [
              "<IPython.core.display.Image object>"
            ]
          },
          "metadata": {}
        }
      ]
    },
    {
      "cell_type": "markdown",
      "source": [
        "#### Compile the model\n",
        "\n",
        "Use sparse categorical cross entropy for the hour class, since we have a classification problem. Furthermore, for the regression problem, use the mean squared error. As optimizer use Adam, it is a fine working optimizer, and has a high accuracy for task 1, which also included images. In addition, use the accuracy and mean absolute error. Utilize our TPU by setting the steps per execution to 50."
      ],
      "metadata": {
        "id": "_7LnDus_y7cm"
      }
    },
    {
      "cell_type": "code",
      "source": [
        "model.compile(loss={'hour_output': 'sparse_categorical_crossentropy',\n",
        "                    'minute_output': 'mse'},\n",
        "              optimizer=keras.optimizers.Adam(learning_rate=0.001),\n",
        "              metrics={'hour_output': 'accuracy',\n",
        "                    'minute_output': 'mae'},\n",
        "              steps_per_execution=50,\n",
        "              )"
      ],
      "metadata": {
        "id": "0A7X4qUQy6lz"
      },
      "execution_count": 5,
      "outputs": []
    },
    {
      "cell_type": "markdown",
      "source": [
        "#### It is 'time' to make 2 labelled classes, we have an hours class, this is the first column of our labeled set, labels[:, 0]. Our second labels are found for minutes. Furthermore, make 80/20% train and test sets."
      ],
      "metadata": {
        "id": "e5f-tmx9Vk--"
      }
    },
    {
      "cell_type": "code",
      "source": [
        "labels_h = labels[:,0]\n",
        "labels_m = labels[:,1]\n",
        "\n",
        "# Split the data\n",
        "X_train, X_test, y_train_m, y_test_m, y_train_h, y_test_h = train_test_split(data, labels_m, labels_h, test_size=0.2, random_state=42)"
      ],
      "metadata": {
        "id": "Gn8QH9WYVVLa"
      },
      "execution_count": 6,
      "outputs": []
    },
    {
      "cell_type": "markdown",
      "source": [
        "####Fit the model using two kinds of labels"
      ],
      "metadata": {
        "id": "206SkeRhV7kh"
      }
    },
    {
      "cell_type": "code",
      "source": [
        "history_2c = model.fit(X_train/255.0, [y_train_h, y_train_m], batch_size=32, validation_data=(X_test/255.0, [y_test_h, y_test_m]), epochs=40, shuffle=True)\n",
        "\n",
        "# model.save_weights('/content/drive/MyDrive/IDL/A1/weights_model_with_shuffle_2c_V2.keras')\n",
        "\n"
      ],
      "metadata": {
        "colab": {
          "base_uri": "https://localhost:8080/",
          "height": 1000
        },
        "id": "hKEHVEpdykQd",
        "outputId": "839d6604-c60a-4fc4-87f9-69d9175ccca0"
      },
      "execution_count": 7,
      "outputs": [
        {
          "output_type": "stream",
          "name": "stdout",
          "text": [
            "Epoch 1/40\n",
            "450/450 [==============================] - 280s 623ms/step - loss: 397.7430 - hour_output_loss: 2.7336 - minute_output_loss: 395.0092 - hour_output_accuracy: 0.0979 - minute_output_mae: 16.4697 - val_loss: 397.7491 - val_hour_output_loss: 21.3103 - val_minute_output_loss: 376.4388 - val_hour_output_accuracy: 0.0814 - val_minute_output_mae: 16.0411\n",
            "Epoch 2/40\n",
            "450/450 [==============================] - 268s 595ms/step - loss: 321.8497 - hour_output_loss: 2.4003 - minute_output_loss: 319.4496 - hour_output_accuracy: 0.1416 - minute_output_mae: 14.3562 - val_loss: 408.2964 - val_hour_output_loss: 2.2663 - val_minute_output_loss: 406.0300 - val_hour_output_accuracy: 0.1653 - val_minute_output_mae: 16.7102\n",
            "Epoch 3/40\n",
            "450/450 [==============================] - 267s 594ms/step - loss: 284.8666 - hour_output_loss: 2.1352 - minute_output_loss: 282.7315 - hour_output_accuracy: 0.2043 - minute_output_mae: 13.3481 - val_loss: 343.7588 - val_hour_output_loss: 2.1089 - val_minute_output_loss: 341.6499 - val_hour_output_accuracy: 0.2247 - val_minute_output_mae: 15.1670\n",
            "Epoch 4/40\n",
            "450/450 [==============================] - 268s 595ms/step - loss: 265.0410 - hour_output_loss: 1.9562 - minute_output_loss: 263.0848 - hour_output_accuracy: 0.2456 - minute_output_mae: 12.7683 - val_loss: 334.2275 - val_hour_output_loss: 2.3881 - val_minute_output_loss: 331.8394 - val_hour_output_accuracy: 0.2453 - val_minute_output_mae: 15.3461\n",
            "Epoch 5/40\n",
            "450/450 [==============================] - 268s 595ms/step - loss: 241.7876 - hour_output_loss: 1.8005 - minute_output_loss: 239.9872 - hour_output_accuracy: 0.3000 - minute_output_mae: 12.1613 - val_loss: 348.5076 - val_hour_output_loss: 1.6146 - val_minute_output_loss: 346.8930 - val_hour_output_accuracy: 0.3847 - val_minute_output_mae: 15.2681\n",
            "Epoch 6/40\n",
            "450/450 [==============================] - 268s 596ms/step - loss: 220.3237 - hour_output_loss: 1.6484 - minute_output_loss: 218.6752 - hour_output_accuracy: 0.3525 - minute_output_mae: 11.5017 - val_loss: 224.9078 - val_hour_output_loss: 1.5111 - val_minute_output_loss: 223.3967 - val_hour_output_accuracy: 0.4431 - val_minute_output_mae: 12.0841\n",
            "Epoch 7/40\n",
            "450/450 [==============================] - 268s 595ms/step - loss: 195.9619 - hour_output_loss: 1.5009 - minute_output_loss: 194.4609 - hour_output_accuracy: 0.4067 - minute_output_mae: 10.7049 - val_loss: 437.5265 - val_hour_output_loss: 1.4958 - val_minute_output_loss: 436.0306 - val_hour_output_accuracy: 0.5019 - val_minute_output_mae: 16.9952\n",
            "Epoch 8/40\n",
            "450/450 [==============================] - 268s 596ms/step - loss: 176.7793 - hour_output_loss: 1.3593 - minute_output_loss: 175.4200 - hour_output_accuracy: 0.4624 - minute_output_mae: 10.0777 - val_loss: 189.5276 - val_hour_output_loss: 1.3894 - val_minute_output_loss: 188.1382 - val_hour_output_accuracy: 0.5322 - val_minute_output_mae: 11.0795\n",
            "Epoch 9/40\n",
            "450/450 [==============================] - 267s 594ms/step - loss: 157.1489 - hour_output_loss: 1.2512 - minute_output_loss: 155.8978 - hour_output_accuracy: 0.5073 - minute_output_mae: 9.3876 - val_loss: 1472.1589 - val_hour_output_loss: 1.2439 - val_minute_output_loss: 1470.9152 - val_hour_output_accuracy: 0.6161 - val_minute_output_mae: 30.7189\n",
            "Epoch 10/40\n",
            "450/450 [==============================] - 267s 594ms/step - loss: 144.3770 - hour_output_loss: 1.1673 - minute_output_loss: 143.2098 - hour_output_accuracy: 0.5292 - minute_output_mae: 8.9137 - val_loss: 368.3019 - val_hour_output_loss: 1.0275 - val_minute_output_loss: 367.2745 - val_hour_output_accuracy: 0.6589 - val_minute_output_mae: 15.1134\n",
            "Epoch 11/40\n",
            "450/450 [==============================] - 267s 593ms/step - loss: 129.7304 - hour_output_loss: 1.0675 - minute_output_loss: 128.6629 - hour_output_accuracy: 0.5698 - minute_output_mae: 8.4095 - val_loss: 320.9228 - val_hour_output_loss: 0.8409 - val_minute_output_loss: 320.0818 - val_hour_output_accuracy: 0.7175 - val_minute_output_mae: 13.8677\n",
            "Epoch 12/40\n",
            "450/450 [==============================] - 267s 594ms/step - loss: 122.9842 - hour_output_loss: 0.9989 - minute_output_loss: 121.9853 - hour_output_accuracy: 0.5982 - minute_output_mae: 8.1556 - val_loss: 218.8858 - val_hour_output_loss: 0.9099 - val_minute_output_loss: 217.9758 - val_hour_output_accuracy: 0.6492 - val_minute_output_mae: 12.3200\n",
            "Epoch 13/40\n",
            "450/450 [==============================] - 267s 593ms/step - loss: 116.6538 - hour_output_loss: 0.9509 - minute_output_loss: 115.7029 - hour_output_accuracy: 0.6198 - minute_output_mae: 7.8460 - val_loss: 498.1535 - val_hour_output_loss: 1.1057 - val_minute_output_loss: 497.0479 - val_hour_output_accuracy: 0.7108 - val_minute_output_mae: 17.9959\n",
            "Epoch 14/40\n",
            "450/450 [==============================] - 267s 594ms/step - loss: 108.2018 - hour_output_loss: 0.9169 - minute_output_loss: 107.2848 - hour_output_accuracy: 0.6369 - minute_output_mae: 7.5778 - val_loss: 379.0319 - val_hour_output_loss: 2.0311 - val_minute_output_loss: 377.0008 - val_hour_output_accuracy: 0.6525 - val_minute_output_mae: 14.1967\n",
            "Epoch 15/40\n",
            "450/450 [==============================] - 267s 593ms/step - loss: 102.5138 - hour_output_loss: 0.8645 - minute_output_loss: 101.6493 - hour_output_accuracy: 0.6556 - minute_output_mae: 7.3469 - val_loss: 143.6180 - val_hour_output_loss: 0.9670 - val_minute_output_loss: 142.6511 - val_hour_output_accuracy: 0.6492 - val_minute_output_mae: 9.5054\n",
            "Epoch 16/40\n",
            "450/450 [==============================] - 267s 594ms/step - loss: 95.1869 - hour_output_loss: 0.8334 - minute_output_loss: 94.3534 - hour_output_accuracy: 0.6726 - minute_output_mae: 7.0372 - val_loss: 545.4084 - val_hour_output_loss: 0.5258 - val_minute_output_loss: 544.8828 - val_hour_output_accuracy: 0.8378 - val_minute_output_mae: 18.8027\n",
            "Epoch 17/40\n",
            "450/450 [==============================] - 267s 594ms/step - loss: 92.7218 - hour_output_loss: 0.8006 - minute_output_loss: 91.9212 - hour_output_accuracy: 0.6801 - minute_output_mae: 6.9677 - val_loss: 654.6556 - val_hour_output_loss: 0.4737 - val_minute_output_loss: 654.1821 - val_hour_output_accuracy: 0.8697 - val_minute_output_mae: 19.8573\n",
            "Epoch 18/40\n",
            "450/450 [==============================] - 267s 593ms/step - loss: 90.3458 - hour_output_loss: 0.7632 - minute_output_loss: 89.5825 - hour_output_accuracy: 0.6958 - minute_output_mae: 6.8744 - val_loss: 325.5870 - val_hour_output_loss: 0.7906 - val_minute_output_loss: 324.7964 - val_hour_output_accuracy: 0.7561 - val_minute_output_mae: 15.2793\n",
            "Epoch 19/40\n",
            "450/450 [==============================] - 268s 594ms/step - loss: 83.4525 - hour_output_loss: 0.7486 - minute_output_loss: 82.7040 - hour_output_accuracy: 0.7031 - minute_output_mae: 6.5939 - val_loss: 293.8407 - val_hour_output_loss: 0.4207 - val_minute_output_loss: 293.4200 - val_hour_output_accuracy: 0.8964 - val_minute_output_mae: 12.5507\n",
            "Epoch 20/40\n",
            "450/450 [==============================] - 267s 594ms/step - loss: 82.9769 - hour_output_loss: 0.7293 - minute_output_loss: 82.2475 - hour_output_accuracy: 0.7145 - minute_output_mae: 6.5089 - val_loss: 279.6707 - val_hour_output_loss: 0.4514 - val_minute_output_loss: 279.2192 - val_hour_output_accuracy: 0.8672 - val_minute_output_mae: 14.0917\n",
            "Epoch 21/40\n",
            "450/450 [==============================] - 267s 594ms/step - loss: 75.5609 - hour_output_loss: 0.7170 - minute_output_loss: 74.8439 - hour_output_accuracy: 0.7128 - minute_output_mae: 6.2593 - val_loss: 245.2183 - val_hour_output_loss: 0.5369 - val_minute_output_loss: 244.6814 - val_hour_output_accuracy: 0.8139 - val_minute_output_mae: 12.9746\n",
            "Epoch 22/40\n",
            "450/450 [==============================] - 268s 595ms/step - loss: 71.9068 - hour_output_loss: 0.6772 - minute_output_loss: 71.2296 - hour_output_accuracy: 0.7280 - minute_output_mae: 6.0859 - val_loss: 126.2634 - val_hour_output_loss: 0.4422 - val_minute_output_loss: 125.8212 - val_hour_output_accuracy: 0.8833 - val_minute_output_mae: 7.5588\n",
            "Epoch 23/40\n",
            "450/450 [==============================] - 267s 594ms/step - loss: 73.2530 - hour_output_loss: 0.6757 - minute_output_loss: 72.5773 - hour_output_accuracy: 0.7315 - minute_output_mae: 6.1258 - val_loss: 289.3837 - val_hour_output_loss: 0.4191 - val_minute_output_loss: 288.9645 - val_hour_output_accuracy: 0.8694 - val_minute_output_mae: 11.1359\n",
            "Epoch 24/40\n",
            "450/450 [==============================] - 267s 594ms/step - loss: 70.7344 - hour_output_loss: 0.6546 - minute_output_loss: 70.0799 - hour_output_accuracy: 0.7392 - minute_output_mae: 6.0026 - val_loss: 375.2624 - val_hour_output_loss: 0.3376 - val_minute_output_loss: 374.9250 - val_hour_output_accuracy: 0.9039 - val_minute_output_mae: 16.0834\n",
            "Epoch 25/40\n",
            "450/450 [==============================] - 267s 594ms/step - loss: 66.1602 - hour_output_loss: 0.6565 - minute_output_loss: 65.5037 - hour_output_accuracy: 0.7455 - minute_output_mae: 5.8346 - val_loss: 197.3277 - val_hour_output_loss: 0.4836 - val_minute_output_loss: 196.8441 - val_hour_output_accuracy: 0.8578 - val_minute_output_mae: 8.8629\n",
            "Epoch 26/40\n",
            "450/450 [==============================] - 267s 594ms/step - loss: 64.7908 - hour_output_loss: 0.6349 - minute_output_loss: 64.1559 - hour_output_accuracy: 0.7547 - minute_output_mae: 5.7112 - val_loss: 222.3888 - val_hour_output_loss: 0.4277 - val_minute_output_loss: 221.9611 - val_hour_output_accuracy: 0.8714 - val_minute_output_mae: 11.4578\n",
            "Epoch 27/40\n",
            "450/450 [==============================] - 268s 595ms/step - loss: 63.0411 - hour_output_loss: 0.6172 - minute_output_loss: 62.4239 - hour_output_accuracy: 0.7603 - minute_output_mae: 5.6421 - val_loss: 279.5841 - val_hour_output_loss: 0.6889 - val_minute_output_loss: 278.8952 - val_hour_output_accuracy: 0.7461 - val_minute_output_mae: 13.8289\n",
            "Epoch 28/40\n",
            "450/450 [==============================] - 267s 594ms/step - loss: 60.0907 - hour_output_loss: 0.6364 - minute_output_loss: 59.4543 - hour_output_accuracy: 0.7556 - minute_output_mae: 5.5382 - val_loss: 657.2183 - val_hour_output_loss: 0.4592 - val_minute_output_loss: 656.7591 - val_hour_output_accuracy: 0.8414 - val_minute_output_mae: 20.9508\n",
            "Epoch 29/40\n",
            "450/450 [==============================] - 267s 594ms/step - loss: 61.1522 - hour_output_loss: 0.6055 - minute_output_loss: 60.5467 - hour_output_accuracy: 0.7649 - minute_output_mae: 5.5704 - val_loss: 307.6232 - val_hour_output_loss: 0.3920 - val_minute_output_loss: 307.2313 - val_hour_output_accuracy: 0.8978 - val_minute_output_mae: 14.7081\n",
            "Epoch 30/40\n",
            "450/450 [==============================] - 268s 595ms/step - loss: 59.4264 - hour_output_loss: 0.5823 - minute_output_loss: 58.8441 - hour_output_accuracy: 0.7723 - minute_output_mae: 5.4928 - val_loss: 196.6674 - val_hour_output_loss: 0.3154 - val_minute_output_loss: 196.3520 - val_hour_output_accuracy: 0.9153 - val_minute_output_mae: 11.6066\n",
            "Epoch 31/40\n",
            "450/450 [==============================] - 267s 593ms/step - loss: 54.3204 - hour_output_loss: 0.5846 - minute_output_loss: 53.7358 - hour_output_accuracy: 0.7732 - minute_output_mae: 5.2795 - val_loss: 451.1331 - val_hour_output_loss: 0.2848 - val_minute_output_loss: 450.8485 - val_hour_output_accuracy: 0.9233 - val_minute_output_mae: 17.2160\n",
            "Epoch 32/40\n",
            "450/450 [==============================] - 267s 594ms/step - loss: 56.4087 - hour_output_loss: 0.5691 - minute_output_loss: 55.8396 - hour_output_accuracy: 0.7797 - minute_output_mae: 5.3052 - val_loss: 322.1256 - val_hour_output_loss: 0.6052 - val_minute_output_loss: 321.5204 - val_hour_output_accuracy: 0.7681 - val_minute_output_mae: 13.0983\n",
            "Epoch 33/40\n",
            "450/450 [==============================] - 267s 594ms/step - loss: 53.0547 - hour_output_loss: 0.5625 - minute_output_loss: 52.4923 - hour_output_accuracy: 0.7810 - minute_output_mae: 5.1529 - val_loss: 186.0431 - val_hour_output_loss: 0.3473 - val_minute_output_loss: 185.6958 - val_hour_output_accuracy: 0.8831 - val_minute_output_mae: 8.2708\n",
            "Epoch 34/40\n",
            "450/450 [==============================] - 268s 595ms/step - loss: 55.0111 - hour_output_loss: 0.5610 - minute_output_loss: 54.4501 - hour_output_accuracy: 0.7810 - minute_output_mae: 5.2633 - val_loss: 1395.2017 - val_hour_output_loss: 0.6326 - val_minute_output_loss: 1394.5688 - val_hour_output_accuracy: 0.7581 - val_minute_output_mae: 31.4742\n",
            "Epoch 35/40\n",
            "450/450 [==============================] - 268s 595ms/step - loss: 51.6623 - hour_output_loss: 0.5533 - minute_output_loss: 51.1089 - hour_output_accuracy: 0.7826 - minute_output_mae: 5.1211 - val_loss: 283.2517 - val_hour_output_loss: 0.4145 - val_minute_output_loss: 282.8373 - val_hour_output_accuracy: 0.8539 - val_minute_output_mae: 14.3264\n",
            "Epoch 36/40\n",
            "450/450 [==============================] - 267s 594ms/step - loss: 49.2904 - hour_output_loss: 0.5429 - minute_output_loss: 48.7475 - hour_output_accuracy: 0.7875 - minute_output_mae: 4.9925 - val_loss: 406.7188 - val_hour_output_loss: 0.4458 - val_minute_output_loss: 406.2729 - val_hour_output_accuracy: 0.8447 - val_minute_output_mae: 15.3131\n",
            "Epoch 37/40\n",
            "450/450 [==============================] - 268s 595ms/step - loss: 49.9916 - hour_output_loss: 0.5270 - minute_output_loss: 49.4646 - hour_output_accuracy: 0.7989 - minute_output_mae: 4.9802 - val_loss: 284.6554 - val_hour_output_loss: 0.4087 - val_minute_output_loss: 284.2467 - val_hour_output_accuracy: 0.8669 - val_minute_output_mae: 13.9119\n",
            "Epoch 38/40\n",
            "450/450 [==============================] - 267s 594ms/step - loss: 46.5379 - hour_output_loss: 0.5211 - minute_output_loss: 46.0168 - hour_output_accuracy: 0.7973 - minute_output_mae: 4.8384 - val_loss: 525.3046 - val_hour_output_loss: 0.3339 - val_minute_output_loss: 524.9706 - val_hour_output_accuracy: 0.8961 - val_minute_output_mae: 18.5876\n",
            "Epoch 39/40\n",
            "450/450 [==============================] - 267s 594ms/step - loss: 44.3362 - hour_output_loss: 0.5200 - minute_output_loss: 43.8162 - hour_output_accuracy: 0.8024 - minute_output_mae: 4.7422 - val_loss: 292.1020 - val_hour_output_loss: 0.2642 - val_minute_output_loss: 291.8378 - val_hour_output_accuracy: 0.9200 - val_minute_output_mae: 13.6716\n",
            "Epoch 40/40\n",
            "450/450 [==============================] - 268s 595ms/step - loss: 42.5832 - hour_output_loss: 0.5060 - minute_output_loss: 42.0772 - hour_output_accuracy: 0.8082 - minute_output_mae: 4.6545 - val_loss: 622.2988 - val_hour_output_loss: 0.3765 - val_minute_output_loss: 621.9222 - val_hour_output_accuracy: 0.8797 - val_minute_output_mae: 20.1483\n"
          ]
        },
        {
          "output_type": "error",
          "ename": "KeyError",
          "evalue": "ignored",
          "traceback": [
            "\u001b[0;31m---------------------------------------------------------------------------\u001b[0m",
            "\u001b[0;31mKeyError\u001b[0m                                  Traceback (most recent call last)",
            "\u001b[0;32m<ipython-input-7-296a3c61b589>\u001b[0m in \u001b[0;36m<cell line: 7>\u001b[0;34m()\u001b[0m\n\u001b[1;32m      5\u001b[0m \u001b[0;34m\u001b[0m\u001b[0m\n\u001b[1;32m      6\u001b[0m \u001b[0;31m# Save the values of mae for training and validation\u001b[0m\u001b[0;34m\u001b[0m\u001b[0;34m\u001b[0m\u001b[0m\n\u001b[0;32m----> 7\u001b[0;31m \u001b[0mtrain_mae_2c\u001b[0m \u001b[0;34m=\u001b[0m \u001b[0mhistory_2c\u001b[0m\u001b[0;34m.\u001b[0m\u001b[0mhistory\u001b[0m\u001b[0;34m[\u001b[0m\u001b[0;34m'mae'\u001b[0m\u001b[0;34m]\u001b[0m\u001b[0;34m\u001b[0m\u001b[0;34m\u001b[0m\u001b[0m\n\u001b[0m\u001b[1;32m      8\u001b[0m \u001b[0mtest_mae_2c\u001b[0m \u001b[0;34m=\u001b[0m \u001b[0mhistory_2c\u001b[0m\u001b[0;34m.\u001b[0m\u001b[0mhistory\u001b[0m\u001b[0;34m[\u001b[0m\u001b[0;34m'val_mae'\u001b[0m\u001b[0;34m]\u001b[0m\u001b[0;34m\u001b[0m\u001b[0;34m\u001b[0m\u001b[0m\n\u001b[1;32m      9\u001b[0m \u001b[0;34m\u001b[0m\u001b[0m\n",
            "\u001b[0;31mKeyError\u001b[0m: 'mae'"
          ]
        }
      ]
    },
    {
      "cell_type": "code",
      "source": [
        "# Save the values of mae for training and validation\n",
        "train_mae_2c_minutes = history_2c.history['minute_output_mae']\n",
        "test_mae_2c_minutes = history_2c.history['val_minute_output_mae']\n",
        "\n",
        "train_acc_2c_hour = history_2c.history['hour_output_accuracy']\n",
        "test_acc_2c_hour = history_2c.history['val_hour_output_accuracy']\n",
        "\n",
        "my_array = np.array(train_mae_2c_minutes)\n",
        "filename = 'train_mae_2c.npy'\n",
        "np.save('/content/drive/MyDrive/IDL/A1'+filename, my_array)\n",
        "\n",
        "my_array = np.array(train_acc_2c_hour)\n",
        "filename = 'train_accuracy_2c.npy'\n",
        "np.save('/content/drive/MyDrive/IDL/A1'+filename, my_array)\n",
        "\n",
        "my_array = np.array(test_mae_2c_minutes)\n",
        "filename = 'test_mae_2c.npy'\n",
        "np.save('/content/drive/MyDrive/IDL/A1'+filename, my_array)\n",
        "\n",
        "my_array = np.array(test_acc_2c_hour)\n",
        "filename = 'test_acc_2c.npy'\n",
        "np.save('/content/drive/MyDrive/IDL/A1'+filename, my_array)"
      ],
      "metadata": {
        "id": "cOomP-2m8zI3"
      },
      "execution_count": 8,
      "outputs": []
    },
    {
      "cell_type": "markdown",
      "source": [
        "#### Load in the weights from the saved file"
      ],
      "metadata": {
        "id": "b_NmoRKOwwJo"
      }
    },
    {
      "cell_type": "code",
      "source": [
        "model.load_weights('/content/drive/MyDrive/IDL/A1/weights_model_with_shuffle_2c_V2.keras')"
      ],
      "metadata": {
        "id": "dqunKPfGw00O"
      },
      "execution_count": 7,
      "outputs": []
    },
    {
      "cell_type": "code",
      "source": [
        "# Predict\n",
        "y_pred_2c = model.predict(data/255.0)"
      ],
      "metadata": {
        "colab": {
          "base_uri": "https://localhost:8080/"
        },
        "id": "hhtSS_j383tI",
        "outputId": "9188529e-0654-49ed-92fa-df263f39ee46"
      },
      "execution_count": 8,
      "outputs": [
        {
          "output_type": "stream",
          "name": "stdout",
          "text": [
            "563/563 [==============================] - 18s 32ms/step\n"
          ]
        }
      ]
    },
    {
      "cell_type": "code",
      "source": [
        "y_pred_2c"
      ],
      "metadata": {
        "colab": {
          "base_uri": "https://localhost:8080/"
        },
        "id": "UGLXgllwxnhP",
        "outputId": "7d842d17-a54c-4c96-da27-c2c8ce246256"
      },
      "execution_count": 9,
      "outputs": [
        {
          "output_type": "execute_result",
          "data": {
            "text/plain": [
              "[array([[5.1114202e-01, 5.6376499e-03, 4.2168751e-05, ..., 1.2129779e-04,\n",
              "         4.4286661e-03, 4.7856703e-01],\n",
              "        [2.7594188e-01, 3.2577524e-04, 1.6882204e-06, ..., 1.7776227e-05,\n",
              "         3.9732745e-03, 7.1970731e-01],\n",
              "        [5.1277316e-01, 4.5202729e-01, 1.2335481e-02, ..., 4.8920518e-04,\n",
              "         9.1706868e-04, 1.9533444e-02],\n",
              "        ...,\n",
              "        [8.9139247e-01, 1.6543247e-02, 5.5580444e-05, ..., 2.7242340e-06,\n",
              "         9.8556797e-05, 9.1825143e-02],\n",
              "        [7.6184601e-02, 4.3747359e-04, 4.3617194e-05, ..., 5.8150245e-04,\n",
              "         3.4494471e-02, 8.8763469e-01],\n",
              "        [1.5004164e-03, 1.5126478e-02, 2.1582921e-01, ..., 6.9828644e-02,\n",
              "         8.4846299e-03, 9.9442143e-04]], dtype=float32),\n",
              " array([[35.193714],\n",
              "        [41.397984],\n",
              "        [48.22253 ],\n",
              "        ...,\n",
              "        [27.367405],\n",
              "        [46.023224],\n",
              "        [48.731026]], dtype=float32)]"
            ]
          },
          "metadata": {},
          "execution_count": 9
        }
      ]
    },
    {
      "cell_type": "code",
      "source": [
        "y_pred_2c[1].shape"
      ],
      "metadata": {
        "colab": {
          "base_uri": "https://localhost:8080/"
        },
        "id": "XU3C7IB4ykKC",
        "outputId": "5a799ee1-7e3e-412c-a943-bfc27e121a73"
      },
      "execution_count": 25,
      "outputs": [
        {
          "output_type": "execute_result",
          "data": {
            "text/plain": [
              "(18000, 1)"
            ]
          },
          "metadata": {},
          "execution_count": 25
        }
      ]
    },
    {
      "cell_type": "code",
      "source": [
        "# Convert the softmax probability to a 'one-hot' solution\n",
        "# we need to have labels of a highest probability class.\n",
        "# Therefore, we use the argmax argument as the probability\n",
        "# per class, 0 to 11, is between 0 and 1. The highest value\n",
        "# is the prediction of hours.\n",
        "predictions_h = np.argmax(y_pred_2c[0], axis=1)\n",
        "predictions_h.shape"
      ],
      "metadata": {
        "colab": {
          "base_uri": "https://localhost:8080/"
        },
        "id": "KczAhc3CzKgL",
        "outputId": "91452b45-72d0-4ea4-e22e-e84b409b4b38"
      },
      "execution_count": 12,
      "outputs": [
        {
          "output_type": "execute_result",
          "data": {
            "text/plain": [
              "(18000,)"
            ]
          },
          "metadata": {},
          "execution_count": 12
        }
      ]
    },
    {
      "cell_type": "code",
      "source": [
        "residuals_2c_h = predictions_h - labels[:,0]\n",
        "residuals_2c_m = abs(y_pred_2c[1].reshape(18000) - labels[:,1])\n",
        "\n",
        "# Visualize\n",
        "plt.title(\"Classification of hours\")\n",
        "plt.hist(residuals_2c_h, bins=12, edgecolor='black', color='blue')\n",
        "plt.xlabel(r\"$y_{pred} - y_{true}$\")\n",
        "plt.ylabel(\"Number of instances\")\n",
        "plt.show()\n",
        "\n",
        "plt.title(\"Regression of minutes\")\n",
        "plt.hist(residuals_2c_m, bins=60, edgecolor='black', color='blue')\n",
        "plt.xlabel(r\"$abs(y_{pred} - y_{true})$\")\n",
        "plt.ylabel(\"Number of instances\")\n",
        "plt.show()\n"
      ],
      "metadata": {
        "colab": {
          "base_uri": "https://localhost:8080/",
          "height": 934
        },
        "id": "7IOdLQXGDeWR",
        "outputId": "2f7d3d81-76b5-472d-cd89-823f0921bc23"
      },
      "execution_count": 13,
      "outputs": [
        {
          "output_type": "display_data",
          "data": {
            "text/plain": [
              "<Figure size 640x480 with 1 Axes>"
            ],
            "image/png": "[encoded data removed]"
          },
          "metadata": {}
        },
        {
          "output_type": "display_data",
          "data": {
            "text/plain": [
              "<Figure size 640x480 with 1 Axes>"
            ],
            "image/png": "[encoded data removed]"
          },
          "metadata": {}
        }
      ]
    },
    {
      "cell_type": "markdown",
      "source": [
        "#### How many instances are correctly classified for hours?\n"
      ],
      "metadata": {
        "id": "RrY2hyNoWPLO"
      }
    },
    {
      "cell_type": "code",
      "source": [
        "len(residuals_2c_h[residuals_2c_h == 0])"
      ],
      "metadata": {
        "colab": {
          "base_uri": "https://localhost:8080/"
        },
        "id": "nxPeF7HgWDzd",
        "outputId": "b1b01d73-f5f0-4dd2-e246-fe9700001732"
      },
      "execution_count": 16,
      "outputs": [
        {
          "output_type": "execute_result",
          "data": {
            "text/plain": [
              "16419"
            ]
          },
          "metadata": {},
          "execution_count": 16
        }
      ]
    },
    {
      "cell_type": "markdown",
      "source": [
        "#### What is the absolute mean of the minute residuals? In addition, how many instances are between 0 and 10?"
      ],
      "metadata": {
        "id": "NIf_Dq_IWUaX"
      }
    },
    {
      "cell_type": "code",
      "source": [
        "np.mean(residuals_2c_m)"
      ],
      "metadata": {
        "colab": {
          "base_uri": "https://localhost:8080/"
        },
        "id": "Dqq_ZxoPWlgt",
        "outputId": "9a87236d-55fb-46b7-aee2-5479274c7d49"
      },
      "execution_count": 18,
      "outputs": [
        {
          "output_type": "execute_result",
          "data": {
            "text/plain": [
              "19.94577563370599"
            ]
          },
          "metadata": {},
          "execution_count": 18
        }
      ]
    },
    {
      "cell_type": "code",
      "source": [
        "len([x for x in residuals_2c_m if 0 < x < 10])"
      ],
      "metadata": {
        "colab": {
          "base_uri": "https://localhost:8080/"
        },
        "id": "ddARB5-21uQT",
        "outputId": "b6b97e56-115d-4cc9-9761-373376d80d3a"
      },
      "execution_count": 20,
      "outputs": [
        {
          "output_type": "execute_result",
          "data": {
            "text/plain": [
              "5911"
            ]
          },
          "metadata": {},
          "execution_count": 20
        }
      ]
    },
    {
      "cell_type": "markdown",
      "source": [
        "#### MAE and Accuracy of minutes and hours classes growth over epoch:"
      ],
      "metadata": {
        "id": "VQgbvR6KXq6O"
      }
    },
    {
      "cell_type": "code",
      "source": [
        "## plot 2\n",
        "\n",
        "train_mae_2c = np.load('/content/drive/MyDrive/IDL/A1train_mae_2c.npy')\n",
        "test_mae_2c = np.load('/content/drive/MyDrive/IDL/A1test_mae_2c.npy')\n",
        "\n",
        "train_accuracy_2c = np.load('/content/drive/MyDrive/IDL/A1train_accuracy_2c.npy')\n",
        "test_accuracy_2c = np.load('/content/drive/MyDrive/IDL/A1test_acc_2c.npy')\n",
        "\n",
        "\n",
        "\n",
        "plt.plot(np.linspace(1, len(train_mae_2c), len(train_mae_2c)), train_accuracy_2c, color='blue', label='Training')\n",
        "plt.plot(np.linspace(1, len(train_mae_2c), len(train_mae_2c)), test_accuracy_2c, color='red', label='Testing')\n",
        "plt.xlabel(\"Epochs\")\n",
        "plt.ylabel(\"Accuracy\")\n",
        "plt.legend()\n",
        "plt.yscale('log')\n",
        "plt.show()\n",
        "\n",
        "plt.plot(np.linspace(1, len(train_mae_2c), len(train_mae_2c)), train_mae_2c, color='blue', label='Training')\n",
        "plt.plot(np.linspace(1, len(train_mae_2c), len(train_mae_2c)), test_mae_2c, color='red', label='Testing')\n",
        "plt.xlabel(\"Epochs\")\n",
        "plt.ylabel(\"MAE\")\n",
        "plt.legend()\n",
        "plt.yscale('log')\n",
        "plt.show()"
      ],
      "metadata": {
        "colab": {
          "base_uri": "https://localhost:8080/",
          "height": 379
        },
        "id": "ei0ngOVREgp_",
        "outputId": "e25c9885-3d96-4279-c4c4-a79e4182fd9e"
      },
      "execution_count": 26,
      "outputs": [
        {
          "output_type": "error",
          "ename": "OSError",
          "evalue": "ignored",
          "traceback": [
            "\u001b[0;31m---------------------------------------------------------------------------\u001b[0m",
            "\u001b[0;31mOSError\u001b[0m                                   Traceback (most recent call last)",
            "\u001b[0;32m<ipython-input-26-9d452f235e0e>\u001b[0m in \u001b[0;36m<cell line: 7>\u001b[0;34m()\u001b[0m\n\u001b[1;32m      5\u001b[0m \u001b[0;34m\u001b[0m\u001b[0m\n\u001b[1;32m      6\u001b[0m \u001b[0mtrain_accuracy_2c\u001b[0m \u001b[0;34m=\u001b[0m \u001b[0mnp\u001b[0m\u001b[0;34m.\u001b[0m\u001b[0mload\u001b[0m\u001b[0;34m(\u001b[0m\u001b[0;34m'/content/drive/MyDrive/IDL/A1train_accuracy_2c.npy'\u001b[0m\u001b[0;34m)\u001b[0m\u001b[0;34m\u001b[0m\u001b[0;34m\u001b[0m\u001b[0m\n\u001b[0;32m----> 7\u001b[0;31m \u001b[0mtest_accuracy_2c\u001b[0m \u001b[0;34m=\u001b[0m \u001b[0mnp\u001b[0m\u001b[0;34m.\u001b[0m\u001b[0mload\u001b[0m\u001b[0;34m(\u001b[0m\u001b[0;34m'/content/drive/MyDrive/IDL/A1test_acc_2c.npy'\u001b[0m\u001b[0;34m)\u001b[0m\u001b[0;34m\u001b[0m\u001b[0;34m\u001b[0m\u001b[0m\n\u001b[0m\u001b[1;32m      8\u001b[0m \u001b[0;34m\u001b[0m\u001b[0m\n\u001b[1;32m      9\u001b[0m \u001b[0;34m\u001b[0m\u001b[0m\n",
            "\u001b[0;32m/usr/local/lib/python3.10/dist-packages/numpy/lib/npyio.py\u001b[0m in \u001b[0;36mload\u001b[0;34m(file, mmap_mode, allow_pickle, fix_imports, encoding, max_header_size)\u001b[0m\n\u001b[1;32m    410\u001b[0m         \u001b[0m_ZIP_SUFFIX\u001b[0m \u001b[0;34m=\u001b[0m \u001b[0;34mb'PK\\x05\\x06'\u001b[0m \u001b[0;31m# empty zip files start with this\u001b[0m\u001b[0;34m\u001b[0m\u001b[0;34m\u001b[0m\u001b[0m\n\u001b[1;32m    411\u001b[0m         \u001b[0mN\u001b[0m \u001b[0;34m=\u001b[0m \u001b[0mlen\u001b[0m\u001b[0;34m(\u001b[0m\u001b[0mformat\u001b[0m\u001b[0;34m.\u001b[0m\u001b[0mMAGIC_PREFIX\u001b[0m\u001b[0;34m)\u001b[0m\u001b[0;34m\u001b[0m\u001b[0;34m\u001b[0m\u001b[0m\n\u001b[0;32m--> 412\u001b[0;31m         \u001b[0mmagic\u001b[0m \u001b[0;34m=\u001b[0m \u001b[0mfid\u001b[0m\u001b[0;34m.\u001b[0m\u001b[0mread\u001b[0m\u001b[0;34m(\u001b[0m\u001b[0mN\u001b[0m\u001b[0;34m)\u001b[0m\u001b[0;34m\u001b[0m\u001b[0;34m\u001b[0m\u001b[0m\n\u001b[0m\u001b[1;32m    413\u001b[0m         \u001b[0;31m# If the file size is less than N, we need to make sure not\u001b[0m\u001b[0;34m\u001b[0m\u001b[0;34m\u001b[0m\u001b[0m\n\u001b[1;32m    414\u001b[0m         \u001b[0;31m# to seek past the beginning of the file\u001b[0m\u001b[0;34m\u001b[0m\u001b[0;34m\u001b[0m\u001b[0m\n",
            "\u001b[0;31mOSError\u001b[0m: [Errno 5] Input/output error"
          ]
        }
      ]
    },
    {
      "cell_type": "code",
      "source": [
        "pd.DataFrame(residuals_2c_h).describe()"
      ],
      "metadata": {
        "colab": {
          "base_uri": "https://localhost:8080/",
          "height": 300
        },
        "id": "MXcei-g6EqJd",
        "outputId": "79f24c5f-34cb-4faf-c543-30c0052c7179"
      },
      "execution_count": 23,
      "outputs": [
        {
          "output_type": "execute_result",
          "data": {
            "text/plain": [
              "                  0\n",
              "count  18000.000000\n",
              "mean       0.052833\n",
              "std        1.035745\n",
              "min      -11.000000\n",
              "25%        0.000000\n",
              "50%        0.000000\n",
              "75%        0.000000\n",
              "max       11.000000"
            ],
            "text/html": [
              "\n",
              "  <div id=\"df-53b0001c-e478-4102-adfd-07fd0cb10b23\" class=\"colab-df-container\">\n",
              "    <div>\n",
              "<style scoped>\n",
              "    .dataframe tbody tr th:only-of-type {\n",
              "        vertical-align: middle;\n",
              "    }\n",
              "\n",
              "    .dataframe tbody tr th {\n",
              "        vertical-align: top;\n",
              "    }\n",
              "\n",
              "    .dataframe thead th {\n",
              "        text-align: right;\n",
              "    }\n",
              "</style>\n",
              "<table border=\"1\" class=\"dataframe\">\n",
              "  <thead>\n",
              "    <tr style=\"text-align: right;\">\n",
              "      <th></th>\n",
              "      <th>0</th>\n",
              "    </tr>\n",
              "  </thead>\n",
              "  <tbody>\n",
              "    <tr>\n",
              "      <th>count</th>\n",
              "      <td>18000.000000</td>\n",
              "    </tr>\n",
              "    <tr>\n",
              "      <th>mean</th>\n",
              "      <td>0.052833</td>\n",
              "    </tr>\n",
              "    <tr>\n",
              "      <th>std</th>\n",
              "      <td>1.035745</td>\n",
              "    </tr>\n",
              "    <tr>\n",
              "      <th>min</th>\n",
              "      <td>-11.000000</td>\n",
              "    </tr>\n",
              "    <tr>\n",
              "      <th>25%</th>\n",
              "      <td>0.000000</td>\n",
              "    </tr>\n",
              "    <tr>\n",
              "      <th>50%</th>\n",
              "      <td>0.000000</td>\n",
              "    </tr>\n",
              "    <tr>\n",
              "      <th>75%</th>\n",
              "      <td>0.000000</td>\n",
              "    </tr>\n",
              "    <tr>\n",
              "      <th>max</th>\n",
              "      <td>11.000000</td>\n",
              "    </tr>\n",
              "  </tbody>\n",
              "</table>\n",
              "</div>\n",
              "    <div class=\"colab-df-buttons\">\n",
              "\n",
              "  <div class=\"colab-df-container\">\n",
              "    <button class=\"colab-df-convert\" onclick=\"convertToInteractive('df-53b0001c-e478-4102-adfd-07fd0cb10b23')\"\n",
              "            title=\"Convert this dataframe to an interactive table.\"\n",
              "            style=\"display:none;\">\n",
              "\n",
              "  <svg xmlns=\"http://www.w3.org/2000/svg\" height=\"24px\" viewBox=\"0 -960 960 960\">\n",
              "    <path d=\"M120-120v-720h720v720H120Zm60-500h600v-160H180v160Zm220 220h160v-160H400v160Zm0 220h160v-160H400v160ZM180-400h160v-160H180v160Zm440 0h160v-160H620v160ZM180-180h160v-160H180v160Zm440 0h160v-160H620v160Z\"/>\n",
              "  </svg>\n",
              "    </button>\n",
              "\n",
              "  <style>\n",
              "    .colab-df-container {\n",
              "      display:flex;\n",
              "      gap: 12px;\n",
              "    }\n",
              "\n",
              "    .colab-df-convert {\n",
              "      background-color: #E8F0FE;\n",
              "      border: none;\n",
              "      border-radius: 50%;\n",
              "      cursor: pointer;\n",
              "      display: none;\n",
              "      fill: #1967D2;\n",
              "      height: 32px;\n",
              "      padding: 0 0 0 0;\n",
              "      width: 32px;\n",
              "    }\n",
              "\n",
              "    .colab-df-convert:hover {\n",
              "      background-color: #E2EBFA;\n",
              "      box-shadow: 0px 1px 2px rgba(60, 64, 67, 0.3), 0px 1px 3px 1px rgba(60, 64, 67, 0.15);\n",
              "      fill: #174EA6;\n",
              "    }\n",
              "\n",
              "    .colab-df-buttons div {\n",
              "      margin-bottom: 4px;\n",
              "    }\n",
              "\n",
              "    [theme=dark] .colab-df-convert {\n",
              "      background-color: #3B4455;\n",
              "      fill: #D2E3FC;\n",
              "    }\n",
              "\n",
              "    [theme=dark] .colab-df-convert:hover {\n",
              "      background-color: #434B5C;\n",
              "      box-shadow: 0px 1px 3px 1px rgba(0, 0, 0, 0.15);\n",
              "      filter: drop-shadow(0px 1px 2px rgba(0, 0, 0, 0.3));\n",
              "      fill: #FFFFFF;\n",
              "    }\n",
              "  </style>\n",
              "\n",
              "    <script>\n",
              "      const buttonEl =\n",
              "        document.querySelector('#df-53b0001c-e478-4102-adfd-07fd0cb10b23 button.colab-df-convert');\n",
              "      buttonEl.style.display =\n",
              "        google.colab.kernel.accessAllowed ? 'block' : 'none';\n",
              "\n",
              "      async function convertToInteractive(key) {\n",
              "        const element = document.querySelector('#df-53b0001c-e478-4102-adfd-07fd0cb10b23');\n",
              "        const dataTable =\n",
              "          await google.colab.kernel.invokeFunction('convertToInteractive',\n",
              "                                                    [key], {});\n",
              "        if (!dataTable) return;\n",
              "\n",
              "        const docLinkHtml = 'Like what you see? Visit the ' +\n",
              "          '<a target=\"_blank\" href=https://colab.research.google.com/notebooks/data_table.ipynb>data table notebook</a>'\n",
              "          + ' to learn more about interactive tables.';\n",
              "        element.innerHTML = '';\n",
              "        dataTable['output_type'] = 'display_data';\n",
              "        await google.colab.output.renderOutput(dataTable, element);\n",
              "        const docLink = document.createElement('div');\n",
              "        docLink.innerHTML = docLinkHtml;\n",
              "        element.appendChild(docLink);\n",
              "      }\n",
              "    </script>\n",
              "  </div>\n",
              "\n",
              "\n",
              "<div id=\"df-66fd50e4-5476-474d-b09b-f10319b5c066\">\n",
              "  <button class=\"colab-df-quickchart\" onclick=\"quickchart('df-66fd50e4-5476-474d-b09b-f10319b5c066')\"\n",
              "            title=\"Suggest charts.\"\n",
              "            style=\"display:none;\">\n",
              "\n",
              "<svg xmlns=\"http://www.w3.org/2000/svg\" height=\"24px\"viewBox=\"0 0 24 24\"\n",
              "     width=\"24px\">\n",
              "    <g>\n",
              "        <path d=\"M19 3H5c-1.1 0-2 .9-2 2v14c0 1.1.9 2 2 2h14c1.1 0 2-.9 2-2V5c0-1.1-.9-2-2-2zM9 17H7v-7h2v7zm4 0h-2V7h2v10zm4 0h-2v-4h2v4z\"/>\n",
              "    </g>\n",
              "</svg>\n",
              "  </button>\n",
              "\n",
              "<style>\n",
              "  .colab-df-quickchart {\n",
              "      --bg-color: #E8F0FE;\n",
              "      --fill-color: #1967D2;\n",
              "      --hover-bg-color: #E2EBFA;\n",
              "      --hover-fill-color: #174EA6;\n",
              "      --disabled-fill-color: #AAA;\n",
              "      --disabled-bg-color: #DDD;\n",
              "  }\n",
              "\n",
              "  [theme=dark] .colab-df-quickchart {\n",
              "      --bg-color: #3B4455;\n",
              "      --fill-color: #D2E3FC;\n",
              "      --hover-bg-color: #434B5C;\n",
              "      --hover-fill-color: #FFFFFF;\n",
              "      --disabled-bg-color: #3B4455;\n",
              "      --disabled-fill-color: #666;\n",
              "  }\n",
              "\n",
              "  .colab-df-quickchart {\n",
              "    background-color: var(--bg-color);\n",
              "    border: none;\n",
              "    border-radius: 50%;\n",
              "    cursor: pointer;\n",
              "    display: none;\n",
              "    fill: var(--fill-color);\n",
              "    height: 32px;\n",
              "    padding: 0;\n",
              "    width: 32px;\n",
              "  }\n",
              "\n",
              "  .colab-df-quickchart:hover {\n",
              "    background-color: var(--hover-bg-color);\n",
              "    box-shadow: 0 1px 2px rgba(60, 64, 67, 0.3), 0 1px 3px 1px rgba(60, 64, 67, 0.15);\n",
              "    fill: var(--button-hover-fill-color);\n",
              "  }\n",
              "\n",
              "  .colab-df-quickchart-complete:disabled,\n",
              "  .colab-df-quickchart-complete:disabled:hover {\n",
              "    background-color: var(--disabled-bg-color);\n",
              "    fill: var(--disabled-fill-color);\n",
              "    box-shadow: none;\n",
              "  }\n",
              "\n",
              "  .colab-df-spinner {\n",
              "    border: 2px solid var(--fill-color);\n",
              "    border-color: transparent;\n",
              "    border-bottom-color: var(--fill-color);\n",
              "    animation:\n",
              "      spin 1s steps(1) infinite;\n",
              "  }\n",
              "\n",
              "  @keyframes spin {\n",
              "    0% {\n",
              "      border-color: transparent;\n",
              "      border-bottom-color: var(--fill-color);\n",
              "      border-left-color: var(--fill-color);\n",
              "    }\n",
              "    20% {\n",
              "      border-color: transparent;\n",
              "      border-left-color: var(--fill-color);\n",
              "      border-top-color: var(--fill-color);\n",
              "    }\n",
              "    30% {\n",
              "      border-color: transparent;\n",
              "      border-left-color: var(--fill-color);\n",
              "      border-top-color: var(--fill-color);\n",
              "      border-right-color: var(--fill-color);\n",
              "    }\n",
              "    40% {\n",
              "      border-color: transparent;\n",
              "      border-right-color: var(--fill-color);\n",
              "      border-top-color: var(--fill-color);\n",
              "    }\n",
              "    60% {\n",
              "      border-color: transparent;\n",
              "      border-right-color: var(--fill-color);\n",
              "    }\n",
              "    80% {\n",
              "      border-color: transparent;\n",
              "      border-right-color: var(--fill-color);\n",
              "      border-bottom-color: var(--fill-color);\n",
              "    }\n",
              "    90% {\n",
              "      border-color: transparent;\n",
              "      border-bottom-color: var(--fill-color);\n",
              "    }\n",
              "  }\n",
              "</style>\n",
              "\n",
              "  <script>\n",
              "    async function quickchart(key) {\n",
              "      const quickchartButtonEl =\n",
              "        document.querySelector('#' + key + ' button');\n",
              "      quickchartButtonEl.disabled = true;  // To prevent multiple clicks.\n",
              "      quickchartButtonEl.classList.add('colab-df-spinner');\n",
              "      try {\n",
              "        const charts = await google.colab.kernel.invokeFunction(\n",
              "            'suggestCharts', [key], {});\n",
              "      } catch (error) {\n",
              "        console.error('Error during call to suggestCharts:', error);\n",
              "      }\n",
              "      quickchartButtonEl.classList.remove('colab-df-spinner');\n",
              "      quickchartButtonEl.classList.add('colab-df-quickchart-complete');\n",
              "    }\n",
              "    (() => {\n",
              "      let quickchartButtonEl =\n",
              "        document.querySelector('#df-66fd50e4-5476-474d-b09b-f10319b5c066 button');\n",
              "      quickchartButtonEl.style.display =\n",
              "        google.colab.kernel.accessAllowed ? 'block' : 'none';\n",
              "    })();\n",
              "  </script>\n",
              "</div>\n",
              "    </div>\n",
              "  </div>\n"
            ]
          },
          "metadata": {},
          "execution_count": 23
        }
      ]
    },
    {
      "cell_type": "code",
      "source": [
        "pd.DataFrame(residuals_2c_m).describe()"
      ],
      "metadata": {
        "colab": {
          "base_uri": "https://localhost:8080/",
          "height": 300
        },
        "id": "o_BEQbikEqGf",
        "outputId": "13a3dc84-0c5d-448a-82bf-fc3e004d593f"
      },
      "execution_count": 24,
      "outputs": [
        {
          "output_type": "execute_result",
          "data": {
            "text/plain": [
              "                  0\n",
              "count  18000.000000\n",
              "mean      19.945776\n",
              "std       14.652596\n",
              "min        0.001759\n",
              "25%        7.299370\n",
              "50%       17.400555\n",
              "75%       30.324621\n",
              "max       68.589371"
            ],
            "text/html": [
              "\n",
              "  <div id=\"df-4eb5819b-60af-4d14-93a7-38d05c8d7a1a\" class=\"colab-df-container\">\n",
              "    <div>\n",
              "<style scoped>\n",
              "    .dataframe tbody tr th:only-of-type {\n",
              "        vertical-align: middle;\n",
              "    }\n",
              "\n",
              "    .dataframe tbody tr th {\n",
              "        vertical-align: top;\n",
              "    }\n",
              "\n",
              "    .dataframe thead th {\n",
              "        text-align: right;\n",
              "    }\n",
              "</style>\n",
              "<table border=\"1\" class=\"dataframe\">\n",
              "  <thead>\n",
              "    <tr style=\"text-align: right;\">\n",
              "      <th></th>\n",
              "      <th>0</th>\n",
              "    </tr>\n",
              "  </thead>\n",
              "  <tbody>\n",
              "    <tr>\n",
              "      <th>count</th>\n",
              "      <td>18000.000000</td>\n",
              "    </tr>\n",
              "    <tr>\n",
              "      <th>mean</th>\n",
              "      <td>19.945776</td>\n",
              "    </tr>\n",
              "    <tr>\n",
              "      <th>std</th>\n",
              "      <td>14.652596</td>\n",
              "    </tr>\n",
              "    <tr>\n",
              "      <th>min</th>\n",
              "      <td>0.001759</td>\n",
              "    </tr>\n",
              "    <tr>\n",
              "      <th>25%</th>\n",
              "      <td>7.299370</td>\n",
              "    </tr>\n",
              "    <tr>\n",
              "      <th>50%</th>\n",
              "      <td>17.400555</td>\n",
              "    </tr>\n",
              "    <tr>\n",
              "      <th>75%</th>\n",
              "      <td>30.324621</td>\n",
              "    </tr>\n",
              "    <tr>\n",
              "      <th>max</th>\n",
              "      <td>68.589371</td>\n",
              "    </tr>\n",
              "  </tbody>\n",
              "</table>\n",
              "</div>\n",
              "    <div class=\"colab-df-buttons\">\n",
              "\n",
              "  <div class=\"colab-df-container\">\n",
              "    <button class=\"colab-df-convert\" onclick=\"convertToInteractive('df-4eb5819b-60af-4d14-93a7-38d05c8d7a1a')\"\n",
              "            title=\"Convert this dataframe to an interactive table.\"\n",
              "            style=\"display:none;\">\n",
              "\n",
              "  <svg xmlns=\"http://www.w3.org/2000/svg\" height=\"24px\" viewBox=\"0 -960 960 960\">\n",
              "    <path d=\"M120-120v-720h720v720H120Zm60-500h600v-160H180v160Zm220 220h160v-160H400v160Zm0 220h160v-160H400v160ZM180-400h160v-160H180v160Zm440 0h160v-160H620v160ZM180-180h160v-160H180v160Zm440 0h160v-160H620v160Z\"/>\n",
              "  </svg>\n",
              "    </button>\n",
              "\n",
              "  <style>\n",
              "    .colab-df-container {\n",
              "      display:flex;\n",
              "      gap: 12px;\n",
              "    }\n",
              "\n",
              "    .colab-df-convert {\n",
              "      background-color: #E8F0FE;\n",
              "      border: none;\n",
              "      border-radius: 50%;\n",
              "      cursor: pointer;\n",
              "      display: none;\n",
              "      fill: #1967D2;\n",
              "      height: 32px;\n",
              "      padding: 0 0 0 0;\n",
              "      width: 32px;\n",
              "    }\n",
              "\n",
              "    .colab-df-convert:hover {\n",
              "      background-color: #E2EBFA;\n",
              "      box-shadow: 0px 1px 2px rgba(60, 64, 67, 0.3), 0px 1px 3px 1px rgba(60, 64, 67, 0.15);\n",
              "      fill: #174EA6;\n",
              "    }\n",
              "\n",
              "    .colab-df-buttons div {\n",
              "      margin-bottom: 4px;\n",
              "    }\n",
              "\n",
              "    [theme=dark] .colab-df-convert {\n",
              "      background-color: #3B4455;\n",
              "      fill: #D2E3FC;\n",
              "    }\n",
              "\n",
              "    [theme=dark] .colab-df-convert:hover {\n",
              "      background-color: #434B5C;\n",
              "      box-shadow: 0px 1px 3px 1px rgba(0, 0, 0, 0.15);\n",
              "      filter: drop-shadow(0px 1px 2px rgba(0, 0, 0, 0.3));\n",
              "      fill: #FFFFFF;\n",
              "    }\n",
              "  </style>\n",
              "\n",
              "    <script>\n",
              "      const buttonEl =\n",
              "        document.querySelector('#df-4eb5819b-60af-4d14-93a7-38d05c8d7a1a button.colab-df-convert');\n",
              "      buttonEl.style.display =\n",
              "        google.colab.kernel.accessAllowed ? 'block' : 'none';\n",
              "\n",
              "      async function convertToInteractive(key) {\n",
              "        const element = document.querySelector('#df-4eb5819b-60af-4d14-93a7-38d05c8d7a1a');\n",
              "        const dataTable =\n",
              "          await google.colab.kernel.invokeFunction('convertToInteractive',\n",
              "                                                    [key], {});\n",
              "        if (!dataTable) return;\n",
              "\n",
              "        const docLinkHtml = 'Like what you see? Visit the ' +\n",
              "          '<a target=\"_blank\" href=https://colab.research.google.com/notebooks/data_table.ipynb>data table notebook</a>'\n",
              "          + ' to learn more about interactive tables.';\n",
              "        element.innerHTML = '';\n",
              "        dataTable['output_type'] = 'display_data';\n",
              "        await google.colab.output.renderOutput(dataTable, element);\n",
              "        const docLink = document.createElement('div');\n",
              "        docLink.innerHTML = docLinkHtml;\n",
              "        element.appendChild(docLink);\n",
              "      }\n",
              "    </script>\n",
              "  </div>\n",
              "\n",
              "\n",
              "<div id=\"df-213270e0-9eff-4eb1-9f90-95232250c4a3\">\n",
              "  <button class=\"colab-df-quickchart\" onclick=\"quickchart('df-213270e0-9eff-4eb1-9f90-95232250c4a3')\"\n",
              "            title=\"Suggest charts.\"\n",
              "            style=\"display:none;\">\n",
              "\n",
              "<svg xmlns=\"http://www.w3.org/2000/svg\" height=\"24px\"viewBox=\"0 0 24 24\"\n",
              "     width=\"24px\">\n",
              "    <g>\n",
              "        <path d=\"M19 3H5c-1.1 0-2 .9-2 2v14c0 1.1.9 2 2 2h14c1.1 0 2-.9 2-2V5c0-1.1-.9-2-2-2zM9 17H7v-7h2v7zm4 0h-2V7h2v10zm4 0h-2v-4h2v4z\"/>\n",
              "    </g>\n",
              "</svg>\n",
              "  </button>\n",
              "\n",
              "<style>\n",
              "  .colab-df-quickchart {\n",
              "      --bg-color: #E8F0FE;\n",
              "      --fill-color: #1967D2;\n",
              "      --hover-bg-color: #E2EBFA;\n",
              "      --hover-fill-color: #174EA6;\n",
              "      --disabled-fill-color: #AAA;\n",
              "      --disabled-bg-color: #DDD;\n",
              "  }\n",
              "\n",
              "  [theme=dark] .colab-df-quickchart {\n",
              "      --bg-color: #3B4455;\n",
              "      --fill-color: #D2E3FC;\n",
              "      --hover-bg-color: #434B5C;\n",
              "      --hover-fill-color: #FFFFFF;\n",
              "      --disabled-bg-color: #3B4455;\n",
              "      --disabled-fill-color: #666;\n",
              "  }\n",
              "\n",
              "  .colab-df-quickchart {\n",
              "    background-color: var(--bg-color);\n",
              "    border: none;\n",
              "    border-radius: 50%;\n",
              "    cursor: pointer;\n",
              "    display: none;\n",
              "    fill: var(--fill-color);\n",
              "    height: 32px;\n",
              "    padding: 0;\n",
              "    width: 32px;\n",
              "  }\n",
              "\n",
              "  .colab-df-quickchart:hover {\n",
              "    background-color: var(--hover-bg-color);\n",
              "    box-shadow: 0 1px 2px rgba(60, 64, 67, 0.3), 0 1px 3px 1px rgba(60, 64, 67, 0.15);\n",
              "    fill: var(--button-hover-fill-color);\n",
              "  }\n",
              "\n",
              "  .colab-df-quickchart-complete:disabled,\n",
              "  .colab-df-quickchart-complete:disabled:hover {\n",
              "    background-color: var(--disabled-bg-color);\n",
              "    fill: var(--disabled-fill-color);\n",
              "    box-shadow: none;\n",
              "  }\n",
              "\n",
              "  .colab-df-spinner {\n",
              "    border: 2px solid var(--fill-color);\n",
              "    border-color: transparent;\n",
              "    border-bottom-color: var(--fill-color);\n",
              "    animation:\n",
              "      spin 1s steps(1) infinite;\n",
              "  }\n",
              "\n",
              "  @keyframes spin {\n",
              "    0% {\n",
              "      border-color: transparent;\n",
              "      border-bottom-color: var(--fill-color);\n",
              "      border-left-color: var(--fill-color);\n",
              "    }\n",
              "    20% {\n",
              "      border-color: transparent;\n",
              "      border-left-color: var(--fill-color);\n",
              "      border-top-color: var(--fill-color);\n",
              "    }\n",
              "    30% {\n",
              "      border-color: transparent;\n",
              "      border-left-color: var(--fill-color);\n",
              "      border-top-color: var(--fill-color);\n",
              "      border-right-color: var(--fill-color);\n",
              "    }\n",
              "    40% {\n",
              "      border-color: transparent;\n",
              "      border-right-color: var(--fill-color);\n",
              "      border-top-color: var(--fill-color);\n",
              "    }\n",
              "    60% {\n",
              "      border-color: transparent;\n",
              "      border-right-color: var(--fill-color);\n",
              "    }\n",
              "    80% {\n",
              "      border-color: transparent;\n",
              "      border-right-color: var(--fill-color);\n",
              "      border-bottom-color: var(--fill-color);\n",
              "    }\n",
              "    90% {\n",
              "      border-color: transparent;\n",
              "      border-bottom-color: var(--fill-color);\n",
              "    }\n",
              "  }\n",
              "</style>\n",
              "\n",
              "  <script>\n",
              "    async function quickchart(key) {\n",
              "      const quickchartButtonEl =\n",
              "        document.querySelector('#' + key + ' button');\n",
              "      quickchartButtonEl.disabled = true;  // To prevent multiple clicks.\n",
              "      quickchartButtonEl.classList.add('colab-df-spinner');\n",
              "      try {\n",
              "        const charts = await google.colab.kernel.invokeFunction(\n",
              "            'suggestCharts', [key], {});\n",
              "      } catch (error) {\n",
              "        console.error('Error during call to suggestCharts:', error);\n",
              "      }\n",
              "      quickchartButtonEl.classList.remove('colab-df-spinner');\n",
              "      quickchartButtonEl.classList.add('colab-df-quickchart-complete');\n",
              "    }\n",
              "    (() => {\n",
              "      let quickchartButtonEl =\n",
              "        document.querySelector('#df-213270e0-9eff-4eb1-9f90-95232250c4a3 button');\n",
              "      quickchartButtonEl.style.display =\n",
              "        google.colab.kernel.accessAllowed ? 'block' : 'none';\n",
              "    })();\n",
              "  </script>\n",
              "</div>\n",
              "    </div>\n",
              "  </div>\n"
            ]
          },
          "metadata": {},
          "execution_count": 24
        }
      ]
    },
    {
      "cell_type": "markdown",
      "source": [
        "#### Common sense error report:"
      ],
      "metadata": {
        "id": "knKvo9tuY4rK"
      }
    },
    {
      "cell_type": "code",
      "source": [
        "def common_sense_time(y_true, y_pred):\n",
        "  predicted_min = y_pred[:, 0]*60+y_pred[:,1]\n",
        "  actual_min = y_true[:,0]*60+y_true[:,1]\n",
        "  # Returns the difference in units of minutes\n",
        "  return (predicted_min-actual_min)%720\n",
        "\n",
        "y_pred_2c_together = np.array(list(zip(predictions_h, y_pred_2c[1].reshape(18000).astype(int))))\n",
        "y_pred_2c_together"
      ],
      "metadata": {
        "colab": {
          "base_uri": "https://localhost:8080/"
        },
        "id": "gDMe4RG8EqDY",
        "outputId": "658a75ba-56ff-4c99-f174-f3ac055348e9"
      },
      "execution_count": 41,
      "outputs": [
        {
          "output_type": "execute_result",
          "data": {
            "text/plain": [
              "array([[ 0, 35],\n",
              "       [11, 41],\n",
              "       [ 0, 48],\n",
              "       ...,\n",
              "       [ 0, 27],\n",
              "       [11, 46],\n",
              "       [ 3, 48]])"
            ]
          },
          "metadata": {},
          "execution_count": 41
        }
      ]
    },
    {
      "cell_type": "code",
      "source": [
        "np.mean(common_sense_time(labels, y_pred_2c_together))"
      ],
      "metadata": {
        "colab": {
          "base_uri": "https://localhost:8080/"
        },
        "id": "217O9xg3VVCN",
        "outputId": "9142174c-c363-4a90-a4c5-0baf1efbe988"
      },
      "execution_count": 42,
      "outputs": [
        {
          "output_type": "execute_result",
          "data": {
            "text/plain": [
              "220.3016111111111"
            ]
          },
          "metadata": {},
          "execution_count": 42
        }
      ]
    },
    {
      "cell_type": "code",
      "source": [],
      "metadata": {
        "id": "Y3xek_FgVU_j"
      },
      "execution_count": 42,
      "outputs": []
    },
    {
      "cell_type": "code",
      "source": [],
      "metadata": {
        "id": "6LQTHAYka-Df"
      },
      "execution_count": null,
      "outputs": []
    }
  ]
}